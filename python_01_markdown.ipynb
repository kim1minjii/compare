{
  "nbformat": 4,
  "nbformat_minor": 0,
  "metadata": {
    "colab": {
      "provenance": [],
      "authorship_tag": "ABX9TyNo3WyGH6p1k/2aoOFIT25Q",
      "include_colab_link": true
    },
    "kernelspec": {
      "name": "python3",
      "display_name": "Python 3"
    },
    "language_info": {
      "name": "python"
    }
  },
  "cells": [
    {
      "cell_type": "markdown",
      "metadata": {
        "id": "view-in-github",
        "colab_type": "text"
      },
      "source": [
        "<a href=\"https://colab.research.google.com/github/kim1minjii/compare/blob/master/python_01_markdown.ipynb\" target=\"_parent\"><img src=\"https://colab.research.google.com/assets/colab-badge.svg\" alt=\"Open In Colab\"/></a>"
      ]
    },
    {
      "cell_type": "markdown",
      "source": [
        "### 제목\n",
        "제목은 #1~#6가지 형태로 표현할 수 있다.\n",
        "\n",
        "# 제목1\n",
        "## 제목2\n",
        "### 제목3\n",
        "#### 제목4\n",
        "##### 제목5\n",
        "###### 제목6"
      ],
      "metadata": {
        "id": "W7RUoY4ZVwg6"
      }
    },
    {
      "cell_type": "markdown",
      "source": [
        "### 구분선\n",
        "-를 세 개 이상 사용하여 구분 영역을 표시할 수 있다.\n",
        "\n",
        "---"
      ],
      "metadata": {
        "id": "ruWtV64fVJLh"
      }
    },
    {
      "cell_type": "markdown",
      "source": [
        "### 줄바꿈\n",
        "안녕하세요  \n",
        "김민지입니다."
      ],
      "metadata": {
        "id": "GXrlf-y0Xsoh"
      }
    },
    {
      "cell_type": "markdown",
      "source": [
        "### 목록\n",
        "\n",
        "순서가 있는 목록과 순서가 없는 목록 모두 지원한다.\n",
        "1. 리스트1\n",
        "2. 리스트2\n",
        "3. 리스트3\n",
        "\n",
        "- 리스트1\n",
        "- 리스트2\n",
        "- 리스트3\n"
      ],
      "metadata": {
        "id": "cRWltGG_YPrF"
      }
    },
    {
      "cell_type": "markdown",
      "source": [
        "### 웹주소\n",
        "웹주소를 입력하면 자동으로 하이퍼링크가 생긴다.\n",
        "http://www.python.org\n"
      ],
      "metadata": {
        "id": "6PqYFWtmYSS4"
      }
    },
    {
      "cell_type": "markdown",
      "source": [
        "### 강조\n",
        "\n",
        "***굵게*** 테스트  \n",
        "___기울기___ 테스트"
      ],
      "metadata": {
        "id": "afvZCNKOYunI"
      }
    },
    {
      "cell_type": "markdown",
      "source": [
        "### 코드블록\n",
        "\n",
        "백틱을 써준다.\n",
        "```\n",
        "import python\n",
        "def x(self):\n",
        " return self.x\n",
        "```"
      ],
      "metadata": {
        "id": "bFB9PRzjY6NP"
      }
    },
    {
      "cell_type": "markdown",
      "source": [
        "### 링크\n",
        "\n",
        "[파이썬](http://www.python.org)\n",
        "\n",
        "!를 붙이면 이미지를 출력할 수 있다.\n",
        "![python](https://www.python.org/static/img/python-logo.png)"
      ],
      "metadata": {
        "id": "ZSUxR3TIZZ5A"
      }
    },
    {
      "cell_type": "code",
      "source": [],
      "metadata": {
        "id": "lJBV9Fi1aV33"
      },
      "execution_count": null,
      "outputs": []
    }
  ]
}