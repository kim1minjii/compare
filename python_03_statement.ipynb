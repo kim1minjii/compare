{
  "nbformat": 4,
  "nbformat_minor": 0,
  "metadata": {
    "colab": {
      "provenance": [],
      "toc_visible": true,
      "authorship_tag": "ABX9TyPdxoAJQkDJZmOAN8hTWDvh",
      "include_colab_link": true
    },
    "kernelspec": {
      "name": "python3",
      "display_name": "Python 3"
    },
    "language_info": {
      "name": "python"
    }
  },
  "cells": [
    {
      "cell_type": "markdown",
      "metadata": {
        "id": "view-in-github",
        "colab_type": "text"
      },
      "source": [
        "<a href=\"https://colab.research.google.com/github/kim1minjii/pythondemo/blob/master/python_03_statement.ipynb\" target=\"_parent\"><img src=\"https://colab.research.google.com/assets/colab-badge.svg\" alt=\"Open In Colab\"/></a>"
      ]
    },
    {
      "cell_type": "markdown",
      "source": [
        "###1."
      ],
      "metadata": {
        "id": "sTDfph9UQXdf"
      }
    },
    {
      "cell_type": "markdown",
      "source": [
        "### 제어문\n",
        "- 조건문\n",
        "  1. if문\n",
        "- 반복문\n",
        "  1. for문\n",
        "  2. while-else문\n",
        "  3. for문과 함께 사용되는 함수\n",
        "- 흐름제어문"
      ],
      "metadata": {
        "id": "166sbETbr2Kh"
      }
    },
    {
      "cell_type": "code",
      "source": [
        "a = 1\n",
        "if a>3:\n",
        "  print('Yes')\n",
        "else:\n",
        "  print('No')"
      ],
      "metadata": {
        "colab": {
          "base_uri": "https://localhost:8080/"
        },
        "id": "ZPDyuKS7r9Ck",
        "outputId": "3508491b-1c84-4e13-8d80-09ab102d8b81"
      },
      "execution_count": null,
      "outputs": [
        {
          "output_type": "stream",
          "name": "stdout",
          "text": [
            "No\n"
          ]
        }
      ]
    },
    {
      "cell_type": "code",
      "source": [
        "#여러가지 문장. 들여쓰기에 맞춰서 써주기\n",
        "if a>0:\n",
        "  print('Yes')\n",
        "  print('OK')\n",
        "else:\n",
        "  print('No')"
      ],
      "metadata": {
        "colab": {
          "base_uri": "https://localhost:8080/"
        },
        "id": "8QRapoSMsRYi",
        "outputId": "74c9eb28-ea09-4ee3-933d-fd782f71b580"
      },
      "execution_count": null,
      "outputs": [
        {
          "output_type": "stream",
          "name": "stdout",
          "text": [
            "Yes\n",
            "OK\n"
          ]
        }
      ]
    },
    {
      "cell_type": "code",
      "source": [
        "# jumsu가 80이상 '상', 80미만~60이상 '중', 60미만 '하'\n",
        "jumsu=55\n",
        "if jumsu>=80:\n",
        "  print('상')\n",
        "elif jumsu>=60: #else if 아님\n",
        "  print('중')\n",
        "else:\n",
        "  print('하')"
      ],
      "metadata": {
        "colab": {
          "base_uri": "https://localhost:8080/"
        },
        "id": "29MmkD7Sshon",
        "outputId": "7d52be75-c6a4-4c48-9a03-e490bd7661d1"
      },
      "execution_count": null,
      "outputs": [
        {
          "output_type": "stream",
          "name": "stdout",
          "text": [
            "하\n"
          ]
        }
      ]
    },
    {
      "cell_type": "markdown",
      "source": [
        "### existance\n",
        "   python에서 조건은 존재론(existance)적이다. -> truthy, falsy"
      ],
      "metadata": {
        "id": "IgsBwAoTsuWX"
      }
    },
    {
      "cell_type": "code",
      "source": [
        "#0은 숫자가 없는 것과 같음 -> falsy\n",
        "a = 0.0\n",
        "if a:\n",
        "  print('Yes')\n",
        "else:\n",
        "  print('No')"
      ],
      "metadata": {
        "colab": {
          "base_uri": "https://localhost:8080/"
        },
        "id": "hJE7RfS_tt9W",
        "outputId": "5b4729aa-e92b-48af-8db4-2862cc6cce78"
      },
      "execution_count": null,
      "outputs": [
        {
          "output_type": "stream",
          "name": "stdout",
          "text": [
            "No\n"
          ]
        }
      ]
    },
    {
      "cell_type": "code",
      "source": [
        "#자바\n",
        "String data=\"a\";\n",
        "if(data){ #불가능\n",
        "    \n",
        "} "
      ],
      "metadata": {
        "colab": {
          "base_uri": "https://localhost:8080/",
          "height": 137
        },
        "id": "Eo-lJIcttyyu",
        "outputId": "b65e3188-b258-46e4-f7b4-ce3240db5e31"
      },
      "execution_count": null,
      "outputs": [
        {
          "output_type": "error",
          "ename": "SyntaxError",
          "evalue": "ignored",
          "traceback": [
            "\u001b[0;36m  File \u001b[0;32m\"<ipython-input-6-77e48218b490>\"\u001b[0;36m, line \u001b[0;32m1\u001b[0m\n\u001b[0;31m    String data=\"a\";\u001b[0m\n\u001b[0m           ^\u001b[0m\n\u001b[0;31mSyntaxError\u001b[0m\u001b[0;31m:\u001b[0m invalid syntax\n"
          ]
        }
      ]
    },
    {
      "cell_type": "code",
      "source": [
        "#자바스크립트\n",
        "let data=\"a\";\n",
        "if(data){ #가능(존재론적)\n",
        "    \n",
        "}"
      ],
      "metadata": {
        "colab": {
          "base_uri": "https://localhost:8080/",
          "height": 137
        },
        "id": "EY5yyIhfuNrP",
        "outputId": "d504edd1-1d1d-4104-97ed-896c2d1950b1"
      },
      "execution_count": null,
      "outputs": [
        {
          "output_type": "error",
          "ename": "SyntaxError",
          "evalue": "ignored",
          "traceback": [
            "\u001b[0;36m  File \u001b[0;32m\"<ipython-input-7-8c22c8487d5e>\"\u001b[0;36m, line \u001b[0;32m2\u001b[0m\n\u001b[0;31m    let data=\"a\";\u001b[0m\n\u001b[0m        ^\u001b[0m\n\u001b[0;31mSyntaxError\u001b[0m\u001b[0;31m:\u001b[0m invalid syntax\n"
          ]
        }
      ]
    },
    {
      "cell_type": "code",
      "source": [
        "#None = 자바의 void\n",
        "#None은 객체가 없는 것과 같음 -> falsy\n",
        "#값이 없으면 none을 리턴함\n",
        "a=None\n",
        "if a:\n",
        "  print('Yes')\n",
        "else:\n",
        "  print('No')"
      ],
      "metadata": {
        "colab": {
          "base_uri": "https://localhost:8080/"
        },
        "id": "HHGHIqiPujLX",
        "outputId": "7b96b207-fe56-43b0-8367-2cfb6cca84b6"
      },
      "execution_count": null,
      "outputs": [
        {
          "output_type": "stream",
          "name": "stdout",
          "text": [
            "No\n"
          ]
        }
      ]
    },
    {
      "cell_type": "code",
      "source": [
        "#비어있는 dict는 없는 것과 같음 -> falsy\n",
        "a={}\n",
        "if a:\n",
        "  print('Yes')\n",
        "else:\n",
        "  print('No')"
      ],
      "metadata": {
        "colab": {
          "base_uri": "https://localhost:8080/"
        },
        "id": "AjUXXbSiu74m",
        "outputId": "1513ee11-4ed3-437f-a380-3b17c8613618"
      },
      "execution_count": null,
      "outputs": [
        {
          "output_type": "stream",
          "name": "stdout",
          "text": [
            "No\n"
          ]
        }
      ]
    },
    {
      "cell_type": "code",
      "source": [
        "#인스턴스 방식으로 값을 만들 때 괄호 안이 비어 있으면 비어 있는 값을 만든다.\n",
        "#if에서 모두 false이다.\n",
        "a=int()\n",
        "b=float()\n",
        "c=complex()\n",
        "d=list()\n",
        "\n",
        "if a:\n",
        "  print('Yes')\n",
        "else:\n",
        "  print('No')"
      ],
      "metadata": {
        "colab": {
          "base_uri": "https://localhost:8080/"
        },
        "id": "Ty5idm5uvUC-",
        "outputId": "5eff0975-4a30-4ef8-bc99-9a5b6b4f975c"
      },
      "execution_count": null,
      "outputs": [
        {
          "output_type": "stream",
          "name": "stdout",
          "text": [
            "No\n"
          ]
        }
      ]
    },
    {
      "cell_type": "code",
      "source": [
        "#자바 #논리연산자가 와야 함\n",
        "System.out.println(true && true);  #true\n",
        "System.out.println(true && 3); #flase 정수값이 오면 안됨"
      ],
      "metadata": {
        "colab": {
          "base_uri": "https://localhost:8080/",
          "height": 137
        },
        "id": "fLfdQqNSvpnO",
        "outputId": "d259235f-ed51-4ba8-fd2c-b4db9714706f"
      },
      "execution_count": null,
      "outputs": [
        {
          "output_type": "error",
          "ename": "SyntaxError",
          "evalue": "ignored",
          "traceback": [
            "\u001b[0;36m  File \u001b[0;32m\"<ipython-input-12-5a5063e8519a>\"\u001b[0;36m, line \u001b[0;32m2\u001b[0m\n\u001b[0;31m    System.out.println(true && true);  true\u001b[0m\n\u001b[0m                             ^\u001b[0m\n\u001b[0;31mSyntaxError\u001b[0m\u001b[0;31m:\u001b[0m invalid syntax\n"
          ]
        }
      ]
    },
    {
      "cell_type": "code",
      "source": [
        "#자바스크립트\n",
        "3<2 or 4<5"
      ],
      "metadata": {
        "colab": {
          "base_uri": "https://localhost:8080/"
        },
        "id": "iN0WGMb0xVvX",
        "outputId": "e3877bb2-82a2-46a4-adc2-293b4df5d4c6"
      },
      "execution_count": null,
      "outputs": [
        {
          "output_type": "execute_result",
          "data": {
            "text/plain": [
              "True"
            ]
          },
          "metadata": {},
          "execution_count": 13
        }
      ]
    },
    {
      "cell_type": "code",
      "source": [
        "#and는 앞이 true이면 뒤에 있는 값을 반환한다.\n",
        "#3은 존재론적으로 true\n",
        "3 and 4 #3과 4는 있는 값"
      ],
      "metadata": {
        "colab": {
          "base_uri": "https://localhost:8080/"
        },
        "id": "Wfg34Zk6xprG",
        "outputId": "910cf3c7-00f7-41fd-f64d-1dda11c0c75d"
      },
      "execution_count": null,
      "outputs": [
        {
          "output_type": "execute_result",
          "data": {
            "text/plain": [
              "4"
            ]
          },
          "metadata": {},
          "execution_count": 14
        }
      ]
    },
    {
      "cell_type": "code",
      "source": [
        "#and는 앞이 false이면 앞에 값을 반환한다.\n",
        "#비어 있는 문자열은 없는 것과 같음 -> false\n",
        "#앞에 있는 값이 false가 되면 수행안함 -> 앞에 있는 값을 리턴한다.\n",
        "\"\" and 4"
      ],
      "metadata": {
        "colab": {
          "base_uri": "https://localhost:8080/",
          "height": 35
        },
        "id": "ynK_LB4Cx0Bm",
        "outputId": "98e67d7d-62ae-4418-b675-959354e08d21"
      },
      "execution_count": null,
      "outputs": [
        {
          "output_type": "execute_result",
          "data": {
            "text/plain": [
              "''"
            ],
            "application/vnd.google.colaboratory.intrinsic+json": {
              "type": "string"
            }
          },
          "metadata": {},
          "execution_count": 15
        }
      ]
    },
    {
      "cell_type": "code",
      "source": [
        "#or은 앞이 true이면 앞에 값을 반환한다.\n",
        "3 or 4"
      ],
      "metadata": {
        "colab": {
          "base_uri": "https://localhost:8080/"
        },
        "id": "M3SuyAtKyL29",
        "outputId": "bb769966-ff9b-4753-972e-3c3561644527"
      },
      "execution_count": null,
      "outputs": [
        {
          "output_type": "execute_result",
          "data": {
            "text/plain": [
              "3"
            ]
          },
          "metadata": {},
          "execution_count": 21
        }
      ]
    },
    {
      "cell_type": "code",
      "source": [
        "#앞이 false이면 뒤의 값을 반환한다.\n",
        "\"\" or 4"
      ],
      "metadata": {
        "colab": {
          "base_uri": "https://localhost:8080/"
        },
        "id": "nl2mvKvOyoDe",
        "outputId": "3f0b0c5c-83e1-43c7-c61b-b17390c6d8fd"
      },
      "execution_count": null,
      "outputs": [
        {
          "output_type": "execute_result",
          "data": {
            "text/plain": [
              "4"
            ]
          },
          "metadata": {},
          "execution_count": 20
        }
      ]
    },
    {
      "cell_type": "code",
      "source": [
        "if a=4: #조건식에서는 문장을 사용할 수 없다.\n",
        "  print(\"Yes\")"
      ],
      "metadata": {
        "colab": {
          "base_uri": "https://localhost:8080/",
          "height": 137
        },
        "id": "s2iUhJUwyx6W",
        "outputId": "e9ddcdaa-c790-415f-a3e0-8de8c909731e"
      },
      "execution_count": null,
      "outputs": [
        {
          "output_type": "error",
          "ename": "SyntaxError",
          "evalue": "ignored",
          "traceback": [
            "\u001b[0;36m  File \u001b[0;32m\"<ipython-input-22-e48e98afbd48>\"\u001b[0;36m, line \u001b[0;32m1\u001b[0m\n\u001b[0;31m    if a=4:\u001b[0m\n\u001b[0m        ^\u001b[0m\n\u001b[0;31mSyntaxError\u001b[0m\u001b[0;31m:\u001b[0m invalid syntax\n"
          ]
        }
      ]
    },
    {
      "cell_type": "markdown",
      "source": [
        "###반복문\n",
        "1. for문  \n",
        "  for 변수 in 순서형자료:  \n",
        "    실행문\n",
        "\n",
        "2. while-else문\n",
        "\n",
        "\n",
        "- 반복문에서 else는 반복문이 완벽하게 끝났을 때 실행된다.  \n",
        " 대부분의 프로그래밍 언어는 while과 for을 지원한다.  "
      ],
      "metadata": {
        "id": "vfjT47Hx3eyV"
      }
    },
    {
      "cell_type": "markdown",
      "source": [
        "###for문"
      ],
      "metadata": {
        "id": "iT22GJgkM5lP"
      }
    },
    {
      "cell_type": "code",
      "source": [
        "#범위를 지정하는 방법\n",
        "#1. 순서형 또는 딕셔너리를 사용하는 것이다.\n",
        "for v in [1,2,3,4,5]:\n",
        "  print(v)"
      ],
      "metadata": {
        "colab": {
          "base_uri": "https://localhost:8080/"
        },
        "id": "ivRC5EHx4Ees",
        "outputId": "d168b076-e61b-40b6-9e54-00b6129c1720"
      },
      "execution_count": null,
      "outputs": [
        {
          "output_type": "stream",
          "name": "stdout",
          "text": [
            "1\n",
            "2\n",
            "3\n",
            "4\n",
            "5\n"
          ]
        }
      ]
    },
    {
      "cell_type": "code",
      "source": [
        "#자바스크립트\n",
        "for(v in [1,2,3,4,5]) {\n",
        "    console.log(v);\n",
        "} #인덱스가 나옴"
      ],
      "metadata": {
        "colab": {
          "base_uri": "https://localhost:8080/",
          "height": 137
        },
        "id": "eT3j8vfY4hx0",
        "outputId": "c7a44916-70a8-42b2-cde0-911c76b680f0"
      },
      "execution_count": null,
      "outputs": [
        {
          "output_type": "error",
          "ename": "SyntaxError",
          "evalue": "ignored",
          "traceback": [
            "\u001b[0;36m  File \u001b[0;32m\"<ipython-input-25-c33662d7b6d3>\"\u001b[0;36m, line \u001b[0;32m2\u001b[0m\n\u001b[0;31m    for(v in [1,2,3,4,5]) {\u001b[0m\n\u001b[0m                          ^\u001b[0m\n\u001b[0;31mSyntaxError\u001b[0m\u001b[0;31m:\u001b[0m invalid syntax\n"
          ]
        }
      ]
    },
    {
      "cell_type": "code",
      "source": [
        "#자바스크립트\n",
        "for(v of [1,2,3,4,5]) {\n",
        "    console.log(v);\n",
        "} #요소가 나옴"
      ],
      "metadata": {
        "id": "Mdzywmz46jbs"
      },
      "execution_count": null,
      "outputs": []
    },
    {
      "cell_type": "code",
      "source": [
        "for v in 'python':\n",
        "  print(v)\n",
        "  "
      ],
      "metadata": {
        "colab": {
          "base_uri": "https://localhost:8080/"
        },
        "id": "lMmbKdqW57P0",
        "outputId": "0bd4f0f8-cb3a-4d68-bea7-46ad0fe3c68a"
      },
      "execution_count": null,
      "outputs": [
        {
          "output_type": "stream",
          "name": "stdout",
          "text": [
            "p\n",
            "y\n",
            "t\n",
            "h\n",
            "o\n",
            "n\n"
          ]
        }
      ]
    },
    {
      "cell_type": "code",
      "source": [
        "t=[('one',1), ('two',2)]\n",
        "for k, v in t:\n",
        "  print('{0}:{1}'.format(k,v))"
      ],
      "metadata": {
        "colab": {
          "base_uri": "https://localhost:8080/"
        },
        "id": "TF_R26Uj5-W8",
        "outputId": "b14f759f-957c-4e08-d3d2-26c75ff6cf8c"
      },
      "execution_count": null,
      "outputs": [
        {
          "output_type": "stream",
          "name": "stdout",
          "text": [
            "one:1\n",
            "two:2\n"
          ]
        }
      ]
    },
    {
      "cell_type": "code",
      "source": [
        "dic = {'a':1, 'b':2}\n",
        "for k in dic:\n",
        "  print('{0}:{1}'.format(k,dic[k])) #dic[k](파이썬): 가능"
      ],
      "metadata": {
        "colab": {
          "base_uri": "https://localhost:8080/"
        },
        "id": "R2cOPURU7EAk",
        "outputId": "76412596-7ea1-402e-c969-9a5370d71316"
      },
      "execution_count": null,
      "outputs": [
        {
          "output_type": "stream",
          "name": "stdout",
          "text": [
            "a:1\n",
            "b:2\n"
          ]
        }
      ]
    },
    {
      "cell_type": "code",
      "source": [
        "dic = {'a':1, 'b':2}\n",
        "for k in dic:\n",
        "  print('{0}:{1}'.format(k,dic[k],dic.k)) #dic.k(자바): 불가능. 속성 못찾음"
      ],
      "metadata": {
        "colab": {
          "base_uri": "https://localhost:8080/",
          "height": 210
        },
        "id": "BiXjuIgH6KU7",
        "outputId": "6c9743a8-5658-4b16-f7c6-794f30d1ad6b"
      },
      "execution_count": null,
      "outputs": [
        {
          "output_type": "error",
          "ename": "AttributeError",
          "evalue": "ignored",
          "traceback": [
            "\u001b[0;31m---------------------------------------------------------------------------\u001b[0m",
            "\u001b[0;31mAttributeError\u001b[0m                            Traceback (most recent call last)",
            "\u001b[0;32m<ipython-input-39-953af368e788>\u001b[0m in \u001b[0;36m<module>\u001b[0;34m\u001b[0m\n\u001b[1;32m      1\u001b[0m \u001b[0mdic\u001b[0m \u001b[0;34m=\u001b[0m \u001b[0;34m{\u001b[0m\u001b[0;34m'a'\u001b[0m\u001b[0;34m:\u001b[0m\u001b[0;36m1\u001b[0m\u001b[0;34m,\u001b[0m \u001b[0;34m'b'\u001b[0m\u001b[0;34m:\u001b[0m\u001b[0;36m2\u001b[0m\u001b[0;34m}\u001b[0m\u001b[0;34m\u001b[0m\u001b[0;34m\u001b[0m\u001b[0m\n\u001b[1;32m      2\u001b[0m \u001b[0;32mfor\u001b[0m \u001b[0mk\u001b[0m \u001b[0;32min\u001b[0m \u001b[0mdic\u001b[0m\u001b[0;34m:\u001b[0m\u001b[0;34m\u001b[0m\u001b[0;34m\u001b[0m\u001b[0m\n\u001b[0;32m----> 3\u001b[0;31m   \u001b[0mprint\u001b[0m\u001b[0;34m(\u001b[0m\u001b[0;34m'{0}:{1}'\u001b[0m\u001b[0;34m.\u001b[0m\u001b[0mformat\u001b[0m\u001b[0;34m(\u001b[0m\u001b[0mk\u001b[0m\u001b[0;34m,\u001b[0m\u001b[0mdic\u001b[0m\u001b[0;34m[\u001b[0m\u001b[0mk\u001b[0m\u001b[0;34m]\u001b[0m\u001b[0;34m,\u001b[0m\u001b[0mdic\u001b[0m\u001b[0;34m.\u001b[0m\u001b[0mk\u001b[0m\u001b[0;34m)\u001b[0m\u001b[0;34m)\u001b[0m \u001b[0;31m#dic.k 불가능. 속성 못찾음\u001b[0m\u001b[0;34m\u001b[0m\u001b[0;34m\u001b[0m\u001b[0m\n\u001b[0m",
            "\u001b[0;31mAttributeError\u001b[0m: 'dict' object has no attribute 'k'"
          ]
        }
      ]
    },
    {
      "cell_type": "code",
      "source": [
        "type(dic) #[39]변수 dic의 타입찾기"
      ],
      "metadata": {
        "colab": {
          "base_uri": "https://localhost:8080/"
        },
        "id": "GTpO9zXZ8bcT",
        "outputId": "ec9e2107-3247-472c-8e2a-c31bdc2e11ff"
      },
      "execution_count": null,
      "outputs": [
        {
          "output_type": "execute_result",
          "data": {
            "text/plain": [
              "dict"
            ]
          },
          "metadata": {},
          "execution_count": 46
        }
      ]
    },
    {
      "cell_type": "code",
      "source": [
        "dir(dict) #[39]변수 dict의 속성과 메소드"
      ],
      "metadata": {
        "colab": {
          "base_uri": "https://localhost:8080/"
        },
        "id": "0-nUBJ448Pej",
        "outputId": "bb665e86-f78e-48e9-904e-5495eb60405b"
      },
      "execution_count": null,
      "outputs": [
        {
          "output_type": "execute_result",
          "data": {
            "text/plain": [
              "['__class__',\n",
              " '__contains__',\n",
              " '__delattr__',\n",
              " '__delitem__',\n",
              " '__dir__',\n",
              " '__doc__',\n",
              " '__eq__',\n",
              " '__format__',\n",
              " '__ge__',\n",
              " '__getattribute__',\n",
              " '__getitem__',\n",
              " '__gt__',\n",
              " '__hash__',\n",
              " '__init__',\n",
              " '__init_subclass__',\n",
              " '__iter__',\n",
              " '__le__',\n",
              " '__len__',\n",
              " '__lt__',\n",
              " '__ne__',\n",
              " '__new__',\n",
              " '__reduce__',\n",
              " '__reduce_ex__',\n",
              " '__repr__',\n",
              " '__reversed__',\n",
              " '__setattr__',\n",
              " '__setitem__',\n",
              " '__sizeof__',\n",
              " '__str__',\n",
              " '__subclasshook__',\n",
              " 'clear',\n",
              " 'copy',\n",
              " 'fromkeys',\n",
              " 'get',\n",
              " 'items',\n",
              " 'keys',\n",
              " 'pop',\n",
              " 'popitem',\n",
              " 'setdefault',\n",
              " 'update',\n",
              " 'values']"
            ]
          },
          "metadata": {},
          "execution_count": 48
        }
      ]
    },
    {
      "cell_type": "code",
      "source": [
        "dir(dic) #[39]변수 dic의 속성과 메소드"
      ],
      "metadata": {
        "colab": {
          "base_uri": "https://localhost:8080/"
        },
        "id": "UH2aiumJ8k_b",
        "outputId": "a4208226-dea7-45e5-c954-a24e63c57d2d"
      },
      "execution_count": null,
      "outputs": [
        {
          "output_type": "execute_result",
          "data": {
            "text/plain": [
              "['__class__',\n",
              " '__contains__',\n",
              " '__delattr__',\n",
              " '__delitem__',\n",
              " '__dir__',\n",
              " '__doc__',\n",
              " '__eq__',\n",
              " '__format__',\n",
              " '__ge__',\n",
              " '__getattribute__',\n",
              " '__getitem__',\n",
              " '__gt__',\n",
              " '__hash__',\n",
              " '__init__',\n",
              " '__init_subclass__',\n",
              " '__iter__',\n",
              " '__le__',\n",
              " '__len__',\n",
              " '__lt__',\n",
              " '__ne__',\n",
              " '__new__',\n",
              " '__reduce__',\n",
              " '__reduce_ex__',\n",
              " '__repr__',\n",
              " '__reversed__',\n",
              " '__setattr__',\n",
              " '__setitem__',\n",
              " '__sizeof__',\n",
              " '__str__',\n",
              " '__subclasshook__',\n",
              " 'clear',\n",
              " 'copy',\n",
              " 'fromkeys',\n",
              " 'get',\n",
              " 'items',\n",
              " 'keys',\n",
              " 'pop',\n",
              " 'popitem',\n",
              " 'setdefault',\n",
              " 'update',\n",
              " 'values']"
            ]
          },
          "metadata": {},
          "execution_count": 49
        }
      ]
    },
    {
      "cell_type": "code",
      "source": [
        "print(len(dir(dict)), len(dir(dic)))"
      ],
      "metadata": {
        "colab": {
          "base_uri": "https://localhost:8080/"
        },
        "id": "RE4zr_vm4OtN",
        "outputId": "aa20eadb-1dac-4ae0-de31-fe0401db4f21"
      },
      "execution_count": null,
      "outputs": [
        {
          "output_type": "stream",
          "name": "stdout",
          "text": [
            "41 41\n"
          ]
        }
      ]
    },
    {
      "cell_type": "code",
      "source": [
        "dic.__doc__"
      ],
      "metadata": {
        "colab": {
          "base_uri": "https://localhost:8080/",
          "height": 90
        },
        "id": "45BWc7yf7_4U",
        "outputId": "99330e64-9b2e-40a3-d536-8b11b55f9568"
      },
      "execution_count": null,
      "outputs": [
        {
          "output_type": "execute_result",
          "data": {
            "text/plain": [
              "\"dict() -> new empty dictionary\\ndict(mapping) -> new dictionary initialized from a mapping object's\\n    (key, value) pairs\\ndict(iterable) -> new dictionary initialized as if via:\\n    d = {}\\n    for k, v in iterable:\\n        d[k] = v\\ndict(**kwargs) -> new dictionary initialized with the name=value pairs\\n    in the keyword argument list.  For example:  dict(one=1, two=2)\""
            ],
            "application/vnd.google.colaboratory.intrinsic+json": {
              "type": "string"
            }
          },
          "metadata": {},
          "execution_count": 40
        }
      ]
    },
    {
      "cell_type": "code",
      "source": [
        "dict.__doc__"
      ],
      "metadata": {
        "colab": {
          "base_uri": "https://localhost:8080/",
          "height": 90
        },
        "id": "55r7LjrD8V5b",
        "outputId": "acc605d9-cc07-41be-bc7c-fa4758479bc5"
      },
      "execution_count": null,
      "outputs": [
        {
          "output_type": "execute_result",
          "data": {
            "text/plain": [
              "\"dict() -> new empty dictionary\\ndict(mapping) -> new dictionary initialized from a mapping object's\\n    (key, value) pairs\\ndict(iterable) -> new dictionary initialized as if via:\\n    d = {}\\n    for k, v in iterable:\\n        d[k] = v\\ndict(**kwargs) -> new dictionary initialized with the name=value pairs\\n    in the keyword argument list.  For example:  dict(one=1, two=2)\""
            ],
            "application/vnd.google.colaboratory.intrinsic+json": {
              "type": "string"
            }
          },
          "metadata": {},
          "execution_count": 52
        }
      ]
    },
    {
      "cell_type": "code",
      "source": [
        "#2. 변수 자체를 출력하는 방법이다.\n",
        "#for 변수 in range (시작번호, 마지막 번호, 증가값)\n",
        "\n"
      ],
      "metadata": {
        "id": "l_ZMg79b8XlD"
      },
      "execution_count": null,
      "outputs": []
    },
    {
      "cell_type": "markdown",
      "source": [
        "for문과 함께 사용되는 함수\n",
        "###iterable문"
      ],
      "metadata": {
        "id": "BdGWsqgENuqg"
      }
    },
    {
      "cell_type": "markdown",
      "source": [
        "###while문"
      ],
      "metadata": {
        "id": "KLaugGaSAA9r"
      }
    },
    {
      "cell_type": "code",
      "source": [
        "#while문\n",
        "a=10; #false\n",
        "\n",
        "while a>10:\n",
        "  a-=1\n",
        "  print(a)\n",
        "else:\n",
        "  print('end')"
      ],
      "metadata": {
        "id": "pKUjs-3k-CD7",
        "colab": {
          "base_uri": "https://localhost:8080/"
        },
        "outputId": "078e0ef2-b8bf-4b82-934a-f1cc0a829b1d"
      },
      "execution_count": null,
      "outputs": [
        {
          "output_type": "stream",
          "name": "stdout",
          "text": [
            "end\n"
          ]
        }
      ]
    },
    {
      "cell_type": "code",
      "source": [
        "a=20; #true. while문이 완벽히 돌았으므로 end가 출력된다.\n",
        "\n",
        "while a>10:\n",
        "  a-=1\n",
        "  print(a)\n",
        "else:\n",
        "  print('end')"
      ],
      "metadata": {
        "colab": {
          "base_uri": "https://localhost:8080/"
        },
        "id": "-aF9T8Or-SSM",
        "outputId": "1e78dde4-e214-472b-a3f4-d658b76588ba"
      },
      "execution_count": null,
      "outputs": [
        {
          "output_type": "stream",
          "name": "stdout",
          "text": [
            "19\n",
            "18\n",
            "17\n",
            "16\n",
            "15\n",
            "14\n",
            "13\n",
            "12\n",
            "11\n",
            "10\n",
            "end\n"
          ]
        }
      ]
    },
    {
      "cell_type": "code",
      "source": [
        "a=10\n",
        "while a>1:\n",
        "  a-=1\n",
        "  if a==5:\n",
        "    break #중단. else문 출력안됨\n",
        "  print(a)\n",
        "else:\n",
        "  print('end')"
      ],
      "metadata": {
        "colab": {
          "base_uri": "https://localhost:8080/"
        },
        "id": "aMhdJQyi-eYD",
        "outputId": "8c34509c-30c6-472a-a80a-1d4e71512e0d"
      },
      "execution_count": null,
      "outputs": [
        {
          "output_type": "stream",
          "name": "stdout",
          "text": [
            "9\n",
            "8\n",
            "7\n",
            "6\n"
          ]
        }
      ]
    },
    {
      "cell_type": "code",
      "source": [
        "a = 10\n",
        "while a>1:\n",
        "  a -= 1\n",
        "  if a==5:\n",
        "    continue #다음 루프로 바로 넘어간다. else문 출력됨. \n",
        "  print(a)\n",
        "else:\n",
        "  print('end')"
      ],
      "metadata": {
        "colab": {
          "base_uri": "https://localhost:8080/"
        },
        "id": "YBQc_Gye_MgV",
        "outputId": "a25e0f86-a944-43e4-d1c2-82d466cb1753"
      },
      "execution_count": null,
      "outputs": [
        {
          "output_type": "stream",
          "name": "stdout",
          "text": [
            "9\n",
            "8\n",
            "7\n",
            "6\n",
            "4\n",
            "3\n",
            "2\n",
            "1\n",
            "end\n"
          ]
        }
      ]
    },
    {
      "cell_type": "markdown",
      "source": [
        "for문과 함께 사용되는 함수  \n",
        "###range함수\n",
        "1. range(start, stop, step)함수는 주로 for문과 같이 사용된다.\n",
        "2.  range(start, stop, step)함수는 숫자 범위에 대하여 반복을 하거나 특정한 범위의 숫자를 나열하도록 해주는 특별한 함수이다.  \n",
        "3. range함수를 사용하는 형식은 선택사항인 시작값, 종료값, 증감분이다.  \n",
        "4. range(0,10,2)=>0,2,4,8  \n",
        "0부터 시작하여 2의 간격으로 10에 미만까지의 정수\n"
      ],
      "metadata": {
        "id": "UIpoPCdaAmTb"
      }
    },
    {
      "cell_type": "code",
      "source": [
        "#for문과 함께 사용되는 range함수\n",
        "for i in range(1,6):\n",
        "  print(i)"
      ],
      "metadata": {
        "colab": {
          "base_uri": "https://localhost:8080/"
        },
        "id": "Ky5RtZebJPJF",
        "outputId": "9c375697-d579-4bb2-be57-61d3940f5e9b"
      },
      "execution_count": null,
      "outputs": [
        {
          "output_type": "stream",
          "name": "stdout",
          "text": [
            "1\n",
            "2\n",
            "3\n",
            "4\n",
            "5\n"
          ]
        }
      ]
    },
    {
      "cell_type": "markdown",
      "source": [
        "for문과 함께 사용되는 함수  \n",
        "###enumerate함수\n",
        "1. enumerate()함수는 인덱스와 객체를 동시에 저장할 수 있는 특징을 가진 for문을 좀 더 효율적으로 사용하기 위한 함수이다.\n",
        "2. enumerate()함수는 순서자료형(리스트, 튜플, 문자열)을 입력으로 받아 인덱스를 포함하는 enumerate객체를 리턴한다.\n",
        "3. enumerate([순서자료형], [시작값=0])의 형식을 가지며 순서자료형은 반복자가 가능한 객체가 입력되고 시작값은 입력 시 해당 수 부터 증가하며, 생략했을 경우 기본값은 0이다."
      ],
      "metadata": {
        "id": "33pOBccVJVIw"
      }
    },
    {
      "cell_type": "code",
      "source": [
        "#enumerate 함수\n",
        "for k, v in enumerate(['apple','python','microsoft']): #사용할 데이터값만 지정\n",
        "  print('{0}:{1}'.format(k,v))"
      ],
      "metadata": {
        "colab": {
          "base_uri": "https://localhost:8080/"
        },
        "id": "zQINdi1eKUgw",
        "outputId": "970cde4e-1609-42b8-8c28-4cf46e0dc426"
      },
      "execution_count": null,
      "outputs": [
        {
          "output_type": "stream",
          "name": "stdout",
          "text": [
            "0:apple\n",
            "1:python\n",
            "2:microsoft\n"
          ]
        }
      ]
    },
    {
      "cell_type": "code",
      "source": [
        "#enumerate 함수\n",
        "for j in enumerate(['apple','python','microsoft', 1]): #옵션 지정\n",
        "  print('{0}'.format(j))"
      ],
      "metadata": {
        "colab": {
          "base_uri": "https://localhost:8080/"
        },
        "id": "sTnwuIzPKrUg",
        "outputId": "5debdd2f-25a7-49d3-b1f0-a575fa48b7b4"
      },
      "execution_count": null,
      "outputs": [
        {
          "output_type": "stream",
          "name": "stdout",
          "text": [
            "(0, 'apple')\n",
            "(1, 'python')\n",
            "(2, 'microsoft')\n",
            "(3, 1)\n"
          ]
        }
      ]
    },
    {
      "cell_type": "markdown",
      "source": [
        "###zip함수"
      ],
      "metadata": {
        "id": "zCpJkOFhLtgQ"
      }
    },
    {
      "cell_type": "code",
      "source": [
        "#zip함수\n",
        "#매개 인자로 여러 목록을 받아 각 목록의 요소를 튜플에 담아 목록에 저장한다.\n",
        "a=[1,2,3,4,5]\n",
        "b=['a','b','c','d','e']\n",
        "\n",
        "for x,y in zip (a,b):\n",
        "  print(x,y)\n",
        "  t=x,y\n",
        "print(type(t))"
      ],
      "metadata": {
        "colab": {
          "base_uri": "https://localhost:8080/"
        },
        "id": "e27Ef06ALPlY",
        "outputId": "c87e2675-4032-41ba-dfc5-b4fa9dcdfb63"
      },
      "execution_count": null,
      "outputs": [
        {
          "output_type": "stream",
          "name": "stdout",
          "text": [
            "1 a\n",
            "2 b\n",
            "3 c\n",
            "4 d\n",
            "5 e\n",
            "<class 'tuple'>\n"
          ]
        }
      ]
    },
    {
      "cell_type": "markdown",
      "source": [
        "###items함수"
      ],
      "metadata": {
        "id": "sRgSNUraMhL_"
      }
    },
    {
      "cell_type": "code",
      "source": [
        "#items함수\n",
        "#dic의 내장함수로 키와 값을 동시에 검색한다.\n",
        "dic={'애플':'www.apple.com','파이썬':'www.python.org'}\n",
        "for k, v in dic.items():\n",
        "  print('{0}:{1}'.format(k,v))\n",
        "  m=k,v\n",
        "print(type(m))"
      ],
      "metadata": {
        "colab": {
          "base_uri": "https://localhost:8080/"
        },
        "id": "ABGn-vJ0MK44",
        "outputId": "887fa03c-d328-433a-b841-4061078c5efc"
      },
      "execution_count": null,
      "outputs": [
        {
          "output_type": "stream",
          "name": "stdout",
          "text": [
            "애플:www.apple.com\n",
            "파이썬:www.python.org\n",
            "<class 'tuple'>\n"
          ]
        }
      ]
    },
    {
      "cell_type": "markdown",
      "source": [
        "###2."
      ],
      "metadata": {
        "id": "_3lgJfB4QSE_"
      }
    },
    {
      "cell_type": "markdown",
      "source": [
        "###예외(exception)  \n",
        "프로그램을 수행하다 보면 문법적으로 문제가 없는 코드를 실행하는 중에 더이상 진행할 수 없는 상황이 발생하는 경우를 의미한다.\n",
        "모든 예외는 클래스로 표현되며 최상위 클래스는 BaseException클래스이다.\n",
        "___\n",
        "예외상황\n",
        "- 0으로 숫자 나누기\n",
        "- 문자열과 숫자 더하기\n",
        "- 참조 범위를 넘어서 인덱스 참조하기\n",
        "- 등록되어 있지 않은 키로 사전 검색하기"
      ],
      "metadata": {
        "id": "VY5maVxBO2zI"
      }
    },
    {
      "cell_type": "code",
      "source": [
        "#나누기 연산에서 ZeroDivisionError 발생\n",
        "a,b=5,0\n",
        "c=a/b #ZeroDivisionError: division by zero"
      ],
      "metadata": {
        "colab": {
          "base_uri": "https://localhost:8080/",
          "height": 211
        },
        "id": "DSgPR2rROvX_",
        "outputId": "b2f5369f-f9df-45df-8cfa-800b998108dd"
      },
      "execution_count": null,
      "outputs": [
        {
          "output_type": "error",
          "ename": "ZeroDivisionError",
          "evalue": "ignored",
          "traceback": [
            "\u001b[0;31m---------------------------------------------------------------------------\u001b[0m",
            "\u001b[0;31mZeroDivisionError\u001b[0m                         Traceback (most recent call last)",
            "\u001b[0;32m<ipython-input-79-d8e3fa42852b>\u001b[0m in \u001b[0;36m<module>\u001b[0;34m\u001b[0m\n\u001b[1;32m      1\u001b[0m \u001b[0;31m#나누기 연산에서 ZeroDivisionError 발생\u001b[0m\u001b[0;34m\u001b[0m\u001b[0;34m\u001b[0m\u001b[0;34m\u001b[0m\u001b[0m\n\u001b[1;32m      2\u001b[0m \u001b[0ma\u001b[0m\u001b[0;34m,\u001b[0m\u001b[0mb\u001b[0m\u001b[0;34m=\u001b[0m\u001b[0;36m5\u001b[0m\u001b[0;34m,\u001b[0m\u001b[0;36m0\u001b[0m\u001b[0;34m\u001b[0m\u001b[0;34m\u001b[0m\u001b[0m\n\u001b[0;32m----> 3\u001b[0;31m \u001b[0mc\u001b[0m\u001b[0;34m=\u001b[0m\u001b[0ma\u001b[0m\u001b[0;34m/\u001b[0m\u001b[0mb\u001b[0m\u001b[0;34m\u001b[0m\u001b[0;34m\u001b[0m\u001b[0m\n\u001b[0m",
            "\u001b[0;31mZeroDivisionError\u001b[0m: division by zero"
          ]
        }
      ]
    },
    {
      "cell_type": "code",
      "source": [
        "#정의되지 않은 변수를 사용하면 NameError발생\n",
        "4+spam*3 #NameError: name 'spam' is not defined"
      ],
      "metadata": {
        "colab": {
          "base_uri": "https://localhost:8080/",
          "height": 193
        },
        "id": "6o-SD4XuPFpZ",
        "outputId": "edc01308-e492-49d5-fd44-f679a09b5901"
      },
      "execution_count": null,
      "outputs": [
        {
          "output_type": "error",
          "ename": "NameError",
          "evalue": "ignored",
          "traceback": [
            "\u001b[0;31m---------------------------------------------------------------------------\u001b[0m",
            "\u001b[0;31mNameError\u001b[0m                                 Traceback (most recent call last)",
            "\u001b[0;32m<ipython-input-80-14c2edc5d9aa>\u001b[0m in \u001b[0;36m<module>\u001b[0;34m\u001b[0m\n\u001b[1;32m      1\u001b[0m \u001b[0;31m#정의되지 않은 변수를 사용하면 NameError발생\u001b[0m\u001b[0;34m\u001b[0m\u001b[0;34m\u001b[0m\u001b[0;34m\u001b[0m\u001b[0m\n\u001b[0;32m----> 2\u001b[0;31m \u001b[0;36m4\u001b[0m\u001b[0;34m+\u001b[0m\u001b[0mspam\u001b[0m\u001b[0;34m*\u001b[0m\u001b[0;36m3\u001b[0m\u001b[0;34m\u001b[0m\u001b[0;34m\u001b[0m\u001b[0m\n\u001b[0m",
            "\u001b[0;31mNameError\u001b[0m: name 'spam' is not defined"
          ]
        }
      ]
    },
    {
      "cell_type": "code",
      "source": [
        "#숫자가 아닌 데이터를 int로 변형할 때 ValueError발생\n",
        "int(3)**int('abc') #ValueError: invalid literal for int() with base 10: 'abc'"
      ],
      "metadata": {
        "colab": {
          "base_uri": "https://localhost:8080/",
          "height": 193
        },
        "id": "tFOyRcfDPhaf",
        "outputId": "aa344b50-8077-4f66-ce40-e8020839919a"
      },
      "execution_count": null,
      "outputs": [
        {
          "output_type": "error",
          "ename": "ValueError",
          "evalue": "ignored",
          "traceback": [
            "\u001b[0;31m---------------------------------------------------------------------------\u001b[0m",
            "\u001b[0;31mValueError\u001b[0m                                Traceback (most recent call last)",
            "\u001b[0;32m<ipython-input-81-d6cff4e5c629>\u001b[0m in \u001b[0;36m<module>\u001b[0;34m\u001b[0m\n\u001b[1;32m      1\u001b[0m \u001b[0;31m#숫자가 아닌 데이터를 int로 변형할 때 ValueError발생\u001b[0m\u001b[0;34m\u001b[0m\u001b[0;34m\u001b[0m\u001b[0;34m\u001b[0m\u001b[0m\n\u001b[0;32m----> 2\u001b[0;31m \u001b[0mint\u001b[0m\u001b[0;34m(\u001b[0m\u001b[0;36m3\u001b[0m\u001b[0;34m)\u001b[0m\u001b[0;34m**\u001b[0m\u001b[0mint\u001b[0m\u001b[0;34m(\u001b[0m\u001b[0;34m'abc'\u001b[0m\u001b[0;34m)\u001b[0m\u001b[0;34m\u001b[0m\u001b[0;34m\u001b[0m\u001b[0m\n\u001b[0m",
            "\u001b[0;31mValueError\u001b[0m: invalid literal for int() with base 10: 'abc'"
          ]
        }
      ]
    },
    {
      "cell_type": "code",
      "source": [
        "#연산 중에 인수의 타입이 맞지 않으면 TypeError발생\n",
        "'2'+2 #TypeError: can only concatenate str (not \"int\") to str"
      ],
      "metadata": {
        "colab": {
          "base_uri": "https://localhost:8080/",
          "height": 193
        },
        "id": "oV8l-0LxP28_",
        "outputId": "3c6879ac-0330-429c-d11a-5f6b882d68e0"
      },
      "execution_count": null,
      "outputs": [
        {
          "output_type": "error",
          "ename": "TypeError",
          "evalue": "ignored",
          "traceback": [
            "\u001b[0;31m---------------------------------------------------------------------------\u001b[0m",
            "\u001b[0;31mTypeError\u001b[0m                                 Traceback (most recent call last)",
            "\u001b[0;32m<ipython-input-82-8b66b7ca8b84>\u001b[0m in \u001b[0;36m<module>\u001b[0;34m\u001b[0m\n\u001b[1;32m      1\u001b[0m \u001b[0;31m#연산 중에 인수의 타입이 맞지 않으면 TypeError발생\u001b[0m\u001b[0;34m\u001b[0m\u001b[0;34m\u001b[0m\u001b[0;34m\u001b[0m\u001b[0m\n\u001b[0;32m----> 2\u001b[0;31m \u001b[0;34m'2'\u001b[0m\u001b[0;34m+\u001b[0m\u001b[0;36m2\u001b[0m\u001b[0;34m\u001b[0m\u001b[0;34m\u001b[0m\u001b[0m\n\u001b[0m",
            "\u001b[0;31mTypeError\u001b[0m: can only concatenate str (not \"int\") to str"
          ]
        }
      ]
    },
    {
      "cell_type": "markdown",
      "source": [
        "###예외의 분류\n",
        "[exception](https://docs.python.org/3/library/exceptions.html)\n",
        "![exception](https://python.bakyeono.net/img/img-9-4.png)"
      ],
      "metadata": {
        "id": "wsk_oC0iQIcG"
      }
    },
    {
      "cell_type": "markdown",
      "source": [
        "[exception blog](https://blog.naver.com/PostView.nhn?isHttpsRedirect=true&blogId=dudwo567890&logNo=130161392390)\n",
        "\n"
      ],
      "metadata": {
        "id": "g9mM21QiSci2"
      }
    },
    {
      "cell_type": "markdown",
      "source": [
        "###예외처리(Exception Handing)\n"
      ],
      "metadata": {
        "id": "e7cFaoG4UiLm"
      }
    },
    {
      "cell_type": "markdown",
      "source": [
        "###try~except  \n",
        "예외처리란 예외가 발생했을 때 프로그램이 정상적으로 종료될 수 있도록  \n",
        "예외가 발생되는 곳에서 해주는 기능이다."
      ],
      "metadata": {
        "id": "chBIV-5vcnYt"
      }
    },
    {
      "cell_type": "code",
      "source": [
        "#형식\n",
        "#try:\n",
        "#  <예외가 발생될 가능성이 있는 문장>\n",
        "#except[발생 오류[as 오류 메시지 변수]]:\n",
        "#Else:\n",
        "#  <예외가 발생하지 않았을 때 실행되는 문장\n",
        "#finally:\n",
        "#  <예외 발생 여부에 상관없이 무조건 실행되는 문장>"
      ],
      "metadata": {
        "id": "0G5aT41xTimG"
      },
      "execution_count": null,
      "outputs": []
    },
    {
      "cell_type": "code",
      "source": [
        "def divide(x,y):\n",
        "  return x/y\n",
        "\n",
        "try:\n",
        "  result=divide(1,0)    #divide함수에서 1/0을 실행하다 0으로 나누려는 시도임을 파악하고 예외를 일으킨다.\n",
        "except ZeroDivisionError:    #발생한 예외를 처리할 곳을 찾다가 except절을 만나 프로그램 프름을 변경한다.\n",
        "  print('분모는 0이면 안됨')\n",
        "else:\n",
        "  print(result)\n",
        "finally:\n",
        "  print('문제풀이 끝')"
      ],
      "metadata": {
        "colab": {
          "base_uri": "https://localhost:8080/"
        },
        "id": "KNOSfAZMWk__",
        "outputId": "c3b04239-0142-4102-f1df-d648ced9474f"
      },
      "execution_count": null,
      "outputs": [
        {
          "output_type": "stream",
          "name": "stdout",
          "text": [
            "분모는 0이면 안됨\n",
            "문제풀이 끝\n"
          ]
        }
      ]
    },
    {
      "cell_type": "markdown",
      "source": [
        "try절 안에 문제가 없을 경우의 코드 블록을 배치하고  \n",
        "except절에는 문제가 생겼을 때 뒤처리를 하는 코드 블록 배치  \n",
        "```\n",
        "try:\n",
        "  #문제가 발생할 가능성이 있는 코드\n",
        "except:\n",
        "  #문제가 생겼을 때 실행할 코드\n",
        "```"
      ],
      "metadata": {
        "id": "BfVAdt9qW9QF"
      }
    },
    {
      "cell_type": "markdown",
      "source": [
        "###복수개의 except  \n",
        "try 블록 안에서 여러 종류의예외가 발생하는 경우에 사용\n",
        "```\n",
        "try:\n",
        "  #문제가 발생할 가능성이 있는 코드\n",
        "except 예외형식1:\n",
        "  #문제가 생겼을 때 실행할 코드\n",
        "except 예외형식2:\n",
        "  #문제가 생겼을 때 실행할 코드\n",
        "```"
      ],
      "metadata": {
        "id": "3Qp1MRSwYZZV"
      }
    },
    {
      "cell_type": "code",
      "source": [
        "my_list=[1,2,3]\n",
        "\n",
        "try:\n",
        "  print(\"첨자를 입력하세요:\")\n",
        "  index=int(input())\n",
        "  print(my_list[index]/0)\n",
        "except ZeroDivisionError: #index가 0~2사이로 입력된다면 ZeroDivisionError가 일어난다.\n",
        "  print(\"0으로 나눌 수 없습니다.\")\n",
        "except IndexError:\n",
        "  print(\"잘못된 첨자입니다.\") #index가 0~2를 벗어나면 my_list[index]에서 IndexError가 발생한다."
      ],
      "metadata": {
        "colab": {
          "base_uri": "https://localhost:8080/"
        },
        "id": "vrKKZvEUY_Om",
        "outputId": "df5b74d9-b8d1-4fd2-f5ca-0b77c2ec77e5"
      },
      "execution_count": null,
      "outputs": [
        {
          "output_type": "stream",
          "name": "stdout",
          "text": [
            "첨자를 입력하세요:\n",
            "1\n",
            "0으로 나눌 수 없습니다.\n"
          ]
        }
      ]
    },
    {
      "cell_type": "markdown",
      "source": [
        "###as문\n",
        "예외의 인스턴스를 활용하는 방법:  \n",
        "as문 사용\n",
        "```\n",
        "try:\n",
        "  #문제가 없을 경우 실행할 코드\n",
        "except 예외형식1 as err:\n",
        "  #문제가 생겼을 때 실행할 코드\n",
        "except 예외형식2 as err:\n",
        "  #문제가 생겼을 때 실행할 코드\n",
        "```"
      ],
      "metadata": {
        "id": "fLml63x7aHp0"
      }
    },
    {
      "cell_type": "code",
      "source": [
        "my_list=[1,2,3]\n",
        "\n",
        "try:\n",
        "  print(\"첨자를 입력하세요:\")\n",
        "  index=int(input())\n",
        "  print(my_list[index]/0)\n",
        "except ZeroDivisionError as err: #ZeroDivisionError 예외만을 처리하는 except절이다.\n",
        "  print('0으로 나눌 수 없습니다. ({0})'.format(err))\n",
        "except IndexError as err: #IndexError 예외만을 처리하는 except절이다.\n",
        "  print('잘못된 첨자입니다. ({0})'.format(err))"
      ],
      "metadata": {
        "colab": {
          "base_uri": "https://localhost:8080/"
        },
        "id": "K9jq0b87aESM",
        "outputId": "4377e2cd-70a7-47cf-dc12-cfc57244124a"
      },
      "execution_count": null,
      "outputs": [
        {
          "output_type": "stream",
          "name": "stdout",
          "text": [
            "첨자를 입력하세요:\n",
            "10\n",
            "잘못된 첨자입ㄴ디ㅏ. (list index out of range)\n"
          ]
        }
      ]
    },
    {
      "cell_type": "markdown",
      "source": [
        "###try except else  \n",
        "try와 함께 사용하는 else절은 try절에 있는 코드블록 실행 중에  \n",
        "아무런 예외가 일어나지 않으면 실행됨\n",
        "```\n",
        "try:\n",
        "  #실행할 코드블록\n",
        "except:\n",
        "  #예외 처리 코드 블록\n",
        "else:\n",
        "  #except절을 만나지 않았을 경우 실행하는 코드블록\n",
        "```"
      ],
      "metadata": {
        "id": "M3Qp6HYSbr7s"
      }
    },
    {
      "cell_type": "code",
      "source": [
        "my_list=[1,2,3]\n",
        "\n",
        "try:\n",
        "  print('첨자를 입력하세요:')\n",
        "  index=int(input())\n",
        "  print('my_list[{0}]:{1}'.format(index, my_list[index]))\n",
        "except IndexError: #try절에서 예외가 발생하면 프로그램 흐름을 이 except절로 보낸다.\n",
        "  print(\"예외가 발생했습니다.\")\n",
        "else: #try절에서 예외가 발생하면 프로그램 흐름을 이 else절로 보낸다.\n",
        "  print(\"리스트의 요소 출력에 성공했습니다.\")"
      ],
      "metadata": {
        "colab": {
          "base_uri": "https://localhost:8080/"
        },
        "id": "nDpiBUDMaG8t",
        "outputId": "de6fd04e-ee69-4917-ed54-4171ec34a2d5"
      },
      "execution_count": null,
      "outputs": [
        {
          "output_type": "stream",
          "name": "stdout",
          "text": [
            "첨자를 입력하세요:\n",
            "10\n",
            "예외가 발생했습니다.\n"
          ]
        }
      ]
    },
    {
      "cell_type": "markdown",
      "source": [
        "###raise  \n",
        "raise는 프로그래머가 의도적으로 예외를 발생시켜야 하는 경우, 사용\n",
        "해당 예외를 단순히 발생시키거나, 예외 발생 시 필요한 정보를 같이 전달하기 위하여 인자로 넘겨줄 수 있다.  \n",
        "또한 예외를 상위에서 처리하도록 그대로 전달할 수도 있다.  \n",
        "raise구문의 예외로 올 수 있는 것으로 내장예외와 사용자정의 예외가 있다.\n",
        "```\n",
        "raise[Exception] #해당 예외를 발생함\n",
        "raise[Exception(data)] #예외를 발생 히 관련 데이터를 전달함\n",
        "raise #발생된 예외를 상위로 전달함\n",
        "```"
      ],
      "metadata": {
        "id": "JVi7h1Ncdbw0"
      }
    },
    {
      "cell_type": "code",
      "source": [
        "def RaiseErrorFunc():\n",
        "  raise NameError(\"NameError의 인자\") #다짜고짜 raise문을 통해 예외를 일으킵니다.\n",
        "\n",
        "def PropagateError():\n",
        "  try:\n",
        "    RaiseErrorFunc()\n",
        "  except: #RaiseErrorFunc()함수에 의해서 NameError가 발생하며, 처리하는 부분이 없기 때문에 발생한 에러는 PropagateErro로 전달됨.\n",
        "    print(\"에러전달 이전에 먼저 이 메시지가 출력됨\")\n",
        "\n",
        "PropagateError()"
      ],
      "metadata": {
        "colab": {
          "base_uri": "https://localhost:8080/"
        },
        "id": "oDKgxqsJdghT",
        "outputId": "4372f4ff-b3d1-4933-ae40-a67c8420fc41"
      },
      "execution_count": null,
      "outputs": [
        {
          "output_type": "stream",
          "name": "stdout",
          "text": [
            "에러전달 이전에 먼저 이 메시지가 출력됨\n"
          ]
        }
      ]
    },
    {
      "cell_type": "code",
      "source": [
        "def RaiseErrorFunc():\n",
        "  raise NameError(\"NameError의 인자\") #예외발생\n",
        "\n",
        "def PropagateError():\n",
        "  try:\n",
        "    RaiseErrorFunc()\n",
        "  except: #RaiseErrorFunc()함수에 의해서 NameError가 발생하며, 처리하는 부분이 없기 때문에 발생한 에러는 PropagateError()함수로 전달됨\n",
        "    print(\"에러 전달 이전에 먼저 이 메세지가 출력됨\")\n",
        "    raise\n",
        "\n",
        "PropagateError() #예외를 받은 PropagateError()함수에서는 화면에 메세지를 출력하고 받은 예외를 그대로 상위로 전달함. 전달된 예외는 처리하는 부분이 없기 떄문에 출력결과에서 확인할 수 있듯이, 에러를 출력함"
      ],
      "metadata": {
        "colab": {
          "base_uri": "https://localhost:8080/",
          "height": 382
        },
        "id": "UhvT7e4ke2js",
        "outputId": "4cf291e6-a2da-4ff3-de44-ee9573965e91"
      },
      "execution_count": null,
      "outputs": [
        {
          "output_type": "stream",
          "name": "stdout",
          "text": [
            "에러 전달 이전에 먼저 이 메세지가 출력됨\n"
          ]
        },
        {
          "output_type": "error",
          "ename": "NameError",
          "evalue": "ignored",
          "traceback": [
            "\u001b[0;31m---------------------------------------------------------------------------\u001b[0m",
            "\u001b[0;31mNameError\u001b[0m                                 Traceback (most recent call last)",
            "\u001b[0;32m<ipython-input-102-2d40812b8cd2>\u001b[0m in \u001b[0;36m<module>\u001b[0;34m\u001b[0m\n\u001b[1;32m      9\u001b[0m     \u001b[0;32mraise\u001b[0m\u001b[0;34m\u001b[0m\u001b[0;34m\u001b[0m\u001b[0m\n\u001b[1;32m     10\u001b[0m \u001b[0;34m\u001b[0m\u001b[0m\n\u001b[0;32m---> 11\u001b[0;31m \u001b[0mPropagateError\u001b[0m\u001b[0;34m(\u001b[0m\u001b[0;34m)\u001b[0m \u001b[0;31m#예외를 받은 PropagateError()함수에서는 화면에 메세지를 출력하고 받은 예외를 그대로 상위로 전달함. 전달된 예외는 처리하는 부분이 없기 떄문에 출력결과에서 확인할 수 있듯이, 에러를 출력함\u001b[0m\u001b[0;34m\u001b[0m\u001b[0;34m\u001b[0m\u001b[0m\n\u001b[0m",
            "\u001b[0;32m<ipython-input-102-2d40812b8cd2>\u001b[0m in \u001b[0;36mPropagateError\u001b[0;34m()\u001b[0m\n\u001b[1;32m      4\u001b[0m \u001b[0;32mdef\u001b[0m \u001b[0mPropagateError\u001b[0m\u001b[0;34m(\u001b[0m\u001b[0;34m)\u001b[0m\u001b[0;34m:\u001b[0m\u001b[0;34m\u001b[0m\u001b[0;34m\u001b[0m\u001b[0m\n\u001b[1;32m      5\u001b[0m   \u001b[0;32mtry\u001b[0m\u001b[0;34m:\u001b[0m\u001b[0;34m\u001b[0m\u001b[0;34m\u001b[0m\u001b[0m\n\u001b[0;32m----> 6\u001b[0;31m     \u001b[0mRaiseErrorFunc\u001b[0m\u001b[0;34m(\u001b[0m\u001b[0;34m)\u001b[0m\u001b[0;34m\u001b[0m\u001b[0;34m\u001b[0m\u001b[0m\n\u001b[0m\u001b[1;32m      7\u001b[0m   \u001b[0;32mexcept\u001b[0m\u001b[0;34m:\u001b[0m \u001b[0;31m#RaiseErrorFunc()함수에 의해서 NameError가 발생하며, 처리하는 부분이 없기 때문에 발생한 에러는 PropagateError()함수로 전달됨\u001b[0m\u001b[0;34m\u001b[0m\u001b[0;34m\u001b[0m\u001b[0m\n\u001b[1;32m      8\u001b[0m     \u001b[0mprint\u001b[0m\u001b[0;34m(\u001b[0m\u001b[0;34m\"에러 전달 이전에 먼저 이 메세지가 출력됨\"\u001b[0m\u001b[0;34m)\u001b[0m\u001b[0;34m\u001b[0m\u001b[0;34m\u001b[0m\u001b[0m\n",
            "\u001b[0;32m<ipython-input-102-2d40812b8cd2>\u001b[0m in \u001b[0;36mRaiseErrorFunc\u001b[0;34m()\u001b[0m\n\u001b[1;32m      1\u001b[0m \u001b[0;32mdef\u001b[0m \u001b[0mRaiseErrorFunc\u001b[0m\u001b[0;34m(\u001b[0m\u001b[0;34m)\u001b[0m\u001b[0;34m:\u001b[0m\u001b[0;34m\u001b[0m\u001b[0;34m\u001b[0m\u001b[0m\n\u001b[0;32m----> 2\u001b[0;31m   \u001b[0;32mraise\u001b[0m \u001b[0mNameError\u001b[0m\u001b[0;34m(\u001b[0m\u001b[0;34m\"NameError의 인자\"\u001b[0m\u001b[0;34m)\u001b[0m \u001b[0;31m#예외발생\u001b[0m\u001b[0;34m\u001b[0m\u001b[0;34m\u001b[0m\u001b[0m\n\u001b[0m\u001b[1;32m      3\u001b[0m \u001b[0;34m\u001b[0m\u001b[0m\n\u001b[1;32m      4\u001b[0m \u001b[0;32mdef\u001b[0m \u001b[0mPropagateError\u001b[0m\u001b[0;34m(\u001b[0m\u001b[0;34m)\u001b[0m\u001b[0;34m:\u001b[0m\u001b[0;34m\u001b[0m\u001b[0;34m\u001b[0m\u001b[0m\n\u001b[1;32m      5\u001b[0m   \u001b[0;32mtry\u001b[0m\u001b[0;34m:\u001b[0m\u001b[0;34m\u001b[0m\u001b[0;34m\u001b[0m\u001b[0m\n",
            "\u001b[0;31mNameError\u001b[0m: NameError의 인자"
          ]
        }
      ]
    },
    {
      "cell_type": "code",
      "source": [],
      "metadata": {
        "id": "RQe7ChULg6_y"
      },
      "execution_count": null,
      "outputs": []
    },
    {
      "cell_type": "code",
      "source": [
        "def RaiseErrorFunc():\n",
        "  raise NameError(\"NameError의 인자\") #예외발생\n",
        "\n",
        "def PropagateError():\n",
        "  try:\n",
        "    RaiseErrorFunc()\n",
        "  except: #RaiseErrorFunc()함수에 의해서 NameError가 발생하며, 처리하는 부분이 없기 때문에 발생한 에러는 PropagateError()함수로 전달됨\n",
        "    print(\"에러 전달 이전에 먼저 이 메세지가 출력됨\")\n",
        "    raise\n",
        "try:\n",
        "  PropagateError()\n",
        "except Exception as err: #예외를 받은 PropagateError()함수에서는 화면에 메세지를 출력하고 받은 예외를 그대로 상위로 전달함.\n",
        "  print('{0} 예외가 발생했습니다.'.format(err))"
      ],
      "metadata": {
        "colab": {
          "base_uri": "https://localhost:8080/"
        },
        "outputId": "17ba72c1-0ddb-41fc-a96f-87e96b734927",
        "id": "2wEMugmKg7Uv"
      },
      "execution_count": null,
      "outputs": [
        {
          "output_type": "stream",
          "name": "stdout",
          "text": [
            "에러 전달 이전에 먼저 이 메세지가 출력됨\n",
            "NameError의 인자 예외가 발생했습니다.\n"
          ]
        }
      ]
    },
    {
      "cell_type": "code",
      "source": [],
      "metadata": {
        "id": "LER35M_tjznC"
      },
      "execution_count": null,
      "outputs": []
    }
  ]
}