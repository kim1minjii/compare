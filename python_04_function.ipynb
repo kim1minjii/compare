{
  "nbformat": 4,
  "nbformat_minor": 0,
  "metadata": {
    "colab": {
      "provenance": [],
      "toc_visible": true,
      "collapsed_sections": [
        "itJp2Vaio7NI",
        "UT6fEROGtPDA",
        "S4bHKx2Szjuf",
        "z6PJE8Wz4TQl",
        "GfxseVe66nPV",
        "ZfhP0OQK7Gml",
        "_dNt2ynnInpq",
        "bF7cdPaITvhQ",
        "LPH-eQpQVoav"
      ],
      "authorship_tag": "ABX9TyMyfYd3mJ5NkGmkRqcXWZPe",
      "include_colab_link": true
    },
    "kernelspec": {
      "name": "python3",
      "display_name": "Python 3"
    },
    "language_info": {
      "name": "python"
    }
  },
  "cells": [
    {
      "cell_type": "markdown",
      "metadata": {
        "id": "view-in-github",
        "colab_type": "text"
      },
      "source": [
        "<a href=\"https://colab.research.google.com/github/kim1minjii/pythondemo/blob/master/python_04_function.ipynb\" target=\"_parent\"><img src=\"https://colab.research.google.com/assets/colab-badge.svg\" alt=\"Open In Colab\"/></a>"
      ]
    },
    {
      "cell_type": "markdown",
      "source": [
        "###1.function\n",
        "```\n",
        "def proc():\n",
        "  pass  #pass는 구현을 안할 때 사용한다.\n",
        "        #아무것도 안쓰면 에러가 발생한다.\n",
        "```\n"
      ],
      "metadata": {
        "id": "m_8og3dbOEvF"
      }
    },
    {
      "cell_type": "code",
      "source": [
        "def display():\n",
        "  pass"
      ],
      "metadata": {
        "id": "B9e_tMF_lQ7T"
      },
      "execution_count": null,
      "outputs": []
    },
    {
      "cell_type": "code",
      "source": [
        "display() #출력안됨"
      ],
      "metadata": {
        "id": "nrGBMnJKlnay"
      },
      "execution_count": null,
      "outputs": []
    },
    {
      "cell_type": "code",
      "source": [
        "print(display())"
      ],
      "metadata": {
        "colab": {
          "base_uri": "https://localhost:8080/"
        },
        "id": "5JV3H0Upls7i",
        "outputId": "f9fae1e6-d9ff-47e9-9d07-a958f8bafdb8"
      },
      "execution_count": null,
      "outputs": [
        {
          "output_type": "stream",
          "name": "stdout",
          "text": [
            "None\n"
          ]
        }
      ]
    },
    {
      "cell_type": "markdown",
      "source": [
        "### callable\n",
        "- 이름 뒤에 괄호()를 붙이는 것을 call(호출)이라고 한다.\n",
        "- 이름 뒤에 괄호()를 붙일 수 있는 것을 callable이라고 한다.\n",
        "- 함수는 사용할 때 이름 뒤에 괄호를 붙인다.\n",
        "- python에서 callable인 것이 3가지 유형이 있다.\n",
        "  1. function\n",
        "  2. class(init가 정의되었을 경우)\n",
        "  3. object(call이 정의되었을 경우)"
      ],
      "metadata": {
        "id": "0DLuLBePlvwi"
      }
    },
    {
      "cell_type": "code",
      "source": [
        "a=3\n",
        "a() #TypeError: 'int' object is not callable"
      ],
      "metadata": {
        "colab": {
          "base_uri": "https://localhost:8080/",
          "height": 193
        },
        "id": "8UVKxqc6mkmp",
        "outputId": "bc1cf58d-0a0a-4830-cc36-18d4aa915c7a"
      },
      "execution_count": null,
      "outputs": [
        {
          "output_type": "error",
          "ename": "TypeError",
          "evalue": "ignored",
          "traceback": [
            "\u001b[0;31m---------------------------------------------------------------------------\u001b[0m",
            "\u001b[0;31mTypeError\u001b[0m                                 Traceback (most recent call last)",
            "\u001b[0;32m<ipython-input-4-7361111df84d>\u001b[0m in \u001b[0;36m<module>\u001b[0;34m\u001b[0m\n\u001b[1;32m      1\u001b[0m \u001b[0ma\u001b[0m\u001b[0;34m=\u001b[0m\u001b[0;36m3\u001b[0m\u001b[0;34m\u001b[0m\u001b[0;34m\u001b[0m\u001b[0m\n\u001b[0;32m----> 2\u001b[0;31m \u001b[0ma\u001b[0m\u001b[0;34m(\u001b[0m\u001b[0;34m)\u001b[0m\u001b[0;34m\u001b[0m\u001b[0;34m\u001b[0m\u001b[0m\n\u001b[0m",
            "\u001b[0;31mTypeError\u001b[0m: 'int' object is not callable"
          ]
        }
      ]
    },
    {
      "cell_type": "code",
      "source": [
        "list() #리스트를 생성했지만"
      ],
      "metadata": {
        "colab": {
          "base_uri": "https://localhost:8080/"
        },
        "id": "2cwaqHGkmmNh",
        "outputId": "17131aeb-dc86-47b1-ed61-1298b6444f0c"
      },
      "execution_count": null,
      "outputs": [
        {
          "output_type": "execute_result",
          "data": {
            "text/plain": [
              "[]"
            ]
          },
          "metadata": {},
          "execution_count": 5
        }
      ]
    },
    {
      "cell_type": "code",
      "source": [
        "list=3 \n",
        "list() #함수로써 사용되는 list이지만, 에러. 빌트인(?) 함수라서"
      ],
      "metadata": {
        "colab": {
          "base_uri": "https://localhost:8080/",
          "height": 193
        },
        "id": "PMQxvq4Um0hC",
        "outputId": "3e645df2-ff28-4335-9ce8-dcbbf1a0d4ef"
      },
      "execution_count": null,
      "outputs": [
        {
          "output_type": "error",
          "ename": "TypeError",
          "evalue": "ignored",
          "traceback": [
            "\u001b[0;31m---------------------------------------------------------------------------\u001b[0m",
            "\u001b[0;31mTypeError\u001b[0m                                 Traceback (most recent call last)",
            "\u001b[0;32m<ipython-input-6-96566d29f914>\u001b[0m in \u001b[0;36m<module>\u001b[0;34m\u001b[0m\n\u001b[1;32m      1\u001b[0m \u001b[0mlist\u001b[0m\u001b[0;34m=\u001b[0m\u001b[0;36m3\u001b[0m\u001b[0;34m\u001b[0m\u001b[0;34m\u001b[0m\u001b[0m\n\u001b[0;32m----> 2\u001b[0;31m \u001b[0mlist\u001b[0m\u001b[0;34m(\u001b[0m\u001b[0;34m)\u001b[0m\u001b[0;34m\u001b[0m\u001b[0;34m\u001b[0m\u001b[0m\n\u001b[0m",
            "\u001b[0;31mTypeError\u001b[0m: 'int' object is not callable"
          ]
        }
      ]
    },
    {
      "cell_type": "code",
      "source": [
        "#키워드 리스트\n",
        "#변수로 사용할 수 없음\n",
        "import keyword\n",
        "keyword.kwlist"
      ],
      "metadata": {
        "colab": {
          "base_uri": "https://localhost:8080/"
        },
        "id": "FRPWJYWwm5zZ",
        "outputId": "16e2bd00-cdb1-4fa9-8f01-6cac54e9785a"
      },
      "execution_count": null,
      "outputs": [
        {
          "output_type": "execute_result",
          "data": {
            "text/plain": [
              "['False',\n",
              " 'None',\n",
              " 'True',\n",
              " 'and',\n",
              " 'as',\n",
              " 'assert',\n",
              " 'async',\n",
              " 'await',\n",
              " 'break',\n",
              " 'class',\n",
              " 'continue',\n",
              " 'def',\n",
              " 'del',\n",
              " 'elif',\n",
              " 'else',\n",
              " 'except',\n",
              " 'finally',\n",
              " 'for',\n",
              " 'from',\n",
              " 'global',\n",
              " 'if',\n",
              " 'import',\n",
              " 'in',\n",
              " 'is',\n",
              " 'lambda',\n",
              " 'nonlocal',\n",
              " 'not',\n",
              " 'or',\n",
              " 'pass',\n",
              " 'raise',\n",
              " 'return',\n",
              " 'try',\n",
              " 'while',\n",
              " 'with',\n",
              " 'yield']"
            ]
          },
          "metadata": {},
          "execution_count": 8
        }
      ]
    },
    {
      "cell_type": "code",
      "source": [
        "list\n",
        "set"
      ],
      "metadata": {
        "colab": {
          "base_uri": "https://localhost:8080/",
          "height": 137
        },
        "id": "5cLZJczXnJhp",
        "outputId": "4057008d-008c-4fcc-91fc-840bc7e3f1e7"
      },
      "execution_count": null,
      "outputs": [
        {
          "output_type": "error",
          "ename": "SyntaxError",
          "evalue": "ignored",
          "traceback": [
            "\u001b[0;36m  File \u001b[0;32m\"<ipython-input-9-70b92b7e2efe>\"\u001b[0;36m, line \u001b[0;32m1\u001b[0m\n\u001b[0;31m    try=3\u001b[0m\n\u001b[0m       ^\u001b[0m\n\u001b[0;31mSyntaxError\u001b[0m\u001b[0;31m:\u001b[0m invalid syntax\n"
          ]
        }
      ]
    },
    {
      "cell_type": "code",
      "source": [
        "list=3\n",
        "del list\n",
        "list() #삭제하면, 원래 역할로 살아남"
      ],
      "metadata": {
        "colab": {
          "base_uri": "https://localhost:8080/"
        },
        "id": "c9j7ynyunTAZ",
        "outputId": "07f28f01-bd79-4315-d559-b203366ed981"
      },
      "execution_count": null,
      "outputs": [
        {
          "output_type": "execute_result",
          "data": {
            "text/plain": [
              "[]"
            ]
          },
          "metadata": {},
          "execution_count": 11
        }
      ]
    },
    {
      "cell_type": "code",
      "source": [
        "def prn():\n",
        "  return 1"
      ],
      "metadata": {
        "id": "EXwoCv2FnyBR"
      },
      "execution_count": null,
      "outputs": []
    },
    {
      "cell_type": "code",
      "source": [
        "# 실행\n",
        "prn()"
      ],
      "metadata": {
        "id": "u5MhSxxrojhg"
      },
      "execution_count": null,
      "outputs": []
    },
    {
      "cell_type": "code",
      "source": [
        "#괄호를 붙이지 않으면 함수식이다.\n",
        "prn"
      ],
      "metadata": {
        "colab": {
          "base_uri": "https://localhost:8080/"
        },
        "id": "sX-5vkD8oP_x",
        "outputId": "252cded1-4d54-4070-cf08-6f431e48b29a"
      },
      "execution_count": null,
      "outputs": [
        {
          "output_type": "execute_result",
          "data": {
            "text/plain": [
              "<function __main__.prn()>"
            ]
          },
          "metadata": {},
          "execution_count": 17
        }
      ]
    },
    {
      "cell_type": "code",
      "source": [
        "#내장함수 callable은 객체가()을 붙여 사용 할 수 있는 지를 true/false로 알려준다.\n",
        "callable(prn)"
      ],
      "metadata": {
        "colab": {
          "base_uri": "https://localhost:8080/"
        },
        "id": "2UA2bjxAobuB",
        "outputId": "dcbe4fd6-fb35-4520-e919-e792c19afd1f"
      },
      "execution_count": null,
      "outputs": [
        {
          "output_type": "execute_result",
          "data": {
            "text/plain": [
              "True"
            ]
          },
          "metadata": {},
          "execution_count": 18
        }
      ]
    },
    {
      "cell_type": "code",
      "source": [
        "a=3\n",
        "callable(a)"
      ],
      "metadata": {
        "colab": {
          "base_uri": "https://localhost:8080/"
        },
        "id": "-GG4iUSlowP4",
        "outputId": "cb3095c1-9cdd-422a-98bd-f63eed9791d7"
      },
      "execution_count": null,
      "outputs": [
        {
          "output_type": "execute_result",
          "data": {
            "text/plain": [
              "False"
            ]
          },
          "metadata": {},
          "execution_count": 19
        }
      ]
    },
    {
      "cell_type": "code",
      "source": [],
      "metadata": {
        "id": "IR-EPkizpR0H"
      },
      "execution_count": null,
      "outputs": []
    },
    {
      "cell_type": "markdown",
      "source": [
        "###매개변수(parameter), 인자(argument) \n",
        "1. positional\n",
        "2. keyword\n",
        "3. position & keyword\n",
        "4. position only\n",
        "5. keyword only\n",
        "6. 가변 positional\n",
        "7. 가변 keyword"
      ],
      "metadata": {
        "id": "itJp2Vaio7NI"
      }
    },
    {
      "cell_type": "markdown",
      "source": [
        "1.positional  \n",
        "  함수 호출: 선언할 때 파라미터의 순서와 호출할 때 인자의 입력순서를 그대로 매칭한다. (포지셔널)"
      ],
      "metadata": {
        "id": "BAKZDvi9p7No"
      }
    },
    {
      "cell_type": "code",
      "source": [
        "def proc(a,b):\n",
        "  return a,b"
      ],
      "metadata": {
        "id": "jSCdPlysqGFY"
      },
      "execution_count": null,
      "outputs": []
    },
    {
      "cell_type": "code",
      "source": [
        "proc(2,4)"
      ],
      "metadata": {
        "colab": {
          "base_uri": "https://localhost:8080/"
        },
        "id": "r4N3ITLgqKlK",
        "outputId": "d5194014-7dbb-4bb2-8541-6502215a3cac"
      },
      "execution_count": null,
      "outputs": [
        {
          "output_type": "execute_result",
          "data": {
            "text/plain": [
              "(2, 4)"
            ]
          },
          "metadata": {},
          "execution_count": 21
        }
      ]
    },
    {
      "cell_type": "markdown",
      "source": [
        "2. keyword  \n",
        "keyword 방식을 이용하면 순서와 관계없이 파라미터 이름에 따라 값이 대입된다."
      ],
      "metadata": {
        "id": "uub7alXOqL0g"
      }
    },
    {
      "cell_type": "code",
      "source": [
        "proc(b=4, a=2)"
      ],
      "metadata": {
        "colab": {
          "base_uri": "https://localhost:8080/"
        },
        "id": "rFAGMQenqZ5Y",
        "outputId": "423049e1-89bb-454e-b91f-87b58d96f491"
      },
      "execution_count": null,
      "outputs": [
        {
          "output_type": "execute_result",
          "data": {
            "text/plain": [
              "(2, 4)"
            ]
          },
          "metadata": {},
          "execution_count": 22
        }
      ]
    },
    {
      "cell_type": "markdown",
      "source": [
        "3. position & keyword 혼합"
      ],
      "metadata": {
        "id": "hy-cj0VjqlXg"
      }
    },
    {
      "cell_type": "code",
      "source": [
        "def proc(a,b,c):\n",
        "  return a,b,c"
      ],
      "metadata": {
        "id": "7DTkvW-dq7-o"
      },
      "execution_count": null,
      "outputs": []
    },
    {
      "cell_type": "code",
      "source": [
        "proc(2,c=5,b=3)"
      ],
      "metadata": {
        "colab": {
          "base_uri": "https://localhost:8080/"
        },
        "id": "01AMpcnkrAsx",
        "outputId": "06f824a3-f4b6-4326-a2ce-da34a6a2ad2a"
      },
      "execution_count": null,
      "outputs": [
        {
          "output_type": "execute_result",
          "data": {
            "text/plain": [
              "(2, 3, 5)"
            ]
          },
          "metadata": {},
          "execution_count": 24
        }
      ]
    },
    {
      "cell_type": "code",
      "source": [
        "#오류.\n",
        "#position이 앞에 와야 함\n",
        "#한 번 keyword를 쓰면 그 뒤도 다 keyword여야 함.\n",
        "proc(b=5,a=4,8)"
      ],
      "metadata": {
        "colab": {
          "base_uri": "https://localhost:8080/",
          "height": 137
        },
        "id": "qO7rJ9MBrDdZ",
        "outputId": "073b65fe-aa5e-49b2-f53f-a828fb35de49"
      },
      "execution_count": null,
      "outputs": [
        {
          "output_type": "error",
          "ename": "SyntaxError",
          "evalue": "ignored",
          "traceback": [
            "\u001b[0;36m  File \u001b[0;32m\"<ipython-input-25-6f2f8c4d64ac>\"\u001b[0;36m, line \u001b[0;32m2\u001b[0m\n\u001b[0;31m    proc(b=5,a=4,8)\u001b[0m\n\u001b[0m                 ^\u001b[0m\n\u001b[0;31mSyntaxError\u001b[0m\u001b[0;31m:\u001b[0m positional argument follows keyword argument\n"
          ]
        }
      ]
    },
    {
      "cell_type": "code",
      "source": [
        "#python 버전확인\n",
        "import sys\n",
        "sys.version"
      ],
      "metadata": {
        "colab": {
          "base_uri": "https://localhost:8080/",
          "height": 35
        },
        "id": "wabqxeWcrLKQ",
        "outputId": "3b2cf20e-e160-416f-9c18-a172befea3c3"
      },
      "execution_count": null,
      "outputs": [
        {
          "output_type": "execute_result",
          "data": {
            "text/plain": [
              "'3.8.15 (default, Oct 12 2022, 19:14:39) \\n[GCC 7.5.0]'"
            ],
            "application/vnd.google.colaboratory.intrinsic+json": {
              "type": "string"
            }
          },
          "metadata": {},
          "execution_count": 26
        }
      ]
    },
    {
      "cell_type": "markdown",
      "source": [
        "4. position only  \n",
        "함수를 사용할 때 position방식으로만 인자를 쓸 수 있도록 강제하는 방법이다.  \n",
        "/ 의 앞에 오는 인자들은 position방식으로 입력할 수 있지만, keyword방식으로 입력할 수 없다.  \n",
        "position only함수를 선언하는 것은 python 3.8부터 지원한다.  \n",
        "이전 버전에서는 사전 정의된 position only함수는 있지만, 사용자가 만들 수는 없었다."
      ],
      "metadata": {
        "id": "rP8CHiwirnfY"
      }
    },
    {
      "cell_type": "code",
      "source": [
        "def proc(a,b,c, /):\n",
        "  return a,b,c"
      ],
      "metadata": {
        "id": "Gre5V-xJr48P"
      },
      "execution_count": null,
      "outputs": []
    },
    {
      "cell_type": "code",
      "source": [
        "proc(4,5,6)"
      ],
      "metadata": {
        "id": "rVyFPqVdsacH",
        "outputId": "60fd5e62-2f0f-44df-af14-403fcde29937",
        "colab": {
          "base_uri": "https://localhost:8080/"
        }
      },
      "execution_count": null,
      "outputs": [
        {
          "output_type": "execute_result",
          "data": {
            "text/plain": [
              "(4, 5, 6)"
            ]
          },
          "metadata": {},
          "execution_count": 28
        }
      ]
    },
    {
      "cell_type": "code",
      "source": [
        "proc(4, c=6, b=5)"
      ],
      "metadata": {
        "id": "DyIMjJCksbsP",
        "outputId": "9c42957a-629b-4b1e-b888-2e7f61ffa950",
        "colab": {
          "base_uri": "https://localhost:8080/",
          "height": 172
        }
      },
      "execution_count": null,
      "outputs": [
        {
          "output_type": "error",
          "ename": "NameError",
          "evalue": "ignored",
          "traceback": [
            "\u001b[0;31m---------------------------------------------------------------------------\u001b[0m",
            "\u001b[0;31mNameError\u001b[0m                                 Traceback (most recent call last)",
            "\u001b[0;32m<ipython-input-13-38ec957656fc>\u001b[0m in \u001b[0;36m<module>\u001b[0;34m\u001b[0m\n\u001b[0;32m----> 1\u001b[0;31m \u001b[0mproc\u001b[0m\u001b[0;34m(\u001b[0m\u001b[0;36m4\u001b[0m\u001b[0;34m,\u001b[0m \u001b[0mc\u001b[0m\u001b[0;34m=\u001b[0m\u001b[0;36m6\u001b[0m\u001b[0;34m,\u001b[0m \u001b[0mb\u001b[0m\u001b[0;34m=\u001b[0m\u001b[0;36m5\u001b[0m\u001b[0;34m)\u001b[0m\u001b[0;34m\u001b[0m\u001b[0;34m\u001b[0m\u001b[0m\n\u001b[0m",
            "\u001b[0;31mNameError\u001b[0m: name 'proc' is not defined"
          ]
        }
      ]
    },
    {
      "cell_type": "markdown",
      "source": [
        "5. keyword only\n",
        "keyword only방식은 인자를 keyword 방식으로만 입력하도록 강제하는 방법이다.  \n",
        "'*'이후로는 키워드 방식만 가능하다."
      ],
      "metadata": {
        "id": "t6cLElDEotni"
      }
    },
    {
      "cell_type": "code",
      "source": [
        "def proc(*, a,b,c):\n",
        "  return a,b,c"
      ],
      "metadata": {
        "id": "Tw37wEnjo7Q5"
      },
      "execution_count": null,
      "outputs": []
    },
    {
      "cell_type": "code",
      "source": [
        "proc(a=3,c=5,b=4) #키워드"
      ],
      "metadata": {
        "colab": {
          "base_uri": "https://localhost:8080/"
        },
        "id": "mUay7W5epEyq",
        "outputId": "8652258c-367a-40ac-afdd-0f8530c84232"
      },
      "execution_count": null,
      "outputs": [
        {
          "output_type": "execute_result",
          "data": {
            "text/plain": [
              "(3, 4, 5)"
            ]
          },
          "metadata": {},
          "execution_count": 18
        }
      ]
    },
    {
      "cell_type": "code",
      "source": [
        "proc(3,4,5) #포지션 -> 에러"
      ],
      "metadata": {
        "colab": {
          "base_uri": "https://localhost:8080/",
          "height": 172
        },
        "id": "IigBqpY3pTrB",
        "outputId": "a440da38-039e-4aa2-862a-35e993837378"
      },
      "execution_count": null,
      "outputs": [
        {
          "output_type": "error",
          "ename": "TypeError",
          "evalue": "ignored",
          "traceback": [
            "\u001b[0;31m---------------------------------------------------------------------------\u001b[0m",
            "\u001b[0;31mTypeError\u001b[0m                                 Traceback (most recent call last)",
            "\u001b[0;32m<ipython-input-19-12a0d2acce26>\u001b[0m in \u001b[0;36m<module>\u001b[0;34m\u001b[0m\n\u001b[0;32m----> 1\u001b[0;31m \u001b[0mproc\u001b[0m\u001b[0;34m(\u001b[0m\u001b[0;36m3\u001b[0m\u001b[0;34m,\u001b[0m\u001b[0;36m4\u001b[0m\u001b[0;34m,\u001b[0m\u001b[0;36m5\u001b[0m\u001b[0;34m)\u001b[0m\u001b[0;34m\u001b[0m\u001b[0;34m\u001b[0m\u001b[0m\n\u001b[0m",
            "\u001b[0;31mTypeError\u001b[0m: proc() takes 0 positional arguments but 3 were given"
          ]
        }
      ]
    },
    {
      "cell_type": "markdown",
      "source": [
        "6. 가변 positional  \n",
        "가변 positional은 파라미터 이름에 '*'를 붙인다.  \n",
        "positional방식으로 입력되는 인자의 갯수에 상관없이 모두 받아온다."
      ],
      "metadata": {
        "id": "TVmuiXplpSmh"
      }
    },
    {
      "cell_type": "code",
      "source": [
        "def proc(*a):\n",
        "  return a"
      ],
      "metadata": {
        "id": "GbUdUS1YnKxS"
      },
      "execution_count": null,
      "outputs": []
    },
    {
      "cell_type": "code",
      "source": [
        "proc() #튜플"
      ],
      "metadata": {
        "colab": {
          "base_uri": "https://localhost:8080/"
        },
        "id": "V4YOWP0rqIC7",
        "outputId": "5d86e34b-037c-4359-d1d5-f438e271083b"
      },
      "execution_count": null,
      "outputs": [
        {
          "output_type": "execute_result",
          "data": {
            "text/plain": [
              "()"
            ]
          },
          "metadata": {},
          "execution_count": 21
        }
      ]
    },
    {
      "cell_type": "code",
      "source": [
        "proc(1) #튜플"
      ],
      "metadata": {
        "colab": {
          "base_uri": "https://localhost:8080/"
        },
        "id": "sBljwRqGqJEI",
        "outputId": "e250f6c9-60e8-46df-f2b8-bd6df35cad59"
      },
      "execution_count": null,
      "outputs": [
        {
          "output_type": "execute_result",
          "data": {
            "text/plain": [
              "(1,)"
            ]
          },
          "metadata": {},
          "execution_count": 22
        }
      ]
    },
    {
      "cell_type": "code",
      "source": [
        "proc(1,2) #튜플"
      ],
      "metadata": {
        "colab": {
          "base_uri": "https://localhost:8080/"
        },
        "id": "vTdVq9iRqKmp",
        "outputId": "49471480-a054-410f-ec0d-e43f3ce8cceb"
      },
      "execution_count": null,
      "outputs": [
        {
          "output_type": "execute_result",
          "data": {
            "text/plain": [
              "(1, 2)"
            ]
          },
          "metadata": {},
          "execution_count": 23
        }
      ]
    },
    {
      "cell_type": "code",
      "source": [
        "def proc2(*a):\n",
        "  print(type(a))\n",
        "  hap=0\n",
        "  for i in a:\n",
        "    hap += i\n",
        "  return hap"
      ],
      "metadata": {
        "id": "qHgTTMhHqMED"
      },
      "execution_count": null,
      "outputs": []
    },
    {
      "cell_type": "code",
      "source": [
        "proc2(1,3,5)"
      ],
      "metadata": {
        "colab": {
          "base_uri": "https://localhost:8080/"
        },
        "id": "Wuj-s4PaqjgR",
        "outputId": "d553f454-b4b2-4e72-f246-654a5b84eccf"
      },
      "execution_count": null,
      "outputs": [
        {
          "output_type": "stream",
          "name": "stdout",
          "text": [
            "<class 'tuple'>\n"
          ]
        },
        {
          "output_type": "execute_result",
          "data": {
            "text/plain": [
              "9"
            ]
          },
          "metadata": {},
          "execution_count": 31
        }
      ]
    },
    {
      "cell_type": "code",
      "source": [
        "proc2()"
      ],
      "metadata": {
        "colab": {
          "base_uri": "https://localhost:8080/"
        },
        "id": "iOIRb8CYqlSQ",
        "outputId": "6456d224-f886-4d0e-aa1c-82f8a56c2ad8"
      },
      "execution_count": null,
      "outputs": [
        {
          "output_type": "stream",
          "name": "stdout",
          "text": [
            "<class 'tuple'>\n"
          ]
        },
        {
          "output_type": "execute_result",
          "data": {
            "text/plain": [
              "0"
            ]
          },
          "metadata": {},
          "execution_count": 30
        }
      ]
    },
    {
      "cell_type": "markdown",
      "source": [
        "7. 가변 keyword\n",
        "가변 keuword는 파라미터 이름에 '**'를 붙인다.\n",
        "keyword방식으로 입력되는 인자의 수에 상관없이 모두 받아온다."
      ],
      "metadata": {
        "id": "iPYqwOX3q19B"
      }
    },
    {
      "cell_type": "code",
      "source": [
        "def proc(**a):\n",
        "  print(type(a))\n",
        "  return a"
      ],
      "metadata": {
        "id": "898r2Qd-rpX7"
      },
      "execution_count": null,
      "outputs": []
    },
    {
      "cell_type": "code",
      "source": [
        "proc()"
      ],
      "metadata": {
        "colab": {
          "base_uri": "https://localhost:8080/"
        },
        "id": "pzKOEnTyrxBo",
        "outputId": "7e446b3e-01a1-4341-fb87-9c8cb7e9caba"
      },
      "execution_count": null,
      "outputs": [
        {
          "output_type": "stream",
          "name": "stdout",
          "text": [
            "<class 'dict'>\n"
          ]
        },
        {
          "output_type": "execute_result",
          "data": {
            "text/plain": [
              "{}"
            ]
          },
          "metadata": {},
          "execution_count": 40
        }
      ]
    },
    {
      "cell_type": "code",
      "source": [
        "#인자로 넘겨준 이름을 dict의 키로 사용한다.\n",
        "#dictionary로 받아서 매개변수로 처리\n",
        "proc(x=2,y=3)"
      ],
      "metadata": {
        "colab": {
          "base_uri": "https://localhost:8080/"
        },
        "id": "0bhEj8nar7jR",
        "outputId": "f79947a2-6e7d-4b3f-adcb-e0b52dbf2458"
      },
      "execution_count": null,
      "outputs": [
        {
          "output_type": "stream",
          "name": "stdout",
          "text": [
            "<class 'dict'>\n"
          ]
        },
        {
          "output_type": "execute_result",
          "data": {
            "text/plain": [
              "{'x': 2, 'y': 3}"
            ]
          },
          "metadata": {},
          "execution_count": 35
        }
      ]
    },
    {
      "cell_type": "code",
      "source": [
        "proc(x=3, y=1, z=[1,2,3])"
      ],
      "metadata": {
        "colab": {
          "base_uri": "https://localhost:8080/"
        },
        "id": "XoV_Jch3sRVY",
        "outputId": "d20ed1d6-f601-4f16-a56c-c06f3d0dea07"
      },
      "execution_count": null,
      "outputs": [
        {
          "output_type": "stream",
          "name": "stdout",
          "text": [
            "<class 'dict'>\n"
          ]
        },
        {
          "output_type": "execute_result",
          "data": {
            "text/plain": [
              "{'x': 3, 'y': 1, 'z': [1, 2, 3]}"
            ]
          },
          "metadata": {},
          "execution_count": 36
        }
      ]
    },
    {
      "cell_type": "markdown",
      "source": [
        "가변 keyword / 가변 positional은 한 번만 사용할 수 있다."
      ],
      "metadata": {
        "id": "oqcHtvhFsCKJ"
      }
    },
    {
      "cell_type": "code",
      "source": [
        "def proc(*a, *b):\n",
        "  return a,b"
      ],
      "metadata": {
        "colab": {
          "base_uri": "https://localhost:8080/",
          "height": 136
        },
        "id": "KO953euXs8VB",
        "outputId": "9ea00898-dbcf-4312-c28b-d0bf9f919cdd"
      },
      "execution_count": null,
      "outputs": [
        {
          "output_type": "error",
          "ename": "SyntaxError",
          "evalue": "ignored",
          "traceback": [
            "\u001b[0;36m  File \u001b[0;32m\"<ipython-input-41-84848a7b6fce>\"\u001b[0;36m, line \u001b[0;32m1\u001b[0m\n\u001b[0;31m    def proc(*a, *b):\u001b[0m\n\u001b[0m                 ^\u001b[0m\n\u001b[0;31mSyntaxError\u001b[0m\u001b[0;31m:\u001b[0m invalid syntax\n"
          ]
        }
      ]
    },
    {
      "cell_type": "code",
      "source": [
        "def proc(**a, **b):\n",
        "  return a,b"
      ],
      "metadata": {
        "colab": {
          "base_uri": "https://localhost:8080/",
          "height": 136
        },
        "id": "RCe1NlPJtJWj",
        "outputId": "8bc96e67-e713-4a80-cc99-31c6a10dd462"
      },
      "execution_count": null,
      "outputs": [
        {
          "output_type": "error",
          "ename": "SyntaxError",
          "evalue": "ignored",
          "traceback": [
            "\u001b[0;36m  File \u001b[0;32m\"<ipython-input-43-4a8845574f25>\"\u001b[0;36m, line \u001b[0;32m1\u001b[0m\n\u001b[0;31m    def proc(**a, **b):\u001b[0m\n\u001b[0m                  ^\u001b[0m\n\u001b[0;31mSyntaxError\u001b[0m\u001b[0;31m:\u001b[0m invalid syntax\n"
          ]
        }
      ]
    },
    {
      "cell_type": "markdown",
      "source": [
        "### return\n",
        "1. 함수의 결과값을 넘겨주는 목적으로 사용한다.\n",
        "2. 함수를 강제적으로 종료할 때 사용한다.\n",
        "3. 함수에서 return을 2번 이상 사용할 수 없다.\n",
        "4. 함수의 결과를 2개 이상으로 받고 싶다면 unpacking해서 받는다.\n"
      ],
      "metadata": {
        "id": "UT6fEROGtPDA"
      }
    },
    {
      "cell_type": "code",
      "source": [
        "def proc(*a):\n",
        "  total = 0\n",
        "  avg=0\n",
        "  for i in a:\n",
        "    total+=i\n",
        "\n",
        "  avg=total/len(a)\n",
        "  return (total,avg)"
      ],
      "metadata": {
        "id": "0diH--sryMRx"
      },
      "execution_count": null,
      "outputs": []
    },
    {
      "cell_type": "code",
      "source": [
        "#함수의 결과를 2개로 받고 싶을 때 unpacking을 사용하면 된다.\n",
        "total, avg=proc(1,2,3,4) #언팩킹\n",
        "print(total)\n",
        "print(avg)"
      ],
      "metadata": {
        "colab": {
          "base_uri": "https://localhost:8080/"
        },
        "id": "qUOIQfh_yaTI",
        "outputId": "29811711-cd55-4909-9b14-a651b6321855"
      },
      "execution_count": null,
      "outputs": [
        {
          "output_type": "stream",
          "name": "stdout",
          "text": [
            "10\n",
            "2.5\n"
          ]
        }
      ]
    },
    {
      "cell_type": "code",
      "source": [
        "def proc(**a):\n",
        "  total = 0\n",
        "  avg=0\n",
        "\n",
        " # for key in a:\n",
        " #   total += a[key]\n",
        " \n",
        "  for _, key,value in a.items():\n",
        "    total += value\n",
        "\n",
        "\n",
        "  avg=total/len(a)\n",
        "  return (total,avg)"
      ],
      "metadata": {
        "id": "FJDw7d0TynDH"
      },
      "execution_count": null,
      "outputs": []
    },
    {
      "cell_type": "code",
      "source": [
        "total, avg=proc(a=5,b=6,c=7,d=8)\n",
        "print(total)\n",
        "print(avg)"
      ],
      "metadata": {
        "colab": {
          "base_uri": "https://localhost:8080/"
        },
        "id": "Q4w2SBSCzfBH",
        "outputId": "91148cd2-5184-4dba-98c2-5566b60384c9"
      },
      "execution_count": null,
      "outputs": [
        {
          "output_type": "stream",
          "name": "stdout",
          "text": [
            "26\n",
            "6.5\n"
          ]
        }
      ]
    },
    {
      "cell_type": "markdown",
      "source": [
        "###overloading, overriding\n",
        "overloading  \n",
        "단일클래스에서 사용  \n",
        "함수의 이름은 같은데, 매개변수 개수 또는 매개변수의 타입이 달라야 한다.  \n",
        "python은 overload를 지원하지 않는다.\n",
        "overriding  \n",
        "상속클래스에서 사용\n"
      ],
      "metadata": {
        "id": "S4bHKx2Szjuf"
      }
    },
    {
      "cell_type": "code",
      "source": [
        "def add(a):\n",
        "  return a+1"
      ],
      "metadata": {
        "id": "770Mpq5T1-J2"
      },
      "execution_count": null,
      "outputs": []
    },
    {
      "cell_type": "code",
      "source": [
        "add(6)"
      ],
      "metadata": {
        "colab": {
          "base_uri": "https://localhost:8080/"
        },
        "id": "47L1A4iR1ZCG",
        "outputId": "2e137243-62a2-41e4-a2c7-c59576254aae"
      },
      "execution_count": null,
      "outputs": [
        {
          "output_type": "execute_result",
          "data": {
            "text/plain": [
              "7"
            ]
          },
          "metadata": {},
          "execution_count": 64
        }
      ]
    },
    {
      "cell_type": "code",
      "source": [
        "def add(a,b):\n",
        "  return a+b"
      ],
      "metadata": {
        "id": "Ai2yF6CI2CSW"
      },
      "execution_count": null,
      "outputs": []
    },
    {
      "cell_type": "code",
      "source": [
        "def add(a):\n",
        "  return a+1\n",
        "\n",
        "def add(a,b):\n",
        "  return a+b\n",
        "\n",
        "add(3) #에러\n",
        "add(5,6)"
      ],
      "metadata": {
        "colab": {
          "base_uri": "https://localhost:8080/",
          "height": 227
        },
        "id": "ftQ2kFBf2FGW",
        "outputId": "2e447df3-41dd-4116-cefc-8665ba457bfe"
      },
      "execution_count": null,
      "outputs": [
        {
          "output_type": "error",
          "ename": "TypeError",
          "evalue": "ignored",
          "traceback": [
            "\u001b[0;31m---------------------------------------------------------------------------\u001b[0m",
            "\u001b[0;31mTypeError\u001b[0m                                 Traceback (most recent call last)",
            "\u001b[0;32m<ipython-input-68-04bdf21038e0>\u001b[0m in \u001b[0;36m<module>\u001b[0;34m\u001b[0m\n\u001b[1;32m      5\u001b[0m   \u001b[0;32mreturn\u001b[0m \u001b[0ma\u001b[0m\u001b[0;34m+\u001b[0m\u001b[0mb\u001b[0m\u001b[0;34m\u001b[0m\u001b[0;34m\u001b[0m\u001b[0m\n\u001b[1;32m      6\u001b[0m \u001b[0;34m\u001b[0m\u001b[0m\n\u001b[0;32m----> 7\u001b[0;31m \u001b[0madd\u001b[0m\u001b[0;34m(\u001b[0m\u001b[0;36m3\u001b[0m\u001b[0;34m)\u001b[0m \u001b[0;31m#에러\u001b[0m\u001b[0;34m\u001b[0m\u001b[0;34m\u001b[0m\u001b[0m\n\u001b[0m\u001b[1;32m      8\u001b[0m \u001b[0madd\u001b[0m\u001b[0;34m(\u001b[0m\u001b[0;36m5\u001b[0m\u001b[0;34m,\u001b[0m\u001b[0;36m6\u001b[0m\u001b[0;34m)\u001b[0m\u001b[0;34m\u001b[0m\u001b[0;34m\u001b[0m\u001b[0m\n",
            "\u001b[0;31mTypeError\u001b[0m: add() missing 1 required positional argument: 'b'"
          ]
        }
      ]
    },
    {
      "cell_type": "code",
      "source": [
        "def add(a):\n",
        "  return a+1\n",
        "\n",
        "add(3) #에러아님\n",
        "\n",
        "def add(a,b):\n",
        "  return a+b\n",
        "\n",
        "add(5,6)"
      ],
      "metadata": {
        "colab": {
          "base_uri": "https://localhost:8080/"
        },
        "id": "ymL1vfXS2xOP",
        "outputId": "72d36f1f-e740-43cc-ec30-a51dbd979b79"
      },
      "execution_count": null,
      "outputs": [
        {
          "output_type": "execute_result",
          "data": {
            "text/plain": [
              "11"
            ]
          },
          "metadata": {},
          "execution_count": 69
        }
      ]
    },
    {
      "cell_type": "code",
      "source": [
        "def proc(a,b):\n",
        "  return a+b"
      ],
      "metadata": {
        "id": "YXec617p2cym"
      },
      "execution_count": null,
      "outputs": []
    },
    {
      "cell_type": "code",
      "source": [
        "type(proc)"
      ],
      "metadata": {
        "colab": {
          "base_uri": "https://localhost:8080/"
        },
        "id": "0wGfKBLi29mK",
        "outputId": "b4ff02ad-333c-499e-8a63-fea86a8d058f"
      },
      "execution_count": null,
      "outputs": [
        {
          "output_type": "execute_result",
          "data": {
            "text/plain": [
              "function"
            ]
          },
          "metadata": {},
          "execution_count": 71
        }
      ]
    },
    {
      "cell_type": "code",
      "source": [
        "dir(proc)"
      ],
      "metadata": {
        "colab": {
          "base_uri": "https://localhost:8080/"
        },
        "id": "nXYHwuXD3AlW",
        "outputId": "e65e94bb-8a31-482a-a747-8eb3a10d2fa5"
      },
      "execution_count": null,
      "outputs": [
        {
          "output_type": "execute_result",
          "data": {
            "text/plain": [
              "['__annotations__',\n",
              " '__call__',\n",
              " '__class__',\n",
              " '__closure__',\n",
              " '__code__',\n",
              " '__defaults__',\n",
              " '__delattr__',\n",
              " '__dict__',\n",
              " '__dir__',\n",
              " '__doc__',\n",
              " '__eq__',\n",
              " '__format__',\n",
              " '__ge__',\n",
              " '__get__',\n",
              " '__getattribute__',\n",
              " '__globals__',\n",
              " '__gt__',\n",
              " '__hash__',\n",
              " '__init__',\n",
              " '__init_subclass__',\n",
              " '__kwdefaults__',\n",
              " '__le__',\n",
              " '__lt__',\n",
              " '__module__',\n",
              " '__name__',\n",
              " '__ne__',\n",
              " '__new__',\n",
              " '__qualname__',\n",
              " '__reduce__',\n",
              " '__reduce_ex__',\n",
              " '__repr__',\n",
              " '__setattr__',\n",
              " '__sizeof__',\n",
              " '__str__',\n",
              " '__subclasshook__']"
            ]
          },
          "metadata": {},
          "execution_count": 106
        }
      ]
    },
    {
      "cell_type": "code",
      "source": [
        "print(__name__)"
      ],
      "metadata": {
        "colab": {
          "base_uri": "https://localhost:8080/"
        },
        "id": "7zFuuhz1IUz0",
        "outputId": "7cafe8af-71d7-4656-c38f-761625a5ba62"
      },
      "execution_count": null,
      "outputs": [
        {
          "output_type": "stream",
          "name": "stdout",
          "text": [
            "__main__\n"
          ]
        }
      ]
    },
    {
      "cell_type": "code",
      "source": [
        "type(proc.__name__)"
      ],
      "metadata": {
        "colab": {
          "base_uri": "https://localhost:8080/"
        },
        "id": "1zkWgCQe3HNW",
        "outputId": "bec8d96c-6ce4-4a77-b68d-0d14237b8233"
      },
      "execution_count": null,
      "outputs": [
        {
          "output_type": "execute_result",
          "data": {
            "text/plain": [
              "str"
            ]
          },
          "metadata": {},
          "execution_count": 73
        }
      ]
    },
    {
      "cell_type": "code",
      "source": [
        "#__name__은 함수이름을 알려준다.\n",
        "proc.__name__"
      ],
      "metadata": {
        "colab": {
          "base_uri": "https://localhost:8080/",
          "height": 35
        },
        "id": "jqDiPn7S3cLt",
        "outputId": "556f65d9-0974-4bce-ade1-39432f62cef5"
      },
      "execution_count": null,
      "outputs": [
        {
          "output_type": "execute_result",
          "data": {
            "text/plain": [
              "'proc'"
            ],
            "application/vnd.google.colaboratory.intrinsic+json": {
              "type": "string"
            }
          },
          "metadata": {},
          "execution_count": 74
        }
      ]
    },
    {
      "cell_type": "code",
      "source": [
        "#proc:함수를 실행\n",
        "#proc():함수식을 가져오라"
      ],
      "metadata": {
        "id": "tFxSH4Ej3iAG"
      },
      "execution_count": null,
      "outputs": []
    },
    {
      "cell_type": "code",
      "source": [
        "display=proc;"
      ],
      "metadata": {
        "id": "OkJshU623t0m"
      },
      "execution_count": null,
      "outputs": []
    },
    {
      "cell_type": "code",
      "source": [
        "#함수를 다른 함수에 재할당해도 __name__은 원래 이름을 알려준다.\n",
        "display.__name__"
      ],
      "metadata": {
        "colab": {
          "base_uri": "https://localhost:8080/",
          "height": 35
        },
        "id": "5AlRaIj24AmO",
        "outputId": "a484bab2-7595-4bf0-9789-19bea28a5b03"
      },
      "execution_count": null,
      "outputs": [
        {
          "output_type": "execute_result",
          "data": {
            "text/plain": [
              "'proc'"
            ],
            "application/vnd.google.colaboratory.intrinsic+json": {
              "type": "string"
            }
          },
          "metadata": {},
          "execution_count": 77
        }
      ]
    },
    {
      "cell_type": "code",
      "source": [
        "display #함수식 저장"
      ],
      "metadata": {
        "colab": {
          "base_uri": "https://localhost:8080/"
        },
        "id": "1TY4RHBi4CrF",
        "outputId": "35343bf4-1a5d-4786-d94a-8f881630e22b"
      },
      "execution_count": null,
      "outputs": [
        {
          "output_type": "execute_result",
          "data": {
            "text/plain": [
              "<function __main__.proc(a, b)>"
            ]
          },
          "metadata": {},
          "execution_count": 78
        }
      ]
    },
    {
      "cell_type": "code",
      "source": [
        "display(3,4)"
      ],
      "metadata": {
        "colab": {
          "base_uri": "https://localhost:8080/"
        },
        "id": "TL2fMQyt4OzZ",
        "outputId": "f96c51d4-57da-4dbb-a7ec-12ef867dfd9d"
      },
      "execution_count": null,
      "outputs": [
        {
          "output_type": "execute_result",
          "data": {
            "text/plain": [
              "7"
            ]
          },
          "metadata": {},
          "execution_count": 80
        }
      ]
    },
    {
      "cell_type": "markdown",
      "source": [
        "###내부함수, 외부함수"
      ],
      "metadata": {
        "id": "z6PJE8Wz4TQl"
      }
    },
    {
      "cell_type": "markdown",
      "source": [
        "python은 외부에서 함수 내부로 접근할 수 없다.  \n",
        "z는 함수내에서 할당되었으므로 함수 밖에서 호출할 수 없다."
      ],
      "metadata": {
        "id": "9wfUjc-z5p02"
      }
    },
    {
      "cell_type": "code",
      "source": [
        "def proc():\n",
        "  z=1"
      ],
      "metadata": {
        "id": "BwWsaZqp5JQP"
      },
      "execution_count": null,
      "outputs": []
    },
    {
      "cell_type": "markdown",
      "source": [
        "함수 내부에서는 외부에 접근할 수 있다."
      ],
      "metadata": {
        "id": "5j9CqSgD5MwN"
      }
    },
    {
      "cell_type": "code",
      "source": [
        "c=10\n",
        "def display():\n",
        "  print(c)"
      ],
      "metadata": {
        "id": "1VpRnk_H5YC-"
      },
      "execution_count": null,
      "outputs": []
    },
    {
      "cell_type": "code",
      "source": [
        "display()"
      ],
      "metadata": {
        "colab": {
          "base_uri": "https://localhost:8080/"
        },
        "id": "iWulRzoT5cHu",
        "outputId": "5b08c6b9-28cd-4fa3-9d36-943afe413ab7"
      },
      "execution_count": null,
      "outputs": [
        {
          "output_type": "stream",
          "name": "stdout",
          "text": [
            "10\n"
          ]
        }
      ]
    },
    {
      "cell_type": "markdown",
      "source": [
        "함수에서 외부의 값으로 접근할 수 있지만, 변경은 할 수 없다."
      ],
      "metadata": {
        "id": "xWYN_LGn6Jwd"
      }
    },
    {
      "cell_type": "code",
      "source": [
        "t=3\n",
        "def prn():\n",
        "  t=t+1\n",
        "  print(t)"
      ],
      "metadata": {
        "id": "R21y9fPU5d7N"
      },
      "execution_count": null,
      "outputs": []
    },
    {
      "cell_type": "code",
      "source": [
        "prn()"
      ],
      "metadata": {
        "colab": {
          "base_uri": "https://localhost:8080/",
          "height": 281
        },
        "id": "M4YSm1CK53dd",
        "outputId": "e114a02f-0624-4470-de81-595d14974dea"
      },
      "execution_count": null,
      "outputs": [
        {
          "output_type": "error",
          "ename": "UnboundLocalError",
          "evalue": "ignored",
          "traceback": [
            "\u001b[0;31m---------------------------------------------------------------------------\u001b[0m",
            "\u001b[0;31mUnboundLocalError\u001b[0m                         Traceback (most recent call last)",
            "\u001b[0;32m<ipython-input-88-9f4e808490c5>\u001b[0m in \u001b[0;36m<module>\u001b[0;34m\u001b[0m\n\u001b[0;32m----> 1\u001b[0;31m \u001b[0mprn\u001b[0m\u001b[0;34m(\u001b[0m\u001b[0;34m)\u001b[0m\u001b[0;34m\u001b[0m\u001b[0;34m\u001b[0m\u001b[0m\n\u001b[0m",
            "\u001b[0;32m<ipython-input-87-2252496f02db>\u001b[0m in \u001b[0;36mprn\u001b[0;34m()\u001b[0m\n\u001b[1;32m      1\u001b[0m \u001b[0mt\u001b[0m\u001b[0;34m=\u001b[0m\u001b[0;36m3\u001b[0m\u001b[0;34m\u001b[0m\u001b[0;34m\u001b[0m\u001b[0m\n\u001b[1;32m      2\u001b[0m \u001b[0;32mdef\u001b[0m \u001b[0mprn\u001b[0m\u001b[0;34m(\u001b[0m\u001b[0;34m)\u001b[0m\u001b[0;34m:\u001b[0m\u001b[0;34m\u001b[0m\u001b[0;34m\u001b[0m\u001b[0m\n\u001b[0;32m----> 3\u001b[0;31m   \u001b[0mt\u001b[0m\u001b[0;34m=\u001b[0m\u001b[0mt\u001b[0m\u001b[0;34m+\u001b[0m\u001b[0;36m1\u001b[0m\u001b[0;34m\u001b[0m\u001b[0;34m\u001b[0m\u001b[0m\n\u001b[0m\u001b[1;32m      4\u001b[0m   \u001b[0mprint\u001b[0m\u001b[0;34m(\u001b[0m\u001b[0mt\u001b[0m\u001b[0;34m)\u001b[0m\u001b[0;34m\u001b[0m\u001b[0;34m\u001b[0m\u001b[0m\n",
            "\u001b[0;31mUnboundLocalError\u001b[0m: local variable 't' referenced before assignment"
          ]
        }
      ]
    },
    {
      "cell_type": "markdown",
      "source": [
        "###global\n",
        "내부와 외부의 객체를 동기화(sync)시켜준다.  \n",
        "내부에 있는 변수를 외부에서 변경을 원할 때 사용한다.  \n",
        "사용하기 편하지만 언제 바뀌었는지 흐름을 파악하기 힘들기 때문에 남용은 하지 않는다."
      ],
      "metadata": {
        "id": "GfxseVe66nPV"
      }
    },
    {
      "cell_type": "code",
      "source": [
        "t=3\n",
        "def prn():\n",
        "  global t\n",
        "  t=t+1\n",
        "  print(t)"
      ],
      "metadata": {
        "id": "YLvUd2Hi54ZV"
      },
      "execution_count": null,
      "outputs": []
    },
    {
      "cell_type": "code",
      "source": [
        "prn()"
      ],
      "metadata": {
        "colab": {
          "base_uri": "https://localhost:8080/"
        },
        "id": "xslh9Ynd6fS1",
        "outputId": "3a32b41a-460a-4c4b-a4c1-43b5eeb52ffc"
      },
      "execution_count": null,
      "outputs": [
        {
          "output_type": "stream",
          "name": "stdout",
          "text": [
            "4\n"
          ]
        }
      ]
    },
    {
      "cell_type": "code",
      "source": [
        "#외부의 자원도 값이 변경이 되어서 출력이 된다.\n",
        "t"
      ],
      "metadata": {
        "colab": {
          "base_uri": "https://localhost:8080/"
        },
        "id": "8b6ekk-E7ESF",
        "outputId": "f79c2bec-d578-490a-fd81-a0ce8d837475"
      },
      "execution_count": null,
      "outputs": [
        {
          "output_type": "execute_result",
          "data": {
            "text/plain": [
              "4"
            ]
          },
          "metadata": {},
          "execution_count": 98
        }
      ]
    },
    {
      "cell_type": "markdown",
      "source": [
        "###중첩함수\n",
        "noncal은 함수 안에 있는 영역에 동기화(sync)한다."
      ],
      "metadata": {
        "id": "ZfhP0OQK7Gml"
      }
    },
    {
      "cell_type": "code",
      "source": [
        "k=1\n",
        "def outer():\n",
        "  m=1\n",
        "  def inner():\n",
        "    global k #k는 global\n",
        "    k=k+1\n",
        "    nonlocal m #m은 nonlocal\n",
        "    m=m+1\n",
        "    return k,m\n",
        "  return inner()"
      ],
      "metadata": {
        "id": "s5Def4Br8GH0"
      },
      "execution_count": null,
      "outputs": []
    },
    {
      "cell_type": "code",
      "source": [
        "outer()"
      ],
      "metadata": {
        "colab": {
          "base_uri": "https://localhost:8080/"
        },
        "id": "_VDfwYcE8QtI",
        "outputId": "4af937b3-f8d0-4b4d-b3d4-2abc7e47b27b"
      },
      "execution_count": null,
      "outputs": [
        {
          "output_type": "execute_result",
          "data": {
            "text/plain": [
              "(3, 2)"
            ]
          },
          "metadata": {},
          "execution_count": 108
        }
      ]
    },
    {
      "cell_type": "markdown",
      "source": [
        "###모듈"
      ],
      "metadata": {
        "id": "_dNt2ynnInpq"
      }
    },
    {
      "cell_type": "code",
      "source": [
        "import sys \n",
        "\n",
        "#사전형\n",
        "print(type(sys.modules))\n",
        "\n",
        "#가져온 모듈 이름들을 출력한다.\n",
        "print('\\n'.join(sys.modules.keys()))"
      ],
      "metadata": {
        "colab": {
          "base_uri": "https://localhost:8080/"
        },
        "id": "8OyG-ttj8TgE",
        "outputId": "369014ea-41e3-4af4-ef72-2d3f71612a58"
      },
      "execution_count": null,
      "outputs": [
        {
          "output_type": "stream",
          "name": "stdout",
          "text": [
            "<class 'dict'>\n",
            "sys\n",
            "builtins\n",
            "_frozen_importlib\n",
            "_imp\n",
            "_warnings\n",
            "_io\n",
            "marshal\n",
            "posix\n",
            "_frozen_importlib_external\n",
            "_thread\n",
            "_weakref\n",
            "time\n",
            "zipimport\n",
            "_codecs\n",
            "codecs\n",
            "encodings.aliases\n",
            "encodings\n",
            "encodings.utf_8\n",
            "_signal\n",
            "__main__\n",
            "encodings.latin_1\n",
            "_abc\n",
            "abc\n",
            "io\n",
            "types\n",
            "enum\n",
            "_sre\n",
            "sre_constants\n",
            "sre_parse\n",
            "sre_compile\n",
            "_collections_abc\n",
            "_operator\n",
            "operator\n",
            "keyword\n",
            "_heapq\n",
            "heapq\n",
            "itertools\n",
            "reprlib\n",
            "_collections\n",
            "collections\n",
            "_functools\n",
            "functools\n",
            "_locale\n",
            "copyreg\n",
            "re\n",
            "warnings\n",
            "_stat\n",
            "stat\n",
            "genericpath\n",
            "posixpath\n",
            "os.path\n",
            "os\n",
            "_sitebuiltins\n",
            "_bootlocale\n",
            "importlib._bootstrap\n",
            "importlib._bootstrap_external\n",
            "importlib\n",
            "importlib.machinery\n",
            "importlib.abc\n",
            "contextlib\n",
            "importlib.util\n",
            "google\n",
            "google.cloud\n",
            "google.logging\n",
            "mpl_toolkits\n",
            "sphinxcontrib\n",
            "sitecustomize\n",
            "site\n",
            "_weakrefset\n",
            "weakref\n",
            "pkgutil\n",
            "runpy\n",
            "ipykernel._version\n",
            "__future__\n",
            "_json\n",
            "json.scanner\n",
            "json.decoder\n",
            "json.encoder\n",
            "json\n",
            "errno\n",
            "signal\n",
            "threading\n",
            "_posixsubprocess\n",
            "select\n",
            "collections.abc\n",
            "math\n",
            "selectors\n",
            "subprocess\n",
            "IPython.core\n",
            "IPython.core.getipython\n",
            "IPython.core.release\n",
            "atexit\n",
            "copy\n",
            "fnmatch\n",
            "glob\n",
            "token\n",
            "tokenize\n",
            "linecache\n",
            "traceback\n",
            "_string\n",
            "string\n",
            "logging\n",
            "zlib\n",
            "_compression\n",
            "_bz2\n",
            "bz2\n",
            "_lzma\n",
            "lzma\n",
            "pwd\n",
            "grp\n",
            "shutil\n",
            "_ast\n",
            "ast\n",
            "_opcode\n",
            "opcode\n",
            "dis\n",
            "inspect\n",
            "traitlets.utils\n",
            "traitlets.utils.getargspec\n",
            "traitlets.utils.importstring\n",
            "traitlets.utils.sentinel\n",
            "traitlets.utils.bunch\n",
            "traitlets.utils.descriptions\n",
            "traitlets.traitlets\n",
            "traitlets.utils.decorators\n",
            "traitlets._version\n",
            "traitlets\n",
            "pprint\n",
            "locale\n",
            "gettext\n",
            "argparse\n",
            "traitlets.config.loader\n",
            "textwrap\n",
            "traitlets.utils.text\n",
            "traitlets.config.configurable\n",
            "traitlets.config.application\n",
            "traitlets.config\n",
            "platform\n",
            "sysconfig\n",
            "urllib\n",
            "urllib.parse\n",
            "_sysconfigdata__x86_64-linux-gnu\n",
            "pydoc\n",
            "bdb\n",
            "IPython.utils\n",
            "IPython.utils.ipstruct\n",
            "IPython.utils.coloransi\n",
            "pygments\n",
            "IPython.utils.colorable\n",
            "IPython.utils.PyColorize\n",
            "IPython.utils.encoding\n",
            "IPython.utils.py3compat\n",
            "IPython.core.excolors\n",
            "IPython.testing\n",
            "IPython.testing.skipdoctest\n",
            "cmd\n",
            "codeop\n",
            "code\n",
            "pdb\n",
            "IPython.core.debugger\n",
            "IPython.core.display_trap\n",
            "_bisect\n",
            "bisect\n",
            "_sha512\n",
            "_random\n",
            "random\n",
            "pexpect.exceptions\n",
            "pexpect.utils\n",
            "pexpect.expect\n",
            "termios\n",
            "tty\n",
            "pty\n",
            "fcntl\n",
            "resource\n",
            "_struct\n",
            "struct\n",
            "ptyprocess.util\n",
            "ptyprocess.ptyprocess\n",
            "ptyprocess\n",
            "pexpect.spawnbase\n",
            "pexpect.pty_spawn\n",
            "pexpect.run\n",
            "pexpect\n",
            "shlex\n",
            "IPython.utils._process_common\n",
            "IPython.utils._process_posix\n",
            "IPython.utils.process\n",
            "IPython.utils.decorators\n",
            "IPython.utils.path\n",
            "IPython.utils.data\n",
            "IPython.utils.terminal\n",
            "IPython.core.ultratb\n",
            "IPython.utils._sysinfo\n",
            "IPython.utils.sysinfo\n",
            "IPython.core.crashhandler\n",
            "tempfile\n",
            "IPython.utils.importstring\n",
            "IPython.paths\n",
            "IPython.core.profiledir\n",
            "IPython.core.application\n",
            "IPython.terminal\n",
            "_hashlib\n",
            "_blake2\n",
            "_sha3\n",
            "hashlib\n",
            "IPython.core.compilerop\n",
            "IPython.core.error\n",
            "ntpath\n",
            "pathlib\n",
            "IPython.utils.text\n",
            "IPython.core.magic_arguments\n",
            "getopt\n",
            "binascii\n",
            "mimetypes\n",
            "IPython.core.display\n",
            "IPython.core.page\n",
            "getpass\n",
            "IPython.lib.security\n",
            "IPython.lib\n",
            "_datetime\n",
            "datetime\n",
            "IPython.lib.pretty\n",
            "IPython.utils.openpy\n",
            "IPython.utils.dir2\n",
            "IPython.utils.wildcard\n",
            "pygments.lexers._mapping\n",
            "pygments.modeline\n",
            "pygments.plugin\n",
            "pygments.util\n",
            "pygments.lexers\n",
            "pygments.filter\n",
            "pygments.token\n",
            "pygments.filters\n",
            "pygments.regexopt\n",
            "pygments.lexer\n",
            "pygments.unistring\n",
            "pygments.lexers.python\n",
            "pygments.formatters._mapping\n",
            "pygments.formatters\n",
            "pygments.styles\n",
            "pygments.formatter\n",
            "pygments.formatters.html\n",
            "IPython.core.oinspect\n",
            "typing.io\n",
            "typing.re\n",
            "typing\n",
            "IPython.core.inputtransformer2\n",
            "decorator\n",
            "IPython.core.magic\n",
            "concurrent\n",
            "concurrent.futures._base\n",
            "concurrent.futures\n",
            "_socket\n",
            "socket\n",
            "_ssl\n",
            "base64\n",
            "ssl\n",
            "asyncio.constants\n",
            "asyncio.format_helpers\n",
            "asyncio.base_futures\n",
            "asyncio.log\n",
            "asyncio.coroutines\n",
            "_contextvars\n",
            "contextvars\n",
            "asyncio.exceptions\n",
            "asyncio.base_tasks\n",
            "_asyncio\n",
            "asyncio.events\n",
            "asyncio.futures\n",
            "asyncio.protocols\n",
            "asyncio.transports\n",
            "asyncio.sslproto\n",
            "asyncio.locks\n",
            "asyncio.tasks\n",
            "asyncio.staggered\n",
            "asyncio.trsock\n",
            "asyncio.base_events\n",
            "asyncio.runners\n",
            "asyncio.queues\n",
            "asyncio.streams\n",
            "asyncio.subprocess\n",
            "asyncio.base_subprocess\n",
            "asyncio.selector_events\n",
            "asyncio.unix_events\n",
            "asyncio\n",
            "_compat_pickle\n",
            "_pickle\n",
            "pickle\n",
            "pickleshare\n",
            "IPython.core.autocall\n",
            "IPython.core.macro\n",
            "IPython.core.splitinput\n",
            "IPython.core.prefilter\n",
            "IPython.core.alias\n",
            "IPython.core.builtin_trap\n",
            "backcall.backcall\n",
            "backcall\n",
            "IPython.core.events\n",
            "IPython.core.displayhook\n",
            "IPython.core.displaypub\n",
            "IPython.core.extensions\n",
            "IPython.utils.sentinel\n",
            "IPython.core.formatters\n",
            "_sqlite3\n",
            "sqlite3.dbapi2\n",
            "sqlite3\n",
            "IPython.core.history\n",
            "IPython.core.logger\n",
            "IPython.core.payload\n",
            "IPython.core.usage\n",
            "html.entities\n",
            "html\n",
            "IPython.lib.display\n",
            "IPython.display\n",
            "IPython.utils.capture\n",
            "IPython.utils.io\n",
            "IPython.core.hooks\n",
            "IPython.utils.strdispatch\n",
            "IPython.utils.syspathcontext\n",
            "IPython.utils.tempdir\n",
            "IPython.utils.contexts\n",
            "IPython.core.async_helpers\n",
            "IPython.core.interactiveshell\n",
            "six\n",
            "six.moves\n",
            "_queue\n",
            "queue\n",
            "six.moves.queue\n",
            "wcwidth.table_wide\n",
            "wcwidth.table_zero\n",
            "wcwidth.unicode_versions\n",
            "wcwidth.wcwidth\n",
            "wcwidth\n",
            "prompt_toolkit.cache\n",
            "prompt_toolkit.utils\n",
            "prompt_toolkit.log\n",
            "prompt_toolkit.eventloop.base\n",
            "prompt_toolkit.eventloop.defaults\n",
            "prompt_toolkit.eventloop.context\n",
            "prompt_toolkit.eventloop.future\n",
            "prompt_toolkit.eventloop.coroutine\n",
            "prompt_toolkit.eventloop.async_generator\n",
            "prompt_toolkit.eventloop.event\n",
            "prompt_toolkit.eventloop\n",
            "prompt_toolkit.application.current\n",
            "prompt_toolkit.application.run_in_terminal\n",
            "prompt_toolkit.enums\n",
            "prompt_toolkit.filters.base\n",
            "prompt_toolkit.filters.app\n",
            "prompt_toolkit.filters.cli\n",
            "prompt_toolkit.filters.utils\n",
            "prompt_toolkit.filters\n",
            "prompt_toolkit.auto_suggest\n",
            "prompt_toolkit.selection\n",
            "prompt_toolkit.clipboard.base\n",
            "prompt_toolkit.clipboard.in_memory\n",
            "prompt_toolkit.clipboard\n",
            "prompt_toolkit.completion.base\n",
            "prompt_toolkit.completion.filesystem\n",
            "prompt_toolkit.document\n",
            "prompt_toolkit.completion.word_completer\n",
            "prompt_toolkit.completion.fuzzy_completer\n",
            "prompt_toolkit.completion\n",
            "prompt_toolkit.history\n",
            "prompt_toolkit.keys\n",
            "prompt_toolkit.key_binding.key_bindings\n",
            "prompt_toolkit.key_binding\n",
            "prompt_toolkit.key_binding.vi_state\n",
            "prompt_toolkit.search\n",
            "prompt_toolkit.validation\n",
            "prompt_toolkit.buffer\n",
            "prompt_toolkit.input.base\n",
            "prompt_toolkit.input.defaults\n",
            "prompt_toolkit.input\n",
            "prompt_toolkit.input.typeahead\n",
            "prompt_toolkit.key_binding.bindings\n",
            "prompt_toolkit.key_binding.bindings.scroll\n",
            "prompt_toolkit.key_binding.bindings.page_navigation\n",
            "prompt_toolkit.key_binding.key_processor\n",
            "prompt_toolkit.key_binding.bindings.completion\n",
            "prompt_toolkit.key_binding.bindings.named_commands\n",
            "prompt_toolkit.key_binding.bindings.basic\n",
            "prompt_toolkit.key_binding.bindings.cpr\n",
            "prompt_toolkit.key_binding.bindings.emacs\n",
            "prompt_toolkit.layout.screen\n",
            "prompt_toolkit.output.base\n",
            "prompt_toolkit.output.color_depth\n",
            "prompt_toolkit.output.defaults\n",
            "prompt_toolkit.output\n",
            "array\n",
            "prompt_toolkit.styles.base\n",
            "prompt_toolkit.styles.named_colors\n",
            "prompt_toolkit.styles.style\n",
            "prompt_toolkit.styles.defaults\n",
            "prompt_toolkit.styles.pygments\n",
            "colorsys\n",
            "prompt_toolkit.styles.style_transformation\n",
            "prompt_toolkit.styles\n",
            "prompt_toolkit.output.vt100\n",
            "prompt_toolkit.formatted_text.base\n",
            "prompt_toolkit.formatted_text.ansi\n",
            "xml\n",
            "xml.dom.domreg\n",
            "xml.dom\n",
            "xml.dom.minicompat\n",
            "xml.dom.NodeFilter\n",
            "xml.dom.xmlbuilder\n",
            "xml.dom.minidom\n",
            "prompt_toolkit.formatted_text.html\n",
            "prompt_toolkit.formatted_text.pygments\n",
            "prompt_toolkit.formatted_text.utils\n",
            "prompt_toolkit.formatted_text\n",
            "prompt_toolkit.mouse_events\n",
            "prompt_toolkit.lexers.base\n",
            "prompt_toolkit.lexers.pygments\n",
            "prompt_toolkit.lexers\n",
            "prompt_toolkit.layout.utils\n",
            "prompt_toolkit.layout.processors\n",
            "prompt_toolkit.layout.controls\n",
            "prompt_toolkit.layout.dimension\n",
            "prompt_toolkit.layout.margins\n",
            "prompt_toolkit.layout.containers\n",
            "prompt_toolkit.layout.layout\n",
            "prompt_toolkit.layout.menus\n",
            "prompt_toolkit.layout\n",
            "prompt_toolkit.layout.mouse_handlers\n",
            "prompt_toolkit.renderer\n",
            "prompt_toolkit.key_binding.bindings.mouse\n",
            "prompt_toolkit.input.ansi_escape_sequences\n",
            "prompt_toolkit.input.vt100_parser\n",
            "prompt_toolkit.key_binding.digraphs\n",
            "prompt_toolkit.key_binding.bindings.vi\n",
            "prompt_toolkit.key_binding.defaults\n",
            "prompt_toolkit.key_binding.emacs_state\n",
            "prompt_toolkit.layout.dummy\n",
            "prompt_toolkit.application.application\n",
            "prompt_toolkit.application.dummy\n",
            "prompt_toolkit.application\n",
            "prompt_toolkit.key_binding.bindings.focus\n",
            "prompt_toolkit.widgets.toolbars\n",
            "prompt_toolkit.widgets.base\n",
            "prompt_toolkit.widgets.dialogs\n",
            "prompt_toolkit.widgets.menus\n",
            "prompt_toolkit.widgets\n",
            "prompt_toolkit.shortcuts.dialogs\n",
            "prompt_toolkit.shortcuts.progress_bar.formatters\n",
            "prompt_toolkit.shortcuts.progress_bar.base\n",
            "prompt_toolkit.shortcuts.progress_bar\n",
            "prompt_toolkit.key_binding.bindings.auto_suggest\n",
            "prompt_toolkit.key_binding.bindings.open_in_editor\n",
            "prompt_toolkit.shortcuts.prompt\n",
            "prompt_toolkit.shortcuts.utils\n",
            "prompt_toolkit.shortcuts\n",
            "prompt_toolkit\n",
            "prompt_toolkit.patch_stdout\n",
            "pygments.style\n",
            "unicodedata\n",
            "IPython.core.latex_symbols\n",
            "IPython.utils.generics\n",
            "IPython.core.completer\n",
            "IPython.terminal.ptutils\n",
            "IPython.terminal.shortcuts\n",
            "IPython.terminal.debugger\n",
            "IPython.lib.clipboard\n",
            "IPython.terminal.magics\n",
            "IPython.terminal.pt_inputhooks\n",
            "IPython.terminal.prompts\n",
            "IPython.terminal.interactiveshell\n",
            "IPython.core.magics.auto\n",
            "IPython.core.magics.basic\n",
            "email\n",
            "http\n",
            "email.errors\n",
            "email.quoprimime\n",
            "email.base64mime\n",
            "quopri\n",
            "email.encoders\n",
            "email.charset\n",
            "email.header\n",
            "calendar\n",
            "email._parseaddr\n",
            "email.utils\n",
            "email._policybase\n",
            "email.feedparser\n",
            "email.parser\n",
            "uu\n",
            "email._encoded_words\n",
            "email.iterators\n",
            "email.message\n",
            "http.client\n",
            "urllib.response\n",
            "urllib.error\n",
            "urllib.request\n",
            "IPython.core.magics.code\n",
            "IPython.core.magics.config\n",
            "IPython.core.magics.display\n",
            "gc\n",
            "timeit\n",
            "_lsprof\n",
            "profile\n",
            "cProfile\n",
            "pstats\n",
            "IPython.utils.module_paths\n",
            "IPython.utils.timing\n",
            "IPython.core.magics.execution\n",
            "IPython.core.magics.extension\n",
            "IPython.core.magics.history\n",
            "IPython.core.magics.logging\n",
            "IPython.core.magics.namespace\n",
            "IPython.core.magics.osm\n",
            "IPython.core.magics.packaging\n",
            "IPython.core.pylabtools\n",
            "IPython.core.magics.pylab\n",
            "IPython.lib.backgroundjobs\n",
            "IPython.core.magics.script\n",
            "IPython.core.magics\n",
            "IPython.core.shellapp\n",
            "IPython.extensions\n",
            "IPython.extensions.storemagic\n",
            "IPython.terminal.ipapp\n",
            "IPython.terminal.embed\n",
            "IPython.utils.frame\n",
            "IPython\n",
            "ipython_genutils._version\n",
            "ipython_genutils\n",
            "ipython_genutils.encoding\n",
            "ipython_genutils.py3compat\n",
            "ipython_genutils.path\n",
            "jupyter_client._version\n",
            "_ctypes\n",
            "ctypes._endian\n",
            "ctypes\n",
            "zmq.backend.select\n",
            "_cython_0_29_32\n",
            "cython_runtime\n",
            "zmq.error\n",
            "zmq.backend.cython.context\n",
            "zmq.backend.cython.message\n",
            "zmq.constants\n",
            "zmq.backend.cython.socket\n",
            "zmq.backend.cython._device\n",
            "zmq.backend.cython._poll\n",
            "zmq.backend.cython._proxy_steerable\n",
            "zmq.backend.cython._version\n",
            "zmq.backend.cython.error\n",
            "zmq.backend.cython.utils\n",
            "zmq.backend.cython\n",
            "zmq.backend\n",
            "zmq.sugar.attrsettr\n",
            "zmq._typing\n",
            "zmq.utils\n",
            "zmq.utils.jsonapi\n",
            "zmq.sugar.poll\n",
            "zmq.sugar.socket\n",
            "zmq.sugar.context\n",
            "zmq.sugar.frame\n",
            "zmq.sugar.tracker\n",
            "zmq.sugar.version\n",
            "zmq.sugar.stopwatch\n",
            "zmq.sugar\n",
            "zmq\n",
            "jupyter_client.localinterfaces\n",
            "jupyter_core.version\n",
            "jupyter_core\n",
            "jupyter_core.paths\n",
            "jupyter_client.utils\n",
            "jupyter_client.connect\n",
            "traitlets.log\n",
            "jupyter_client.launcher\n",
            "jupyter_client.channelsabc\n",
            "jupyter_client.channels\n",
            "jupyter_client.clientabc\n",
            "jupyter_client.client\n",
            "jupyter_client.kernelspec\n",
            "jupyter_client.managerabc\n",
            "jupyter_client.manager\n",
            "jupyter_client.blocking.channels\n",
            "jupyter_client.blocking.client\n",
            "jupyter_client.blocking\n",
            "zmq._future\n",
            "zmq.asyncio\n",
            "jupyter_client.asynchronous.channels\n",
            "jupyter_client.asynchronous.client\n",
            "jupyter_client.asynchronous\n",
            "uuid\n",
            "jupyter_client.multikernelmanager\n",
            "jupyter_client\n",
            "ipykernel.connect\n",
            "ipykernel\n",
            "tornado\n",
            "numbers\n",
            "logging.handlers\n",
            "tornado.speedups\n",
            "tornado.util\n",
            "tornado.escape\n",
            "_curses\n",
            "curses\n",
            "tornado.log\n",
            "tornado.concurrent\n",
            "tornado.ioloop\n",
            "tornado.platform\n",
            "tornado.gen\n",
            "tornado.platform.asyncio\n",
            "zmq.eventloop.ioloop\n",
            "zmq.eventloop\n",
            "zmq.eventloop.zmqstream\n",
            "ipython_genutils.importstring\n",
            "imp\n",
            "hmac\n",
            "dateutil._version\n",
            "dateutil\n",
            "_decimal\n",
            "decimal\n",
            "dateutil._common\n",
            "dateutil.relativedelta\n",
            "dateutil.tz._common\n",
            "dateutil.tz._factories\n",
            "dateutil.tz.tz\n",
            "dateutil.tz\n",
            "dateutil.parser._parser\n",
            "dateutil.parser.isoparser\n",
            "dateutil.parser\n",
            "_strptime\n",
            "jupyter_client.jsonutil\n",
            "jupyter_client.adapter\n",
            "jupyter_client.session\n",
            "ipykernel.iostream\n",
            "ipykernel.heartbeat\n",
            "IPython.utils.tokenutil\n",
            "tornado.locks\n",
            "tornado.queues\n",
            "ipykernel.jsonutil\n",
            "ipykernel.kernelbase\n",
            "ipykernel.comm.comm\n",
            "ipykernel.comm.manager\n",
            "ipykernel.comm\n",
            "IPython.core.payloadpage\n",
            "ipykernel.displayhook\n",
            "ipykernel.zmqshell\n",
            "distutils\n",
            "distutils.version\n",
            "ipykernel.eventloops\n",
            "ipykernel.ipkernel\n",
            "ipykernel.parentpoller\n",
            "ipykernel.kernelapp\n",
            "google.colab._import_hooks._altair\n",
            "google.colab._import_hooks._bokeh\n",
            "google.colab._import_hooks._client_info\n",
            "google.colab._import_hooks._cv2\n",
            "google.colab._import_hooks._pydrive\n",
            "google.colab._import_hooks\n",
            "google.colab._import_magics\n",
            "google.colab._installation_commands\n",
            "google.colab._interactive_table_helper\n",
            "IPython.utils.traitlets\n",
            "google.colab.data_table\n",
            "google.colab._ipython\n",
            "google.colab.errors\n",
            "google.colab._message\n",
            "google.colab.output._js\n",
            "google.colab.output._publish\n",
            "google.colab.output._js_builder\n",
            "google.colab.output._area\n",
            "google.colab.output._tags\n",
            "google.colab.output._util\n",
            "google.colab.output._widgets\n",
            "google.colab.output\n",
            "google.colab._interactive_table_hint_button\n",
            "google.colab._reprs\n",
            "google.colab._shell_customizations\n",
            "google.colab._system_commands\n",
            "google.colab._tensorflow_magics\n",
            "socketserver\n",
            "http.server\n",
            "google.colab.files\n",
            "google.colab.auth\n",
            "pexpect.popen_spawn\n",
            "psutil._common\n",
            "psutil._compat\n",
            "psutil._exceptions\n",
            "psutil._psposix\n",
            "psutil._psutil_linux\n",
            "psutil._psutil_posix\n",
            "psutil._pslinux\n",
            "psutil\n",
            "google.colab.drive\n",
            "gzip\n",
            "socks\n",
            "httplib2.iri2uri\n",
            "importlib.resources\n",
            "certifi.core\n",
            "certifi\n",
            "httplib2.certs\n",
            "httplib2\n",
            "google.colab.runtime\n",
            "google.colab.snippets\n",
            "google.colab.widgets._widget\n",
            "google.colab.widgets._grid\n",
            "google.colab.widgets._tabbar\n",
            "google.colab.widgets\n",
            "google.colab\n",
            "google.colab._history\n",
            "astor.op_util\n",
            "astor.node_util\n",
            "astor.string_repr\n",
            "astor.source_repr\n",
            "astor.code_gen\n",
            "astor.file_util\n",
            "astor.tree_walk\n",
            "astor\n",
            "google.colab._inspector\n",
            "google.colab._pip\n",
            "IPython.core.inputtransformer\n",
            "IPython.core.inputsplitter\n",
            "google.colab._shell\n",
            "google.colab._kernel\n",
            "faulthandler\n",
            "ipykernel.codeutil\n",
            "ipykernel.pickleutil\n",
            "ipykernel.serialize\n",
            "ipykernel.datapub\n",
            "IPython.core.completerlib\n",
            "numpy._globals\n",
            "numpy.__config__\n",
            "numpy._version\n",
            "numpy._distributor_init\n",
            "numpy.version\n",
            "numpy.core._multiarray_umath\n",
            "numpy.compat._inspect\n",
            "numpy.compat.py3k\n",
            "numpy.compat\n",
            "numpy.core.overrides\n",
            "numpy.core.multiarray\n",
            "numpy.core.umath\n",
            "numpy.core._string_helpers\n",
            "numpy.core._dtype\n",
            "numpy.core._type_aliases\n",
            "numpy.core.numerictypes\n",
            "numpy.core._exceptions\n",
            "numpy.core._methods\n",
            "numpy.core.fromnumeric\n",
            "numpy.core.shape_base\n",
            "numpy.core._ufunc_config\n",
            "numpy.core.arrayprint\n",
            "numpy.core._asarray\n",
            "numpy.core.numeric\n",
            "numpy.core.defchararray\n",
            "numpy.core.records\n",
            "numpy.core.memmap\n",
            "numpy.core.function_base\n",
            "numpy.core.machar\n",
            "numpy.core.getlimits\n",
            "numpy.core.einsumfunc\n",
            "numpy.core._multiarray_tests\n",
            "numpy.core._add_newdocs\n",
            "numpy.core._add_newdocs_scalars\n",
            "numpy.core._dtype_ctypes\n",
            "numpy.core._internal\n",
            "numpy._pytesttester\n",
            "numpy.core\n",
            "numpy.lib.mixins\n",
            "numpy.lib.ufunclike\n",
            "numpy.lib.type_check\n",
            "numpy.lib.scimath\n",
            "numpy.lib.stride_tricks\n",
            "numpy.lib.twodim_base\n",
            "numpy.linalg.lapack_lite\n",
            "numpy.linalg._umath_linalg\n",
            "numpy.linalg.linalg\n",
            "numpy.linalg\n",
            "numpy.matrixlib.defmatrix\n",
            "numpy.matrixlib\n",
            "numpy.lib.histograms\n",
            "numpy.lib.function_base\n",
            "numpy.lib.index_tricks\n",
            "numpy.lib.nanfunctions\n",
            "numpy.lib.shape_base\n",
            "numpy.lib.polynomial\n",
            "numpy.lib.utils\n",
            "numpy.lib.arraysetops\n",
            "numpy.lib.format\n",
            "numpy.lib._datasource\n",
            "numpy.lib._iotools\n",
            "numpy.lib.npyio\n",
            "numpy.lib.arrayterator\n",
            "numpy.lib.arraypad\n",
            "numpy.lib._version\n",
            "numpy.lib\n",
            "numpy.fft._pocketfft_internal\n",
            "numpy.fft._pocketfft\n",
            "numpy.fft.helper\n",
            "numpy.fft\n",
            "numpy.polynomial.polyutils\n",
            "numpy.polynomial._polybase\n",
            "numpy.polynomial.polynomial\n",
            "numpy.polynomial.chebyshev\n",
            "numpy.polynomial.legendre\n",
            "numpy.polynomial.hermite\n",
            "numpy.polynomial.hermite_e\n",
            "numpy.polynomial.laguerre\n",
            "numpy.polynomial\n",
            "_cython_0_29_24\n",
            "numpy.random._common\n",
            "secrets\n",
            "numpy.random.bit_generator\n",
            "numpy.random._bounded_integers\n",
            "numpy.random._mt19937\n",
            "numpy.random.mtrand\n",
            "numpy.random._philox\n",
            "numpy.random._pcg64\n",
            "numpy.random._sfc64\n",
            "numpy.random._generator\n",
            "numpy.random._pickle\n",
            "numpy.random\n",
            "numpy.ctypeslib\n",
            "numpy.ma.core\n",
            "numpy.ma.extras\n",
            "numpy.ma\n",
            "numpy\n",
            "matplotlib.cbook.deprecation\n",
            "matplotlib.cbook\n",
            "pyparsing.util\n",
            "pyparsing.unicode\n",
            "pyparsing.exceptions\n",
            "pyparsing.actions\n",
            "pyparsing.results\n",
            "pyparsing.core\n",
            "pyparsing.helpers\n",
            "pyparsing.testing\n",
            "pyparsing.common\n",
            "pyparsing\n",
            "matplotlib.fontconfig_pattern\n",
            "matplotlib.docstring\n",
            "matplotlib._color_data\n",
            "matplotlib.colors\n",
            "cycler\n",
            "matplotlib.rcsetup\n",
            "matplotlib._version\n",
            "matplotlib.ft2font\n",
            "kiwisolver._cext\n",
            "kiwisolver\n",
            "matplotlib\n",
            "matplotlib._path\n",
            "matplotlib.path\n",
            "matplotlib.transforms\n",
            "matplotlib.artist\n",
            "matplotlib._cm\n",
            "matplotlib._cm_listed\n",
            "matplotlib.cm\n",
            "matplotlib.markers\n",
            "matplotlib.lines\n",
            "matplotlib.collections\n",
            "matplotlib.ticker\n",
            "matplotlib._mathtext_data\n",
            "matplotlib.afm\n",
            "matplotlib.font_manager\n",
            "matplotlib.bezier\n",
            "matplotlib.patches\n",
            "matplotlib._text_layout\n",
            "matplotlib.dviread\n",
            "matplotlib.mathtext\n",
            "matplotlib.textpath\n",
            "matplotlib.text\n",
            "matplotlib.texmanager\n",
            "matplotlib.blocking_input\n",
            "matplotlib.contour\n",
            "matplotlib._pylab_helpers\n",
            "matplotlib.tight_layout\n",
            "matplotlib._layoutbox\n",
            "matplotlib.gridspec\n",
            "matplotlib._constrained_layout\n",
            "matplotlib.colorbar\n",
            "matplotlib.backend_tools\n",
            "matplotlib.tight_bbox\n",
            "matplotlib.widgets\n",
            "PIL._version\n",
            "PIL\n",
            "matplotlib.backend_bases\n",
            "matplotlib._image\n",
            "matplotlib.image\n",
            "matplotlib.style.core\n",
            "matplotlib.style\n",
            "matplotlib.backends\n",
            "matplotlib.units\n",
            "matplotlib.category\n",
            "dateutil.rrule\n",
            "matplotlib.dates\n",
            "matplotlib.offsetbox\n",
            "matplotlib.container\n",
            "matplotlib.legend_handler\n",
            "matplotlib.legend\n",
            "_csv\n",
            "csv\n",
            "matplotlib.mlab\n",
            "matplotlib.quiver\n",
            "matplotlib.stackplot\n",
            "matplotlib.streamplot\n",
            "matplotlib.table\n",
            "matplotlib.tri.triangulation\n",
            "matplotlib.tri.tricontour\n",
            "matplotlib.tri.tritools\n",
            "matplotlib.tri.trifinder\n",
            "matplotlib.tri.triinterpolate\n",
            "matplotlib.tri.trirefine\n",
            "matplotlib.tri.tripcolor\n",
            "matplotlib.tri.triplot\n",
            "matplotlib.tri\n",
            "matplotlib.scale\n",
            "matplotlib.axis\n",
            "matplotlib.spines\n",
            "matplotlib.axes._base\n",
            "matplotlib.axes._secondary_axes\n",
            "matplotlib.axes._axes\n",
            "matplotlib.axes._subplots\n",
            "matplotlib.axes\n",
            "matplotlib.projections.geo\n",
            "matplotlib.projections.polar\n",
            "mpl_toolkits.mplot3d.proj3d\n",
            "mpl_toolkits.mplot3d.art3d\n",
            "mpl_toolkits.mplot3d.axis3d\n",
            "mpl_toolkits.mplot3d.axes3d\n",
            "mpl_toolkits.mplot3d\n",
            "matplotlib.projections\n",
            "matplotlib.figure\n",
            "ipykernel.pylab\n",
            "matplotlib.backends._backend_agg\n",
            "PIL.ImageMode\n",
            "PIL.TiffTags\n",
            "PIL._binary\n",
            "PIL._util\n",
            "PIL._imaging\n",
            "cffi.lock\n",
            "cffi.error\n",
            "cffi.model\n",
            "cffi.api\n",
            "cffi\n",
            "PIL.Image\n",
            "matplotlib.backends.backend_agg\n",
            "ipykernel.pylab.config\n",
            "ipykernel.pylab.backend_inline\n",
            "matplotlib.pyplot\n",
            "storemagic\n",
            "debugpy._version\n",
            "debugpy.common\n",
            "debugpy.common.json\n",
            "debugpy.common.fmt\n",
            "debugpy.common.compat\n",
            "debugpy\n",
            "google.colab._debugpy_repr\n",
            "google.colab._variable_inspector\n",
            "portpicker\n",
            "google.colab._debugpy\n",
            "debugpy._vendored._util\n",
            "debugpy._vendored\n",
            "_pydevd_bundle\n",
            "encodings.ascii\n",
            "stringprep\n",
            "encodings.idna\n",
            "_pydevd_bundle.pydevd_vm_type\n",
            "_pydev_imps\n",
            "xmlrpc\n",
            "xml.parsers\n",
            "pyexpat.errors\n",
            "pyexpat.model\n",
            "pyexpat\n",
            "xml.parsers.expat.model\n",
            "xml.parsers.expat.errors\n",
            "xml.parsers.expat\n",
            "xmlrpc.client\n",
            "xmlrpc.server\n",
            "_pydev_imps._pydev_saved_modules\n",
            "_pydevd_bundle.pydevd_constants\n",
            "_pydev_bundle\n",
            "_pydev_runfiles\n",
            "_pydevd_frame_eval\n",
            "pydev_ipython\n",
            "pydevd_concurrency_analyser\n",
            "zipfile\n",
            "plistlib\n",
            "pkg_resources.extern\n",
            "pkg_resources._vendor\n",
            "pkg_resources._vendor.appdirs\n",
            "pkg_resources.extern.appdirs\n",
            "pkg_resources._vendor.packaging.__about__\n",
            "pkg_resources._vendor.packaging\n",
            "pkg_resources.extern.packaging\n",
            "pkg_resources.extern.packaging._structures\n",
            "pkg_resources.extern.packaging._typing\n",
            "pkg_resources.extern.packaging.version\n",
            "pkg_resources.extern.packaging._compat\n",
            "pkg_resources.extern.packaging.utils\n",
            "pkg_resources.extern.packaging.specifiers\n",
            "pkg_resources._vendor.pyparsing\n",
            "pkg_resources.extern.pyparsing\n",
            "pkg_resources.extern.packaging.markers\n",
            "pkg_resources.extern.packaging.requirements\n",
            "pkg_resources\n",
            "pydevd_plugins\n",
            "_pydev_bundle.pydev_log\n",
            "_pydev_bundle._pydev_filesystem_encoding\n",
            "_pydevd_bundle.pydevd_comm_constants\n",
            "pydevd_file_utils\n",
            "_pydev_imps._pydev_execfile\n",
            "_pydevd_bundle.pydevd_exec2\n",
            "_pydev_bundle.pydev_imports\n",
            "_pydev_bundle.pydev_is_thread_alive\n",
            "_pydev_bundle.pydev_override\n",
            "pydevd_plugins.extensions\n",
            "_pydevd_bundle.pydevd_extension_utils\n",
            "_pydevd_bundle.pydevd_frame_utils\n",
            "_pydevd_bundle.pydevd_filtering\n",
            "_pydevd_bundle.pydevd_io\n",
            "_pydevd_bundle.pydevd_utils\n",
            "_pydev_bundle._pydev_tipper_common\n",
            "_pydev_bundle._pydev_imports_tipper\n",
            "_pydev_bundle._pydev_calltip_util\n",
            "_pydevd_bundle.pydevd_safe_repr\n",
            "_pydevd_bundle.pydevd_resolver\n",
            "_pydevd_bundle.pydevd_extension_api\n",
            "_pydevd_bundle.pydevd_xml\n",
            "_cython_0_29_21\n",
            "_pydevd_bundle.pydevd_dont_trace\n",
            "_pydevd_bundle.pydevd_cython\n",
            "_pydevd_bundle.pydevd_cython_wrapper\n",
            "_pydevd_bundle.pydevd_additional_thread_info\n",
            "_pydevd_bundle.pydevd_thread_lifecycle\n",
            "_pydevd_bundle.pydevd_save_locals\n",
            "_pydev_bundle.pydev_monkey\n",
            "pydevd_tracing\n",
            "_pydevd_bundle.pydevd_daemon_thread\n",
            "_pydevd_bundle.pydevd_timeout\n",
            "_pydevd_bundle.pydevd_vars\n",
            "_pydev_bundle.pydev_console_utils\n",
            "_pydevd_bundle.pydevd_import_class\n",
            "_pydevd_bundle.pydevd_breakpoints\n",
            "_pydevd_bundle.pydevd_defaults\n",
            "_pydevd_bundle.pydevd_custom_frames\n",
            "_pydevd_bundle.pydevd_dont_trace_files\n",
            "_pydevd_bundle.pydevd_net_command\n",
            "_pydev_bundle.pydev_umd\n",
            "pydevconsole\n",
            "_pydev_bundle._pydev_completer\n",
            "_pydevd_bundle.pydevd_net_command_factory_xml\n",
            "_pydevd_bundle.pydevd_frame\n",
            "_pydevd_bundle.pydevd_additional_thread_info_regular\n",
            "_pydevd_bundle.pydevd_trace_dispatch\n",
            "_pydevd_frame_eval.pydevd_frame_eval_main\n",
            "_pydevd_bundle.pydevd_source_mapping\n",
            "pydevd_concurrency_analyser.pydevd_thread_wrappers\n",
            "pydevd_concurrency_analyser.pydevd_concurrency_logger\n",
            "_pydevd_bundle._debug_adapter\n",
            "_pydevd_bundle._debug_adapter.pydevd_schema_log\n",
            "_pydevd_bundle._debug_adapter.pydevd_base_schema\n",
            "_pydevd_bundle._debug_adapter.pydevd_schema\n",
            "_pydevd_bundle.pydevd_console\n",
            "_pydevd_bundle.pydevd_comm\n",
            "_pydevd_bundle.pydevd_net_command_factory_json\n",
            "_pydevd_bundle.pydevd_collect_bytecode_info\n",
            "_pydevd_bundle.pydevd_api\n",
            "_pydevd_bundle.pydevd_json_debug_options\n",
            "_pydevd_bundle.pydevd_process_net_command_json\n",
            "_pydevd_bundle.pydevd_traceproperty\n",
            "_pydevd_bundle.pydevd_process_net_command\n",
            "_pydevd_bundle.pydevd_suspended_frames\n",
            "_pydevd_bundle.pydevd_trace_api\n",
            "pydevd_plugins.django_debug\n",
            "pydevd_plugins.jinja2_debug\n",
            "_pydevd_bundle.pydevd_plugin_utils\n",
            "pydevd_plugins.extensions.types\n",
            "pydevd_plugins.extensions.types.pydevd_helpers\n",
            "pydevd_plugins.extensions.types.pydevd_plugin_numpy_types\n",
            "pydevd_plugins.extensions.types.pydevd_plugins_django_form_str\n",
            "pydevd\n",
            "debugpy._vendored.force_pydevd\n",
            "debugpy.server\n",
            "debugpy.adapter\n",
            "debugpy.common.timestamp\n",
            "debugpy.common.util\n",
            "debugpy.common.log\n",
            "debugpy.common.sockets\n",
            "debugpy.server.api\n",
            "encodings.hex_codec\n",
            "google.cloud.bigquery.version\n",
            "google.resumable_media.common\n",
            "google.resumable_media\n",
            "urllib3.packages.ssl_match_hostname\n",
            "urllib3.packages\n",
            "urllib3.packages.six\n",
            "urllib3.packages.six.moves\n",
            "urllib3.packages.six.moves.http_client\n",
            "urllib3.exceptions\n",
            "urllib3.util.wait\n",
            "urllib3.contrib\n",
            "urllib3.contrib._appengine_environ\n",
            "urllib3.util.connection\n",
            "urllib3.util.request\n",
            "urllib3.util.response\n",
            "urllib3.util.ssl_\n",
            "urllib3.util.timeout\n",
            "urllib3.util.retry\n",
            "urllib3.packages.six.moves.urllib\n",
            "urllib3.packages.six.moves.urllib.parse\n",
            "urllib3.util.url\n",
            "urllib3.util\n",
            "urllib3._collections\n",
            "urllib3.connection\n",
            "urllib3.fields\n",
            "urllib3.filepost\n",
            "urllib3.request\n",
            "urllib3.response\n",
            "urllib3.util.queue\n",
            "urllib3.connectionpool\n",
            "urllib3.poolmanager\n",
            "urllib3\n",
            "google.resumable_media._helpers\n",
            "google.resumable_media._download\n",
            "chardet.compat\n",
            "chardet.enums\n",
            "chardet.charsetprober\n",
            "chardet.charsetgroupprober\n",
            "chardet.codingstatemachine\n",
            "chardet.escsm\n",
            "chardet.escprober\n",
            "chardet.latin1prober\n",
            "chardet.mbcssm\n",
            "chardet.utf8prober\n",
            "chardet.mbcharsetprober\n",
            "chardet.euctwfreq\n",
            "chardet.euckrfreq\n",
            "chardet.gb2312freq\n",
            "chardet.big5freq\n",
            "chardet.jisfreq\n",
            "chardet.chardistribution\n",
            "chardet.jpcntx\n",
            "chardet.sjisprober\n",
            "chardet.eucjpprober\n",
            "chardet.gb2312prober\n",
            "chardet.euckrprober\n",
            "chardet.cp949prober\n",
            "chardet.big5prober\n",
            "chardet.euctwprober\n",
            "chardet.mbcsgroupprober\n",
            "chardet.sbcharsetprober\n",
            "chardet.langcyrillicmodel\n",
            "chardet.langgreekmodel\n",
            "chardet.langbulgarianmodel\n",
            "chardet.langthaimodel\n",
            "chardet.langhebrewmodel\n",
            "chardet.hebrewprober\n",
            "chardet.langturkishmodel\n",
            "chardet.sbcsgroupprober\n",
            "chardet.universaldetector\n",
            "chardet.version\n",
            "chardet\n",
            "requests.exceptions\n",
            "requests.__version__\n",
            "requests.certs\n",
            "http.cookiejar\n",
            "http.cookies\n",
            "requests.compat\n",
            "requests._internal_utils\n",
            "requests.cookies\n",
            "requests.structures\n",
            "requests.utils\n",
            "requests.packages.urllib3.packages.ssl_match_hostname\n",
            "requests.packages.urllib3.packages\n",
            "requests.packages.urllib3.packages.six\n",
            "requests.packages.urllib3.packages.six.moves\n",
            "requests.packages.urllib3.packages.six.moves.http_client\n",
            "requests.packages.urllib3.exceptions\n",
            "requests.packages.urllib3.util.wait\n",
            "requests.packages.urllib3.contrib\n",
            "requests.packages.urllib3.contrib._appengine_environ\n",
            "requests.packages.urllib3.util.connection\n",
            "requests.packages.urllib3.util.request\n",
            "requests.packages.urllib3.util.response\n",
            "requests.packages.urllib3.util.ssl_\n",
            "requests.packages.urllib3.util.timeout\n",
            "requests.packages.urllib3.util.retry\n",
            "requests.packages.urllib3.packages.six.moves.urllib\n",
            "requests.packages.urllib3.packages.six.moves.urllib.parse\n",
            "requests.packages.urllib3.util.url\n",
            "requests.packages.urllib3.util\n",
            "requests.packages.urllib3._collections\n",
            "requests.packages.urllib3.connection\n",
            "requests.packages.urllib3.fields\n",
            "requests.packages.urllib3.filepost\n",
            "requests.packages.urllib3.request\n",
            "requests.packages.urllib3.response\n",
            "requests.packages.urllib3.util.queue\n",
            "requests.packages.urllib3.connectionpool\n",
            "requests.packages.urllib3.poolmanager\n",
            "requests.packages.urllib3\n",
            "idna.package_data\n",
            "idna.idnadata\n",
            "idna.intranges\n",
            "idna.core\n",
            "idna\n",
            "requests.packages.idna.package_data\n",
            "requests.packages.idna.idnadata\n",
            "requests.packages.idna.intranges\n",
            "requests.packages.idna.core\n",
            "requests.packages.idna\n",
            "requests.packages.chardet.compat\n",
            "requests.packages.chardet.enums\n",
            "requests.packages.chardet.charsetprober\n",
            "requests.packages.chardet.charsetgroupprober\n",
            "requests.packages.chardet.codingstatemachine\n",
            "requests.packages.chardet.escsm\n",
            "requests.packages.chardet.escprober\n",
            "requests.packages.chardet.latin1prober\n",
            "requests.packages.chardet.mbcssm\n",
            "requests.packages.chardet.utf8prober\n",
            "requests.packages.chardet.mbcharsetprober\n",
            "requests.packages.chardet.euctwfreq\n",
            "requests.packages.chardet.euckrfreq\n",
            "requests.packages.chardet.gb2312freq\n",
            "requests.packages.chardet.big5freq\n",
            "requests.packages.chardet.jisfreq\n",
            "requests.packages.chardet.chardistribution\n",
            "requests.packages.chardet.jpcntx\n",
            "requests.packages.chardet.sjisprober\n",
            "requests.packages.chardet.eucjpprober\n",
            "requests.packages.chardet.gb2312prober\n",
            "requests.packages.chardet.euckrprober\n",
            "requests.packages.chardet.cp949prober\n",
            "requests.packages.chardet.big5prober\n",
            "requests.packages.chardet.euctwprober\n",
            "requests.packages.chardet.mbcsgroupprober\n",
            "requests.packages.chardet.sbcharsetprober\n",
            "requests.packages.chardet.langcyrillicmodel\n",
            "requests.packages.chardet.langgreekmodel\n",
            "requests.packages.chardet.langbulgarianmodel\n",
            "requests.packages.chardet.langthaimodel\n",
            "requests.packages.chardet.langhebrewmodel\n",
            "requests.packages.chardet.hebrewprober\n",
            "requests.packages.chardet.langturkishmodel\n",
            "requests.packages.chardet.sbcsgroupprober\n",
            "requests.packages.chardet.universaldetector\n",
            "requests.packages.chardet.version\n",
            "requests.packages.chardet\n",
            "requests.packages\n",
            "requests.hooks\n",
            "requests.auth\n",
            "requests.status_codes\n",
            "requests.models\n",
            "urllib3.contrib.socks\n",
            "requests.adapters\n",
            "requests.sessions\n",
            "requests.api\n",
            "requests\n",
            "google.resumable_media.requests._request_helpers\n",
            "google.resumable_media.requests.download\n",
            "google.resumable_media._upload\n",
            "google.resumable_media.requests.upload\n",
            "google.resumable_media.requests\n",
            "google.api_core.version\n",
            "google.api_core\n",
            "google.api_core.client_options\n",
            "google.rpc\n",
            "google.protobuf\n",
            "google.protobuf.internal\n",
            "google.protobuf.internal._api_implementation\n",
            "google.protobuf.internal.api_implementation\n",
            "google.protobuf.pyext\n",
            "google.protobuf.internal.enum_type_wrapper\n",
            "google.protobuf.message\n",
            "google.protobuf.pyext._message\n",
            "google.protobuf.descriptor\n",
            "google.protobuf.descriptor_database\n",
            "google.protobuf.text_encoding\n",
            "google.protobuf.descriptor_pool\n",
            "google.protobuf.pyext.cpp_message\n",
            "google.protobuf.message_factory\n",
            "google.protobuf.symbol_database\n",
            "google.protobuf.reflection\n",
            "google.protobuf.internal.well_known_types\n",
            "google.protobuf.duration_pb2\n",
            "google.rpc.error_details_pb2\n",
            "grpc._cython\n",
            "grpc._cython.cygrpc\n",
            "grpc._compression\n",
            "grpc._runtime_protos\n",
            "grpc._grpcio_metadata\n",
            "grpc.aio._metadata\n",
            "grpc.aio._typing\n",
            "grpc.aio._base_call\n",
            "grpc.aio._base_channel\n",
            "grpc.aio._base_server\n",
            "grpc._common\n",
            "grpc.aio._call\n",
            "grpc.aio._utils\n",
            "grpc.aio._interceptor\n",
            "grpc.aio._channel\n",
            "grpc.aio._server\n",
            "grpc.aio\n",
            "grpc\n",
            "grpc_status\n",
            "google.protobuf.any_pb2\n",
            "google.rpc.status_pb2\n",
            "grpc_status._common\n",
            "grpc._simple_stubs\n",
            "grpc.experimental\n",
            "grpc.experimental.aio\n",
            "grpc_status._async\n",
            "grpc_status.rpc_status\n",
            "google.api_core.exceptions\n",
            "google.api_core.iam\n",
            "google.api_core.page_iterator\n",
            "google.protobuf.timestamp_pb2\n",
            "google.api_core.datetime_helpers\n",
            "google.auth.version\n",
            "google.auth.environment_vars\n",
            "google.auth.exceptions\n",
            "google.auth.transport\n",
            "six.moves.urllib\n",
            "google.auth.transport._http_client\n",
            "google.auth._default\n",
            "google.auth\n",
            "google.api_core.retry\n",
            "google.auth.transport._mtls_helper\n",
            "google.oauth2\n",
            "google.auth._helpers\n",
            "google.auth.crypt.base\n",
            "pyasn1\n",
            "pyasn1.codec\n",
            "pyasn1.codec.der\n",
            "pyasn1.codec.cer\n",
            "pyasn1.error\n",
            "pyasn1.codec.ber\n",
            "pyasn1.compat\n",
            "pyasn1.compat.octets\n",
            "pyasn1.debug\n",
            "pyasn1.type\n",
            "pyasn1.compat.calling\n",
            "pyasn1.type.error\n",
            "pyasn1.type.constraint\n",
            "pyasn1.type.tag\n",
            "pyasn1.type.tagmap\n",
            "pyasn1.type.base\n",
            "pyasn1.codec.ber.eoo\n",
            "pyasn1.compat.integer\n",
            "pyasn1.compat.binary\n",
            "pyasn1.type.namedtype\n",
            "pyasn1.type.namedval\n",
            "pyasn1.type.univ\n",
            "pyasn1.type.char\n",
            "pyasn1.compat.dateandtime\n",
            "pyasn1.compat.string\n",
            "pyasn1.type.useful\n",
            "pyasn1.codec.ber.decoder\n",
            "pyasn1.codec.cer.decoder\n",
            "pyasn1.codec.der.decoder\n",
            "pyasn1_modules\n",
            "pyasn1_modules.pem\n",
            "pyasn1.type.opentype\n",
            "pyasn1_modules.rfc2459\n",
            "pyasn1_modules.rfc2251\n",
            "pyasn1_modules.rfc5208\n",
            "rsa.common\n",
            "rsa.transform\n",
            "rsa.randnum\n",
            "rsa.prime\n",
            "rsa.pem\n",
            "rsa.core\n",
            "rsa.key\n",
            "rsa.pkcs1\n",
            "rsa\n",
            "google.auth.crypt._python_rsa\n",
            "google.auth.crypt.rsa\n",
            "google.auth.crypt\n",
            "google.auth._service_account_info\n",
            "google.auth.credentials\n",
            "cachetools.keys\n",
            "cachetools\n",
            "google.auth.jwt\n",
            "google.auth._exponential_backoff\n",
            "google.oauth2._client\n",
            "google.oauth2.service_account\n",
            "google.auth.transport.requests\n",
            "google.auth.transport.grpc\n",
            "google.cloud._helpers\n",
            "grpc._channel\n",
            "google.cloud.exceptions\n",
            "google.cloud.client\n",
            "google.api_core.client_info\n",
            "google.api_core.gapic_v1.client_info\n",
            "google.api_core.timeout\n",
            "google.api_core.gapic_v1.config\n",
            "google.api_core.retry_async\n",
            "google.api_core.gapic_v1.config_async\n",
            "google.api_core.grpc_helpers\n",
            "google.api_core.gapic_v1.method\n",
            "google.api_core.grpc_helpers_async\n",
            "google.api_core.gapic_v1.method_async\n",
            "google.api_core.gapic_v1.routing_header\n",
            "google.api_core.gapic_v1\n",
            "pytz.exceptions\n",
            "pytz.lazy\n",
            "pytz.tzinfo\n",
            "pytz.tzfile\n",
            "pytz\n",
            "mmap\n",
            "pandas._typing\n",
            "pandas._libs.tslibs.dtypes\n",
            "pandas._libs.tslibs.base\n",
            "pandas._libs.tslibs.np_datetime\n",
            "pandas._libs.tslibs.nattype\n",
            "pandas._libs.tslibs.timezones\n",
            "pandas._libs.tslibs.ccalendar\n",
            "pandas._libs.tslibs.tzconversion\n",
            "pandas._config.config\n",
            "pandas._config.dates\n",
            "pandas._config.display\n",
            "pandas._config\n",
            "pandas._config.localization\n",
            "pandas._libs.tslibs.strptime\n",
            "pandas._libs.tslibs.fields\n",
            "pandas._libs.tslibs.timedeltas\n",
            "pandas._libs.tslibs.timestamps\n",
            "dateutil.easter\n",
            "pandas._libs.properties\n",
            "pandas._libs.tslibs.offsets\n",
            "pandas._libs.tslibs.parsing\n",
            "pandas._libs.tslibs.conversion\n",
            "pandas._libs.tslibs.period\n",
            "pandas._libs.tslibs.vectorized\n",
            "pandas._libs.tslibs\n",
            "pandas._libs.ops_dispatch\n",
            "pandas._libs.missing\n",
            "pandas._libs.hashtable\n",
            "pandas._libs.algos\n",
            "pandas._libs.interval\n",
            "pandas._libs\n",
            "pandas.util._decorators\n",
            "pandas.core\n",
            "pandas.core.util\n",
            "pandas._libs.tslib\n",
            "pandas._libs.lib\n",
            "pandas._libs.hashing\n",
            "pandas.core.dtypes\n",
            "pandas.errors\n",
            "pandas.core.dtypes.generic\n",
            "pandas.core.dtypes.base\n",
            "pandas.core.dtypes.inference\n",
            "pandas.core.dtypes.dtypes\n",
            "pandas.core.dtypes.common\n",
            "pandas.core.util.hashing\n",
            "pandas.util\n",
            "pandas.util.version\n",
            "pandas.compat.numpy\n",
            "pyarrow._generated_version\n",
            "_cython_0_29_30\n",
            "cloudpickle.compat\n",
            "typing_extensions\n",
            "cloudpickle.cloudpickle\n",
            "cloudpickle.cloudpickle_fast\n",
            "cloudpickle\n",
            "pyarrow.util\n",
            "pyarrow.lib\n",
            "pyarrow._hdfsio\n",
            "pyarrow.filesystem\n",
            "pyarrow.hdfs\n",
            "pyarrow.ipc\n",
            "pyarrow.serialization\n",
            "pyarrow.types\n",
            "pyarrow\n",
            "pandas.compat.pyarrow\n",
            "pandas.compat\n",
            "pandas.core.config_init\n",
            "pandas.core.dtypes.missing\n",
            "pandas.util._exceptions\n",
            "pandas.util._validators\n",
            "pandas.core.dtypes.cast\n",
            "pandas.core.array_algos\n",
            "pandas.core.common\n",
            "pandas.core.construction\n",
            "pandas.core.array_algos.take\n",
            "pandas.core.indexers\n",
            "pandas.core.algorithms\n",
            "pandas.compat.numpy.function\n",
            "pandas.compat._optional\n",
            "pandas.core.missing\n",
            "pandas.core.roperator\n",
            "pandas._libs.ops\n",
            "pandas.core.computation\n",
            "numexpr.interpreter\n",
            "numexpr.expressions\n",
            "numexpr.version\n",
            "numexpr.utils\n",
            "numexpr.necompiler\n",
            "numexpr\n",
            "pandas.core.computation.check\n",
            "pandas.core.computation.expressions\n",
            "pandas.core.ops.missing\n",
            "pandas.core.ops.dispatch\n",
            "pandas.core.ops.invalid\n",
            "pandas.core.ops.array_ops\n",
            "pandas.core.ops.common\n",
            "pandas.core.ops.docstrings\n",
            "pandas.core.ops.mask_ops\n",
            "pandas.core.ops.methods\n",
            "pandas.core.ops\n",
            "pandas.core.sorting\n",
            "pandas.core.arrays.base\n",
            "pandas.core.nanops\n",
            "pandas.core.array_algos.masked_reductions\n",
            "pandas.core.arraylike\n",
            "pandas.core.arrays.masked\n",
            "pandas.core.arrays.boolean\n",
            "pandas._libs.arrays\n",
            "pandas.core.accessor\n",
            "pandas.core.array_algos.transforms\n",
            "pandas.core.arrays._mixins\n",
            "pandas.core.base\n",
            "pandas.core.strings.accessor\n",
            "pandas.core.strings.base\n",
            "pandas.core.strings\n",
            "pandas.core.strings.object_array\n",
            "pandas.io\n",
            "pandas.io.formats\n",
            "pandas.io.formats.console\n",
            "pandas.core.arrays.categorical\n",
            "pandas.tseries\n",
            "pandas.tseries.frequencies\n",
            "pandas.core.arrays.datetimelike\n",
            "pandas.core.arrays._ranges\n",
            "pandas.core.arrays.numeric\n",
            "pandas.core.tools\n",
            "pandas.core.tools.numeric\n",
            "pandas.core.arrays.integer\n",
            "pandas.tseries.offsets\n",
            "pandas.core.arrays.datetimes\n",
            "pandas.core.arrays.floating\n",
            "pandas.core.indexes\n",
            "pandas._libs.index\n",
            "pandas._libs.join\n",
            "pandas._libs.sparse\n",
            "pandas.core.arrays.sparse.dtype\n",
            "pandas.io.formats.printing\n",
            "pandas.core.arrays.sparse.array\n",
            "pandas.core.arrays.sparse.accessor\n",
            "pandas.core.arrays.sparse\n",
            "pandas.core.dtypes.concat\n",
            "pandas.core.array_algos.putmask\n",
            "pandas.core.indexes.frozen\n",
            "pandas.core.indexes.base\n",
            "pandas.core.arrays.interval\n",
            "pandas.core.arrays.numpy_\n",
            "pandas.core.arrays.period\n",
            "pandas.core.arrays.string_\n",
            "pyarrow._compute\n",
            "pyarrow._compute_docstrings\n",
            "pyarrow.vendored\n",
            "pyarrow.vendored.docscrape\n",
            "pyarrow.compute\n",
            "pandas.core.arrays.string_arrow\n",
            "pandas.core.arrays.timedeltas\n",
            "pandas.core.arrays\n",
            "pandas.core.flags\n",
            "pandas._libs.reduction\n",
            "pandas.core.indexes.extension\n",
            "pandas.core.indexes.category\n",
            "pandas.core.indexes.numeric\n",
            "pandas.core.tools.timedeltas\n",
            "pandas.core.indexes.datetimelike\n",
            "pandas.core.tools.times\n",
            "pandas.core.indexes.datetimes\n",
            "pandas.core.indexes.multi\n",
            "pandas.core.indexes.timedeltas\n",
            "pandas.core.indexes.interval\n",
            "pandas.core.indexes.period\n",
            "pandas.core.indexes.range\n",
            "pandas.core.indexes.api\n",
            "pandas.core.aggregation\n",
            "pandas.core.apply\n",
            "pandas._libs.indexing\n",
            "pandas.core.indexing\n",
            "pandas.core.reshape\n",
            "pandas._libs.internals\n",
            "pandas._libs.writers\n",
            "pandas.core.array_algos.quantile\n",
            "pandas.core.array_algos.replace\n",
            "pandas.core.internals.blocks\n",
            "pandas.core.internals.api\n",
            "pandas.core.internals.base\n",
            "pandas.core.internals.array_manager\n",
            "pandas.core.internals.ops\n",
            "pandas.core.internals.managers\n",
            "pandas.core.internals.concat\n",
            "pandas.core.internals\n",
            "pandas.core.reshape.concat\n",
            "dataclasses\n",
            "pandas.io.common\n",
            "pandas.io.formats.format\n",
            "pandas.core.describe\n",
            "pandas.core.internals.construction\n",
            "pandas.core.shared_docs\n",
            "pandas._libs.window\n",
            "pandas._libs.window.aggregations\n",
            "pandas.core.util.numba_\n",
            "pandas.core.window.common\n",
            "pandas.core.window.doc\n",
            "pandas._libs.window.indexers\n",
            "pandas.core.window.indexers\n",
            "pandas.core.window.numba_\n",
            "pandas.core.window.online\n",
            "pandas.core.window.rolling\n",
            "pandas.core.window.ewm\n",
            "pandas.core.window.expanding\n",
            "pandas.core.window\n",
            "pandas.core.generic\n",
            "pandas.core.reshape.util\n",
            "pandas.core.reshape.melt\n",
            "pandas._libs.reshape\n",
            "pandas.core.indexes.accessors\n",
            "pandas.arrays\n",
            "pandas.core.tools.datetimes\n",
            "pandas.plotting._core\n",
            "pandas.plotting._misc\n",
            "pandas.plotting\n",
            "pandas.core.series\n",
            "pandas.io.formats.info\n",
            "pandas.core.frame\n",
            "pandas.core.groupby.base\n",
            "pandas._libs.groupby\n",
            "pandas.core.groupby.numba_\n",
            "pandas.core.groupby.categorical\n",
            "pandas.core.groupby.grouper\n",
            "pandas.core.groupby.ops\n",
            "pandas.core.groupby.groupby\n",
            "pandas.core.groupby.generic\n",
            "pandas.core.groupby\n",
            "pandas.core.api\n",
            "pandas.tseries.api\n",
            "pandas.core.computation.common\n",
            "pandas.core.computation.align\n",
            "pandas.compat.chainmap\n",
            "pandas.core.computation.scope\n",
            "pandas.core.computation.ops\n",
            "pandas.core.computation.parsing\n",
            "pandas.core.computation.expr\n",
            "pandas.core.computation.engines\n",
            "pandas.core.computation.eval\n",
            "pandas.core.computation.api\n",
            "pandas.core.reshape.merge\n",
            "pandas.core.reshape.pivot\n",
            "pandas.core.reshape.reshape\n",
            "pandas.core.reshape.tile\n",
            "pandas.core.reshape.api\n",
            "pandas.api.extensions\n",
            "pandas.api.indexers\n",
            "pandas.core.dtypes.api\n",
            "pandas.api.types\n",
            "pandas.api\n",
            "pandas.util._print_versions\n",
            "pandas.io.clipboards\n",
            "pandas._libs.parsers\n",
            "pandas.io.excel._util\n",
            "pandas.io.date_converters\n",
            "pandas.io.parsers.base_parser\n",
            "pandas.io.parsers.c_parser_wrapper\n",
            "pandas.io.parsers.python_parser\n",
            "pandas.io.parsers.readers\n",
            "pandas.io.parsers\n",
            "pandas.io.excel._odfreader\n",
            "pandas.io.excel._openpyxl\n",
            "pandas.io.excel._pyxlsb\n",
            "pandas.io.excel._xlrd\n",
            "pandas.io.excel._base\n",
            "pandas._libs.json\n",
            "pandas.io.formats._color_data\n",
            "pandas.io.formats.css\n",
            "pandas.io.formats.excel\n",
            "pandas.io.excel._odswriter\n",
            "pandas.io.excel._xlsxwriter\n",
            "pandas.io.excel._xlwt\n",
            "pandas.io.excel\n",
            "pandas.io.feather_format\n",
            "pandas.io.gbq\n",
            "pandas.io.html\n",
            "pandas.io.json._normalize\n",
            "pandas.io.json._table_schema\n",
            "pandas.io.json._json\n",
            "pandas.io.json\n",
            "pandas.io.orc\n",
            "pandas.io.parquet\n",
            "pandas.compat.pickle_compat\n",
            "pandas.io.pickle\n",
            "pandas.core.computation.pytables\n",
            "pandas.io.pytables\n",
            "pandas.io.sas.sasreader\n",
            "pandas.io.sas\n",
            "pandas.io.spss\n",
            "pandas.io.sql\n",
            "pandas.io.stata\n",
            "pandas.io.xml\n",
            "pandas.io.api\n",
            "pandas.util._tester\n",
            "pandas._testing._random\n",
            "pandas._testing.contexts\n",
            "pandas._testing._io\n",
            "pandas._testing._warnings\n",
            "cmath\n",
            "pandas._libs.testing\n",
            "pandas._testing.asserters\n",
            "pandas._testing.compat\n",
            "pandas._testing\n",
            "pandas.testing\n",
            "pandas._version\n",
            "pandas\n",
            "google.cloud.bigquery_storage_v1.reader\n",
            "google.cloud.bigquery_storage_v1.services\n",
            "google.auth.transport.mtls\n",
            "google.protobuf.descriptor_pb2\n",
            "google.protobuf.field_mask_pb2\n",
            "google.protobuf.struct_pb2\n",
            "google.protobuf.wrappers_pb2\n",
            "google.protobuf.internal.containers\n",
            "proto.marshal.compat\n",
            "proto.utils\n",
            "proto.marshal.collections.maps\n",
            "proto.marshal.collections.repeated\n",
            "proto.marshal.collections\n",
            "proto.marshal.rules\n",
            "proto.marshal.rules.bytes\n",
            "proto.primitives\n",
            "proto.marshal.rules.stringy_numbers\n",
            "proto.datetime_helpers\n",
            "proto.marshal.rules.dates\n",
            "proto.marshal.rules.struct\n",
            "proto.marshal.rules.wrappers\n",
            "proto.marshal.rules.field_mask\n",
            "proto.marshal.marshal\n",
            "proto.marshal\n",
            "proto.marshal.rules.message\n",
            "proto._file_info\n",
            "proto._package_info\n",
            "proto.marshal.rules.enums\n",
            "proto.enums\n",
            "proto.fields\n",
            "google.protobuf.internal.wire_format\n",
            "google.protobuf.internal.encoder\n",
            "google.protobuf.internal.decoder\n",
            "google.protobuf.internal.type_checkers\n",
            "google.protobuf.json_format\n",
            "proto.message\n",
            "proto.modules\n",
            "proto\n",
            "google.cloud.bigquery_storage_v1.types.arrow\n",
            "google.cloud.bigquery_storage_v1.types.avro\n",
            "google.cloud.bigquery_storage_v1.types.protobuf\n",
            "google.cloud.bigquery_storage_v1.types.table\n",
            "google.cloud.bigquery_storage_v1.types.stream\n",
            "google.cloud.bigquery_storage_v1.types.storage\n",
            "google.cloud.bigquery_storage_v1.types\n",
            "google.cloud.bigquery_storage_v1.services.big_query_read.transports.base\n",
            "google.cloud.bigquery_storage_v1.services.big_query_read.transports.grpc\n",
            "google.cloud.bigquery_storage_v1.services.big_query_read.transports.grpc_asyncio\n",
            "google.cloud.bigquery_storage_v1.services.big_query_read.transports\n",
            "google.cloud.bigquery_storage_v1.services.big_query_read.client\n",
            "google.cloud.bigquery_storage_v1.services.big_query_read.async_client\n",
            "google.cloud.bigquery_storage_v1.services.big_query_read\n",
            "google.cloud.bigquery_storage_v1.services.big_query_write.transports.base\n",
            "google.cloud.bigquery_storage_v1.services.big_query_write.transports.grpc\n",
            "google.cloud.bigquery_storage_v1.services.big_query_write.transports.grpc_asyncio\n",
            "google.cloud.bigquery_storage_v1.services.big_query_write.transports\n",
            "google.cloud.bigquery_storage_v1.services.big_query_write.client\n",
            "google.cloud.bigquery_storage_v1.services.big_query_write.async_client\n",
            "google.cloud.bigquery_storage_v1.services.big_query_write\n",
            "google.cloud.bigquery_storage_v1.client\n",
            "google.cloud.bigquery_storage_v1\n",
            "google.api_core.future.base\n",
            "google.api_core.future\n",
            "google.api_core.future._helpers\n",
            "google.api_core.future.polling\n",
            "packaging.__about__\n",
            "packaging\n",
            "packaging._structures\n",
            "packaging.version\n",
            "google.cloud.bigquery._helpers\n",
            "google.cloud.bigquery.retry\n",
            "google.cloud.bigquery.job.base\n",
            "google.cloud.bigquery.encryption_configuration\n",
            "shapely\n",
            "ctypes.util\n",
            "shapely.errors\n",
            "shapely.ctypes_declarations\n",
            "shapely.geos\n",
            "shapely.wkt\n",
            "db_dtypes.version\n",
            "db_dtypes.pandas_backports\n",
            "db_dtypes.core\n",
            "db_dtypes\n",
            "pyarrow._parquet\n",
            "pyarrow._fs\n",
            "pyarrow._hdfs\n",
            "pyarrow._gcsfs\n",
            "pyarrow._s3fs\n",
            "pyarrow.fs\n",
            "pyarrow.parquet\n",
            "shapely.affinity\n",
            "shapely.topology\n",
            "shapely.coords\n",
            "shapely.algorithms\n",
            "shapely.algorithms.cga\n",
            "shapely.linref\n",
            "shapely.predicates\n",
            "shapely.impl\n",
            "shapely.geometry.base\n",
            "shapely.geometry.proxy\n",
            "shapely.geometry.point\n",
            "shapely.geometry.linestring\n",
            "shapely.geometry.polygon\n",
            "shapely.geometry.multipoint\n",
            "shapely.geometry.multilinestring\n",
            "shapely.geometry.multipolygon\n",
            "shapely.geometry.collection\n",
            "shapely.geometry.geo\n",
            "shapely.speedups._speedups\n",
            "shapely.speedups\n",
            "shapely.geometry\n",
            "shapely.wkb\n",
            "google.cloud.bigquery_storage_v1.gapic_types\n",
            "google.cloud.bigquery_storage\n",
            "google.cloud.bigquery.enums\n",
            "google.cloud.bigquery.standard_sql\n",
            "google.cloud.bigquery.schema\n",
            "google.cloud.bigquery._pandas_helpers\n",
            "tqdm._monitor\n",
            "tqdm._tqdm_pandas\n",
            "tqdm.utils\n",
            "tqdm.std\n",
            "tqdm._dist_ver\n",
            "tqdm.version\n",
            "tqdm.cli\n",
            "tqdm.gui\n",
            "tqdm\n",
            "ipywidgets._version\n",
            "ipywidgets.widgets.widget\n",
            "ipywidgets.widgets.util\n",
            "ipywidgets.widgets.trait_types\n",
            "ipywidgets.widgets.widget_layout\n",
            "ipywidgets.widgets.widget_style\n",
            "ipywidgets.widgets.domwidget\n",
            "ipywidgets.widgets.valuewidget\n",
            "ipywidgets.widgets.widget_core\n",
            "ipywidgets.widgets.widget_description\n",
            "ipywidgets.widgets.widget_bool\n",
            "ipywidgets.widgets.widget_button\n",
            "ipywidgets.widgets.docutils\n",
            "ipywidgets.widgets.widget_box\n",
            "ipywidgets.widgets.widget_int\n",
            "ipywidgets.widgets.widget_float\n",
            "ipywidgets.widgets.widget_color\n",
            "ipywidgets.widgets.widget_date\n",
            "ipywidgets.widgets.widget_output\n",
            "ipywidgets.widgets.widget_selection\n",
            "ipywidgets.widgets.widget_selectioncontainer\n",
            "ipywidgets.widgets.widget_string\n",
            "ipywidgets.widgets.widget_controller\n",
            "ipywidgets.widgets.interaction\n",
            "ipywidgets.widgets.widget_link\n",
            "ipywidgets.widgets.widget_media\n",
            "ipywidgets.widgets.widget_templates\n",
            "ipywidgets.widgets.widget_upload\n",
            "ipywidgets.widgets\n",
            "ipywidgets\n",
            "tqdm.notebook\n",
            "google.cloud.bigquery._tqdm_helpers\n",
            "google.cloud.bigquery.format_options\n",
            "google.cloud.bigquery.external_config\n",
            "google.cloud.bigquery.table\n",
            "google.cloud.bigquery.job.copy_\n",
            "google.cloud.bigquery.model\n",
            "google.cloud.bigquery.job.extract\n",
            "google.cloud.bigquery.job.load\n",
            "google.cloud.bigquery.routine.routine\n",
            "google.cloud.bigquery.routine\n",
            "google.cloud.bigquery.dataset\n",
            "google.cloud.bigquery.query\n",
            "google.cloud.bigquery.job.query\n",
            "google.cloud.bigquery.job\n",
            "google.cloud.bigquery._job_helpers\n",
            "google.cloud.version\n",
            "google.cloud._http\n",
            "google.cloud.bigquery._http\n",
            "google.cloud.bigquery.opentelemetry_tracing\n",
            "google.cloud.bigquery.client\n",
            "google.cloud.bigquery\n",
            "google.cloud.bigquery.dbapi.exceptions\n",
            "google.cloud.bigquery.dbapi._helpers\n",
            "google.cloud.bigquery.dbapi.cursor\n",
            "google.cloud.bigquery.dbapi.connection\n",
            "google.cloud.bigquery.dbapi.types\n",
            "google.cloud.bigquery.dbapi\n",
            "google.cloud.bigquery.magics.line_arg_parser.exceptions\n",
            "google.cloud.bigquery.magics.line_arg_parser.lexer\n",
            "google.cloud.bigquery.magics.line_arg_parser.parser\n",
            "google.cloud.bigquery.magics.line_arg_parser.visitors\n",
            "google.cloud.bigquery.magics.line_arg_parser\n",
            "google.cloud.bigquery.magics.magics\n",
            "google.cloud.bigquery.magics\n"
          ]
        }
      ]
    },
    {
      "cell_type": "code",
      "source": [
        "from math import sin\n",
        "print(sin.__module__)\n",
        "\n",
        "from cmd import Cmd\n",
        "print(Cmd.__module__)"
      ],
      "metadata": {
        "colab": {
          "base_uri": "https://localhost:8080/"
        },
        "id": "So5TmQVqI1iK",
        "outputId": "b85e2641-e5c2-4f49-a7b8-3acaed16105a"
      },
      "execution_count": null,
      "outputs": [
        {
          "output_type": "stream",
          "name": "stdout",
          "text": [
            "math\n",
            "cmd\n"
          ]
        }
      ]
    },
    {
      "cell_type": "markdown",
      "source": [
        "###패키지  \n",
        "1. 패키지는 모듈을 모아놓은 단위이다.(패키지 > 모듈)  \n",
        "2. 관련된 여러 개의 모듈을 계층적인 몇 개의 디렉토리로 분류해서 저장하고 계층화 한다.\n",
        "\n",
        "패키지 구조  \n",
        "1. 패키지를 생성하면 __init__.py파일이 반드시 있어야 한다.(파이참-자동생성)\n",
        "2. __init__.py파일은 패키지를 가져올 때 자동으로 실행된다."
      ],
      "metadata": {
        "id": "bF7cdPaITvhQ"
      }
    },
    {
      "cell_type": "markdown",
      "source": [
        "###요약정리\n",
        "function 유의점\n",
        "1. keyword (/,*,**)\n",
        "2. overlodaing안됨\n",
        "3. 외부자원을 변경할 수 없음 (global, nonlocal로 변경 가능)\n",
        "interning\n",
        "1. 숫자(-5 ~ 256) : intern으로 지정 할 수 없음\n",
        "2. 문자(a-zA-Z0-9_) : intern으로 지정 할 수 있음\n",
        "module And package\n",
        "1. 모듈\n",
        "2. 패키지\n",
        "\n",
        "import 모듈 == from 모듈 import*  \n",
        "from 패키지.모듈 import 변수, 함수, 클래스\n",
        "\n",
        "import 모듈 as alias == import numpy as np\n"
      ],
      "metadata": {
        "id": "LPH-eQpQVoav"
      }
    }
  ]
}