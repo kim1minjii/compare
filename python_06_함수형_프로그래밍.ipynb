{
  "nbformat": 4,
  "nbformat_minor": 0,
  "metadata": {
    "colab": {
      "provenance": [],
      "toc_visible": true,
      "authorship_tag": "ABX9TyNMzJCM/j/NIazeF5CiYGno",
      "include_colab_link": true
    },
    "kernelspec": {
      "name": "python3",
      "display_name": "Python 3"
    },
    "language_info": {
      "name": "python"
    }
  },
  "cells": [
    {
      "cell_type": "markdown",
      "metadata": {
        "id": "view-in-github",
        "colab_type": "text"
      },
      "source": [
        "<a href=\"https://colab.research.google.com/github/kim1minjii/pythondemo/blob/master/python_06_%ED%95%A8%EC%88%98%ED%98%95_%ED%94%84%EB%A1%9C%EA%B7%B8%EB%9E%98%EB%B0%8D.ipynb\" target=\"_parent\"><img src=\"https://colab.research.google.com/assets/colab-badge.svg\" alt=\"Open In Colab\"/></a>"
      ]
    },
    {
      "cell_type": "markdown",
      "source": [
        "###1.함수형 프로그래밍\n",
        "1. 함수형 정의\n",
        "2. 함수형 프로그래밍의 기본 원리들\n",
        "- 순수함수와 비순수함수\n",
        "- 람다함수"
      ],
      "metadata": {
        "id": "sbjuLsR-YFIO"
      }
    },
    {
      "cell_type": "markdown",
      "source": [
        "###람다함수(lambda)"
      ],
      "metadata": {
        "id": "RLbFjEcockH1"
      }
    },
    {
      "cell_type": "code",
      "source": [
        "#lambda로 만든 익명함수를 호출하려면 람다 표현식을 변수에 할당해야 한다.\n",
        "plus_ten2=lambda x:x+10\n",
        "plus_ten2(1)"
      ],
      "metadata": {
        "colab": {
          "base_uri": "https://localhost:8080/"
        },
        "id": "mWHV_xMBcO5t",
        "outputId": "fbe3430f-655b-408c-c2e2-a309c87a4939"
      },
      "execution_count": null,
      "outputs": [
        {
          "output_type": "execute_result",
          "data": {
            "text/plain": [
              "11"
            ]
          },
          "metadata": {},
          "execution_count": 113
        }
      ]
    },
    {
      "cell_type": "code",
      "source": [
        "#람다 표현식은 변수에 할당하지 않고 람다 표현식 자체를 바로 호출할 수 있다.\n",
        "#(lambda 매개변수들:식)(인수들)\n",
        "(lambda x:x+10)(1)"
      ],
      "metadata": {
        "colab": {
          "base_uri": "https://localhost:8080/"
        },
        "id": "CRfz5wQAcwbd",
        "outputId": "a334ccaa-b608-4bb7-cb0a-ae71101e1dbe"
      },
      "execution_count": null,
      "outputs": [
        {
          "output_type": "execute_result",
          "data": {
            "text/plain": [
              "11"
            ]
          },
          "metadata": {},
          "execution_count": 115
        }
      ]
    },
    {
      "cell_type": "code",
      "source": [
        "#람다 표현식 안에서는 변수를 만들 수 없다.\n",
        "(lambda x:y=10; x+y)(1)"
      ],
      "metadata": {
        "id": "vEnsndB0Zvbm",
        "colab": {
          "base_uri": "https://localhost:8080/",
          "height": 136
        },
        "outputId": "959f239d-9354-40df-c345-10a9fae40847"
      },
      "execution_count": null,
      "outputs": [
        {
          "output_type": "error",
          "ename": "SyntaxError",
          "evalue": "ignored",
          "traceback": [
            "\u001b[0;36m  File \u001b[0;32m\"<ipython-input-111-e0de8e4aec57>\"\u001b[0;36m, line \u001b[0;32m2\u001b[0m\n\u001b[0;31m    (lambda x:y=10; x+y)(1)\u001b[0m\n\u001b[0m               ^\u001b[0m\n\u001b[0;31mSyntaxError\u001b[0m\u001b[0;31m:\u001b[0m invalid syntax\n"
          ]
        }
      ]
    },
    {
      "cell_type": "code",
      "source": [
        "#람다 표현식 바깥에 있는 변수는 사용할 수 있다.\n",
        "y=10\n",
        "(lambda x:x+y)(1)"
      ],
      "metadata": {
        "colab": {
          "base_uri": "https://localhost:8080/"
        },
        "id": "Yp2fSt2icKS9",
        "outputId": "402ad08e-4a84-4de2-a1a4-c99ff73a9caf"
      },
      "execution_count": null,
      "outputs": [
        {
          "output_type": "execute_result",
          "data": {
            "text/plain": [
              "11"
            ]
          },
          "metadata": {},
          "execution_count": 116
        }
      ]
    },
    {
      "cell_type": "code",
      "source": [
        "#higher order function\n",
        "#함수의 인자에 함수를 넣을 수 있고, 함수의 결과가 함수일 수 있는 것을 higher order function이라고 한다.\n",
        "#function을 인자로 사용할 수 있음\n",
        "#function을 return을 사용할 수 있음\n",
        "def foo(func, a):\n",
        "  return func(a)\n",
        "\n",
        "def ss(a):\n",
        "  return a+1\n",
        "foo(ss,1)"
      ],
      "metadata": {
        "colab": {
          "base_uri": "https://localhost:8080/"
        },
        "id": "6PLOweFPdGgN",
        "outputId": "a4a405c3-aa88-4140-c075-52c1e7f25b34"
      },
      "execution_count": null,
      "outputs": [
        {
          "output_type": "execute_result",
          "data": {
            "text/plain": [
              "2"
            ]
          },
          "metadata": {},
          "execution_count": 123
        }
      ]
    },
    {
      "cell_type": "markdown",
      "source": [
        "###closure\n",
        "중첩함수에서  \n",
        "내부함수를 리턴해줘야 함\n",
        "외부(outer)함수가 끝났어도, 외부(outer)함수에 있는 자원을 사용하기 위해서"
      ],
      "metadata": {
        "id": "CW4fwswNhXAs"
      }
    },
    {
      "cell_type": "code",
      "source": [
        "#python공식문서에는 없는 용어이지만, 다음과 같이 함수를 중첩해서 사용하는 기법을 closure라고 한다.\n",
        "#중첩함수\n",
        "def x(n):\n",
        "  def y(m):\n",
        "    return n+m\n",
        "  return y"
      ],
      "metadata": {
        "id": "PgSxIiRudzkt"
      },
      "execution_count": null,
      "outputs": []
    },
    {
      "cell_type": "code",
      "source": [
        "x(3)"
      ],
      "metadata": {
        "colab": {
          "base_uri": "https://localhost:8080/"
        },
        "id": "jTsu0_D3hPkM",
        "outputId": "0cd21307-b00a-486b-fe53-f71711cd96dd"
      },
      "execution_count": null,
      "outputs": [
        {
          "output_type": "execute_result",
          "data": {
            "text/plain": [
              "<function __main__.x.<locals>.y(m)>"
            ]
          },
          "metadata": {},
          "execution_count": 127
        }
      ]
    },
    {
      "cell_type": "code",
      "source": [
        "k=x(3)"
      ],
      "metadata": {
        "id": "rdaGG7RShSTE"
      },
      "execution_count": null,
      "outputs": []
    },
    {
      "cell_type": "code",
      "source": [
        "k(4)"
      ],
      "metadata": {
        "colab": {
          "base_uri": "https://localhost:8080/"
        },
        "id": "zJFaI48vhve8",
        "outputId": "59a9ac3e-158f-46a0-8013-747ad44fedd8"
      },
      "execution_count": null,
      "outputs": [
        {
          "output_type": "execute_result",
          "data": {
            "text/plain": [
              "7"
            ]
          },
          "metadata": {},
          "execution_count": 130
        }
      ]
    },
    {
      "cell_type": "markdown",
      "source": [
        "###일급객체함수(first class function)\n",
        "\n",
        "- python의 가장 중요한 개념은 객체(object)이다.\n",
        "- first class를 직역하면 1급인데, 함수를 객체처럼 사용할 수 있는 패러다임을 first class function이라고 한다.\n",
        "1. 변수나 데이터 구조에 넣을 수 있어야 한다.\n",
        "2. 매개변수에 전달할 수 있어야 한다.\n",
        "3. 반환값으로 사용할 수 있어야 한다."
      ],
      "metadata": {
        "id": "nkmTE_D6h1ns"
      }
    },
    {
      "cell_type": "markdown",
      "source": [
        "###Loop와 비교\n",
        "- loop를 쓰면 이해하기 쉬운 장점이 있음  \n",
        "- loop는 index 접근 가능\n",
        "- loop는 논리적 흐름을 깨는 경우가 있어 프로그램의 버그를 만들기 쉬운 단점이 있다.  \n",
        "- 코드를 이해하기 위해서 왔다갔다 해야 하므로 loop는 속도가 느리다.\n",
        "\n",
        "loop를 사용하지 않는 기법\n",
        "functional paradigm 에서는 loop를 사용하지 않는 기법을 선호한다.\n",
        "1. iterator, generator\n",
        "2. recursion\n",
        "3. ***comprehension***\n",
        "4. map, filter, reduce"
      ],
      "metadata": {
        "id": "OZFnewOXibS0"
      }
    },
    {
      "cell_type": "markdown",
      "source": [
        "###Comprehension\n",
        "comprehension이란 iterable한 오브젝트를 생성하기 위한 방법 중 하나이다.  \n",
        "iterable객체를 생성 할 수 있도록 제공해주는 기법이다. (list, set, dict)\n",
        "1. List Comprehension(LS)\n",
        "2. Set Comprehension(SC)\n",
        "3. Dict Comprehension(DC)\n",
        "\n",
        "tuple은 comprehension은 안되고 generator이다."
      ],
      "metadata": {
        "id": "qQCdJ0F6k95r"
      }
    },
    {
      "cell_type": "code",
      "source": [
        "#ListComprehension\n",
        "#리스트 정의 시 값을 정하지 않고 호출 시 리스트 내의 값들이 처리되도록 구성\n",
        "#A=[표현식 for i in sequence if 논리식]\n",
        "squares = []\n",
        "for x in range(10):\n",
        "  squares.append(x**2)\n",
        "\n",
        "print (squares)"
      ],
      "metadata": {
        "colab": {
          "base_uri": "https://localhost:8080/"
        },
        "id": "IX17lvAFlTN7",
        "outputId": "25d300d5-7ad7-4cf4-991a-505f86b063e8"
      },
      "execution_count": null,
      "outputs": [
        {
          "output_type": "stream",
          "name": "stdout",
          "text": [
            "[0, 1, 4, 9, 16, 25, 36, 49, 64, 81]\n"
          ]
        }
      ]
    },
    {
      "cell_type": "code",
      "source": [
        "# |->\n",
        "squares =  [x**2 for x in range(10)]\n",
        "print (squares)"
      ],
      "metadata": {
        "colab": {
          "base_uri": "https://localhost:8080/"
        },
        "id": "ySNEY91Ilq5j",
        "outputId": "bed5a132-20db-4e0b-a6d9-1d82b213ce7b"
      },
      "execution_count": null,
      "outputs": [
        {
          "output_type": "stream",
          "name": "stdout",
          "text": [
            "[0, 1, 4, 9, 16, 25, 36, 49, 64, 81]\n"
          ]
        }
      ]
    },
    {
      "cell_type": "markdown",
      "source": [
        "List Comprehension  \n"
      ],
      "metadata": {
        "id": "QJKYKEXwlnPj"
      }
    },
    {
      "cell_type": "code",
      "source": [
        "#리스트 내의 다중 for문을 이용해서 처리  \n",
        "#A=[표현식 for i in sequence for j in sequence if 논리식]\n",
        "ll=[]\n",
        "for i in range(5):\n",
        "  for j in range(5):\n",
        "    if j % 2 == 0:\n",
        "      ll.append((i,j))\n",
        "print(ll)\n",
        "l=[(x,y) for x in range(5) for y in range(5) if y %2 == 0]\n",
        "print(l)\n",
        "\n",
        "print(ll==l) # j가 짝수 출력"
      ],
      "metadata": {
        "colab": {
          "base_uri": "https://localhost:8080/"
        },
        "id": "Vn3In2Ldmpyb",
        "outputId": "a2746628-93dc-49c3-9a75-53e02133ec01"
      },
      "execution_count": null,
      "outputs": [
        {
          "output_type": "stream",
          "name": "stdout",
          "text": [
            "[(0, 0), (0, 2), (0, 4), (1, 0), (1, 2), (1, 4), (2, 0), (2, 2), (2, 4), (3, 0), (3, 2), (3, 4), (4, 0), (4, 2), (4, 4)]\n",
            "[(0, 0), (0, 2), (0, 4), (1, 0), (1, 2), (1, 4), (2, 0), (2, 2), (2, 4), (3, 0), (3, 2), (3, 4), (4, 0), (4, 2), (4, 4)]\n",
            "True\n"
          ]
        }
      ]
    },
    {
      "cell_type": "code",
      "source": [
        "#List Comprehension 에서 함수 내부 로직에서 외부변수를 참조할 때 모든 순환이동된 결과를 참조\n",
        "lh=[lambda x : x+n for n in range(5)]\n",
        "print(lh)\n",
        "for i in lh:\n",
        "  print(i(0))\n"
      ],
      "metadata": {
        "colab": {
          "base_uri": "https://localhost:8080/"
        },
        "id": "QlXhTv9GnBYc",
        "outputId": "82f57722-6b4c-4ea7-80de-d020d00248c4"
      },
      "execution_count": null,
      "outputs": [
        {
          "output_type": "stream",
          "name": "stdout",
          "text": [
            "[<function <listcomp>.<lambda> at 0x7f824b540040>, <function <listcomp>.<lambda> at 0x7f824b7563a0>, <function <listcomp>.<lambda> at 0x7f824b4b0d30>, <function <listcomp>.<lambda> at 0x7f824b4b0820>, <function <listcomp>.<lambda> at 0x7f824b4b0940>]\n",
            "4\n",
            "4\n",
            "4\n",
            "4\n",
            "4\n"
          ]
        }
      ]
    },
    {
      "cell_type": "code",
      "source": [
        "print(type(lh))\n",
        "lh[0]"
      ],
      "metadata": {
        "colab": {
          "base_uri": "https://localhost:8080/"
        },
        "id": "Vh_b488BnofL",
        "outputId": "3d568db5-b60c-4e23-c698-153f57fe8636"
      },
      "execution_count": null,
      "outputs": [
        {
          "output_type": "stream",
          "name": "stdout",
          "text": [
            "<class 'list'>\n"
          ]
        },
        {
          "output_type": "execute_result",
          "data": {
            "text/plain": [
              "<function __main__.<listcomp>.<lambda>(x)>"
            ]
          },
          "metadata": {},
          "execution_count": 141
        }
      ]
    },
    {
      "cell_type": "code",
      "source": [
        "i=lh[0]\n",
        "print(i(0))"
      ],
      "metadata": {
        "colab": {
          "base_uri": "https://localhost:8080/"
        },
        "id": "JJJb1Y33prMT",
        "outputId": "ebf812f3-9f0a-430b-a8d3-580d6274dd51"
      },
      "execution_count": null,
      "outputs": [
        {
          "output_type": "stream",
          "name": "stdout",
          "text": [
            "4\n"
          ]
        }
      ]
    },
    {
      "cell_type": "code",
      "source": [
        "lh[1]"
      ],
      "metadata": {
        "colab": {
          "base_uri": "https://localhost:8080/"
        },
        "id": "ebRws7K8pRIj",
        "outputId": "afe32932-7cba-4a50-c3c2-bf8b87b1d9e6"
      },
      "execution_count": null,
      "outputs": [
        {
          "output_type": "execute_result",
          "data": {
            "text/plain": [
              "<function __main__.<listcomp>.<lambda>(x)>"
            ]
          },
          "metadata": {},
          "execution_count": 140
        }
      ]
    },
    {
      "cell_type": "code",
      "source": [
        "#List Comprehension 에 있는 변수를 함수의 파라미터 초기값으로 세팅하면 원하는 숫자대로 처리됨\n",
        "lh=[lambda x, m=n : x+m for n in range(5)]\n",
        "print(lh)\n",
        "for i in lh:\n",
        "  print(i(0))"
      ],
      "metadata": {
        "colab": {
          "base_uri": "https://localhost:8080/"
        },
        "id": "Li-DNOzJpUYT",
        "outputId": "3f2a6cf3-3681-41e0-f318-d9045b20b8c5"
      },
      "execution_count": null,
      "outputs": [
        {
          "output_type": "stream",
          "name": "stdout",
          "text": [
            "[<function <listcomp>.<lambda> at 0x7f824b4df940>, <function <listcomp>.<lambda> at 0x7f824b4df0d0>, <function <listcomp>.<lambda> at 0x7f824b4dff70>, <function <listcomp>.<lambda> at 0x7f824b4df700>, <function <listcomp>.<lambda> at 0x7f824b4df5e0>]\n",
            "0\n",
            "1\n",
            "2\n",
            "3\n",
            "4\n"
          ]
        }
      ]
    },
    {
      "cell_type": "markdown",
      "source": [
        "Dict Comprehension  \n",
        "\n"
      ],
      "metadata": {
        "id": "_FU6E3PGqlWB"
      }
    },
    {
      "cell_type": "code",
      "source": [
        "#사전 정의 시 값을 정하지 않고 호출 시 사전 내의 값들이 처리되도록 구성  \n",
        "#A={표현식 for (k,v) in sequence if 논리식}\n",
        "d={}\n",
        "for (k,v) in zip(range(9), range(9)):\n",
        "  d[k]=v\n",
        "print (d)"
      ],
      "metadata": {
        "colab": {
          "base_uri": "https://localhost:8080/"
        },
        "id": "VuV3HxWMunFZ",
        "outputId": "d53f780a-e781-4689-9551-ff61ea7e362b"
      },
      "execution_count": null,
      "outputs": [
        {
          "output_type": "stream",
          "name": "stdout",
          "text": [
            "{0: 0, 1: 1, 2: 2, 3: 3, 4: 4, 5: 5, 6: 6, 7: 7, 8: 8}\n"
          ]
        }
      ]
    },
    {
      "cell_type": "code",
      "source": [
        "#|->\n",
        "d1={x:y for(x,y) in zip(range(9),range(9))}\n",
        "print(d1)"
      ],
      "metadata": {
        "colab": {
          "base_uri": "https://localhost:8080/"
        },
        "id": "JRj1mJE_uweB",
        "outputId": "d8508596-1d09-42ff-c66f-dcc02680e89e"
      },
      "execution_count": null,
      "outputs": [
        {
          "output_type": "stream",
          "name": "stdout",
          "text": [
            "{0: 0, 1: 1, 2: 2, 3: 3, 4: 4, 5: 5, 6: 6, 7: 7, 8: 8}\n"
          ]
        }
      ]
    },
    {
      "cell_type": "code",
      "source": [
        "#dict 타입에 대한 comprehension 생성\n",
        "#A={표현식 for i in sequence if 논리식}\n",
        "\n",
        "a={'x' : 1, 'y' : 2, 'z' : 3}\n",
        "b={'w' : 10, 'x' : 11, 'y' : 2}\n",
        "\n",
        "print(a.keys() & b.keys())\n",
        "print(type(a.keys()))\n",
        "c={key:a[key] for key in a.keys() - {'z','w'}}\n",
        "\n",
        "print(c)"
      ],
      "metadata": {
        "colab": {
          "base_uri": "https://localhost:8080/"
        },
        "id": "2kzj4lpCvBlY",
        "outputId": "9fb29f93-543f-4cf4-d5fe-1667b9dad075"
      },
      "execution_count": null,
      "outputs": [
        {
          "output_type": "stream",
          "name": "stdout",
          "text": [
            "{'x', 'y'}\n",
            "<class 'dict_keys'>\n",
            "{'x': 1, 'y': 2}\n"
          ]
        }
      ]
    },
    {
      "cell_type": "code",
      "source": [
        "#dict 내의 다중 for문을 이용해서 처리\n",
        "#A={표현식 for i in sequence for j in sequence if 논리식}\n",
        "\n",
        "ll={}\n",
        "for i in range(5):\n",
        "  for j in range(5):\n",
        "    if j % 2 == 0:\n",
        "      ll.setdefault(i,4) #\n",
        "\n",
        "print(ll)\n",
        "\n",
        "l={x:y for x in range(5) for y in range(5) if y % 2 == 0}\n",
        "print(l)\n",
        "\n",
        "print(ll == l)"
      ],
      "metadata": {
        "colab": {
          "base_uri": "https://localhost:8080/"
        },
        "id": "pf4uBQZgwMX5",
        "outputId": "0949e8a1-3c60-45ab-caba-60207f720752"
      },
      "execution_count": null,
      "outputs": [
        {
          "output_type": "stream",
          "name": "stdout",
          "text": [
            "{0: 4, 1: 4, 2: 4, 3: 4, 4: 4}\n",
            "{0: 4, 1: 4, 2: 4, 3: 4, 4: 4}\n",
            "True\n"
          ]
        }
      ]
    },
    {
      "cell_type": "code",
      "source": [
        "l={x:y for x in range(5) for y in range(7) if y % 2 == 0} # if y % 2 == 0 의미없는 값\n",
        "print(l)"
      ],
      "metadata": {
        "colab": {
          "base_uri": "https://localhost:8080/"
        },
        "id": "GmgaN6ndxW6I",
        "outputId": "9e084a9f-757e-4e7f-fef2-68e7085c942c"
      },
      "execution_count": null,
      "outputs": [
        {
          "output_type": "stream",
          "name": "stdout",
          "text": [
            "{0: 6, 1: 6, 2: 6, 3: 6, 4: 6}\n"
          ]
        }
      ]
    },
    {
      "cell_type": "code",
      "source": [
        "l={x:y for x in range(5) for y in range(6)} \n",
        "print(l)"
      ],
      "metadata": {
        "colab": {
          "base_uri": "https://localhost:8080/"
        },
        "id": "F1_Sh91nzKtw",
        "outputId": "d4d063f5-2a5a-45d8-97e6-9bc01b5f57d4"
      },
      "execution_count": null,
      "outputs": [
        {
          "output_type": "stream",
          "name": "stdout",
          "text": [
            "{0: 5, 1: 5, 2: 5, 3: 5, 4: 5}\n"
          ]
        }
      ]
    },
    {
      "cell_type": "markdown",
      "source": [
        "Set Comprehension"
      ],
      "metadata": {
        "id": "c7XiwpSey5g4"
      }
    },
    {
      "cell_type": "code",
      "source": [
        "#Set 정의 시 값을 정하지 않고 호출 시 Set 내의 값들이 처리되도록 구성  \n",
        "#A={표현식 for i in sequence if 논리식}\n",
        "s=set()\n",
        "for i in range(10):\n",
        "  s.add(i)\n",
        "print (s)"
      ],
      "metadata": {
        "colab": {
          "base_uri": "https://localhost:8080/"
        },
        "id": "F6J0WsCDzrXY",
        "outputId": "a70fb343-0a8b-4c28-d099-3f350ceea206"
      },
      "execution_count": null,
      "outputs": [
        {
          "output_type": "stream",
          "name": "stdout",
          "text": [
            "{0, 1, 2, 3, 4, 5, 6, 7, 8, 9}\n"
          ]
        }
      ]
    },
    {
      "cell_type": "code",
      "source": [
        "#|->\n",
        "s1={x for x in range(10)}\n",
        "print (s1)"
      ],
      "metadata": {
        "colab": {
          "base_uri": "https://localhost:8080/"
        },
        "id": "6nJq01GAzxIQ",
        "outputId": "dd74b22a-8913-48f0-beaf-e2b3992209d4"
      },
      "execution_count": null,
      "outputs": [
        {
          "output_type": "stream",
          "name": "stdout",
          "text": [
            "{0, 1, 2, 3, 4, 5, 6, 7, 8, 9}\n"
          ]
        }
      ]
    },
    {
      "cell_type": "code",
      "source": [
        "#set 내의 다중 for문을 이용해서 처리\n",
        "#A={표현식 for i in sequence for j in sequence if 논리식}\n",
        "\n",
        "ll=set()\n",
        "for i in range(5):\n",
        "  for j in range(5):\n",
        "    if j % 2 == 0:\n",
        "      ll.add((i,j))\n",
        "\n",
        "print(ll)\n",
        "\n",
        "l={(x,y) for x in range(5) for y in range(5) if y %2 == 0}\n",
        "print(l)\n",
        "\n",
        "print(ll == l)"
      ],
      "metadata": {
        "colab": {
          "base_uri": "https://localhost:8080/"
        },
        "id": "LvImcHjwz4pQ",
        "outputId": "07460264-1876-4c79-daae-b4303235e276"
      },
      "execution_count": null,
      "outputs": [
        {
          "output_type": "stream",
          "name": "stdout",
          "text": [
            "{(4, 4), (2, 4), (1, 2), (0, 4), (3, 4), (4, 0), (0, 0), (2, 0), (1, 4), (3, 0), (4, 2), (0, 2), (2, 2), (1, 0), (3, 2)}\n",
            "{(4, 4), (2, 4), (1, 2), (0, 4), (3, 4), (4, 0), (0, 0), (2, 0), (1, 4), (3, 0), (4, 2), (0, 2), (2, 2), (1, 0), (3, 2)}\n",
            "True\n"
          ]
        }
      ]
    },
    {
      "cell_type": "code",
      "source": [
        "#b=dict({x,y for x, y in enumerate(['red'.'green', 'blue'])})\n",
        "b=dict({x,y for x, y in zip(range)})\n"
      ],
      "metadata": {
        "id": "aNmqwhjI0fxf",
        "outputId": "56a9e4d7-ac03-449a-adff-d107ba3a6d37",
        "colab": {
          "base_uri": "https://localhost:8080/",
          "height": 136
        }
      },
      "execution_count": null,
      "outputs": [
        {
          "output_type": "error",
          "ename": "SyntaxError",
          "evalue": "ignored",
          "traceback": [
            "\u001b[0;36m  File \u001b[0;32m\"<ipython-input-1-9e8f44837bb5>\"\u001b[0;36m, line \u001b[0;32m2\u001b[0m\n\u001b[0;31m    b=dict({x,y for x, y in zip(range)})\u001b[0m\n\u001b[0m                ^\u001b[0m\n\u001b[0;31mSyntaxError\u001b[0m\u001b[0;31m:\u001b[0m invalid syntax\n"
          ]
        }
      ]
    },
    {
      "cell_type": "markdown",
      "source": [
        "###recursion  \n",
        "함수가 자기 자신을 다시 실행하는 기법이다."
      ],
      "metadata": {
        "id": "XZ9AXkmgBfN8"
      }
    },
    {
      "cell_type": "code",
      "source": [
        "def x(t):\n",
        "  if t<3:\n",
        "    return 1\n",
        "  return x(t-1)"
      ],
      "metadata": {
        "id": "Ew8oIuvCBrmC"
      },
      "execution_count": null,
      "outputs": []
    },
    {
      "cell_type": "code",
      "source": [
        "x(7)"
      ],
      "metadata": {
        "colab": {
          "base_uri": "https://localhost:8080/"
        },
        "id": "IAe9K-ybCUgZ",
        "outputId": "b85eade0-e699-4d74-e2bf-18e878a96633"
      },
      "execution_count": null,
      "outputs": [
        {
          "output_type": "execute_result",
          "data": {
            "text/plain": [
              "1"
            ]
          },
          "metadata": {},
          "execution_count": 3
        }
      ]
    },
    {
      "cell_type": "markdown",
      "source": [
        "###iterator  \n",
        "- iterable: iterator가 될 수 있는 것을 iterable이라고 한다. 반복문을 수행할 수 있는 객체  \n",
        "- iterator: 객체의 요소를 차례대로 가지고 올 수 있는 것\n",
        "\n"
      ],
      "metadata": {
        "id": "jm01aX3UC8UB"
      }
    },
    {
      "cell_type": "code",
      "source": [
        "a=[1,2,3]"
      ],
      "metadata": {
        "id": "5bKJt16wDr_o"
      },
      "execution_count": null,
      "outputs": []
    },
    {
      "cell_type": "code",
      "source": [
        "print(a) #a는 list"
      ],
      "metadata": {
        "colab": {
          "base_uri": "https://localhost:8080/"
        },
        "id": "Sllsz0KgESFa",
        "outputId": "80b1c8ae-7ab2-4c47-d537-e324da758bed"
      },
      "execution_count": null,
      "outputs": [
        {
          "output_type": "stream",
          "name": "stdout",
          "text": [
            "[1, 2, 3]\n"
          ]
        }
      ]
    },
    {
      "cell_type": "code",
      "source": [
        "print(type(a))"
      ],
      "metadata": {
        "colab": {
          "base_uri": "https://localhost:8080/"
        },
        "id": "3N5Rv8jxEThR",
        "outputId": "d03a9bbf-4b19-46c7-88bc-c1019e29ff82"
      },
      "execution_count": null,
      "outputs": [
        {
          "output_type": "stream",
          "name": "stdout",
          "text": [
            "<class 'list'>\n"
          ]
        }
      ]
    },
    {
      "cell_type": "code",
      "source": [
        "print(dir(a)) #a는 iterable. next없음"
      ],
      "metadata": {
        "colab": {
          "base_uri": "https://localhost:8080/"
        },
        "id": "5Soo1h8YEZSh",
        "outputId": "716b9f00-cd6c-4332-863e-1a5bc1ce6a10"
      },
      "execution_count": null,
      "outputs": [
        {
          "output_type": "stream",
          "name": "stdout",
          "text": [
            "['__add__', '__class__', '__contains__', '__delattr__', '__delitem__', '__dir__', '__doc__', '__eq__', '__format__', '__ge__', '__getattribute__', '__getitem__', '__gt__', '__hash__', '__iadd__', '__imul__', '__init__', '__init_subclass__', '__iter__', '__le__', '__len__', '__lt__', '__mul__', '__ne__', '__new__', '__reduce__', '__reduce_ex__', '__repr__', '__reversed__', '__rmul__', '__setattr__', '__setitem__', '__sizeof__', '__str__', '__subclasshook__', 'append', 'clear', 'copy', 'count', 'extend', 'index', 'insert', 'pop', 'remove', 'reverse', 'sort']\n"
          ]
        }
      ]
    },
    {
      "cell_type": "code",
      "source": [
        "b=iter(a) #signature를 보면 iterable을 인자로 받는다.\n",
        "b #iterator"
      ],
      "metadata": {
        "colab": {
          "base_uri": "https://localhost:8080/"
        },
        "id": "U56GZRINEh4p",
        "outputId": "91711de2-6763-4375-8d23-43acb96afea5"
      },
      "execution_count": null,
      "outputs": [
        {
          "output_type": "execute_result",
          "data": {
            "text/plain": [
              "<list_iterator at 0x7f58291dc7f0>"
            ]
          },
          "metadata": {},
          "execution_count": 37
        }
      ]
    },
    {
      "cell_type": "code",
      "source": [
        "print(dir(b)) #__next__"
      ],
      "metadata": {
        "colab": {
          "base_uri": "https://localhost:8080/"
        },
        "id": "BkqZw1k0ExEh",
        "outputId": "dea13444-1ab7-4a43-af3f-c92472aa17fe"
      },
      "execution_count": null,
      "outputs": [
        {
          "output_type": "stream",
          "name": "stdout",
          "text": [
            "['__class__', '__delattr__', '__dir__', '__doc__', '__eq__', '__format__', '__ge__', '__getattribute__', '__gt__', '__hash__', '__init__', '__init_subclass__', '__iter__', '__le__', '__length_hint__', '__lt__', '__ne__', '__new__', '__next__', '__reduce__', '__reduce_ex__', '__repr__', '__setattr__', '__setstate__', '__sizeof__', '__str__', '__subclasshook__']\n"
          ]
        }
      ]
    },
    {
      "cell_type": "code",
      "source": [
        "# next\n",
        "next(b)"
      ],
      "metadata": {
        "colab": {
          "base_uri": "https://localhost:8080/"
        },
        "id": "JCIyftU6FByZ",
        "outputId": "4680c3af-2a2b-486d-ee80-2e86509f2243"
      },
      "execution_count": null,
      "outputs": [
        {
          "output_type": "execute_result",
          "data": {
            "text/plain": [
              "1"
            ]
          },
          "metadata": {},
          "execution_count": 13
        }
      ]
    },
    {
      "cell_type": "code",
      "source": [
        "next(b)"
      ],
      "metadata": {
        "colab": {
          "base_uri": "https://localhost:8080/",
          "height": 176
        },
        "id": "huj-50p9FOeI",
        "outputId": "e9a71766-454d-48fc-b798-878fb6ee47ea"
      },
      "execution_count": null,
      "outputs": [
        {
          "output_type": "error",
          "ename": "StopIteration",
          "evalue": "ignored",
          "traceback": [
            "\u001b[0;31m---------------------------------------------------------------------------\u001b[0m",
            "\u001b[0;31mStopIteration\u001b[0m                             Traceback (most recent call last)",
            "\u001b[0;32m<ipython-input-35-adb3e17b0219>\u001b[0m in \u001b[0;36m<module>\u001b[0;34m\u001b[0m\n\u001b[0;32m----> 1\u001b[0;31m \u001b[0mnext\u001b[0m\u001b[0;34m(\u001b[0m\u001b[0mb\u001b[0m\u001b[0;34m)\u001b[0m\u001b[0;34m\u001b[0m\u001b[0;34m\u001b[0m\u001b[0m\n\u001b[0m",
            "\u001b[0;31mStopIteration\u001b[0m: "
          ]
        }
      ]
    },
    {
      "cell_type": "code",
      "source": [
        "next(b)"
      ],
      "metadata": {
        "colab": {
          "base_uri": "https://localhost:8080/"
        },
        "id": "yYRH2QvDFQXQ",
        "outputId": "1ea663e8-f17f-4afe-aecb-39033b5b6ca6"
      },
      "execution_count": null,
      "outputs": [
        {
          "output_type": "execute_result",
          "data": {
            "text/plain": [
              "3"
            ]
          },
          "metadata": {},
          "execution_count": 15
        }
      ]
    },
    {
      "cell_type": "code",
      "source": [
        "next(b) #3까지 있어서 세 번만 가능"
      ],
      "metadata": {
        "colab": {
          "base_uri": "https://localhost:8080/",
          "height": 176
        },
        "id": "lyxpqAH6FRMQ",
        "outputId": "b39eb05b-f302-4983-b2aa-111762160b1b"
      },
      "execution_count": null,
      "outputs": [
        {
          "output_type": "error",
          "ename": "StopIteration",
          "evalue": "ignored",
          "traceback": [
            "\u001b[0;31m---------------------------------------------------------------------------\u001b[0m",
            "\u001b[0;31mStopIteration\u001b[0m                             Traceback (most recent call last)",
            "\u001b[0;32m<ipython-input-17-5400e469c193>\u001b[0m in \u001b[0;36m<module>\u001b[0;34m\u001b[0m\n\u001b[0;32m----> 1\u001b[0;31m \u001b[0mnext\u001b[0m\u001b[0;34m(\u001b[0m\u001b[0mb\u001b[0m\u001b[0;34m)\u001b[0m \u001b[0;31m#3까지 있어서 세 번만 가능\u001b[0m\u001b[0;34m\u001b[0m\u001b[0;34m\u001b[0m\u001b[0m\n\u001b[0m",
            "\u001b[0;31mStopIteration\u001b[0m: "
          ]
        }
      ]
    },
    {
      "cell_type": "markdown",
      "source": [
        "iterater는 lazy기법이다. 메모리에 전체를 올리지 않고, 사용할 때마다 하나씩 메모리에 올린다.  \n",
        "- 메모리에 효율적으로 사용한다.\n",
        "- index, len을 사용 못한다."
      ],
      "metadata": {
        "id": "6ZUSx6wTG_5o"
      }
    },
    {
      "cell_type": "code",
      "source": [
        "a=[1,2,3]"
      ],
      "metadata": {
        "id": "iIt3KzpNHK1f"
      },
      "execution_count": null,
      "outputs": []
    },
    {
      "cell_type": "code",
      "source": [
        "print(dir(a)) #__iter__"
      ],
      "metadata": {
        "colab": {
          "base_uri": "https://localhost:8080/"
        },
        "id": "7-yxrSQUHNTA",
        "outputId": "444d9d32-2b01-4d89-93c9-c731e466702d"
      },
      "execution_count": null,
      "outputs": [
        {
          "output_type": "stream",
          "name": "stdout",
          "text": [
            "['__add__', '__class__', '__contains__', '__delattr__', '__delitem__', '__dir__', '__doc__', '__eq__', '__format__', '__ge__', '__getattribute__', '__getitem__', '__gt__', '__hash__', '__iadd__', '__imul__', '__init__', '__init_subclass__', '__iter__', '__le__', '__len__', '__lt__', '__mul__', '__ne__', '__new__', '__reduce__', '__reduce_ex__', '__repr__', '__reversed__', '__rmul__', '__setattr__', '__setitem__', '__sizeof__', '__str__', '__subclasshook__', 'append', 'clear', 'copy', 'count', 'extend', 'index', 'insert', 'pop', 'remove', 'reverse', 'sort']\n"
          ]
        }
      ]
    },
    {
      "cell_type": "code",
      "source": [
        "b=iter(a)\n",
        "print(b)"
      ],
      "metadata": {
        "colab": {
          "base_uri": "https://localhost:8080/"
        },
        "id": "u7lgxdE5HOKf",
        "outputId": "154aa403-ec51-4e41-d7cd-657c317f73d7"
      },
      "execution_count": null,
      "outputs": [
        {
          "output_type": "stream",
          "name": "stdout",
          "text": [
            "<list_iterator object at 0x7f58291923a0>\n"
          ]
        }
      ]
    },
    {
      "cell_type": "code",
      "source": [
        "b[0] #index 이용해서 접근 못 함. TypeError: 'list_iterator' object is not subscriptable"
      ],
      "metadata": {
        "colab": {
          "base_uri": "https://localhost:8080/",
          "height": 194
        },
        "id": "wsr3y3DOHYin",
        "outputId": "180296c1-b108-4f5a-dd9c-12ddf2f379f8"
      },
      "execution_count": null,
      "outputs": [
        {
          "output_type": "error",
          "ename": "TypeError",
          "evalue": "ignored",
          "traceback": [
            "\u001b[0;31m---------------------------------------------------------------------------\u001b[0m",
            "\u001b[0;31mTypeError\u001b[0m                                 Traceback (most recent call last)",
            "\u001b[0;32m<ipython-input-34-d8164101059f>\u001b[0m in \u001b[0;36m<module>\u001b[0;34m\u001b[0m\n\u001b[0;32m----> 1\u001b[0;31m \u001b[0mb\u001b[0m\u001b[0;34m[\u001b[0m\u001b[0;36m0\u001b[0m\u001b[0;34m]\u001b[0m \u001b[0;31m#index 이용해서 접근 못 함. TypeError: 'list_iterator' object is not subscriptable\u001b[0m\u001b[0;34m\u001b[0m\u001b[0;34m\u001b[0m\u001b[0m\n\u001b[0m",
            "\u001b[0;31mTypeError\u001b[0m: 'list_iterator' object is not subscriptable"
          ]
        }
      ]
    },
    {
      "cell_type": "code",
      "source": [
        "len(b) #사용안됨. TypeError: object of type 'list_iterator' has no len()"
      ],
      "metadata": {
        "colab": {
          "base_uri": "https://localhost:8080/",
          "height": 176
        },
        "id": "J1fv2_WrHc5w",
        "outputId": "b836adc7-6b06-428f-9275-aea52784d4a0"
      },
      "execution_count": null,
      "outputs": [
        {
          "output_type": "error",
          "ename": "TypeError",
          "evalue": "ignored",
          "traceback": [
            "\u001b[0;31m---------------------------------------------------------------------------\u001b[0m",
            "\u001b[0;31mTypeError\u001b[0m                                 Traceback (most recent call last)",
            "\u001b[0;32m<ipython-input-22-97d8916a185b>\u001b[0m in \u001b[0;36m<module>\u001b[0;34m\u001b[0m\n\u001b[0;32m----> 1\u001b[0;31m \u001b[0mlen\u001b[0m\u001b[0;34m(\u001b[0m\u001b[0mb\u001b[0m\u001b[0;34m)\u001b[0m\u001b[0;34m\u001b[0m\u001b[0;34m\u001b[0m\u001b[0m\n\u001b[0m",
            "\u001b[0;31mTypeError\u001b[0m: object of type 'list_iterator' has no len()"
          ]
        }
      ]
    },
    {
      "cell_type": "code",
      "source": [
        "#list로 바꿔주면 내부의 남은 값을 알 수 있다.\n",
        "#앞\n",
        "c = list(b)\n",
        "c"
      ],
      "metadata": {
        "colab": {
          "base_uri": "https://localhost:8080/"
        },
        "id": "T2bgHSoKHj7w",
        "outputId": "ecd65dfa-7450-491c-d6a0-128fecaddb1b"
      },
      "execution_count": null,
      "outputs": [
        {
          "output_type": "execute_result",
          "data": {
            "text/plain": [
              "[1, 2, 3]"
            ]
          },
          "metadata": {},
          "execution_count": 38
        }
      ]
    },
    {
      "cell_type": "code",
      "source": [
        "len(c)"
      ],
      "metadata": {
        "colab": {
          "base_uri": "https://localhost:8080/"
        },
        "id": "Ca1XL2eWIwNg",
        "outputId": "d9c64809-de6c-4205-e389-247f3ab0c0f4"
      },
      "execution_count": null,
      "outputs": [
        {
          "output_type": "execute_result",
          "data": {
            "text/plain": [
              "3"
            ]
          },
          "metadata": {},
          "execution_count": 39
        }
      ]
    },
    {
      "cell_type": "code",
      "source": [
        "c[1] #index가져올 수 있음"
      ],
      "metadata": {
        "colab": {
          "base_uri": "https://localhost:8080/"
        },
        "id": "inUpKvyyJDJv",
        "outputId": "b3c512c3-40d3-4134-80c2-4d2236ba4694"
      },
      "execution_count": null,
      "outputs": [
        {
          "output_type": "execute_result",
          "data": {
            "text/plain": [
              "2"
            ]
          },
          "metadata": {},
          "execution_count": 40
        }
      ]
    },
    {
      "cell_type": "code",
      "source": [
        "a={1,2,3} #집합\n",
        "b=iter(a)\n",
        "b"
      ],
      "metadata": {
        "colab": {
          "base_uri": "https://localhost:8080/"
        },
        "id": "nKX5VeC8JEMn",
        "outputId": "18c25aca-7a72-4a2e-ea44-80610e5e111d"
      },
      "execution_count": null,
      "outputs": [
        {
          "output_type": "execute_result",
          "data": {
            "text/plain": [
              "<set_iterator at 0x7f5829083300>"
            ]
          },
          "metadata": {},
          "execution_count": 41
        }
      ]
    },
    {
      "cell_type": "code",
      "source": [
        "next(b) #next이용해서 값 가져오기"
      ],
      "metadata": {
        "colab": {
          "base_uri": "https://localhost:8080/"
        },
        "id": "MwY5VFuNJkLn",
        "outputId": "51544da1-46dc-48ad-c35c-8d04d2c2f15d"
      },
      "execution_count": null,
      "outputs": [
        {
          "output_type": "execute_result",
          "data": {
            "text/plain": [
              "1"
            ]
          },
          "metadata": {},
          "execution_count": 42
        }
      ]
    },
    {
      "cell_type": "code",
      "source": [
        "c=set(b) #나머지 내부 값\n",
        "c"
      ],
      "metadata": {
        "colab": {
          "base_uri": "https://localhost:8080/"
        },
        "id": "KjK_hw2NJngX",
        "outputId": "73193075-559b-4a20-9fee-975b2a22a543"
      },
      "execution_count": null,
      "outputs": [
        {
          "output_type": "execute_result",
          "data": {
            "text/plain": [
              "{2, 3}"
            ]
          },
          "metadata": {},
          "execution_count": 43
        }
      ]
    },
    {
      "cell_type": "code",
      "source": [
        "a={'k':1,'m':2}\n",
        "b=iter(a)\n",
        "b"
      ],
      "metadata": {
        "colab": {
          "base_uri": "https://localhost:8080/"
        },
        "id": "uhQ16forJtZ3",
        "outputId": "029ec64d-e8ee-4513-bbb8-80e2fb6d8a8e"
      },
      "execution_count": null,
      "outputs": [
        {
          "output_type": "execute_result",
          "data": {
            "text/plain": [
              "<dict_keyiterator at 0x7f5829063cc0>"
            ]
          },
          "metadata": {},
          "execution_count": 57
        }
      ]
    },
    {
      "cell_type": "code",
      "source": [
        "#<dict_keyiterator at 0x7f582904cd60>: key값만 가져올 수 있다.\n",
        "next(b)"
      ],
      "metadata": {
        "colab": {
          "base_uri": "https://localhost:8080/",
          "height": 36
        },
        "id": "yA-bSPkaJ9En",
        "outputId": "29ca23f0-4754-4aea-a899-c98850c8200b"
      },
      "execution_count": null,
      "outputs": [
        {
          "output_type": "execute_result",
          "data": {
            "text/plain": [
              "'k'"
            ],
            "application/vnd.google.colaboratory.intrinsic+json": {
              "type": "string"
            }
          },
          "metadata": {},
          "execution_count": 58
        }
      ]
    },
    {
      "cell_type": "code",
      "source": [
        "c=dict(b) #b는 next에서 key만 가져오기 때문에 dict불가\n",
        "c"
      ],
      "metadata": {
        "colab": {
          "base_uri": "https://localhost:8080/",
          "height": 194
        },
        "id": "hgCM6LxKKBWn",
        "outputId": "1dc2b160-e095-48df-e3a9-d7265444309e"
      },
      "execution_count": null,
      "outputs": [
        {
          "output_type": "error",
          "ename": "ValueError",
          "evalue": "ignored",
          "traceback": [
            "\u001b[0;31m---------------------------------------------------------------------------\u001b[0m",
            "\u001b[0;31mValueError\u001b[0m                                Traceback (most recent call last)",
            "\u001b[0;32m<ipython-input-46-3807f243a3da>\u001b[0m in \u001b[0;36m<module>\u001b[0;34m\u001b[0m\n\u001b[0;32m----> 1\u001b[0;31m \u001b[0mc\u001b[0m\u001b[0;34m=\u001b[0m\u001b[0mdict\u001b[0m\u001b[0;34m(\u001b[0m\u001b[0mb\u001b[0m\u001b[0;34m)\u001b[0m\u001b[0;34m\u001b[0m\u001b[0;34m\u001b[0m\u001b[0m\n\u001b[0m\u001b[1;32m      2\u001b[0m \u001b[0mc\u001b[0m\u001b[0;34m\u001b[0m\u001b[0;34m\u001b[0m\u001b[0m\n",
            "\u001b[0;31mValueError\u001b[0m: dictionary update sequence element #0 has length 1; 2 is required"
          ]
        }
      ]
    },
    {
      "cell_type": "code",
      "source": [
        "c=set(b) #b의 key값 가져옴\n",
        "c"
      ],
      "metadata": {
        "colab": {
          "base_uri": "https://localhost:8080/"
        },
        "id": "j_3rp6OYKd6n",
        "outputId": "0313bcf5-cffb-4a17-bcc3-77abc2941563"
      },
      "execution_count": null,
      "outputs": [
        {
          "output_type": "execute_result",
          "data": {
            "text/plain": [
              "set()"
            ]
          },
          "metadata": {},
          "execution_count": 61
        }
      ]
    },
    {
      "cell_type": "markdown",
      "source": [
        "###generator\n",
        "tuple은 comprehension은 안되고 generator이다."
      ],
      "metadata": {
        "id": "XDqO5hlKLisO"
      }
    },
    {
      "cell_type": "code",
      "source": [
        "#generator 만드는 첫번째 방법: tuple을 comprehension처럼 사용\n",
        "(i for i in range(5)) #tuple"
      ],
      "metadata": {
        "colab": {
          "base_uri": "https://localhost:8080/"
        },
        "id": "54kHLsrHLXB3",
        "outputId": "628f4066-aa6e-49b9-ebb3-a7ac4f1e8243"
      },
      "execution_count": null,
      "outputs": [
        {
          "output_type": "execute_result",
          "data": {
            "text/plain": [
              "<generator object <genexpr> at 0x7f5829056580>"
            ]
          },
          "metadata": {},
          "execution_count": 62
        }
      ]
    },
    {
      "cell_type": "code",
      "source": [
        "[i for i in range(5)] #list"
      ],
      "metadata": {
        "colab": {
          "base_uri": "https://localhost:8080/"
        },
        "id": "r5JVQdOWLgL2",
        "outputId": "ddf6ba46-5ba7-4ce4-a9a0-edbdbe70e490"
      },
      "execution_count": null,
      "outputs": [
        {
          "output_type": "execute_result",
          "data": {
            "text/plain": [
              "[0, 1, 2, 3, 4]"
            ]
          },
          "metadata": {},
          "execution_count": 63
        }
      ]
    },
    {
      "cell_type": "code",
      "source": [
        "t=(i for i in range(5))\n",
        "t"
      ],
      "metadata": {
        "colab": {
          "base_uri": "https://localhost:8080/"
        },
        "id": "UQq-KSk6LsZW",
        "outputId": "bb8439de-9c6c-476c-d773-b8c86523426b"
      },
      "execution_count": null,
      "outputs": [
        {
          "output_type": "execute_result",
          "data": {
            "text/plain": [
              "<generator object <genexpr> at 0x7f5829056200>"
            ]
          },
          "metadata": {},
          "execution_count": 64
        }
      ]
    },
    {
      "cell_type": "code",
      "source": [
        "dir(t) #__iter__"
      ],
      "metadata": {
        "colab": {
          "base_uri": "https://localhost:8080/"
        },
        "id": "Js0fj0NmMLwu",
        "outputId": "3c82192c-a65c-44a5-fb54-f70a5de167cd"
      },
      "execution_count": null,
      "outputs": [
        {
          "output_type": "execute_result",
          "data": {
            "text/plain": [
              "['__class__',\n",
              " '__del__',\n",
              " '__delattr__',\n",
              " '__dir__',\n",
              " '__doc__',\n",
              " '__eq__',\n",
              " '__format__',\n",
              " '__ge__',\n",
              " '__getattribute__',\n",
              " '__gt__',\n",
              " '__hash__',\n",
              " '__init__',\n",
              " '__init_subclass__',\n",
              " '__iter__',\n",
              " '__le__',\n",
              " '__lt__',\n",
              " '__name__',\n",
              " '__ne__',\n",
              " '__new__',\n",
              " '__next__',\n",
              " '__qualname__',\n",
              " '__reduce__',\n",
              " '__reduce_ex__',\n",
              " '__repr__',\n",
              " '__setattr__',\n",
              " '__sizeof__',\n",
              " '__str__',\n",
              " '__subclasshook__',\n",
              " 'close',\n",
              " 'gi_code',\n",
              " 'gi_frame',\n",
              " 'gi_running',\n",
              " 'gi_yieldfrom',\n",
              " 'send',\n",
              " 'throw']"
            ]
          },
          "metadata": {},
          "execution_count": 65
        }
      ]
    },
    {
      "cell_type": "code",
      "source": [
        "print(dir(t)) #__next__, __iter__ 사용가능"
      ],
      "metadata": {
        "colab": {
          "base_uri": "https://localhost:8080/"
        },
        "id": "A_IMC3_MMNt-",
        "outputId": "65938832-452c-4077-b4c9-56dc25ff8bd7"
      },
      "execution_count": null,
      "outputs": [
        {
          "output_type": "stream",
          "name": "stdout",
          "text": [
            "['__class__', '__del__', '__delattr__', '__dir__', '__doc__', '__eq__', '__format__', '__ge__', '__getattribute__', '__gt__', '__hash__', '__init__', '__init_subclass__', '__iter__', '__le__', '__lt__', '__name__', '__ne__', '__new__', '__next__', '__qualname__', '__reduce__', '__reduce_ex__', '__repr__', '__setattr__', '__sizeof__', '__str__', '__subclasshook__', 'close', 'gi_code', 'gi_frame', 'gi_running', 'gi_yieldfrom', 'send', 'throw']\n"
          ]
        }
      ]
    },
    {
      "cell_type": "code",
      "source": [
        "next(t)"
      ],
      "metadata": {
        "colab": {
          "base_uri": "https://localhost:8080/"
        },
        "id": "TsSvWLhgMXf2",
        "outputId": "58c8f1ab-1f3e-48b1-c6ee-5f8f50ea06c8"
      },
      "execution_count": null,
      "outputs": [
        {
          "output_type": "execute_result",
          "data": {
            "text/plain": [
              "0"
            ]
          },
          "metadata": {},
          "execution_count": 67
        }
      ]
    },
    {
      "cell_type": "code",
      "source": [
        "next(t)"
      ],
      "metadata": {
        "colab": {
          "base_uri": "https://localhost:8080/"
        },
        "id": "hZCjPenGMg03",
        "outputId": "28601913-a6b4-4050-d915-ec78bfbab531"
      },
      "execution_count": null,
      "outputs": [
        {
          "output_type": "execute_result",
          "data": {
            "text/plain": [
              "1"
            ]
          },
          "metadata": {},
          "execution_count": 68
        }
      ]
    },
    {
      "cell_type": "code",
      "source": [
        "# generator 만드는 두번째 방법: yield를 이용하는 방법\n",
        "def y():\n",
        "  yield 1\n",
        "  yield 2"
      ],
      "metadata": {
        "id": "7c_WlezMMhkX"
      },
      "execution_count": null,
      "outputs": []
    },
    {
      "cell_type": "code",
      "source": [
        "y()"
      ],
      "metadata": {
        "colab": {
          "base_uri": "https://localhost:8080/"
        },
        "id": "lw2J0i7JQBgL",
        "outputId": "c70ea114-325f-4cef-cd93-0c00a88dfbce"
      },
      "execution_count": null,
      "outputs": [
        {
          "output_type": "execute_result",
          "data": {
            "text/plain": [
              "<generator object y at 0x7f58290563c0>"
            ]
          },
          "metadata": {},
          "execution_count": 70
        }
      ]
    },
    {
      "cell_type": "code",
      "source": [
        "t=y()\n",
        "t #generator"
      ],
      "metadata": {
        "colab": {
          "base_uri": "https://localhost:8080/"
        },
        "id": "ouy11OKCQCwm",
        "outputId": "c36feea3-5141-4421-e398-69af4167bd8a"
      },
      "execution_count": null,
      "outputs": [
        {
          "output_type": "execute_result",
          "data": {
            "text/plain": [
              "<generator object y at 0x7f5829056900>"
            ]
          },
          "metadata": {},
          "execution_count": 73
        }
      ]
    },
    {
      "cell_type": "code",
      "source": [
        "next(t)"
      ],
      "metadata": {
        "colab": {
          "base_uri": "https://localhost:8080/"
        },
        "id": "e8PYNUabQLaW",
        "outputId": "426a1e19-694b-4aff-bd33-2e19d175a35c"
      },
      "execution_count": null,
      "outputs": [
        {
          "output_type": "execute_result",
          "data": {
            "text/plain": [
              "1"
            ]
          },
          "metadata": {},
          "execution_count": 74
        }
      ]
    },
    {
      "cell_type": "code",
      "source": [
        "next(t)"
      ],
      "metadata": {
        "colab": {
          "base_uri": "https://localhost:8080/"
        },
        "id": "ABQRUOXyQRuu",
        "outputId": "287fa9fc-d6c9-40a6-a95a-5687fd39a681"
      },
      "execution_count": null,
      "outputs": [
        {
          "output_type": "execute_result",
          "data": {
            "text/plain": [
              "2"
            ]
          },
          "metadata": {},
          "execution_count": 76
        }
      ]
    },
    {
      "cell_type": "code",
      "source": [
        "next(t) #StopIteration:. 없음"
      ],
      "metadata": {
        "colab": {
          "base_uri": "https://localhost:8080/",
          "height": 176
        },
        "id": "zEm_XRXbQTZ-",
        "outputId": "399347b9-f4a8-4182-bf96-6eeb5fda198b"
      },
      "execution_count": null,
      "outputs": [
        {
          "output_type": "error",
          "ename": "StopIteration",
          "evalue": "ignored",
          "traceback": [
            "\u001b[0;31m---------------------------------------------------------------------------\u001b[0m",
            "\u001b[0;31mStopIteration\u001b[0m                             Traceback (most recent call last)",
            "\u001b[0;32m<ipython-input-77-f843efe259be>\u001b[0m in \u001b[0;36m<module>\u001b[0;34m\u001b[0m\n\u001b[0;32m----> 1\u001b[0;31m \u001b[0mnext\u001b[0m\u001b[0;34m(\u001b[0m\u001b[0mt\u001b[0m\u001b[0;34m)\u001b[0m\u001b[0;34m\u001b[0m\u001b[0;34m\u001b[0m\u001b[0m\n\u001b[0m",
            "\u001b[0;31mStopIteration\u001b[0m: "
          ]
        }
      ]
    },
    {
      "cell_type": "code",
      "source": [
        "# range(횟수)처럼 동작하는 generator 생성\n",
        "def num_gen(stop):\n",
        "  n = 0\n",
        "  while n < stop:\n",
        "    yield n\n",
        "    n += 1"
      ],
      "metadata": {
        "id": "4vaNgVE4Qiqm"
      },
      "execution_count": null,
      "outputs": []
    },
    {
      "cell_type": "code",
      "source": [
        "num_gen(3) #generator"
      ],
      "metadata": {
        "id": "lHbZXcuzRz39"
      },
      "execution_count": null,
      "outputs": []
    },
    {
      "cell_type": "code",
      "source": [
        "k = num_gen(3)"
      ],
      "metadata": {
        "id": "Y3c06VY5Rhi-"
      },
      "execution_count": null,
      "outputs": []
    },
    {
      "cell_type": "code",
      "source": [
        "next(k)"
      ],
      "metadata": {
        "colab": {
          "base_uri": "https://localhost:8080/"
        },
        "id": "WNXj_jgpRSg2",
        "outputId": "ce81b18c-f673-433a-850d-7ff73f73b0a7"
      },
      "execution_count": null,
      "outputs": [
        {
          "output_type": "execute_result",
          "data": {
            "text/plain": [
              "0"
            ]
          },
          "metadata": {},
          "execution_count": 98
        }
      ]
    },
    {
      "cell_type": "code",
      "source": [
        "for i in range(3):\n",
        "  print(i)"
      ],
      "metadata": {
        "colab": {
          "base_uri": "https://localhost:8080/"
        },
        "id": "XR3tVaJ6Rbdl",
        "outputId": "99dccf10-17f9-4c30-c6c8-93be83469b13"
      },
      "execution_count": null,
      "outputs": [
        {
          "output_type": "stream",
          "name": "stdout",
          "text": [
            "0\n",
            "1\n",
            "2\n"
          ]
        }
      ]
    },
    {
      "cell_type": "code",
      "source": [
        "next(k)"
      ],
      "metadata": {
        "colab": {
          "base_uri": "https://localhost:8080/"
        },
        "id": "doRaUuIfSEfu",
        "outputId": "3a8b2591-32f1-4c04-e7ff-5c232afe6c61"
      },
      "execution_count": null,
      "outputs": [
        {
          "output_type": "execute_result",
          "data": {
            "text/plain": [
              "1"
            ]
          },
          "metadata": {},
          "execution_count": 101
        }
      ]
    },
    {
      "cell_type": "code",
      "source": [
        "next(k)"
      ],
      "metadata": {
        "colab": {
          "base_uri": "https://localhost:8080/"
        },
        "id": "HmxwdRdpSY8V",
        "outputId": "a3ea8d18-ca52-442a-998d-d9a7bec82242"
      },
      "execution_count": null,
      "outputs": [
        {
          "output_type": "execute_result",
          "data": {
            "text/plain": [
              "2"
            ]
          },
          "metadata": {},
          "execution_count": 102
        }
      ]
    },
    {
      "cell_type": "code",
      "source": [
        "next(k) #StopIteration: "
      ],
      "metadata": {
        "colab": {
          "base_uri": "https://localhost:8080/",
          "height": 176
        },
        "id": "akDIDJykSaOV",
        "outputId": "a6c48e61-352c-4476-e96f-de3e5b2671fb"
      },
      "execution_count": null,
      "outputs": [
        {
          "output_type": "error",
          "ename": "StopIteration",
          "evalue": "ignored",
          "traceback": [
            "\u001b[0;31m---------------------------------------------------------------------------\u001b[0m",
            "\u001b[0;31mStopIteration\u001b[0m                             Traceback (most recent call last)",
            "\u001b[0;32m<ipython-input-103-413ff6b5fa2c>\u001b[0m in \u001b[0;36m<module>\u001b[0;34m\u001b[0m\n\u001b[0;32m----> 1\u001b[0;31m \u001b[0mnext\u001b[0m\u001b[0;34m(\u001b[0m\u001b[0mk\u001b[0m\u001b[0;34m)\u001b[0m\u001b[0;34m\u001b[0m\u001b[0;34m\u001b[0m\u001b[0m\n\u001b[0m",
            "\u001b[0;31mStopIteration\u001b[0m: "
          ]
        }
      ]
    },
    {
      "cell_type": "markdown",
      "source": [
        "###list comprehension(pickup_even)\n",
        "숫자로 구성된 하나의 리스트를 입력 받아, 짝수들을 추출하여  \n",
        "리스트로 반환하는 pickup_even 함수를 구현할 때 list comprehension을 사용"
      ],
      "metadata": {
        "id": "94XcboG9SavN"
      }
    },
    {
      "cell_type": "code",
      "source": [
        "#1.\n",
        "def pickup_even(items):\n",
        "  for i in items:\n",
        "    if i % 2 == 0:\n",
        "      print(i)"
      ],
      "metadata": {
        "id": "ac1P0FphT0U9"
      },
      "execution_count": null,
      "outputs": []
    },
    {
      "cell_type": "code",
      "source": [
        "pickup_even([3, 4, 5, 6, 7, 8])"
      ],
      "metadata": {
        "colab": {
          "base_uri": "https://localhost:8080/"
        },
        "id": "2etdlPCDUB19",
        "outputId": "4c006afa-6922-4323-f68e-a7f1070f4057"
      },
      "execution_count": null,
      "outputs": [
        {
          "output_type": "stream",
          "name": "stdout",
          "text": [
            "4\n",
            "6\n",
            "8\n"
          ]
        }
      ]
    },
    {
      "cell_type": "code",
      "source": [
        "#2. list 반복문\n",
        "a = []\n",
        "def pickup_even(items):\n",
        "  for i in items:\n",
        "    if i % 2 == 0:\n",
        "      a.append(i)\n",
        "  print(a)"
      ],
      "metadata": {
        "id": "uKhvg0g7UM3t"
      },
      "execution_count": null,
      "outputs": []
    },
    {
      "cell_type": "code",
      "source": [
        "pickup_even([3, 4, 5, 6, 7, 8])"
      ],
      "metadata": {
        "colab": {
          "base_uri": "https://localhost:8080/"
        },
        "id": "NgAAt57UUcpu",
        "outputId": "75db95cb-b05b-4d3a-c9b4-b1ba4d42653d"
      },
      "execution_count": null,
      "outputs": [
        {
          "output_type": "stream",
          "name": "stdout",
          "text": [
            "[4, 6, 8]\n"
          ]
        }
      ]
    },
    {
      "cell_type": "code",
      "source": [
        "#3. 반복문 이용하지 않고 List Comprehension\n",
        "a = []\n",
        "def pickup_even(items):\n",
        "  return [i for i in items if i % 2 == 0]"
      ],
      "metadata": {
        "id": "o9_wmlKOUeFt"
      },
      "execution_count": null,
      "outputs": []
    },
    {
      "cell_type": "code",
      "source": [
        "pickup_even([3, 4, 5, 6, 7, 8])"
      ],
      "metadata": {
        "colab": {
          "base_uri": "https://localhost:8080/"
        },
        "id": "jOr6KtAfUwcN",
        "outputId": "0a491037-37f2-4c52-cc8e-fcbc089444a4"
      },
      "execution_count": null,
      "outputs": [
        {
          "output_type": "execute_result",
          "data": {
            "text/plain": [
              "[4, 6, 8]"
            ]
          },
          "metadata": {},
          "execution_count": 109
        }
      ]
    },
    {
      "cell_type": "markdown",
      "source": [
        "총판매금액을 구하는 프로그램(List Comprehension)을 사용  \n",
        "데이터 분석 시 사용"
      ],
      "metadata": {
        "id": "02Q9skqeUy_d"
      }
    },
    {
      "cell_type": "code",
      "source": [
        "# 같은 인덱스를 묶어준다. zip\n",
        "cnt = [1, 1, 2, 1]\n",
        "prod = [500, 1000, 400, 600]\n",
        "sum([ c * p for c, p in zip(cnt, prod) ])"
      ],
      "metadata": {
        "colab": {
          "base_uri": "https://localhost:8080/"
        },
        "id": "EvFoFHF1Vrvl",
        "outputId": "530f5dde-7a11-4a91-bde3-aa0f26b72e60"
      },
      "execution_count": null,
      "outputs": [
        {
          "output_type": "execute_result",
          "data": {
            "text/plain": [
              "2900"
            ]
          },
          "metadata": {},
          "execution_count": 110
        }
      ]
    },
    {
      "cell_type": "markdown",
      "source": [
        "###Q.\n",
        "리스트에서 짝수 값만 추출해서 index와 함께 출력하는 프로그램을 구현하세요.  \n",
        "data = [1, 3, 5, 8, 9, 11, 15, 19, 18, 20, 30, 33, 31]"
      ],
      "metadata": {
        "id": "T75mVc2nWW7t"
      }
    },
    {
      "cell_type": "code",
      "source": [
        "data = [1, 3, 5, 8, 9, 11, 15, 19, 18, 20, 30, 33, 31]\n",
        "def pickup_even(items):\n",
        "  return[ i for i in items if i % 2 == 0 ]"
      ],
      "metadata": {
        "id": "avR5PDVVXLw8"
      },
      "execution_count": null,
      "outputs": []
    },
    {
      "cell_type": "code",
      "source": [
        "pickup_even(data)"
      ],
      "metadata": {
        "colab": {
          "base_uri": "https://localhost:8080/"
        },
        "id": "3BeB5zCaX1bF",
        "outputId": "9bb32c1b-f78e-4948-efcb-41f046d53a9c"
      },
      "execution_count": null,
      "outputs": [
        {
          "output_type": "execute_result",
          "data": {
            "text/plain": [
              "[8, 18, 20, 30]"
            ]
          },
          "metadata": {},
          "execution_count": 114
        }
      ]
    },
    {
      "cell_type": "code",
      "source": [
        "#구글링\n",
        "data = [1, 3, 5, 8, 9, 11, 15, 19, 18, 20, 30, 33, 31]\n",
        "for index, value in enumerate(data):\n",
        "  print(index, value)"
      ],
      "metadata": {
        "colab": {
          "base_uri": "https://localhost:8080/"
        },
        "id": "sU5NgwNMX6ws",
        "outputId": "f13087ae-a506-4ea8-da20-50635874b7b6"
      },
      "execution_count": null,
      "outputs": [
        {
          "output_type": "stream",
          "name": "stdout",
          "text": [
            "0 1\n",
            "1 3\n",
            "2 5\n",
            "3 8\n",
            "4 9\n",
            "5 11\n",
            "6 15\n",
            "7 19\n",
            "8 18\n",
            "9 20\n",
            "10 30\n",
            "11 33\n",
            "12 31\n"
          ]
        }
      ]
    },
    {
      "cell_type": "code",
      "source": [
        "#A.\n",
        "data = [1, 3, 5, 8, 9, 11, 15, 19, 18, 20, 30, 33, 31]\n",
        "for i, v in enumerate([i for i in data if i % 2 == 0]):\n",
        "  print(i,v)"
      ],
      "metadata": {
        "colab": {
          "base_uri": "https://localhost:8080/"
        },
        "id": "SMUTvhGdYM5t",
        "outputId": "3f2bbd2f-8917-4f15-9eda-f3c071535b0b"
      },
      "execution_count": null,
      "outputs": [
        {
          "output_type": "stream",
          "name": "stdout",
          "text": [
            "0 8\n",
            "1 18\n",
            "2 20\n",
            "3 30\n"
          ]
        }
      ]
    },
    {
      "cell_type": "markdown",
      "source": [
        "'e'가 포함되어 있는 과일들만 추출해서 대문자로 출력하는 프로그램을 구현하세요.  \n",
        "fruits = ['apple', 'banana', 'cherry', 'grape', 'kiwi', 'tomato']\n",
        "\n",
        "[출력결과]\n",
        "['APPLE', 'CHERRY', 'GRAPE']"
      ],
      "metadata": {
        "id": "QKiW6e-CaHKb"
      }
    },
    {
      "cell_type": "code",
      "source": [
        "fruits = ['apple', 'banana', 'cherry', 'grape', 'kiwi', 'tomato']\n",
        "result = [ f.upper() for f in fruits if 'e' in f ]\n",
        "print(result)"
      ],
      "metadata": {
        "colab": {
          "base_uri": "https://localhost:8080/"
        },
        "id": "i_NV-YzadevT",
        "outputId": "f24226a8-20d2-4ec0-e4aa-508defc4b07e"
      },
      "execution_count": null,
      "outputs": [
        {
          "output_type": "stream",
          "name": "stdout",
          "text": [
            "['APPLE', 'CHERRY', 'GRAPE']\n"
          ]
        }
      ]
    },
    {
      "cell_type": "code",
      "source": [],
      "metadata": {
        "id": "_0NxN_MeeSDE"
      },
      "execution_count": null,
      "outputs": []
    }
  ]
}