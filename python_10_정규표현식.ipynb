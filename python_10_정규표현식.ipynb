{
  "nbformat": 4,
  "nbformat_minor": 0,
  "metadata": {
    "colab": {
      "provenance": [],
      "toc_visible": true,
      "authorship_tag": "ABX9TyPvHrwKOESiRl/gETWRJiB7",
      "include_colab_link": true
    },
    "kernelspec": {
      "name": "python3",
      "display_name": "Python 3"
    },
    "language_info": {
      "name": "python"
    }
  },
  "cells": [
    {
      "cell_type": "markdown",
      "metadata": {
        "id": "view-in-github",
        "colab_type": "text"
      },
      "source": [
        "<a href=\"https://colab.research.google.com/github/kim1minjii/pythondemo/blob/master/python_10_%EC%A0%95%EA%B7%9C%ED%91%9C%ED%98%84%EC%8B%9D.ipynb\" target=\"_parent\"><img src=\"https://colab.research.google.com/assets/colab-badge.svg\" alt=\"Open In Colab\"/></a>"
      ]
    },
    {
      "cell_type": "markdown",
      "source": [
        "###정규표현식(Regular Express)\n",
        "메타문자 : 원래 그 문자가 가진 뜻이 아닌 특별한 용도로 사용되는 문자이다.  \n",
        "정규표현식에서 사용되는 문자 : ^$+?()"
      ],
      "metadata": {
        "id": "m9fjQEg2K4M3"
      }
    },
    {
      "cell_type": "code",
      "source": [
        "import re"
      ],
      "metadata": {
        "id": "NY_mA87MLHHA"
      },
      "execution_count": null,
      "outputs": []
    },
    {
      "cell_type": "code",
      "source": [
        "#[  ] : or\n",
        "p = re.compile('[a-z]')"
      ],
      "metadata": {
        "id": "h3xF4_LYLIxI"
      },
      "execution_count": null,
      "outputs": []
    },
    {
      "cell_type": "code",
      "source": [
        "m = p.match('python')"
      ],
      "metadata": {
        "id": "6PXytJY6Lg4n"
      },
      "execution_count": null,
      "outputs": []
    },
    {
      "cell_type": "code",
      "source": [
        "print(m)"
      ],
      "metadata": {
        "colab": {
          "base_uri": "https://localhost:8080/"
        },
        "id": "plw14uQKLjMn",
        "outputId": "e6dab9eb-f7fa-4fb1-9c22-d79a8d01ceea"
      },
      "execution_count": null,
      "outputs": [
        {
          "output_type": "stream",
          "name": "stdout",
          "text": [
            "<re.Match object; span=(0, 1), match='p'>\n"
          ]
        }
      ]
    },
    {
      "cell_type": "code",
      "source": [
        "n = p.search('python')\n",
        "n"
      ],
      "metadata": {
        "colab": {
          "base_uri": "https://localhost:8080/"
        },
        "id": "NxFMUgDKLkQH",
        "outputId": "67e4debc-75c9-48ed-960b-c4ecaaf3c161"
      },
      "execution_count": null,
      "outputs": [
        {
          "output_type": "execute_result",
          "data": {
            "text/plain": [
              "<re.Match object; span=(0, 1), match='p'>"
            ]
          },
          "metadata": {},
          "execution_count": 5
        }
      ]
    },
    {
      "cell_type": "code",
      "source": [
        "p = re.compile('[a-z]')"
      ],
      "metadata": {
        "id": "ng4r8ERQLzIn"
      },
      "execution_count": null,
      "outputs": []
    },
    {
      "cell_type": "code",
      "source": [
        "m = p.findall('3 life ti sto short')\n",
        "print(m)"
      ],
      "metadata": {
        "colab": {
          "base_uri": "https://localhost:8080/"
        },
        "id": "XSYGcI8QMDbY",
        "outputId": "3b35a727-7b3c-4678-eb0b-34763b383a1b"
      },
      "execution_count": null,
      "outputs": [
        {
          "output_type": "stream",
          "name": "stdout",
          "text": [
            "['l', 'i', 'f', 'e', 't', 'i', 's', 't', 'o', 's', 'h', 'o', 'r', 't']\n"
          ]
        }
      ]
    },
    {
      "cell_type": "code",
      "source": [
        "p = re.compile('[a-z]+') #영문자로 되어 있는 거 한 개 이상\n",
        "m = p.findall('li2fe is %to short3 e')\n",
        "print(m)"
      ],
      "metadata": {
        "colab": {
          "base_uri": "https://localhost:8080/"
        },
        "id": "LYQ5sOSyMMFY",
        "outputId": "24404a30-b193-4bb0-a4bc-927010c7d0ce"
      },
      "execution_count": null,
      "outputs": [
        {
          "output_type": "stream",
          "name": "stdout",
          "text": [
            "['li', 'fe', 'is', 'to', 'short', 'e']\n"
          ]
        }
      ]
    },
    {
      "cell_type": "code",
      "source": [
        "p = re.compile('[a-z]+')\n",
        "m = p.finditer('life is to short')\n",
        "print(m)"
      ],
      "metadata": {
        "colab": {
          "base_uri": "https://localhost:8080/"
        },
        "id": "1JARgBPfMqJv",
        "outputId": "b60019e2-fccd-4d1b-c143-f39d86640506"
      },
      "execution_count": null,
      "outputs": [
        {
          "output_type": "stream",
          "name": "stdout",
          "text": [
            "<callable_iterator object at 0x7f439ef79f10>\n"
          ]
        }
      ]
    },
    {
      "cell_type": "code",
      "source": [
        "for r in m:\n",
        "  print(r)"
      ],
      "metadata": {
        "colab": {
          "base_uri": "https://localhost:8080/"
        },
        "id": "wom0Gu9pM9y3",
        "outputId": "09e5d21c-e4a7-4ba8-9ca7-df984f44a5a5"
      },
      "execution_count": null,
      "outputs": [
        {
          "output_type": "stream",
          "name": "stdout",
          "text": [
            "<re.Match object; span=(0, 4), match='life'>\n",
            "<re.Match object; span=(5, 7), match='is'>\n",
            "<re.Match object; span=(8, 10), match='to'>\n",
            "<re.Match object; span=(11, 16), match='short'>\n"
          ]
        }
      ]
    },
    {
      "cell_type": "code",
      "source": [
        "print(type(r))"
      ],
      "metadata": {
        "colab": {
          "base_uri": "https://localhost:8080/"
        },
        "id": "-LaWiHyENGqv",
        "outputId": "cb303b8f-4bff-4652-962b-1646855c9337"
      },
      "execution_count": null,
      "outputs": [
        {
          "output_type": "stream",
          "name": "stdout",
          "text": [
            "<class 're.Match'>\n"
          ]
        }
      ]
    },
    {
      "cell_type": "code",
      "source": [
        "print(dir(r))"
      ],
      "metadata": {
        "colab": {
          "base_uri": "https://localhost:8080/"
        },
        "id": "3WUZt1NsNRVv",
        "outputId": "8be01e58-80b8-4dd4-f894-089fb9adb7c4"
      },
      "execution_count": null,
      "outputs": [
        {
          "output_type": "stream",
          "name": "stdout",
          "text": [
            "['__class__', '__copy__', '__deepcopy__', '__delattr__', '__dir__', '__doc__', '__eq__', '__format__', '__ge__', '__getattribute__', '__getitem__', '__gt__', '__hash__', '__init__', '__init_subclass__', '__le__', '__lt__', '__ne__', '__new__', '__reduce__', '__reduce_ex__', '__repr__', '__setattr__', '__sizeof__', '__str__', '__subclasshook__', 'end', 'endpos', 'expand', 'group', 'groupdict', 'groups', 'lastgroup', 'lastindex', 'pos', 're', 'regs', 'span', 'start', 'string']\n"
          ]
        }
      ]
    },
    {
      "cell_type": "code",
      "source": [
        "p = re.compile('[a-z]+')\n",
        "m = p.finditer('life is to short')\n",
        "print(m)\n",
        "\n",
        "for r in m:\n",
        "  print(r.group(), r.start(), r.end(), r.span())"
      ],
      "metadata": {
        "colab": {
          "base_uri": "https://localhost:8080/"
        },
        "id": "OQTom0wKNXkH",
        "outputId": "18b8dc06-4853-4255-b4eb-923746565014"
      },
      "execution_count": null,
      "outputs": [
        {
          "output_type": "stream",
          "name": "stdout",
          "text": [
            "<callable_iterator object at 0x7f439efd8310>\n",
            "life 0 4 (0, 4)\n",
            "is 5 7 (5, 7)\n",
            "to 8 10 (8, 10)\n",
            "short 11 16 (11, 16)\n"
          ]
        }
      ]
    },
    {
      "cell_type": "code",
      "source": [
        "# 문자클래스[] : 문자 a-z 아무거나 들어가도 매치\n",
        "p = re.compile('[a-z]')\n",
        "m = p.match('abc')\n",
        "print(m)\n",
        "print(type(m))\n",
        "print(dir(m))\n",
        "print(m.group(), m.start(), m.pos, m.string) #string : 원래 문자열 다 가지고 옴 #abc"
      ],
      "metadata": {
        "colab": {
          "base_uri": "https://localhost:8080/"
        },
        "id": "9dX7EQA_NkAX",
        "outputId": "9d091d90-9f0f-4ba2-acd6-e48499c2bf31"
      },
      "execution_count": null,
      "outputs": [
        {
          "output_type": "stream",
          "name": "stdout",
          "text": [
            "<re.Match object; span=(0, 1), match='a'>\n",
            "<class 're.Match'>\n",
            "['__class__', '__copy__', '__deepcopy__', '__delattr__', '__dir__', '__doc__', '__eq__', '__format__', '__ge__', '__getattribute__', '__getitem__', '__gt__', '__hash__', '__init__', '__init_subclass__', '__le__', '__lt__', '__ne__', '__new__', '__reduce__', '__reduce_ex__', '__repr__', '__setattr__', '__sizeof__', '__str__', '__subclasshook__', 'end', 'endpos', 'expand', 'group', 'groupdict', 'groups', 'lastgroup', 'lastindex', 'pos', 're', 'regs', 'span', 'start', 'string']\n",
            "a 0 0 abc\n"
          ]
        }
      ]
    },
    {
      "cell_type": "code",
      "source": [
        "#Dot(.) : a와 b사이에 줄바꿈 문자를 제외한 어떤 문자도 모두 매치\n",
        "p = re.compile('a.b')\n",
        "m = p.match('abc')\n",
        "print(m)"
      ],
      "metadata": {
        "colab": {
          "base_uri": "https://localhost:8080/"
        },
        "id": "dMOKXvtiOeN_",
        "outputId": "f3db0379-754f-4573-88aa-c1b8611f16b9"
      },
      "execution_count": null,
      "outputs": [
        {
          "output_type": "stream",
          "name": "stdout",
          "text": [
            "None\n"
          ]
        }
      ]
    },
    {
      "cell_type": "code",
      "source": [
        "#반복(*) : *문자 바로 앞에 있는 t가 0번 이상 반복되면 매치\n",
        "p = re.compile('cat*k')\n",
        "m = p.match('ck')\n",
        "print(m)\n",
        "\n",
        "m = p.match('cak')\n",
        "print(m)\n",
        "print(m.group())\n",
        "\n",
        "m = p.match('catttk')\n",
        "print(m)\n",
        "print(m.group(), m.start())\n"
      ],
      "metadata": {
        "colab": {
          "base_uri": "https://localhost:8080/"
        },
        "id": "TlbzQMO2Pndm",
        "outputId": "b2728248-c7ea-4312-f300-132e63dc3dc5"
      },
      "execution_count": null,
      "outputs": [
        {
          "output_type": "stream",
          "name": "stdout",
          "text": [
            "None\n",
            "<re.Match object; span=(0, 3), match='cak'>\n",
            "cak\n",
            "<re.Match object; span=(0, 6), match='catttk'>\n",
            "catttk 0\n"
          ]
        }
      ]
    },
    {
      "cell_type": "code",
      "source": [
        "#반복(+) : +문자 바로 앞에 있는 t가 1번 이상 반복되면 매치\n",
        "p = re.compile('cat+k')\n",
        "m = p.match('ck')\n",
        "print(m)\n",
        "\n",
        "m = p.match('cak')\n",
        "print(m)\n",
        "\n",
        "m = p.match('catttk')\n",
        "print(m)\n",
        "print(m.group(), m.start())\n"
      ],
      "metadata": {
        "colab": {
          "base_uri": "https://localhost:8080/"
        },
        "id": "DshW0q7XQNC2",
        "outputId": "7430c142-da00-44b7-ae9b-a38554495640"
      },
      "execution_count": null,
      "outputs": [
        {
          "output_type": "stream",
          "name": "stdout",
          "text": [
            "None\n",
            "None\n",
            "<re.Match object; span=(0, 6), match='catttk'>\n",
            "catttk 0\n"
          ]
        }
      ]
    },
    {
      "cell_type": "code",
      "source": [
        "#반복 {{m, n}, ?} : 반복 횟수를 고정 시킬 때 사용한다. \n",
        "p = re.compile('ca{2}t')\n",
        "m = p.match('cat')\n",
        "print(m)"
      ],
      "metadata": {
        "colab": {
          "base_uri": "https://localhost:8080/"
        },
        "id": "Q4LwrXBDRIyX",
        "outputId": "0a9da337-c130-4fb8-a028-853d72e60dcf"
      },
      "execution_count": null,
      "outputs": [
        {
          "output_type": "stream",
          "name": "stdout",
          "text": [
            "None\n"
          ]
        }
      ]
    },
    {
      "cell_type": "code",
      "source": [
        "p = re.compile('ca{2}t')\n",
        "m = p.match('caat')\n",
        "print(m)\n",
        "print(m.group())"
      ],
      "metadata": {
        "colab": {
          "base_uri": "https://localhost:8080/"
        },
        "id": "YaBrqqwcRkdW",
        "outputId": "bda0cda7-a445-47a3-d0d6-83c1ea7f246b"
      },
      "execution_count": null,
      "outputs": [
        {
          "output_type": "stream",
          "name": "stdout",
          "text": [
            "<re.Match object; span=(0, 4), match='caat'>\n",
            "caat\n"
          ]
        }
      ]
    },
    {
      "cell_type": "code",
      "source": [
        "p = re.compile('ca{2}t')\n",
        "m = p.match('caaat')\n",
        "print(m)"
      ],
      "metadata": {
        "colab": {
          "base_uri": "https://localhost:8080/"
        },
        "id": "TtiKv8l6R3AG",
        "outputId": "1b49f398-3113-4ceb-e919-dfd34be543fa"
      },
      "execution_count": null,
      "outputs": [
        {
          "output_type": "stream",
          "name": "stdout",
          "text": [
            "None\n"
          ]
        }
      ]
    },
    {
      "cell_type": "code",
      "source": [
        "# ? : {0, 1} 의미한다.\n",
        "p = re.compile('ca?t')\n",
        "m = p.match('cat')\n",
        "print(m)\n",
        "print(m.group())"
      ],
      "metadata": {
        "colab": {
          "base_uri": "https://localhost:8080/"
        },
        "id": "wKJ-VGPZR5id",
        "outputId": "4c85ad20-4466-4215-b3c7-1f8933d085ca"
      },
      "execution_count": null,
      "outputs": [
        {
          "output_type": "stream",
          "name": "stdout",
          "text": [
            "<re.Match object; span=(0, 3), match='cat'>\n",
            "cat\n"
          ]
        }
      ]
    },
    {
      "cell_type": "code",
      "source": [
        "#생략\n",
        "p = re.compile('ca?t')\n",
        "m = p.match('ct')\n",
        "print(m)\n",
        "print(m.group())"
      ],
      "metadata": {
        "colab": {
          "base_uri": "https://localhost:8080/"
        },
        "id": "9oiKf0sySIXd",
        "outputId": "d472f009-3898-471d-d842-98e0a3000911"
      },
      "execution_count": null,
      "outputs": [
        {
          "output_type": "stream",
          "name": "stdout",
          "text": [
            "<re.Match object; span=(0, 2), match='ct'>\n",
            "ct\n"
          ]
        }
      ]
    },
    {
      "cell_type": "markdown",
      "source": [
        "### 정규화 표현식 옵션"
      ],
      "metadata": {
        "id": "osazeTL6SRM-"
      }
    },
    {
      "cell_type": "code",
      "source": [
        "# 줄바꿈 문자를 포함하여 모든 문자와 매치할 수 있도록 한다.\n",
        "p = re.compile('a.b', re.DOTALL)\n",
        "m = p.match('a\\nb')\n",
        "print(m)\n",
        "print(m.group())\n"
      ],
      "metadata": {
        "colab": {
          "base_uri": "https://localhost:8080/"
        },
        "id": "aZiiwbQJSapW",
        "outputId": "f17eadd3-9c3a-4c29-a110-a3242fd37e97"
      },
      "execution_count": null,
      "outputs": [
        {
          "output_type": "stream",
          "name": "stdout",
          "text": [
            "<re.Match object; span=(0, 3), match='a\\nb'>\n",
            "a\n",
            "b\n"
          ]
        }
      ]
    },
    {
      "cell_type": "code",
      "source": [
        "#대소문자에 관계없이 매치할 수 있도록 한다.\n",
        "p = re.compile('[a-z]', re.I) #대문자 i(ignore)\n",
        "m = p.match('Life is to short')\n",
        "print(m)\n",
        "print(m.group())"
      ],
      "metadata": {
        "colab": {
          "base_uri": "https://localhost:8080/"
        },
        "id": "51pT_7-WSsvN",
        "outputId": "f7364591-59fd-448b-bca6-baa3df7fb0a6"
      },
      "execution_count": null,
      "outputs": [
        {
          "output_type": "stream",
          "name": "stdout",
          "text": [
            "<re.Match object; span=(0, 1), match='L'>\n",
            "L\n"
          ]
        }
      ]
    },
    {
      "cell_type": "code",
      "source": [
        "p = re.compile('^python\\s\\w+', re.M)\n",
        "m = p.match(\"\"\"python one\n",
        "life is too short\n",
        "python two\n",
        "you need python\n",
        "python three\"\"\")\n",
        "\n",
        "print(m)"
      ],
      "metadata": {
        "colab": {
          "base_uri": "https://localhost:8080/"
        },
        "id": "C3nYUtfgTxqG",
        "outputId": "3e6bb382-1b10-4843-fa09-09fe49fb7e3c"
      },
      "execution_count": null,
      "outputs": [
        {
          "output_type": "stream",
          "name": "stdout",
          "text": [
            "<re.Match object; span=(0, 10), match='python one'>\n"
          ]
        }
      ]
    },
    {
      "cell_type": "code",
      "source": [
        "p = re.compile('^python\\s\\w+', re.M)\n",
        "m = p.findall(\"\"\"python one\n",
        "life is too short\n",
        "python two\n",
        "you need python\n",
        "python three\"\"\")\n",
        "\n",
        "print(m)"
      ],
      "metadata": {
        "colab": {
          "base_uri": "https://localhost:8080/"
        },
        "id": "z_CBqATyUdwd",
        "outputId": "5dc23c44-8fe3-4fae-d904-9914d8f20d26"
      },
      "execution_count": null,
      "outputs": [
        {
          "output_type": "stream",
          "name": "stdout",
          "text": [
            "['python one', 'python two', 'python three']\n"
          ]
        }
      ]
    },
    {
      "cell_type": "code",
      "source": [
        "p = re.compile('^python\\s\\w+', re.M)\n",
        "m = p.findall(\"\"\"python one\n",
        "life is too short\n",
        "python two\n",
        "you need python\n",
        "python _\n",
        "python 9\n",
        "python three\"\"\")\n",
        "\n",
        "print(m)\n",
        "print(dir(m))"
      ],
      "metadata": {
        "colab": {
          "base_uri": "https://localhost:8080/"
        },
        "id": "PBaDizZ4U0g1",
        "outputId": "42960bfb-7395-41b7-babc-e8eddeba416a"
      },
      "execution_count": null,
      "outputs": [
        {
          "output_type": "stream",
          "name": "stdout",
          "text": [
            "['python one', 'python two', 'python _', 'python 9', 'python three']\n",
            "['__add__', '__class__', '__contains__', '__delattr__', '__delitem__', '__dir__', '__doc__', '__eq__', '__format__', '__ge__', '__getattribute__', '__getitem__', '__gt__', '__hash__', '__iadd__', '__imul__', '__init__', '__init_subclass__', '__iter__', '__le__', '__len__', '__lt__', '__mul__', '__ne__', '__new__', '__reduce__', '__reduce_ex__', '__repr__', '__reversed__', '__rmul__', '__setattr__', '__setitem__', '__sizeof__', '__str__', '__subclasshook__', 'append', 'clear', 'copy', 'count', 'extend', 'index', 'insert', 'pop', 'remove', 'reverse', 'sort']\n"
          ]
        }
      ]
    },
    {
      "cell_type": "markdown",
      "source": [
        "### findall vs finditer\n",
        "- 일치하는 검색 데이터를 모두 가져온다.\n",
        "- findall은 matchers로 리턴하고 캡쳐된 그룹이 있다면 튜플로 리턴한다.\n",
        "- findalliter은 Match object로 리턴한다. 리턴된 오브젝트를 가지고 m.group(1), m.group(2) 이런 식으로 사용할 수 있다. "
      ],
      "metadata": {
        "id": "f0X9yR6YVC2t"
      }
    },
    {
      "cell_type": "code",
      "source": [
        "p = re.compile(\"([0-9]+)([^0-9]*)\")\n",
        "m = p.findall(\"abc253korea523fast23slow\")\n",
        "print(m)"
      ],
      "metadata": {
        "colab": {
          "base_uri": "https://localhost:8080/"
        },
        "id": "HerjGofuJOu5",
        "outputId": "9f8d37bd-4650-4388-b587-d94e073955d2"
      },
      "execution_count": null,
      "outputs": [
        {
          "output_type": "stream",
          "name": "stdout",
          "text": [
            "[('253', 'korea'), ('523', 'fast'), ('23', 'slow')]\n"
          ]
        }
      ]
    },
    {
      "cell_type": "code",
      "source": [
        "p = re.compile('&#(0[0-7]+|[0-9]+|x[0-9a-fA-F]+);')\n",
        "data = '''&#06;\n",
        "       &#9;\n",
        "      &#xa;\n",
        "      '''\n",
        "m = p.findall(data)\n",
        "print(m)"
      ],
      "metadata": {
        "colab": {
          "base_uri": "https://localhost:8080/"
        },
        "id": "0jUyLxrxODQi",
        "outputId": "c7cb92e0-3544-42fa-b5c1-57d6b139dbf4"
      },
      "execution_count": null,
      "outputs": [
        {
          "output_type": "stream",
          "name": "stdout",
          "text": [
            "['06', '9', 'xa']\n"
          ]
        }
      ]
    },
    {
      "cell_type": "markdown",
      "source": [
        "### 부정적 전방탐색?!"
      ],
      "metadata": {
        "id": "z04ygHhZP6pn"
      }
    },
    {
      "cell_type": "code",
      "source": [
        "p = re.compile(\".*[.](?!bat$|exe$).*$\")\n",
        "file = ['foo.bar', 'autoexec.bat', 'sendmail.cf']\n",
        "\n",
        "for item in file:\n",
        "  #print(item)\n",
        "  m = p.search(item)\n",
        "  #print(m)\n",
        "  if m:\n",
        "    print(m)\n",
        "    print(m.group(), m.start(), m.end())"
      ],
      "metadata": {
        "colab": {
          "base_uri": "https://localhost:8080/"
        },
        "id": "FPLCQDLCQdEu",
        "outputId": "443ee0d1-eb1e-42ee-fd1b-97426e083d86"
      },
      "execution_count": null,
      "outputs": [
        {
          "output_type": "stream",
          "name": "stdout",
          "text": [
            "<re.Match object; span=(0, 8), match='foot.bar'>\n",
            "foot.bar 0 8\n",
            "<re.Match object; span=(0, 11), match='sendmail.cf'>\n",
            "sendmail.cf 0 11\n"
          ]
        }
      ]
    },
    {
      "cell_type": "markdown",
      "source": [
        "### sub() : 문자열 바꾸기"
      ],
      "metadata": {
        "id": "dzbafh-NQ742"
      }
    },
    {
      "cell_type": "code",
      "source": [
        "p = re.compile('(blue|white|red)')\n",
        "    #sub('바꿀 문자열', '대상 문자열')\n",
        "m = p.sub('color', 'blue socks and red socks')\n",
        "print(m)\n",
        "print(type(m))"
      ],
      "metadata": {
        "colab": {
          "base_uri": "https://localhost:8080/"
        },
        "id": "t4BMYPRISMJe",
        "outputId": "aa426c3d-5d0e-4458-b744-1b50499c54b5"
      },
      "execution_count": null,
      "outputs": [
        {
          "output_type": "stream",
          "name": "stdout",
          "text": [
            "color socks and color socks\n",
            "<class 'str'>\n"
          ]
        }
      ]
    },
    {
      "cell_type": "markdown",
      "source": [
        "### subn()\n",
        "sub()와 비슷하고 리턴은 튜플로 한다."
      ],
      "metadata": {
        "id": "zTHGoMI2SWuu"
      }
    },
    {
      "cell_type": "code",
      "source": [
        "p = re.compile('(blue|white|red)')\n",
        "    #subn('바꿀 문자열', '대상 문자열')\n",
        "m = p.subn('color', 'blue socks and red socks')\n",
        "print(m) # 수정된 개수도 나온다.\n",
        "print(type(m))"
      ],
      "metadata": {
        "colab": {
          "base_uri": "https://localhost:8080/"
        },
        "id": "0sEX5aOvS7eu",
        "outputId": "c2086219-4527-4163-c263-c61fec84fd64"
      },
      "execution_count": null,
      "outputs": [
        {
          "output_type": "stream",
          "name": "stdout",
          "text": [
            "('color socks and color socks', 2)\n",
            "<class 'tuple'>\n"
          ]
        }
      ]
    },
    {
      "cell_type": "code",
      "source": [],
      "metadata": {
        "id": "i0IiQcSwTD3G"
      },
      "execution_count": null,
      "outputs": []
    }
  ]
}