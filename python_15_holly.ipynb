{
  "nbformat": 4,
  "nbformat_minor": 0,
  "metadata": {
    "colab": {
      "provenance": [],
      "authorship_tag": "ABX9TyNZ+wAZqgiIks/ivvmdE2RB",
      "include_colab_link": true
    },
    "kernelspec": {
      "name": "python3",
      "display_name": "Python 3"
    },
    "language_info": {
      "name": "python"
    }
  },
  "cells": [
    {
      "cell_type": "markdown",
      "metadata": {
        "id": "view-in-github",
        "colab_type": "text"
      },
      "source": [
        "<a href=\"https://colab.research.google.com/github/kim1minjii/pythondemo/blob/master/python_15_holly.ipynb\" target=\"_parent\"><img src=\"https://colab.research.google.com/assets/colab-badge.svg\" alt=\"Open In Colab\"/></a>"
      ]
    },
    {
      "cell_type": "markdown",
      "source": [
        "### hollys.co.kr 크롤링 하기"
      ],
      "metadata": {
        "id": "RZvyFTDvGJTL"
      }
    },
    {
      "cell_type": "code",
      "source": [
        "#구글 드라이브 연동\n",
        "from google.colab import drive\n",
        "drive.mount('/content/drive')\n",
        "%cd /content/drive/MyDrive/python_demo"
      ],
      "metadata": {
        "colab": {
          "base_uri": "https://localhost:8080/"
        },
        "id": "iEaUqsQbISO6",
        "outputId": "3a7d817f-98a6-4ee3-f672-783a6f50deb4"
      },
      "execution_count": null,
      "outputs": [
        {
          "output_type": "stream",
          "name": "stdout",
          "text": [
            "Drive already mounted at /content/drive; to attempt to forcibly remount, call drive.mount(\"/content/drive\", force_remount=True).\n",
            "/content/drive/MyDrive/python_demo\n"
          ]
        }
      ]
    },
    {
      "cell_type": "markdown",
      "source": [
        "###1.import"
      ],
      "metadata": {
        "id": "qyY-LslxIfXR"
      }
    },
    {
      "cell_type": "code",
      "source": [
        "#데이터 가져오기\n",
        "from bs4 import BeautifulSoup\n",
        "import requests"
      ],
      "metadata": {
        "id": "8liQEl_JIw4Y"
      },
      "execution_count": null,
      "outputs": []
    },
    {
      "cell_type": "markdown",
      "source": [
        "###2.작업결과를 저장할 리스트 준비"
      ],
      "metadata": {
        "id": "c--OLJx4I1FQ"
      }
    },
    {
      "cell_type": "code",
      "source": [
        "result = []"
      ],
      "metadata": {
        "id": "US-oN1x5I8Gw"
      },
      "execution_count": null,
      "outputs": []
    },
    {
      "cell_type": "markdown",
      "source": [
        "###3.BeautifulSoup 객체 생성하여 파싱"
      ],
      "metadata": {
        "id": "jVBSeO7OJCYI"
      }
    },
    {
      "cell_type": "code",
      "source": [
        "#naver -> f12 -> network -> www.naver.com에서 헤더가져오기\n",
        "header = {\"User-Agent\": \"Mozilla/5.0 (Windows NT 10.0; Win64; x64) AppleWebKit/537.36 (KHTML, like Gecko) Chrome/108.0.0.0 Safari/537.36\"}\n",
        "\n",
        "#가져올 사이트 주소\n",
        "url = \"https://www.hollys.co.kr/store/korea/korStore2.do\"\n",
        "\n",
        "res = requests.get(url, headers = header)\n",
        "\n",
        "#문자열 가져오고 html로 파싱하겠다.\n",
        "soup = BeautifulSoup(res.text, 'html.parser')\n",
        "print(type(soup))\n",
        "\n",
        "#https://www.hollys.co.kr/store/korea/korStore2.do에서 f12 후 가지고 올 부분(tbody)\n",
        "#find()가지고 오는 게 하나 일 때\n",
        "tbody_tag = soup.find('tbody') #<class 'bs4.element.Tag'>\n",
        "#print(type(tbody_tag)) #너무 많아서 주석 or type으로 가져옴\n",
        "\n",
        "#find_all()가지고 오는 게 여러 개 일 때\n",
        "#tr_list_tag = soup.find_all('tr') #<class 'bs4.element.ResultSet'>\n",
        "#print(len(tr_list_tag)) #11\n",
        "#print(type(tr_list_tag))\n",
        "#단계별접근1.\n",
        "#print(tr_list_tag[0]) #컬럼명만(tr)\n",
        "\n",
        "#tbody_tr_list_tag = soup.find_all('tbody > tr') # > : css표기법 -> selectone이나 select 메소드를 사용해야 함 or find()나, find_all()\n",
        "tbody_tr_list_tag = tbody_tag.find_all('tr') #tbody 안에 있는 tr 개수만 가져올 때\n",
        "#print(len(tbody_tr_list_tag)) #10\n",
        "#단계별접근2.\n",
        "#print(tbody_tr_list_tag[0]) #tbody에 있는 데이터(tr)"
      ],
      "metadata": {
        "colab": {
          "base_uri": "https://localhost:8080/"
        },
        "id": "mOphifUgJGaB",
        "outputId": "82e5d07c-fa21-4f3a-a775-fb9655a7a099"
      },
      "execution_count": null,
      "outputs": [
        {
          "output_type": "stream",
          "name": "stdout",
          "text": [
            "<class 'bs4.BeautifulSoup'>\n"
          ]
        }
      ]
    },
    {
      "cell_type": "code",
      "source": [
        "for store in tbody_tr_list_tag:\n",
        "  store_td = store.find_all('td')\n",
        "  store_area = store_td[0].string\n",
        "  store_name = store_td[1].string\n",
        "  store_phone = store_td[5].string\n",
        "  #2차원으로 저장?\n",
        "  result.append([store_area]+[store_name]+[store_phone]) #['서울 강남구'] + ['강남우리라운지점'] + ['02-566-1002']"
      ],
      "metadata": {
        "id": "98ss23vxNOFC"
      },
      "execution_count": null,
      "outputs": []
    },
    {
      "cell_type": "code",
      "source": [
        "#리스트(참고)\n",
        "['a'] + ['b']"
      ],
      "metadata": {
        "colab": {
          "base_uri": "https://localhost:8080/"
        },
        "id": "ohzOtLDnKSc4",
        "outputId": "489f1bea-7d44-4301-d10d-c78bd5040cf1"
      },
      "execution_count": null,
      "outputs": [
        {
          "output_type": "execute_result",
          "data": {
            "text/plain": [
              "['a', 'b']"
            ]
          },
          "metadata": {},
          "execution_count": 24
        }
      ]
    },
    {
      "cell_type": "code",
      "source": [
        "print(['a'] + ['b'])\n",
        "print(['서울 강남구'] + ['강남우리라운지점'] + ['02-566-1002'])"
      ],
      "metadata": {
        "colab": {
          "base_uri": "https://localhost:8080/"
        },
        "id": "wvbZbAmcPLN3",
        "outputId": "4e39c644-7785-41b1-90d8-fadf6a0f2f3e"
      },
      "execution_count": null,
      "outputs": [
        {
          "output_type": "stream",
          "name": "stdout",
          "text": [
            "['a', 'b']\n",
            "['서울 강남구', '강남우리라운지점', '02-566-1002']\n"
          ]
        }
      ]
    },
    {
      "cell_type": "markdown",
      "source": [
        "###4.크롤링 결과 확인\n",
        "\n"
      ],
      "metadata": {
        "id": "J5iYlXTnO9wA"
      }
    },
    {
      "cell_type": "code",
      "source": [
        "#2차원 리스트\n",
        "result"
      ],
      "metadata": {
        "colab": {
          "base_uri": "https://localhost:8080/"
        },
        "id": "vEoTbv-OO8BQ",
        "outputId": "b63b0725-06eb-4254-defe-f53867f675c4"
      },
      "execution_count": null,
      "outputs": [
        {
          "output_type": "execute_result",
          "data": {
            "text/plain": [
              "[['서울 강남구', '강남우리라운지점', '02-566-1002'],\n",
              " ['경기 수원시', '수원영통점', '031-202-3356'],\n",
              " ['경기 고양시 덕양구', '원흥역점', '031.967.0302'],\n",
              " ['서울 양천구', '오목교역점', '02-2062-8405'],\n",
              " ['대구 서구', '롯데시네마프리미엄만경관점', '070-7717-2192'],\n",
              " ['전남 순천시', '순천신대점', '061-723-5185'],\n",
              " ['서울 금천구', '시흥사거리점', '02-804-9226'],\n",
              " ['전북 전주시 완산구', '전주효천점', '063-224-5777'],\n",
              " ['제주 제주시', '제주도두해안DT점', '064-745-7301'],\n",
              " ['부산 북구', '부산화명점', '070-8884-1101']]"
            ]
          },
          "metadata": {},
          "execution_count": 116
        }
      ]
    },
    {
      "cell_type": "markdown",
      "source": [
        "###5.테이블을 csv파일로 저장"
      ],
      "metadata": {
        "id": "v8xxXnXYPk93"
      }
    },
    {
      "cell_type": "code",
      "source": [
        "import csv\n",
        "\n",
        "#field names\n",
        "fields =  ['StoreArea', 'StoreName', 'StorePhone']\n",
        "\n",
        "with open('./data_crowing/hollys.csv', 'w', newline='') as f:\n",
        "  write = csv.writer(f)\n",
        "  write.writerow(fields)\n",
        "  write.writerow(result)"
      ],
      "metadata": {
        "id": "UzoM90WBPske"
      },
      "execution_count": null,
      "outputs": []
    },
    {
      "cell_type": "code",
      "source": [
        "#경로찾기\n",
        "!pwd #/content/drive/MyDrive/python_demo"
      ],
      "metadata": {
        "colab": {
          "base_uri": "https://localhost:8080/"
        },
        "id": "D4-TVK8HPrkY",
        "outputId": "9d74b9e1-eb01-4b2b-caf8-e5d31cf2dca7"
      },
      "execution_count": null,
      "outputs": [
        {
          "output_type": "stream",
          "name": "stdout",
          "text": [
            "/content/drive/MyDrive/python_demo\n"
          ]
        }
      ]
    },
    {
      "cell_type": "code",
      "source": [
        "#폴더 새로 만들기(만들 해당 폴더 위치에서 생성해야함)\n",
        "!mkdir data_crowing"
      ],
      "metadata": {
        "colab": {
          "base_uri": "https://localhost:8080/"
        },
        "id": "jm6d_jLXS-4W",
        "outputId": "0d76cd9b-421e-4cb3-d638-20611fb072b2"
      },
      "execution_count": null,
      "outputs": [
        {
          "output_type": "stream",
          "name": "stdout",
          "text": [
            "shell-init: error retrieving current directory: getcwd: cannot access parent directories: No such file or directory\n",
            "mkdir: cannot create directory ‘data_crowing’: No such file or directory\n"
          ]
        }
      ]
    },
    {
      "cell_type": "code",
      "source": [
        "#/content/drive/MyDrive/python_demo/data_crowing 경로면 안됨\n",
        "!pwd"
      ],
      "metadata": {
        "colab": {
          "base_uri": "https://localhost:8080/"
        },
        "id": "QJNDQRuKPqVO",
        "outputId": "89d8e017-aeaf-48ef-e448-0ef7abe8d0f2"
      },
      "execution_count": null,
      "outputs": [
        {
          "output_type": "stream",
          "name": "stdout",
          "text": [
            "/content/drive/MyDrive/python_demo\n"
          ]
        }
      ]
    },
    {
      "cell_type": "code",
      "source": [
        "#경로 변경\n",
        "%cd data_crowing"
      ],
      "metadata": {
        "colab": {
          "base_uri": "https://localhost:8080/"
        },
        "id": "25jEk1kGPjGY",
        "outputId": "9af6c5e4-e172-43e5-8ead-725dc8a91898"
      },
      "execution_count": null,
      "outputs": [
        {
          "output_type": "stream",
          "name": "stdout",
          "text": [
            "/content/drive/MyDrive/python_demo/data_crowing\n"
          ]
        }
      ]
    },
    {
      "cell_type": "code",
      "source": [
        "#hollys.csv 만들어졌는지 확인\n",
        "!ls *.csv"
      ],
      "metadata": {
        "colab": {
          "base_uri": "https://localhost:8080/"
        },
        "id": "AsOtgn8EOliI",
        "outputId": "6559daae-ab13-4968-db83-a35d078ead91"
      },
      "execution_count": null,
      "outputs": [
        {
          "output_type": "stream",
          "name": "stdout",
          "text": [
            "hollys.csv\n"
          ]
        }
      ]
    },
    {
      "cell_type": "code",
      "source": [
        "#빠져나오고 현재 경로 확인\n",
        "%cd .."
      ],
      "metadata": {
        "colab": {
          "base_uri": "https://localhost:8080/"
        },
        "id": "oUNtUAdMTe4v",
        "outputId": "f85a8ea2-82ef-434e-ce07-030a805ef919"
      },
      "execution_count": null,
      "outputs": [
        {
          "output_type": "stream",
          "name": "stdout",
          "text": [
            "/content/drive/MyDrive/python_demo\n"
          ]
        }
      ]
    },
    {
      "cell_type": "code",
      "source": [
        "!cat hollys.csv"
      ],
      "metadata": {
        "colab": {
          "base_uri": "https://localhost:8080/"
        },
        "id": "FlC7Ngz6Ttqu",
        "outputId": "40b1473f-9055-4f26-93e9-c7feb4f4c58f"
      },
      "execution_count": null,
      "outputs": [
        {
          "output_type": "stream",
          "name": "stdout",
          "text": [
            "StoreArea,StoreName,StorePhone\r\n",
            "\"['서울 강남구', '강남우리라운지점', '02-566-1002']\",\"['경기 수원시', '수원영통점', '031-202-3356']\",\"['경기 고양시 덕양구', '원흥역점', '031.967.0302']\",\"['서울 양천구', '오목교역점', '02-2062-8405']\",\"['대구 서구', '롯데시네마프리미엄만경관점', '070-7717-2192']\",\"['전남 순천시', '순천신대점', '061-723-5185']\",\"['서울 금천구', '시흥사거리점', '02-804-9226']\",\"['전북 전주시 완산구', '전주효천점', '063-224-5777']\",\"['제주 제주시', '제주도두해안DT점', '064-745-7301']\",\"['부산 북구', '부산화명점', '070-8884-1101']\"\r\n"
          ]
        }
      ]
    },
    {
      "cell_type": "markdown",
      "source": [
        "###6.기타:저장할 때 날짜 지정"
      ],
      "metadata": {
        "id": "xH93tz6yU4ye"
      }
    },
    {
      "cell_type": "code",
      "source": [
        "import datetime\n",
        "now = datetime.datetime.today()\n",
        "print(now)\n",
        "print(now.utcnow())\n",
        "print(now.year, now.month, now.day, now.hour, now.minute, now.second)\n",
        "print(now.date())\n",
        "print(now.time())"
      ],
      "metadata": {
        "colab": {
          "base_uri": "https://localhost:8080/"
        },
        "id": "5jdf88DSVUDY",
        "outputId": "b2f46ff1-f47b-4726-a30c-5d6cbaa631eb"
      },
      "execution_count": null,
      "outputs": [
        {
          "output_type": "stream",
          "name": "stdout",
          "text": [
            "2022-12-12 09:20:07.053057\n",
            "2022-12-12 09:20:07.054620\n",
            "2022 12 12 9 20 7\n",
            "2022-12-12\n",
            "09:20:07.053057\n"
          ]
        }
      ]
    },
    {
      "cell_type": "code",
      "source": [
        "import time\n",
        "time.strftime('%Y-%m-%d', time.localtime(time.time()))"
      ],
      "metadata": {
        "colab": {
          "base_uri": "https://localhost:8080/",
          "height": 35
        },
        "id": "g7Zab2YsVdL1",
        "outputId": "154b06f0-5e63-4094-e596-201c349e2533"
      },
      "execution_count": null,
      "outputs": [
        {
          "output_type": "execute_result",
          "data": {
            "text/plain": [
              "'2022-12-12'"
            ],
            "application/vnd.google.colaboratory.intrinsic+json": {
              "type": "string"
            }
          },
          "metadata": {},
          "execution_count": 192
        }
      ]
    },
    {
      "cell_type": "markdown",
      "source": [
        "파이썬 파일 작성하여 크롤링 작업하기"
      ],
      "metadata": {
        "id": "2O3F06hhWRR1"
      }
    },
    {
      "cell_type": "code",
      "source": [
        "#데이터 가져오기\n",
        "from bs4 import BeautifulSoup\n",
        "import requests"
      ],
      "metadata": {
        "id": "0nGoMnVPWqT3"
      },
      "execution_count": null,
      "outputs": []
    },
    {
      "cell_type": "code",
      "source": [
        "#추가된 가져올 데이터\n",
        "import csv\n",
        "import datetime"
      ],
      "metadata": {
        "id": "PHRSlm2BWyyd"
      },
      "execution_count": null,
      "outputs": []
    },
    {
      "cell_type": "code",
      "source": [
        "def hollys_store():\n",
        "  result = []\n",
        "  header = {\"User-Agent\": \"Mozilla/5.0 (Windows NT 10.0; Win64; x64) AppleWebKit/537.36 (KHTML, like Gecko) Chrome/108.0.0.0 Safari/537.36\"}\n",
        "  url = \"https://www.hollys.co.kr/store/korea/korStore2.do\"\n",
        "\n",
        "  res = requests.get(url, headers = header)\n",
        "  soup = BeautifulSoup(res.text, 'html.parser')\n",
        "\n",
        "  tbody_tag = soup.find('tbody') #<class 'bs4.element.Tag'>\n",
        "  tbody_tr_list_tag = tbody_tag.find_all('tr') #tbody 안에 있는 tr 개수만 가져올 때\n",
        "\n",
        "  for store in tbody_tr_list_tag:\n",
        "    store_td = store.find_all('td')\n",
        "    store_area = store_td[0].string\n",
        "    store_name = store_td[1].string\n",
        "    store_phone = store_td[5].string\n",
        "    result.append([store_area]+[store_name]+[store_phone])\n",
        "  return result\n",
        "\n",
        "#메인함수\n",
        "def main( ):\n",
        "  result = hollys_store()\n",
        "\n",
        "  to_now = datetime.datetime.today().date()\n",
        "\n",
        "  #field names\n",
        "  fields =  ['StoreArea', 'StoreName', 'StorePhone']\n",
        "  #result.insert(0, fields)\n",
        "  \n",
        "\n",
        "  with open('./data_crowing/%s-hollys.csv' % to_now, 'w', newline='') as f:\n",
        "    write = csv.writer(f)\n",
        "    write.writerow(fields)\n",
        "    write.writerows(result)\n",
        "\n",
        "  print('hollys 데이터 저장완료')\n",
        "  del result[:]\n",
        "\n",
        "if __name__ == '__main__':\n",
        "  main()\n"
      ],
      "metadata": {
        "colab": {
          "base_uri": "https://localhost:8080/",
          "height": 338
        },
        "id": "VmhjRgC2W6eF",
        "outputId": "a888fb7c-f787-48ab-a461-af6f000413fb"
      },
      "execution_count": null,
      "outputs": [
        {
          "output_type": "error",
          "ename": "FileNotFoundError",
          "evalue": "ignored",
          "traceback": [
            "\u001b[0;31m---------------------------------------------------------------------------\u001b[0m",
            "\u001b[0;31mFileNotFoundError\u001b[0m                         Traceback (most recent call last)",
            "\u001b[0;32m<ipython-input-206-2f4e9d05be87>\u001b[0m in \u001b[0;36m<module>\u001b[0;34m\u001b[0m\n\u001b[1;32m     38\u001b[0m \u001b[0;34m\u001b[0m\u001b[0m\n\u001b[1;32m     39\u001b[0m \u001b[0;32mif\u001b[0m \u001b[0m__name__\u001b[0m \u001b[0;34m==\u001b[0m \u001b[0;34m'__main__'\u001b[0m\u001b[0;34m:\u001b[0m\u001b[0;34m\u001b[0m\u001b[0;34m\u001b[0m\u001b[0m\n\u001b[0;32m---> 40\u001b[0;31m   \u001b[0mmain\u001b[0m\u001b[0;34m(\u001b[0m\u001b[0;34m)\u001b[0m\u001b[0;34m\u001b[0m\u001b[0;34m\u001b[0m\u001b[0m\n\u001b[0m",
            "\u001b[0;32m<ipython-input-206-2f4e9d05be87>\u001b[0m in \u001b[0;36mmain\u001b[0;34m()\u001b[0m\n\u001b[1;32m     29\u001b[0m \u001b[0;34m\u001b[0m\u001b[0m\n\u001b[1;32m     30\u001b[0m \u001b[0;34m\u001b[0m\u001b[0m\n\u001b[0;32m---> 31\u001b[0;31m   \u001b[0;32mwith\u001b[0m \u001b[0mopen\u001b[0m\u001b[0;34m(\u001b[0m\u001b[0;34m'./data_crowing/%s-hollys.csv'\u001b[0m \u001b[0;34m%\u001b[0m \u001b[0mto_now\u001b[0m\u001b[0;34m,\u001b[0m \u001b[0;34m'w'\u001b[0m\u001b[0;34m,\u001b[0m \u001b[0mnewline\u001b[0m\u001b[0;34m=\u001b[0m\u001b[0;34m''\u001b[0m\u001b[0;34m)\u001b[0m \u001b[0;32mas\u001b[0m \u001b[0mf\u001b[0m\u001b[0;34m:\u001b[0m\u001b[0;34m\u001b[0m\u001b[0;34m\u001b[0m\u001b[0m\n\u001b[0m\u001b[1;32m     32\u001b[0m     \u001b[0mwrite\u001b[0m \u001b[0;34m=\u001b[0m \u001b[0mcsv\u001b[0m\u001b[0;34m.\u001b[0m\u001b[0mwriter\u001b[0m\u001b[0;34m(\u001b[0m\u001b[0mf\u001b[0m\u001b[0;34m)\u001b[0m\u001b[0;34m\u001b[0m\u001b[0;34m\u001b[0m\u001b[0m\n\u001b[1;32m     33\u001b[0m     \u001b[0mwrite\u001b[0m\u001b[0;34m.\u001b[0m\u001b[0mwriterow\u001b[0m\u001b[0;34m(\u001b[0m\u001b[0mfields\u001b[0m\u001b[0;34m)\u001b[0m\u001b[0;34m\u001b[0m\u001b[0;34m\u001b[0m\u001b[0m\n",
            "\u001b[0;31mFileNotFoundError\u001b[0m: [Errno 2] No such file or directory: './data_crowing/2022-12-12-hollys.csv'"
          ]
        }
      ]
    },
    {
      "cell_type": "code",
      "source": [
        "to_now = datetime.datetime.today().date()\n",
        "with open('./data_crowing/%s-hollys.csv' % to_now, 'r') as f:\n",
        "  #print(f.read())\n",
        "  #reader = csv.reader(f)\n",
        "\n",
        "  for element in f:\n",
        "\n",
        "    td_list = element.split(',')\n",
        "    #td_list = element.split(',')\n",
        "    #print(row)\n",
        "    #print('%20s %20s %20s' % (row[0], row[1], row[2]))\n",
        "\n",
        "    # print(td_list) #['StoreArea,StoreName,StorePhone\\n']\n",
        "    # break\n",
        "\n",
        "    # print(type(element)) #<class 'str'>\n",
        "    # print(type(td_list)) #<class 'list'>\n",
        "    # print(len(td_list)) #3\n",
        "    # break\n",
        "\n",
        "    print(td_list[0], td_list[1], td_list[2])\n",
        "    # StoreArea StoreName StorePhone\n",
        "    # \"['서울 강남구'  '강남우리라운지점'  '02-566-1002']\""
      ],
      "metadata": {
        "colab": {
          "base_uri": "https://localhost:8080/",
          "height": 246
        },
        "id": "Duz1aYAhY5Cf",
        "outputId": "a1d3cee2-84bf-415e-9d74-5910e4816c28"
      },
      "execution_count": null,
      "outputs": [
        {
          "output_type": "error",
          "ename": "FileNotFoundError",
          "evalue": "ignored",
          "traceback": [
            "\u001b[0;31m---------------------------------------------------------------------------\u001b[0m",
            "\u001b[0;31mFileNotFoundError\u001b[0m                         Traceback (most recent call last)",
            "\u001b[0;32m<ipython-input-207-53af80927ed1>\u001b[0m in \u001b[0;36m<module>\u001b[0;34m\u001b[0m\n\u001b[1;32m      1\u001b[0m \u001b[0mto_now\u001b[0m \u001b[0;34m=\u001b[0m \u001b[0mdatetime\u001b[0m\u001b[0;34m.\u001b[0m\u001b[0mdatetime\u001b[0m\u001b[0;34m.\u001b[0m\u001b[0mtoday\u001b[0m\u001b[0;34m(\u001b[0m\u001b[0;34m)\u001b[0m\u001b[0;34m.\u001b[0m\u001b[0mdate\u001b[0m\u001b[0;34m(\u001b[0m\u001b[0;34m)\u001b[0m\u001b[0;34m\u001b[0m\u001b[0;34m\u001b[0m\u001b[0m\n\u001b[0;32m----> 2\u001b[0;31m \u001b[0;32mwith\u001b[0m \u001b[0mopen\u001b[0m\u001b[0;34m(\u001b[0m\u001b[0;34m'./data_crowing/%s-hollys.csv'\u001b[0m \u001b[0;34m%\u001b[0m \u001b[0mto_now\u001b[0m\u001b[0;34m,\u001b[0m \u001b[0;34m'r'\u001b[0m\u001b[0;34m)\u001b[0m \u001b[0;32mas\u001b[0m \u001b[0mf\u001b[0m\u001b[0;34m:\u001b[0m\u001b[0;34m\u001b[0m\u001b[0;34m\u001b[0m\u001b[0m\n\u001b[0m\u001b[1;32m      3\u001b[0m   \u001b[0;31m#print(f.read())\u001b[0m\u001b[0;34m\u001b[0m\u001b[0;34m\u001b[0m\u001b[0;34m\u001b[0m\u001b[0m\n\u001b[1;32m      4\u001b[0m   \u001b[0;31m#reader = csv.reader(f)\u001b[0m\u001b[0;34m\u001b[0m\u001b[0;34m\u001b[0m\u001b[0;34m\u001b[0m\u001b[0m\n\u001b[1;32m      5\u001b[0m \u001b[0;34m\u001b[0m\u001b[0m\n",
            "\u001b[0;31mFileNotFoundError\u001b[0m: [Errno 2] No such file or directory: './data_crowing/2022-12-12-hollys.csv'"
          ]
        }
      ]
    },
    {
      "cell_type": "code",
      "source": [
        "%cd data_crowing/"
      ],
      "metadata": {
        "colab": {
          "base_uri": "https://localhost:8080/"
        },
        "id": "j0vgzT1raaPF",
        "outputId": "ea98dfcd-958a-427e-c87f-92827d49ce96"
      },
      "execution_count": null,
      "outputs": [
        {
          "output_type": "stream",
          "name": "stdout",
          "text": [
            "/content/drive/MyDrive/python_demo/data_crowing\n"
          ]
        }
      ]
    },
    {
      "cell_type": "code",
      "source": [
        "!pwd"
      ],
      "metadata": {
        "colab": {
          "base_uri": "https://localhost:8080/"
        },
        "id": "CLb6XsidcSB1",
        "outputId": "9dd00a7f-0ec5-4e93-f018-c67e0433ff4a"
      },
      "execution_count": null,
      "outputs": [
        {
          "output_type": "stream",
          "name": "stdout",
          "text": [
            "/content/drive/MyDrive/python_demo/data_crowing\n"
          ]
        }
      ]
    },
    {
      "cell_type": "code",
      "source": [
        "!ls *hollys.csv"
      ],
      "metadata": {
        "colab": {
          "base_uri": "https://localhost:8080/"
        },
        "id": "lJFefiAhcYBV",
        "outputId": "60b9e313-29d1-40f8-f789-0d74981c0bc3"
      },
      "execution_count": null,
      "outputs": [
        {
          "output_type": "stream",
          "name": "stdout",
          "text": [
            "2022-12-12-hollys.csv  hollys.csv\n"
          ]
        }
      ]
    },
    {
      "cell_type": "code",
      "source": [
        "!cat 2022-12-12-ho *.csv"
      ],
      "metadata": {
        "colab": {
          "base_uri": "https://localhost:8080/"
        },
        "id": "YFbESCfrcbEr",
        "outputId": "15e1bf91-0f0b-4944-c7ef-7c4cededb613"
      },
      "execution_count": null,
      "outputs": [
        {
          "output_type": "stream",
          "name": "stdout",
          "text": [
            "cat: 2022-12-12-ho: No such file or directory\n",
            "StoreArea,StoreName,StorePhone\r\n",
            "\"['서울 강남구', '강남우리라운지점', '02-566-1002']\",\"['경기 수원시', '수원영통점', '031-202-3356']\",\"['경기 고양시 덕양구', '원흥역점', '031.967.0302']\",\"['서울 양천구', '오목교역점', '02-2062-8405']\",\"['대구 서구', '롯데시네마프리미엄만경관점', '070-7717-2192']\",\"['전남 순천시', '순천신대점', '061-723-5185']\",\"['서울 금천구', '시흥사거리점', '02-804-9226']\",\"['전북 전주시 완산구', '전주효천점', '063-224-5777']\",\"['제주 제주시', '제주도두해안DT점', '064-745-7301']\",\"['부산 북구', '부산화명점', '070-8884-1101']\"\r\n"
          ]
        }
      ]
    },
    {
      "cell_type": "code",
      "source": [
        "%cd .."
      ],
      "metadata": {
        "colab": {
          "base_uri": "https://localhost:8080/"
        },
        "id": "dmc-T4Moch9L",
        "outputId": "a501413d-ec40-4e5c-ee78-01760a4bdd42"
      },
      "execution_count": null,
      "outputs": [
        {
          "output_type": "stream",
          "name": "stdout",
          "text": [
            "/content/drive/MyDrive/python_demo\n"
          ]
        }
      ]
    },
    {
      "cell_type": "code",
      "source": [],
      "metadata": {
        "id": "kLhWnC7gc-Vj"
      },
      "execution_count": null,
      "outputs": []
    }
  ]
}