{
  "nbformat": 4,
  "nbformat_minor": 0,
  "metadata": {
    "colab": {
      "provenance": [],
      "include_colab_link": true
    },
    "kernelspec": {
      "name": "python3",
      "display_name": "Python 3"
    },
    "language_info": {
      "name": "python"
    }
  },
  "cells": [
    {
      "cell_type": "markdown",
      "metadata": {
        "id": "view-in-github",
        "colab_type": "text"
      },
      "source": [
        "<a href=\"https://colab.research.google.com/github/kim1minjii/pythondemo/blob/master/python_17_selenium.ipynb\" target=\"_parent\"><img src=\"https://colab.research.google.com/assets/colab-badge.svg\" alt=\"Open In Colab\"/></a>"
      ]
    },
    {
      "cell_type": "markdown",
      "source": [
        "### Selenium\n",
        "- \"Web Application\"의 테스트를 자동화하기 위한 도구이다.\n",
        "- !pip install selenium\n",
        "- 참고사이트\n",
        "  - https://www.selenium.dev/documentation/webdriver/getting_started/upgrade_to_selenium_4/\n",
        "  - https://wikidocs.net/177133\n",
        "  - https://kibua20.tistory.com/228\n"
      ],
      "metadata": {
        "id": "MWt8mb902Rt5"
      }
    },
    {
      "cell_type": "markdown",
      "source": [
        "### 구글 드라이브 연결"
      ],
      "metadata": {
        "id": "ZbI4Q7cS5E6H"
      }
    },
    {
      "cell_type": "code",
      "source": [
        "from google.colab import drive\n",
        "drive.mount('/content/drive')\n",
        "\n",
        "%cd /content/drive/MyDrive/python_demo"
      ],
      "metadata": {
        "colab": {
          "base_uri": "https://localhost:8080/"
        },
        "id": "Th2L8uRa5GR3",
        "outputId": "5c10d3ab-42ce-4984-d70d-01a992adc1e0"
      },
      "execution_count": null,
      "outputs": [
        {
          "output_type": "stream",
          "name": "stdout",
          "text": [
            "Mounted at /content/drive\n",
            "/content/drive/MyDrive/python_demo\n"
          ]
        }
      ]
    },
    {
      "cell_type": "markdown",
      "source": [
        "### selenium V4"
      ],
      "metadata": {
        "id": "2zOcB_eF2Gj6"
      }
    },
    {
      "cell_type": "code",
      "source": [
        "!pip install selenium\n",
        "\n",
        "# 특정 버전 설치\n",
        "#!pip install selenium==4.4.3\n",
        "\n",
        "#selenium  v4\n",
        "#!pip install webdriver-manager\n",
        "\n",
        "#구글코랩 selenium4\n",
        "!apt-get update\n",
        "!apt install chromium-chromedriver\n",
        "!cp /usr/lib/chromium-browser/chromedriver /usr/bin"
      ],
      "metadata": {
        "id": "aKGVw55W4oMp",
        "colab": {
          "base_uri": "https://localhost:8080/",
          "height": 1000
        },
        "outputId": "1b11acac-b76d-4ac9-fcd5-4d72b207c16f"
      },
      "execution_count": null,
      "outputs": [
        {
          "output_type": "stream",
          "name": "stdout",
          "text": [
            "Looking in indexes: https://pypi.org/simple, https://us-python.pkg.dev/colab-wheels/public/simple/\n",
            "Collecting selenium\n",
            "  Downloading selenium-4.7.2-py3-none-any.whl (6.3 MB)\n",
            "\u001b[K     |████████████████████████████████| 6.3 MB 34.7 MB/s \n",
            "\u001b[?25hCollecting trio~=0.17\n",
            "  Downloading trio-0.22.0-py3-none-any.whl (384 kB)\n",
            "\u001b[K     |████████████████████████████████| 384 kB 98.0 MB/s \n",
            "\u001b[?25hCollecting trio-websocket~=0.9\n",
            "  Downloading trio_websocket-0.9.2-py3-none-any.whl (16 kB)\n",
            "Requirement already satisfied: certifi>=2021.10.8 in /usr/local/lib/python3.8/dist-packages (from selenium) (2022.9.24)\n",
            "Collecting urllib3[socks]~=1.26\n",
            "  Downloading urllib3-1.26.13-py2.py3-none-any.whl (140 kB)\n",
            "\u001b[K     |████████████████████████████████| 140 kB 48.7 MB/s \n",
            "\u001b[?25hRequirement already satisfied: sortedcontainers in /usr/local/lib/python3.8/dist-packages (from trio~=0.17->selenium) (2.4.0)\n",
            "Requirement already satisfied: idna in /usr/local/lib/python3.8/dist-packages (from trio~=0.17->selenium) (2.10)\n",
            "Collecting async-generator>=1.9\n",
            "  Downloading async_generator-1.10-py3-none-any.whl (18 kB)\n",
            "Collecting sniffio\n",
            "  Downloading sniffio-1.3.0-py3-none-any.whl (10 kB)\n",
            "Collecting exceptiongroup>=1.0.0rc9\n",
            "  Downloading exceptiongroup-1.0.4-py3-none-any.whl (14 kB)\n",
            "Collecting outcome\n",
            "  Downloading outcome-1.2.0-py2.py3-none-any.whl (9.7 kB)\n",
            "Requirement already satisfied: attrs>=19.2.0 in /usr/local/lib/python3.8/dist-packages (from trio~=0.17->selenium) (22.1.0)\n",
            "Collecting wsproto>=0.14\n",
            "  Downloading wsproto-1.2.0-py3-none-any.whl (24 kB)\n",
            "Requirement already satisfied: PySocks!=1.5.7,<2.0,>=1.5.6 in /usr/local/lib/python3.8/dist-packages (from urllib3[socks]~=1.26->selenium) (1.7.1)\n",
            "Collecting h11<1,>=0.9.0\n",
            "  Downloading h11-0.14.0-py3-none-any.whl (58 kB)\n",
            "\u001b[K     |████████████████████████████████| 58 kB 7.2 MB/s \n",
            "\u001b[?25hInstalling collected packages: sniffio, outcome, h11, exceptiongroup, async-generator, wsproto, urllib3, trio, trio-websocket, selenium\n",
            "  Attempting uninstall: urllib3\n",
            "    Found existing installation: urllib3 1.24.3\n",
            "    Uninstalling urllib3-1.24.3:\n",
            "      Successfully uninstalled urllib3-1.24.3\n",
            "\u001b[31mERROR: pip's dependency resolver does not currently take into account all the packages that are installed. This behaviour is the source of the following dependency conflicts.\n",
            "requests 2.23.0 requires urllib3!=1.25.0,!=1.25.1,<1.26,>=1.21.1, but you have urllib3 1.26.13 which is incompatible.\u001b[0m\n",
            "Successfully installed async-generator-1.10 exceptiongroup-1.0.4 h11-0.14.0 outcome-1.2.0 selenium-4.7.2 sniffio-1.3.0 trio-0.22.0 trio-websocket-0.9.2 urllib3-1.26.13 wsproto-1.2.0\n"
          ]
        },
        {
          "output_type": "display_data",
          "data": {
            "application/vnd.colab-display-data+json": {
              "pip_warning": {
                "packages": [
                  "urllib3"
                ]
              }
            }
          },
          "metadata": {}
        },
        {
          "output_type": "stream",
          "name": "stdout",
          "text": [
            "\r0% [Working]\r            \rHit:1 https://cloud.r-project.org/bin/linux/ubuntu bionic-cran40/ InRelease\n",
            "\r0% [Connecting to archive.ubuntu.com (185.125.190.36)] [Connecting to security.\r0% [1 InRelease gpgv 3,626 B] [Connecting to archive.ubuntu.com (185.125.190.36\r0% [Waiting for headers] [Waiting for headers] [Waiting for headers] [Connectin\r                                                                               \rHit:2 http://security.ubuntu.com/ubuntu bionic-security InRelease\n",
            "\r0% [Waiting for headers] [Waiting for headers] [Connecting to ppa.launchpad.net\r0% [2 InRelease gpgv 88.7 kB] [Waiting for headers] [Waiting for headers] [Conn\r                                                                               \rHit:3 http://archive.ubuntu.com/ubuntu bionic InRelease\n",
            "\r0% [2 InRelease gpgv 88.7 kB] [Waiting for headers] [Waiting for headers] [Conn\r                                                                               \rIgn:4 https://developer.download.nvidia.com/compute/machine-learning/repos/ubuntu1804/x86_64  InRelease\n",
            "\r0% [2 InRelease gpgv 88.7 kB] [Waiting for headers] [Waiting for headers] [Wait\r                                                                               \rHit:5 https://developer.download.nvidia.com/compute/cuda/repos/ubuntu1804/x86_64  InRelease\n",
            "\r                                                                               \r0% [2 InRelease gpgv 88.7 kB] [Waiting for headers] [Waiting for headers]\r                                                                         \rHit:6 https://developer.download.nvidia.com/compute/machine-learning/repos/ubuntu1804/x86_64  Release\n",
            "Hit:7 http://archive.ubuntu.com/ubuntu bionic-updates InRelease\n",
            "Hit:8 http://ppa.launchpad.net/c2d4u.team/c2d4u4.0+/ubuntu bionic InRelease\n",
            "Hit:9 http://archive.ubuntu.com/ubuntu bionic-backports InRelease\n",
            "Hit:10 http://ppa.launchpad.net/cran/libgit2/ubuntu bionic InRelease\n",
            "Hit:11 http://ppa.launchpad.net/deadsnakes/ppa/ubuntu bionic InRelease\n",
            "Hit:13 http://ppa.launchpad.net/graphics-drivers/ppa/ubuntu bionic InRelease\n",
            "Reading package lists... Done\n",
            "Reading package lists... Done\n",
            "Building dependency tree       \n",
            "Reading state information... Done\n",
            "chromium-chromedriver is already the newest version (108.0.5359.71-0ubuntu0.18.04.5).\n",
            "The following package was automatically installed and is no longer required:\n",
            "  libnvidia-common-460\n",
            "Use 'apt autoremove' to remove it.\n",
            "0 upgraded, 0 newly installed, 0 to remove and 21 not upgraded.\n",
            "cp: '/usr/lib/chromium-browser/chromedriver' and '/usr/bin/chromedriver' are the same file\n"
          ]
        }
      ]
    },
    {
      "cell_type": "markdown",
      "source": [
        "#### import"
      ],
      "metadata": {
        "id": "30ubpXLf5-n5"
      }
    },
    {
      "cell_type": "code",
      "source": [
        "import requests\n",
        "from bs4 import BeautifulSoup\n",
        "import time\n",
        "from datetime import datetime\n",
        "\n",
        "from selenium import webdriver\n",
        "\n",
        "from selenium.webdriver.common.by import By\n",
        "from selenium.webdriver.support.ui import WebDriverWait\n",
        "from selenium.webdriver.support import expected_conditions as EC\n",
        "from selenium.webdriver.common.keys import Keys\n",
        "\n"
      ],
      "metadata": {
        "id": "uhAQApLn57_H"
      },
      "execution_count": null,
      "outputs": []
    },
    {
      "cell_type": "markdown",
      "source": [
        "### selenium 버전별 driver 객체 생성"
      ],
      "metadata": {
        "id": "0OCgxu7d7jRT"
      }
    },
    {
      "cell_type": "code",
      "source": [
        "#selenium V3\n",
        "#path = './lib/chromedriver.exe'\n",
        "#driver.get(path)\n",
        "\n",
        "\n",
        "#selenium V4\n",
        "#chrome_options = webdriver.ChromeOptions()\n",
        "#driver = webdriver.Chrome(service=Service(ChromeDriverManager().install()))\n",
        "\n",
        "\n",
        "#Colab에선 웹브라우저 창이 뜨지 않으므로 별도 설정한다.\n",
        "options = webdriver.ChromeOptions()\n",
        "options.add_argument('--headless')        # Head-less 설정\n",
        "options.add_argument('--no-sandbox')\n",
        "options.add_argument('--disable-dev-shm-usage')\n",
        "driver = webdriver.Chrome('chromedriver', options=options)"
      ],
      "metadata": {
        "id": "8EEx_I7_7Tuw"
      },
      "execution_count": null,
      "outputs": []
    },
    {
      "cell_type": "markdown",
      "source": [
        "### Naver에서 id가 1개일때 & 검색어 입력"
      ],
      "metadata": {
        "id": "Ozx57LUW6f7_"
      }
    },
    {
      "cell_type": "code",
      "source": [
        "\n",
        "url = 'https://www.naver.com/'\n",
        "driver.get(url)\n",
        "\n"
      ],
      "metadata": {
        "id": "jbzlBYIz6mTX"
      },
      "execution_count": null,
      "outputs": []
    },
    {
      "cell_type": "code",
      "source": [
        "#크롤링 데이터 확인\n",
        "print(type(driver)) #<class 'selenium.webdriver.chrome.webdriver.WebDriver'>\n",
        "#print(driver.page_source)\n",
        "\n",
        "print(type(driver.page_source)) #<class 'str'>"
      ],
      "metadata": {
        "colab": {
          "base_uri": "https://localhost:8080/"
        },
        "id": "dR9jpHix-rzr",
        "outputId": "694eb099-39ee-4f5c-efff-0534e6ec5e13"
      },
      "execution_count": null,
      "outputs": [
        {
          "output_type": "stream",
          "name": "stdout",
          "text": [
            "<class 'selenium.webdriver.chrome.webdriver.WebDriver'>\n",
            "<class 'str'>\n"
          ]
        }
      ]
    },
    {
      "cell_type": "code",
      "source": [
        "# WebElement로 리턴\n",
        "inputSearch = driver.find_element(By.ID, 'query')\n",
        "print(inputSearch)\n",
        "print(dir(inputSearch))\n",
        "\n",
        "# 검색어를 입력한다.\n",
        "inputSearch.send_keys('겨울왕국')\n",
        "\n",
        "# id = 'search_btn'인 검색 버튼을 찾는다.\n",
        "buttonSearch = driver.find_element(By.ID, 'search_btn')\n",
        "\n",
        "print(inputSearch.get_attribute(\"value\"))\n",
        "\n",
        "# 검색버튼을 클릭한다.\n",
        "buttonSearch.click()\n"
      ],
      "metadata": {
        "colab": {
          "base_uri": "https://localhost:8080/"
        },
        "id": "_TVQvP-C-slz",
        "outputId": "bb90591c-e196-48f2-97e1-89713ef36eeb"
      },
      "execution_count": null,
      "outputs": [
        {
          "output_type": "stream",
          "name": "stdout",
          "text": [
            "<selenium.webdriver.remote.webelement.WebElement (session=\"be421c84ac7f8e532a9fc5a698baafdf\", element=\"81924e8f-3f6c-45c8-9628-1b4ce6360da6\")>\n",
            "['__abstractmethods__', '__class__', '__delattr__', '__dict__', '__dir__', '__doc__', '__eq__', '__format__', '__ge__', '__getattribute__', '__gt__', '__hash__', '__init__', '__init_subclass__', '__le__', '__lt__', '__module__', '__ne__', '__new__', '__reduce__', '__reduce_ex__', '__repr__', '__setattr__', '__sizeof__', '__str__', '__subclasshook__', '__weakref__', '_abc_impl', '_execute', '_id', '_parent', '_upload', 'accessible_name', 'aria_role', 'clear', 'click', 'find_element', 'find_elements', 'get_attribute', 'get_dom_attribute', 'get_property', 'id', 'is_displayed', 'is_enabled', 'is_selected', 'location', 'location_once_scrolled_into_view', 'parent', 'rect', 'screenshot', 'screenshot_as_base64', 'screenshot_as_png', 'send_keys', 'shadow_root', 'size', 'submit', 'tag_name', 'text', 'value_of_css_property']\n",
            "겨울왕국\n"
          ]
        }
      ]
    },
    {
      "cell_type": "markdown",
      "source": [
        "###Google에서 class가 1개일 때 & 검색어 입력"
      ],
      "metadata": {
        "id": "ckdbfyfUBj2Y"
      }
    },
    {
      "cell_type": "code",
      "source": [
        "url = 'https://www.google.com/'\n",
        "driver.get(url)"
      ],
      "metadata": {
        "id": "8BJZn-QfELqb"
      },
      "execution_count": null,
      "outputs": []
    },
    {
      "cell_type": "code",
      "source": [
        "btns = driver.find_element(By.CLASS_NAME, 'gLFyf')\n",
        "\n",
        "#검색어를 입력한다.\n",
        "btns.send_keys('겨울왕국')\n",
        "\n",
        "print(btns.get_attribute('value'))\n",
        "\n",
        "#btns.clifk() #click안됨\n",
        "btns.submit() \n"
      ],
      "metadata": {
        "colab": {
          "base_uri": "https://localhost:8080/"
        },
        "id": "VssHp1AhEYoR",
        "outputId": "4f17d4ce-68ae-43ef-a719-dc3eb80610cc"
      },
      "execution_count": null,
      "outputs": [
        {
          "output_type": "stream",
          "name": "stdout",
          "text": [
            "겨울왕국\n"
          ]
        }
      ]
    },
    {
      "cell_type": "markdown",
      "source": [
        "###DAUM에서 css가 여러 개 일"
      ],
      "metadata": {
        "id": "pIwUjbH0F7sq"
      }
    },
    {
      "cell_type": "code",
      "source": [
        "url = 'https://www.daum.net/'\n",
        "driver.get(url)"
      ],
      "metadata": {
        "id": "K__0QZZjGsxD"
      },
      "execution_count": null,
      "outputs": []
    },
    {
      "cell_type": "code",
      "source": [
        "#select가 여러개 일 때\n",
        "\n",
        "ahtml = driver.find_element(By.CSS_SELECTOR, '.menu_service > ul > li:nth-child(4) a')\n",
        "print(type(ahtml))\n",
        "print(ahtml.text)\n",
        "ahtml.click( )"
      ],
      "metadata": {
        "colab": {
          "base_uri": "https://localhost:8080/"
        },
        "id": "o6iKXV6hGwz5",
        "outputId": "2697e7e5-6e76-4f04-ebb7-70de64dc300c"
      },
      "execution_count": null,
      "outputs": [
        {
          "output_type": "stream",
          "name": "stdout",
          "text": [
            "<class 'selenium.webdriver.remote.webelement.WebElement'>\n",
            "지도\n"
          ]
        }
      ]
    },
    {
      "cell_type": "markdown",
      "source": [
        "### Naver에서 많이 본 뉴스 목록 보기\n"
      ],
      "metadata": {
        "id": "fdzU8xQqHFyB"
      }
    },
    {
      "cell_type": "code",
      "source": [
        "url = 'https://www.naver.com/'\n",
        "driver.get(url)"
      ],
      "metadata": {
        "id": "0iM9IjhzII5a"
      },
      "execution_count": null,
      "outputs": []
    },
    {
      "cell_type": "code",
      "source": [
        "news = driver.find_element(By.CSS_SELECTOR, '#NM_FAVORITE > div.group_nav > ul.list_nav.NM_FAVORITE_LIST > li:nth-child(2) > a.nav')\n",
        "print(news.text)\n",
        "news.click()\n",
        "\n",
        "div_cjs_list = driver.find_elements(By.CSS_SELECTOR, 'div.cjs_journal_wrap._item_contents div.cjs_news_tw > div.cjs_t')\n",
        "\n",
        "print(len(div_cjs_list))\n",
        "\n",
        "for element_cjs in div_cjs_list:\n",
        "  print(element_cjs.text)"
      ],
      "metadata": {
        "id": "hNYSOUpDINrI",
        "colab": {
          "base_uri": "https://localhost:8080/"
        },
        "outputId": "861394f3-d7ea-4a4c-bf1a-0b22ed0165af"
      },
      "execution_count": null,
      "outputs": [
        {
          "output_type": "stream",
          "name": "stdout",
          "text": [
            "뉴스\n",
            "81\n",
            "‘文과 반려동물’ 삽화 달력 인기 폭발…“1억 모았다”\n",
            "“아직 못 가본 곳도 많은데…” 암을 이기게 한 여행의 힘 [아미랑]\n",
            "\"나라구하다 죽었냐\"..창원시의원, 이태원 참사 유족 향해 막말\n",
            "[현장연결] BTS 맏형 진 입대…팀에서 첫 군복 입는다\n",
            "\"자식 팔아 한몫\" 창원시의원, 이태원 유족에 막말\n",
            "\n",
            "\n",
            "\n",
            "\n",
            "\n",
            "\n",
            "\n",
            "\n",
            "\n",
            "\n",
            "\n",
            "\n",
            "\n",
            "\n",
            "\n",
            "\n",
            "\n",
            "\n",
            "\n",
            "\n",
            "\n",
            "\n",
            "\n",
            "\n",
            "\n",
            "\n",
            "\n",
            "\n",
            "\n",
            "\n",
            "\n",
            "\n",
            "\n",
            "\n",
            "\n",
            "\n",
            "\n",
            "\n",
            "\n",
            "\n",
            "\n",
            "\n",
            "\n",
            "\n",
            "\n",
            "\n",
            "\n",
            "\n",
            "\n",
            "\n",
            "\n",
            "\n",
            "\n",
            "\n",
            "\n",
            "\n",
            "\n",
            "\n",
            "\n",
            "\n",
            "\n",
            "\n",
            "\n",
            "\n",
            "\n",
            "\n",
            "\n",
            "\n",
            "\n",
            "\n",
            "\n",
            "\n",
            "\n",
            "\n",
            "\n",
            "\n"
          ]
        }
      ]
    },
    {
      "cell_type": "markdown",
      "source": [
        "### 시간창 대기 3가지\n",
        "- 일반적으로 시간창 대기는 time.sleep, implicity_wait, Explicit Waits 3가지 사용\n",
        " - time.sleep : 그냥 지정한 시간 만큼 기다린 뒤에 작업을 진행\n",
        " - implicity_wait : 지정한 시간 만큼 기다려주고 그 이후는 기다리지 않음\n",
        " - Explicit Waits : 특정 상태가 될 때까지 기다리고, 상태가 되면 바로 다음 실행"
      ],
      "metadata": {
        "id": "JhisDNoUJW0Q"
      }
    },
    {
      "cell_type": "code",
      "source": [
        "from selenium.webdriver.wpewebkit.webdriver import WebDriver\n",
        "# 무조건 지정된 time만큼 대기\n",
        "# time.sleep(5) -> 5초까지 기다려준다.\n",
        "\n",
        "# 5초 driver.implicity_wait(5)의 경우, \n",
        "# 페이지가 2초만에 로딩된다면\n",
        "# 5초를 다 기다리지 않고 바로 다음 코드로 넘어간다.\n",
        "driver.implicitly_wait(5)\n",
        "\n",
        "url = \"https://www.daum.net/\"\n",
        "driver.get(url)\n",
        "\n",
        "# 검색 버튼을 찾아서 누를 때 최대 5초까지만 기다리겠다는 의미이다.\n",
        "button = WebDriverWait(driver, 5).until(EC.presence_of_element_located((By.CSS_SELECTOR, '.menu_service > ul > li:nth-child(4) > a')))\n",
        "print(button.text)\n",
        "button.click()\n"
      ],
      "metadata": {
        "colab": {
          "base_uri": "https://localhost:8080/"
        },
        "id": "GwsNNh88RJJJ",
        "outputId": "a4e5efd8-8cd7-4697-b698-24bdfeffc874"
      },
      "execution_count": null,
      "outputs": [
        {
          "output_type": "stream",
          "name": "stdout",
          "text": [
            "지도\n"
          ]
        }
      ]
    },
    {
      "cell_type": "markdown",
      "source": [
        "### daum 로그인"
      ],
      "metadata": {
        "id": "t2Kz_GvaWL2m"
      }
    },
    {
      "cell_type": "code",
      "source": [
        "url = 'http://www.daum.net/'\n",
        "driver.get(url)\n",
        "\n",
        "next = driver.find_element(By.XPATH, '//*[@id=\"inner_login\"]/a[1]')\n",
        "next.click()\n",
        "\n",
        "inputid = driver.find_element(By.ID, 'input-loginKey')\n",
        "\n",
        "inputpwd = driver.find_element(By.ID, 'input-password')\n",
        "\n",
        "time.sleep(3)\n",
        "\n",
        "inputid.send_keys('kimminjii23@daum.net')\n",
        "inputpwd.send_keys('kim108616@6')\n",
        "\n",
        "login = driver.find_element(By.CLASS_NAME, 'btn_g.highlight')\n",
        "login.click()"
      ],
      "metadata": {
        "id": "Gu7E80KeWfXP"
      },
      "execution_count": null,
      "outputs": []
    },
    {
      "cell_type": "code",
      "source": [
        "mailclick = driver.find_element(By.CSS_SELECTOR, 'a.link_basis')\n",
        "print(mailclick.text)\n",
        "mailclick.click()\n",
        " \n",
        "#mailclick = WebDriverWait(driver, 10).until(EC.presence_of_element_located((By.CLASS_NAME, 'link_basis')))\n",
        "#print(mailclick.text)\n",
        "#mailclick.click()\n",
        " \n",
        " \n",
        " \n",
        "spandaum = driver.find_element(By.CLASS_NAME ,'img_mail.ico_daum')\n",
        "print(spandaum.tag_name)\n",
        "print(spandaum.get_attribute('class'))\n",
        "print(type(spandaum))\n",
        " \n",
        "#spandaum = WebDriverWait(driver, 5).until(EC.presence_of_element_located((By.CLASS_NAME, 'img_mail.ico_daum')))\n",
        "#print(spandaum.text)\n"
      ],
      "metadata": {
        "colab": {
          "base_uri": "https://localhost:8080/",
          "height": 855
        },
        "id": "qaGzCZpXn-hF",
        "outputId": "e046b58d-6213-4c2b-8b53-aa6a3976ef88"
      },
      "execution_count": null,
      "outputs": [
        {
          "output_type": "error",
          "ename": "NoSuchElementException",
          "evalue": "ignored",
          "traceback": [
            "\u001b[0;31m---------------------------------------------------------------------------\u001b[0m",
            "\u001b[0;31mNoSuchElementException\u001b[0m                    Traceback (most recent call last)",
            "\u001b[0;32m<ipython-input-43-3202502a829c>\u001b[0m in \u001b[0;36m<module>\u001b[0;34m\u001b[0m\n\u001b[0;32m----> 1\u001b[0;31m \u001b[0mmailclick\u001b[0m \u001b[0;34m=\u001b[0m \u001b[0mdriver\u001b[0m\u001b[0;34m.\u001b[0m\u001b[0mfind_element\u001b[0m\u001b[0;34m(\u001b[0m\u001b[0mBy\u001b[0m\u001b[0;34m.\u001b[0m\u001b[0mCSS_SELECTOR\u001b[0m\u001b[0;34m,\u001b[0m \u001b[0;34m'a.link_basis'\u001b[0m\u001b[0;34m)\u001b[0m\u001b[0;34m\u001b[0m\u001b[0;34m\u001b[0m\u001b[0m\n\u001b[0m\u001b[1;32m      2\u001b[0m \u001b[0mprint\u001b[0m\u001b[0;34m(\u001b[0m\u001b[0mmailclick\u001b[0m\u001b[0;34m.\u001b[0m\u001b[0mtext\u001b[0m\u001b[0;34m)\u001b[0m\u001b[0;34m\u001b[0m\u001b[0;34m\u001b[0m\u001b[0m\n\u001b[1;32m      3\u001b[0m \u001b[0mmailclick\u001b[0m\u001b[0;34m.\u001b[0m\u001b[0mclick\u001b[0m\u001b[0;34m(\u001b[0m\u001b[0;34m)\u001b[0m\u001b[0;34m\u001b[0m\u001b[0;34m\u001b[0m\u001b[0m\n\u001b[1;32m      4\u001b[0m \u001b[0;34m\u001b[0m\u001b[0m\n\u001b[1;32m      5\u001b[0m \u001b[0;31m#mailclick = WebDriverWait(driver, 10).until(EC.presence_of_element_located((By.CLASS_NAME, 'link_basis')))\u001b[0m\u001b[0;34m\u001b[0m\u001b[0;34m\u001b[0m\u001b[0;34m\u001b[0m\u001b[0m\n",
            "\u001b[0;32m/usr/local/lib/python3.8/dist-packages/selenium/webdriver/remote/webdriver.py\u001b[0m in \u001b[0;36mfind_element\u001b[0;34m(self, by, value)\u001b[0m\n\u001b[1;32m    859\u001b[0m             \u001b[0mvalue\u001b[0m \u001b[0;34m=\u001b[0m \u001b[0;34m'[name=\"%s\"]'\u001b[0m \u001b[0;34m%\u001b[0m \u001b[0mvalue\u001b[0m\u001b[0;34m\u001b[0m\u001b[0;34m\u001b[0m\u001b[0m\n\u001b[1;32m    860\u001b[0m \u001b[0;34m\u001b[0m\u001b[0m\n\u001b[0;32m--> 861\u001b[0;31m         \u001b[0;32mreturn\u001b[0m \u001b[0mself\u001b[0m\u001b[0;34m.\u001b[0m\u001b[0mexecute\u001b[0m\u001b[0;34m(\u001b[0m\u001b[0mCommand\u001b[0m\u001b[0;34m.\u001b[0m\u001b[0mFIND_ELEMENT\u001b[0m\u001b[0;34m,\u001b[0m \u001b[0;34m{\u001b[0m\u001b[0;34m\"using\"\u001b[0m\u001b[0;34m:\u001b[0m \u001b[0mby\u001b[0m\u001b[0;34m,\u001b[0m \u001b[0;34m\"value\"\u001b[0m\u001b[0;34m:\u001b[0m \u001b[0mvalue\u001b[0m\u001b[0;34m}\u001b[0m\u001b[0;34m)\u001b[0m\u001b[0;34m[\u001b[0m\u001b[0;34m\"value\"\u001b[0m\u001b[0;34m]\u001b[0m\u001b[0;34m\u001b[0m\u001b[0;34m\u001b[0m\u001b[0m\n\u001b[0m\u001b[1;32m    862\u001b[0m \u001b[0;34m\u001b[0m\u001b[0m\n\u001b[1;32m    863\u001b[0m     \u001b[0;32mdef\u001b[0m \u001b[0mfind_elements\u001b[0m\u001b[0;34m(\u001b[0m\u001b[0mself\u001b[0m\u001b[0;34m,\u001b[0m \u001b[0mby\u001b[0m\u001b[0;34m=\u001b[0m\u001b[0mBy\u001b[0m\u001b[0;34m.\u001b[0m\u001b[0mID\u001b[0m\u001b[0;34m,\u001b[0m \u001b[0mvalue\u001b[0m\u001b[0;34m:\u001b[0m \u001b[0mOptional\u001b[0m\u001b[0;34m[\u001b[0m\u001b[0mstr\u001b[0m\u001b[0;34m]\u001b[0m \u001b[0;34m=\u001b[0m \u001b[0;32mNone\u001b[0m\u001b[0;34m)\u001b[0m \u001b[0;34m->\u001b[0m \u001b[0mList\u001b[0m\u001b[0;34m[\u001b[0m\u001b[0mWebElement\u001b[0m\u001b[0;34m]\u001b[0m\u001b[0;34m:\u001b[0m\u001b[0;34m\u001b[0m\u001b[0;34m\u001b[0m\u001b[0m\n",
            "\u001b[0;32m/usr/local/lib/python3.8/dist-packages/selenium/webdriver/remote/webdriver.py\u001b[0m in \u001b[0;36mexecute\u001b[0;34m(self, driver_command, params)\u001b[0m\n\u001b[1;32m    442\u001b[0m         \u001b[0mresponse\u001b[0m \u001b[0;34m=\u001b[0m \u001b[0mself\u001b[0m\u001b[0;34m.\u001b[0m\u001b[0mcommand_executor\u001b[0m\u001b[0;34m.\u001b[0m\u001b[0mexecute\u001b[0m\u001b[0;34m(\u001b[0m\u001b[0mdriver_command\u001b[0m\u001b[0;34m,\u001b[0m \u001b[0mparams\u001b[0m\u001b[0;34m)\u001b[0m\u001b[0;34m\u001b[0m\u001b[0;34m\u001b[0m\u001b[0m\n\u001b[1;32m    443\u001b[0m         \u001b[0;32mif\u001b[0m \u001b[0mresponse\u001b[0m\u001b[0;34m:\u001b[0m\u001b[0;34m\u001b[0m\u001b[0;34m\u001b[0m\u001b[0m\n\u001b[0;32m--> 444\u001b[0;31m             \u001b[0mself\u001b[0m\u001b[0;34m.\u001b[0m\u001b[0merror_handler\u001b[0m\u001b[0;34m.\u001b[0m\u001b[0mcheck_response\u001b[0m\u001b[0;34m(\u001b[0m\u001b[0mresponse\u001b[0m\u001b[0;34m)\u001b[0m\u001b[0;34m\u001b[0m\u001b[0;34m\u001b[0m\u001b[0m\n\u001b[0m\u001b[1;32m    445\u001b[0m             \u001b[0mresponse\u001b[0m\u001b[0;34m[\u001b[0m\u001b[0;34m\"value\"\u001b[0m\u001b[0;34m]\u001b[0m \u001b[0;34m=\u001b[0m \u001b[0mself\u001b[0m\u001b[0;34m.\u001b[0m\u001b[0m_unwrap_value\u001b[0m\u001b[0;34m(\u001b[0m\u001b[0mresponse\u001b[0m\u001b[0;34m.\u001b[0m\u001b[0mget\u001b[0m\u001b[0;34m(\u001b[0m\u001b[0;34m\"value\"\u001b[0m\u001b[0;34m,\u001b[0m \u001b[0;32mNone\u001b[0m\u001b[0;34m)\u001b[0m\u001b[0;34m)\u001b[0m\u001b[0;34m\u001b[0m\u001b[0;34m\u001b[0m\u001b[0m\n\u001b[1;32m    446\u001b[0m             \u001b[0;32mreturn\u001b[0m \u001b[0mresponse\u001b[0m\u001b[0;34m\u001b[0m\u001b[0;34m\u001b[0m\u001b[0m\n",
            "\u001b[0;32m/usr/local/lib/python3.8/dist-packages/selenium/webdriver/remote/errorhandler.py\u001b[0m in \u001b[0;36mcheck_response\u001b[0;34m(self, response)\u001b[0m\n\u001b[1;32m    247\u001b[0m                 \u001b[0malert_text\u001b[0m \u001b[0;34m=\u001b[0m \u001b[0mvalue\u001b[0m\u001b[0;34m[\u001b[0m\u001b[0;34m\"alert\"\u001b[0m\u001b[0;34m]\u001b[0m\u001b[0;34m.\u001b[0m\u001b[0mget\u001b[0m\u001b[0;34m(\u001b[0m\u001b[0;34m\"text\"\u001b[0m\u001b[0;34m)\u001b[0m\u001b[0;34m\u001b[0m\u001b[0;34m\u001b[0m\u001b[0m\n\u001b[1;32m    248\u001b[0m             \u001b[0;32mraise\u001b[0m \u001b[0mexception_class\u001b[0m\u001b[0;34m(\u001b[0m\u001b[0mmessage\u001b[0m\u001b[0;34m,\u001b[0m \u001b[0mscreen\u001b[0m\u001b[0;34m,\u001b[0m \u001b[0mstacktrace\u001b[0m\u001b[0;34m,\u001b[0m \u001b[0malert_text\u001b[0m\u001b[0;34m)\u001b[0m  \u001b[0;31m# type: ignore[call-arg]  # mypy is not smart enough here\u001b[0m\u001b[0;34m\u001b[0m\u001b[0;34m\u001b[0m\u001b[0m\n\u001b[0;32m--> 249\u001b[0;31m         \u001b[0;32mraise\u001b[0m \u001b[0mexception_class\u001b[0m\u001b[0;34m(\u001b[0m\u001b[0mmessage\u001b[0m\u001b[0;34m,\u001b[0m \u001b[0mscreen\u001b[0m\u001b[0;34m,\u001b[0m \u001b[0mstacktrace\u001b[0m\u001b[0;34m)\u001b[0m\u001b[0;34m\u001b[0m\u001b[0;34m\u001b[0m\u001b[0m\n\u001b[0m",
            "\u001b[0;31mNoSuchElementException\u001b[0m: Message: no such element: Unable to locate element: {\"method\":\"css selector\",\"selector\":\"a.link_basis\"}\n  (Session info: headless chrome=108.0.5359.71)\nStacktrace:\n#0 0x5641b0972253 <unknown>\n#1 0x5641b06e82e1 <unknown>\n#2 0x5641b0724b45 <unknown>\n#3 0x5641b0724d71 <unknown>\n#4 0x5641b07619f7 <unknown>\n#5 0x5641b074615d <unknown>\n#6 0x5641b075f52c <unknown>\n#7 0x5641b0746493 <unknown>\n#8 0x5641b0717f73 <unknown>\n#9 0x5641b07195f5 <unknown>\n#10 0x5641b09f0080 <unknown>\n#11 0x5641b09aa9c9 <unknown>\n#12 0x5641b09aa420 <unknown>\n#13 0x5641b09ab1a5 <unknown>\n#14 0x5641b09ebc2b <unknown>\n#15 0x5641b09ab50e <unknown>\n#16 0x5641b098ce17 <unknown>\n#17 0x5641b09b6248 <unknown>\n#18 0x5641b09b63e9 <unknown>\n#19 0x5641b09ce770 <unknown>\n#20 0x7f4820df26db start_thread\n"
          ]
        }
      ]
    },
    {
      "cell_type": "code",
      "source": [
        "#섹션 확인 selenium 깔렸는지 확인\n",
        "!pip freeze"
      ],
      "metadata": {
        "id": "LCGHJZ9nYpPG"
      },
      "execution_count": null,
      "outputs": []
    },
    {
      "cell_type": "markdown",
      "source": [
        "###daum 메일"
      ],
      "metadata": {
        "id": "2L9DEUNshwYm"
      }
    },
    {
      "cell_type": "markdown",
      "source": [
        "![이미지](https://t1.daumcdn.net/daumtop_chanel/op/20200723055344399.png)"
      ],
      "metadata": {
        "id": "pF1YuxPNOYIJ"
      }
    },
    {
      "cell_type": "code",
      "source": [
        "url=\"https://drive.google.com/file/d/1I8faWeRQS_Nf4vwDImH5ih40Q-vq97Kh/view?usp=share_link\" \n",
        "path='https://drive.google.com/uc?export=download&id='+url.split('/')[-2]\n",
        "size=\"width=\\\"\\\" \"+\"height =\\\"\\\" \"\n",
        "tag=\"<img src='\"+path+\"' \"+size+\"/><br>\"\n",
        "print(\" ▶ Path : \", path)\n",
        "print('\\n',\"▶ Tag : \", tag)\n"
      ],
      "metadata": {
        "id": "D75TN44lnDFk",
        "colab": {
          "base_uri": "https://localhost:8080/"
        },
        "outputId": "d5b6ecb5-021e-4568-ef2e-b625f2c761bd"
      },
      "execution_count": null,
      "outputs": [
        {
          "output_type": "stream",
          "name": "stdout",
          "text": [
            " ▶ Path :  https://drive.google.com/uc?export=download&id=1I8faWeRQS_Nf4vwDImH5ih40Q-vq97Kh\n",
            "\n",
            " ▶ Tag :  <img src='https://drive.google.com/uc?export=download&id=1I8faWeRQS_Nf4vwDImH5ih40Q-vq97Kh' width=\"\" height =\"\" /><br>\n"
          ]
        }
      ]
    },
    {
      "cell_type": "markdown",
      "source": [
        "![parser](https://drive.google.com/uc?export=download&id=1I8faWeRQS_Nf4vwDImH5ih40Q-vq97Kh)"
      ],
      "metadata": {
        "id": "nqbGUOuInbyM"
      }
    },
    {
      "cell_type": "code",
      "source": [],
      "metadata": {
        "id": "HBJKB1ASoY1z"
      },
      "execution_count": null,
      "outputs": []
    }
  ]
}