{
  "nbformat": 4,
  "nbformat_minor": 0,
  "metadata": {
    "colab": {
      "provenance": [],
      "authorship_tag": "ABX9TyPGTZh9x3izseIKqCv4GGxN",
      "include_colab_link": true
    },
    "kernelspec": {
      "name": "python3",
      "display_name": "Python 3"
    },
    "language_info": {
      "name": "python"
    }
  },
  "cells": [
    {
      "cell_type": "markdown",
      "metadata": {
        "id": "view-in-github",
        "colab_type": "text"
      },
      "source": [
        "<a href=\"https://colab.research.google.com/github/kim1minjii/pythondemo/blob/master/python_08_%ED%8C%8C%EC%9D%BC%EC%9E%85%EC%B6%9C%EB%A0%A5.ipynb\" target=\"_parent\"><img src=\"https://colab.research.google.com/assets/colab-badge.svg\" alt=\"Open In Colab\"/></a>"
      ]
    },
    {
      "cell_type": "markdown",
      "source": [
        "open ('파일경로', '파일열기모드')\n",
        " - 파일 열기 모드\n",
        "    - w : 쓰기 모드 - 파일에 내용을 쓸 때 사용\n",
        "    - r : 읽기 모드 - 파일에 내용을 읽을 때 사용\n",
        "    - a : 추가 모드 - 파일에 내용을 추가할 때 사용"
      ],
      "metadata": {
        "id": "ckVCUayf-3rV"
      }
    },
    {
      "cell_type": "code",
      "source": [
        "#open('파일경로', '모드')\n",
        "fwrite = open('sample.txt', 'w') #파일 열기\n",
        "for i in range(1, 4): # 1~3까지 저장\n",
        " data = '%d번째 줄입니다.\\n' % i\n",
        " fwrite.write(data)\n",
        "fwrite.close() #파일 닫기\n"
      ],
      "metadata": {
        "id": "jgsJZWh9_ZDK"
      },
      "execution_count": null,
      "outputs": []
    },
    {
      "cell_type": "code",
      "source": [
        "fread = open('sample.txt', 'r') #sample.txt파일에 데이터를 읽어온다.\n",
        "#line = fread.readline() #readline()은 파일에서 한 라인씩 읽어옴\n",
        "line = fread.read() #read()는 파일에서 전체를 읽어와 str로 리턴한다.\n",
        "print(type(line))\n",
        "fread.close()"
      ],
      "metadata": {
        "colab": {
          "base_uri": "https://localhost:8080/"
        },
        "id": "auV_WYO8BMtk",
        "outputId": "d1741d34-bbf4-4a61-98b7-e3be363ea227"
      },
      "execution_count": null,
      "outputs": [
        {
          "output_type": "stream",
          "name": "stdout",
          "text": [
            "<class 'str'>\n"
          ]
        }
      ]
    },
    {
      "cell_type": "code",
      "source": [
        "fread = open('sample.txt', 'r') #sample.txt 파일에 데이터를 읽어온다.\n",
        "while True:\n",
        "  line = fread.readline() #readline()은 파일에서 한 라인씩 읽어옴\n",
        "  if not line: #파일에서 더이상 읽어올 내용이 없으면\n",
        "    break\n",
        "  print(line)\n",
        "fread.close()"
      ],
      "metadata": {
        "colab": {
          "base_uri": "https://localhost:8080/"
        },
        "id": "xXzLOAXsBidK",
        "outputId": "f1632cd9-ac09-4bad-8465-4f7e1728bf8b"
      },
      "execution_count": null,
      "outputs": [
        {
          "output_type": "stream",
          "name": "stdout",
          "text": [
            "1번째 줄입니다.\n",
            "\n",
            "2번째 줄입니다.\n",
            "\n",
            "3번째 줄입니다.\n",
            "\n"
          ]
        }
      ]
    },
    {
      "cell_type": "code",
      "source": [
        "import os\n",
        "path = os.getcwd()\n",
        "print(path)"
      ],
      "metadata": {
        "colab": {
          "base_uri": "https://localhost:8080/"
        },
        "id": "Sy1oPB4fB4M6",
        "outputId": "08c40c9c-ab1e-4b38-ef0d-8d47a04b88ba"
      },
      "execution_count": null,
      "outputs": [
        {
          "output_type": "stream",
          "name": "stdout",
          "text": [
            "/content\n"
          ]
        }
      ]
    },
    {
      "cell_type": "markdown",
      "source": [
        "### with문과 함께 사용\n",
        "- with문과 함께 파일을 사용하면 읽기, 쓰기할 때 close()를 안해도 된다."
      ],
      "metadata": {
        "id": "-6hnxU3CDX0i"
      }
    },
    {
      "cell_type": "code",
      "source": [
        "with open('sample.txt','w') as f: #f: 객체\n",
        "  for i in range(5,8):\n",
        "    data = '%d번째 줄 입니다. \\n' % i\n",
        "    f.write(data)"
      ],
      "metadata": {
        "id": "7aD5ShNeERc8"
      },
      "execution_count": null,
      "outputs": []
    },
    {
      "cell_type": "code",
      "source": [
        "with open('sample.txt','r') as f:\n",
        "  while True:\n",
        "    line = f.readline()\n",
        "    if not line:\n",
        "      break\n",
        "    print(line)"
      ],
      "metadata": {
        "colab": {
          "base_uri": "https://localhost:8080/"
        },
        "id": "I_HMeOmNEi4h",
        "outputId": "348fc01e-a362-4afe-cfed-25bb610d6df3"
      },
      "execution_count": null,
      "outputs": [
        {
          "output_type": "stream",
          "name": "stdout",
          "text": [
            "5번째 줄 입니다. \n",
            "\n",
            "6번째 줄 입니다. \n",
            "\n",
            "7번째 줄 입니다. \n",
            "\n"
          ]
        }
      ]
    },
    {
      "cell_type": "code",
      "source": [
        "[3, 4, 'a', 'b']"
      ],
      "metadata": {
        "colab": {
          "base_uri": "https://localhost:8080/"
        },
        "id": "NgF4Xxe4EzU5",
        "outputId": "ccbc07d7-fd41-44ee-e922-b08ce8d34924"
      },
      "execution_count": null,
      "outputs": [
        {
          "output_type": "execute_result",
          "data": {
            "text/plain": [
              "[3, 4, 'a', 'b']"
            ]
          },
          "metadata": {},
          "execution_count": 27
        }
      ]
    },
    {
      "cell_type": "code",
      "source": [
        "with open('tes.txt', 'w') as f:\n",
        "  f.writelines(['apple', 'banana', 'kiwi']) #string만 가능\n",
        "  #f.writelines([True, False, True, False]) #boolean불가능"
      ],
      "metadata": {
        "id": "vmb2458DFkV5"
      },
      "execution_count": null,
      "outputs": []
    },
    {
      "cell_type": "code",
      "source": [
        "with open('tes.txt', 'r') as f:\n",
        "  print(f.readlines())"
      ],
      "metadata": {
        "colab": {
          "base_uri": "https://localhost:8080/"
        },
        "id": "byDKSyA-FwXg",
        "outputId": "68b8ef95-92aa-4631-e372-9fd133a6aa73"
      },
      "execution_count": null,
      "outputs": [
        {
          "output_type": "stream",
          "name": "stdout",
          "text": [
            "['applebananakiwi']\n"
          ]
        }
      ]
    },
    {
      "cell_type": "code",
      "source": [
        "import random"
      ],
      "metadata": {
        "id": "Oye2yStuGKVR"
      },
      "execution_count": null,
      "outputs": []
    },
    {
      "cell_type": "code",
      "source": [
        "random.choice([1, 2, 3, 4])"
      ],
      "metadata": {
        "colab": {
          "base_uri": "https://localhost:8080/"
        },
        "id": "-KmhO4T5GzGh",
        "outputId": "9d0a835c-3e36-4af4-859c-158a31350341"
      },
      "execution_count": null,
      "outputs": [
        {
          "output_type": "execute_result",
          "data": {
            "text/plain": [
              "4"
            ]
          },
          "metadata": {},
          "execution_count": 31
        }
      ]
    },
    {
      "cell_type": "code",
      "source": [
        "random.randrange(1, 10) #1부터 10미만 사이의 난수 발생"
      ],
      "metadata": {
        "colab": {
          "base_uri": "https://localhost:8080/"
        },
        "id": "psc05ZnGG254",
        "outputId": "8835ad7f-a099-4f3b-f4bd-9b4b5bd71ca3"
      },
      "execution_count": null,
      "outputs": [
        {
          "output_type": "execute_result",
          "data": {
            "text/plain": [
              "6"
            ]
          },
          "metadata": {},
          "execution_count": 34
        }
      ]
    },
    {
      "cell_type": "code",
      "source": [
        "with open('number.txt', 'w') as f:\n",
        "  f.write(str(random.randrange(1,10))) #문자열로 바꿔서 저장"
      ],
      "metadata": {
        "id": "DSTFGoA0G_CA"
      },
      "execution_count": null,
      "outputs": []
    },
    {
      "cell_type": "code",
      "source": [
        "with open('number.txt', 'r') as f:\n",
        "  print(f.read())"
      ],
      "metadata": {
        "colab": {
          "base_uri": "https://localhost:8080/"
        },
        "id": "i2lZ6VemHaDp",
        "outputId": "8c71dddf-58de-4fe1-af9d-90ef454a4320"
      },
      "execution_count": null,
      "outputs": [
        {
          "output_type": "stream",
          "name": "stdout",
          "text": [
            "2\n"
          ]
        }
      ]
    },
    {
      "cell_type": "code",
      "source": [],
      "metadata": {
        "id": "45JQ64-lHpTA"
      },
      "execution_count": null,
      "outputs": []
    }
  ]
}