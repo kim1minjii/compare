{
  "nbformat": 4,
  "nbformat_minor": 0,
  "metadata": {
    "colab": {
      "provenance": [],
      "collapsed_sections": [
        "XF_iDxRYl8I0",
        "jKfCeS9BmNx1",
        "xWFLr5p9nDOF",
        "p-LE1eQDn2n8",
        "yCh6TBZiugiW",
        "b1Y5bxybzKyG",
        "1qI93GFGvs61",
        "O0b-Z6z0yE6d",
        "0Q7sJYDH16b7",
        "P3Cb-7ETF3uw",
        "_9nfleRwGlUX",
        "h5-0jiTdHFFA",
        "IIjlTlMXb7do"
      ],
      "authorship_tag": "ABX9TyMDRjB6sn83BRCsIAfmLPXO",
      "include_colab_link": true
    },
    "kernelspec": {
      "name": "python3",
      "display_name": "Python 3"
    },
    "language_info": {
      "name": "python"
    }
  },
  "cells": [
    {
      "cell_type": "markdown",
      "metadata": {
        "id": "view-in-github",
        "colab_type": "text"
      },
      "source": [
        "<a href=\"https://colab.research.google.com/github/kim1minjii/pythondemo/blob/master/python_02_basic.ipynb\" target=\"_parent\"><img src=\"https://colab.research.google.com/assets/colab-badge.svg\" alt=\"Open In Colab\"/></a>"
      ]
    },
    {
      "cell_type": "code",
      "execution_count": null,
      "metadata": {
        "id": "3qImHXawaflW"
      },
      "outputs": [],
      "source": [
        "import this"
      ]
    },
    {
      "cell_type": "code",
      "source": [
        "import antigravity"
      ],
      "metadata": {
        "id": "ogQDyVGKaopg"
      },
      "execution_count": null,
      "outputs": []
    },
    {
      "cell_type": "code",
      "source": [
        "antigravity"
      ],
      "metadata": {
        "colab": {
          "base_uri": "https://localhost:8080/"
        },
        "id": "gxC4sOIWa26w",
        "outputId": "6ace58e8-9b68-45a7-9ea7-897f72b3c119"
      },
      "execution_count": null,
      "outputs": [
        {
          "output_type": "execute_result",
          "data": {
            "text/plain": [
              "<module 'antigravity' from '/usr/lib/python3.7/antigravity.py'>"
            ]
          },
          "metadata": {},
          "execution_count": 159
        }
      ]
    },
    {
      "cell_type": "markdown",
      "source": [
        "### keyword.kwlist"
      ],
      "metadata": {
        "id": "rAJGCaOToWM0"
      }
    },
    {
      "cell_type": "code",
      "source": [
        "import keyword\n",
        "keyword.kwlist"
      ],
      "metadata": {
        "colab": {
          "base_uri": "https://localhost:8080/"
        },
        "id": "jBAAe5Cma80n",
        "outputId": "aadfa241-a945-442c-841e-76ba1d6bf501"
      },
      "execution_count": null,
      "outputs": [
        {
          "output_type": "execute_result",
          "data": {
            "text/plain": [
              "['False',\n",
              " 'None',\n",
              " 'True',\n",
              " 'and',\n",
              " 'as',\n",
              " 'assert',\n",
              " 'async',\n",
              " 'await',\n",
              " 'break',\n",
              " 'class',\n",
              " 'continue',\n",
              " 'def',\n",
              " 'del',\n",
              " 'elif',\n",
              " 'else',\n",
              " 'except',\n",
              " 'finally',\n",
              " 'for',\n",
              " 'from',\n",
              " 'global',\n",
              " 'if',\n",
              " 'import',\n",
              " 'in',\n",
              " 'is',\n",
              " 'lambda',\n",
              " 'nonlocal',\n",
              " 'not',\n",
              " 'or',\n",
              " 'pass',\n",
              " 'raise',\n",
              " 'return',\n",
              " 'try',\n",
              " 'while',\n",
              " 'with',\n",
              " 'yield']"
            ]
          },
          "metadata": {},
          "execution_count": 160
        }
      ]
    },
    {
      "cell_type": "markdown",
      "source": [
        "### len()\n",
        "갯수 확인"
      ],
      "metadata": {
        "id": "rsERtyfjm0WE"
      }
    },
    {
      "cell_type": "code",
      "source": [
        "len(keyword.kwlist)"
      ],
      "metadata": {
        "colab": {
          "base_uri": "https://localhost:8080/"
        },
        "id": "nBoo5aMKbC6v",
        "outputId": "462c4368-7fe8-4c30-ec99-2c45885eaeb4"
      },
      "execution_count": null,
      "outputs": [
        {
          "output_type": "execute_result",
          "data": {
            "text/plain": [
              "35"
            ]
          },
          "metadata": {},
          "execution_count": 161
        }
      ]
    },
    {
      "cell_type": "code",
      "source": [
        "print('Hello World')"
      ],
      "metadata": {
        "colab": {
          "base_uri": "https://localhost:8080/"
        },
        "id": "jwhChCbrbwjs",
        "outputId": "496e7bcc-a31a-4bbe-d10c-a44b85436218"
      },
      "execution_count": null,
      "outputs": [
        {
          "output_type": "stream",
          "name": "stdout",
          "text": [
            "Hello World\n"
          ]
        }
      ]
    },
    {
      "cell_type": "code",
      "source": [
        "print(\"Hello World\")"
      ],
      "metadata": {
        "colab": {
          "base_uri": "https://localhost:8080/"
        },
        "id": "PCysEBgGb54I",
        "outputId": "7935838a-aecb-43c1-d28b-d77464ba5cfe"
      },
      "execution_count": null,
      "outputs": [
        {
          "output_type": "stream",
          "name": "stdout",
          "text": [
            "Hello World\n"
          ]
        }
      ]
    },
    {
      "cell_type": "code",
      "source": [
        "print(\"python\") print(\"module\")"
      ],
      "metadata": {
        "colab": {
          "base_uri": "https://localhost:8080/",
          "height": 138
        },
        "id": "RKnhuBN0f0dw",
        "outputId": "92fbe9ae-5c39-4ffb-8165-39a3ef9aa78e"
      },
      "execution_count": null,
      "outputs": [
        {
          "output_type": "error",
          "ename": "SyntaxError",
          "evalue": "ignored",
          "traceback": [
            "\u001b[0;36m  File \u001b[0;32m\"<ipython-input-164-5a22d234ed85>\"\u001b[0;36m, line \u001b[0;32m1\u001b[0m\n\u001b[0;31m    print(\"python\") print(\"module\")\u001b[0m\n\u001b[0m                        ^\u001b[0m\n\u001b[0;31mSyntaxError\u001b[0m\u001b[0;31m:\u001b[0m invalid syntax\n"
          ]
        }
      ]
    },
    {
      "cell_type": "code",
      "source": [
        "print(\"python\"); print(\"module\")"
      ],
      "metadata": {
        "id": "PscsxbCghMpX"
      },
      "execution_count": null,
      "outputs": []
    },
    {
      "cell_type": "code",
      "source": [
        "a = 10; b = 20\n",
        "if(a==10) and \\\n",
        "  (b==20):\n",
        "    print(\"OK\")"
      ],
      "metadata": {
        "id": "R2hq6sUrhSW2"
      },
      "execution_count": null,
      "outputs": []
    },
    {
      "cell_type": "code",
      "source": [
        "pen=ko=100\n",
        "print(pen)\n",
        "print(ko)"
      ],
      "metadata": {
        "id": "-VQt3zKziXA-"
      },
      "execution_count": null,
      "outputs": []
    },
    {
      "cell_type": "code",
      "source": [
        "language = 'korea'\n",
        "body = \"tag\"\n",
        "print(language)\n",
        "print(body)"
      ],
      "metadata": {
        "id": "Tw9qoEm8jQQ1"
      },
      "execution_count": null,
      "outputs": []
    },
    {
      "cell_type": "markdown",
      "source": [
        "### eval()\n",
        "\n",
        "print 없이 사용 가능하다."
      ],
      "metadata": {
        "id": "zwear3FvluF8"
      }
    },
    {
      "cell_type": "code",
      "source": [
        "a = 1\n",
        "a = eval('a + 4')\n",
        "a"
      ],
      "metadata": {
        "id": "17oiLZGHja5V"
      },
      "execution_count": null,
      "outputs": []
    },
    {
      "cell_type": "code",
      "source": [
        "a = 1\n",
        "a = eval('a + 4')\n",
        "print(a)"
      ],
      "metadata": {
        "id": "0arJG2f6jqF9"
      },
      "execution_count": null,
      "outputs": []
    },
    {
      "cell_type": "markdown",
      "source": [
        "### 타입 찾기\n",
        "type()\n",
        "\n",
        "변경 가능형(mutable)\n",
        "변경 불가능형(immutable) 구분하기"
      ],
      "metadata": {
        "id": "XF_iDxRYl8I0"
      }
    },
    {
      "cell_type": "code",
      "source": [
        "type(5)\n"
      ],
      "metadata": {
        "id": "4ef4C27cj33F"
      },
      "execution_count": null,
      "outputs": []
    },
    {
      "cell_type": "code",
      "source": [
        "type(85.3)"
      ],
      "metadata": {
        "id": "tkY1FEtCloY9"
      },
      "execution_count": null,
      "outputs": []
    },
    {
      "cell_type": "code",
      "source": [
        "type([1,5,8])"
      ],
      "metadata": {
        "id": "PN45Y9Pnlrgd"
      },
      "execution_count": null,
      "outputs": []
    },
    {
      "cell_type": "code",
      "source": [
        "type((2,6,7))"
      ],
      "metadata": {
        "id": "J_RXz4OpmJtV"
      },
      "execution_count": null,
      "outputs": []
    },
    {
      "cell_type": "markdown",
      "source": [
        "### dir()\n",
        "문자열 내장함수 검색"
      ],
      "metadata": {
        "id": "jKfCeS9BmNx1"
      }
    },
    {
      "cell_type": "code",
      "source": [
        "dir(str)"
      ],
      "metadata": {
        "id": "GHbzhfVJmkK9"
      },
      "execution_count": null,
      "outputs": []
    },
    {
      "cell_type": "code",
      "source": [
        "dir(int)"
      ],
      "metadata": {
        "id": "EEyWPohMm4Sd"
      },
      "execution_count": null,
      "outputs": []
    },
    {
      "cell_type": "markdown",
      "source": [
        "### help()\n",
        "\n",
        "자료형에서 제공하는 메소드 사용법 검색"
      ],
      "metadata": {
        "id": "xWFLr5p9nDOF"
      }
    },
    {
      "cell_type": "code",
      "source": [
        "help(str.index)"
      ],
      "metadata": {
        "id": "RqGQL-MSnU3d"
      },
      "execution_count": null,
      "outputs": []
    },
    {
      "cell_type": "markdown",
      "source": [
        "### j가 기본\n"
      ],
      "metadata": {
        "id": "p-LE1eQDn2n8"
      }
    },
    {
      "cell_type": "code",
      "source": [
        "data = 1 + 2j\n",
        "data.real"
      ],
      "metadata": {
        "id": "OsepUjuvnXKU"
      },
      "execution_count": null,
      "outputs": []
    },
    {
      "cell_type": "code",
      "source": [
        "data.imag"
      ],
      "metadata": {
        "id": "07ZiAQqsnzCM"
      },
      "execution_count": null,
      "outputs": []
    },
    {
      "cell_type": "markdown",
      "source": [
        "### 최대값"
      ],
      "metadata": {
        "id": "yCh6TBZiugiW"
      }
    },
    {
      "cell_type": "code",
      "source": [
        "import sys\n",
        "sys.maxsize"
      ],
      "metadata": {
        "id": "-Xdtq0b2oHzF"
      },
      "execution_count": null,
      "outputs": []
    },
    {
      "cell_type": "markdown",
      "source": [
        "최대값 + 1\n",
        "\n",
        "오버플로우 발생하지 않고 저장됨"
      ],
      "metadata": {
        "id": "Na7ig5A3u5BV"
      }
    },
    {
      "cell_type": "code",
      "source": [
        "9223372036854775807 + 1"
      ],
      "metadata": {
        "id": "H8odip3yu3pF"
      },
      "execution_count": null,
      "outputs": []
    },
    {
      "cell_type": "markdown",
      "source": [
        "### 시퀀스\n",
        "문자열"
      ],
      "metadata": {
        "id": "b1Y5bxybzKyG"
      }
    },
    {
      "cell_type": "markdown",
      "source": [
        "### 문자열의 슬라이싱\n",
        "[인덱스 시작: 인덱스 끝: 스텝]\n",
        "스텝은 default로 1의 값을 갖는다."
      ],
      "metadata": {
        "id": "1qI93GFGvs61"
      }
    },
    {
      "cell_type": "code",
      "source": [
        "s_val = 'hello python!'\n",
        "s_val[0:3]"
      ],
      "metadata": {
        "colab": {
          "base_uri": "https://localhost:8080/",
          "height": 36
        },
        "id": "H5ScYQB0vI0N",
        "outputId": "ca40eede-fbce-4bdc-e08e-887bcf3366fc"
      },
      "execution_count": null,
      "outputs": [
        {
          "output_type": "execute_result",
          "data": {
            "text/plain": [
              "'hel'"
            ],
            "application/vnd.google.colaboratory.intrinsic+json": {
              "type": "string"
            }
          },
          "metadata": {},
          "execution_count": 192
        }
      ]
    },
    {
      "cell_type": "markdown",
      "source": [
        "1부터 끝까지"
      ],
      "metadata": {
        "id": "lMSTvIsowLz9"
      }
    },
    {
      "cell_type": "code",
      "source": [
        "s_val[1:]"
      ],
      "metadata": {
        "id": "v2yueatWv9rV"
      },
      "execution_count": null,
      "outputs": []
    },
    {
      "cell_type": "markdown",
      "source": [
        "0부터 3까지"
      ],
      "metadata": {
        "id": "ZIRZ-a1GxLEl"
      }
    },
    {
      "cell_type": "code",
      "source": [
        "s_val[:3]"
      ],
      "metadata": {
        "id": "yh9IyXeNwlKV"
      },
      "execution_count": null,
      "outputs": []
    },
    {
      "cell_type": "code",
      "source": [
        "s_val[1]"
      ],
      "metadata": {
        "id": "7l6HYBQgwV3l"
      },
      "execution_count": null,
      "outputs": []
    },
    {
      "cell_type": "markdown",
      "source": [
        "1이상 3이하"
      ],
      "metadata": {
        "id": "CN96urMWwZPu"
      }
    },
    {
      "cell_type": "code",
      "source": [
        "s_val[1:3]"
      ],
      "metadata": {
        "id": "SmOiocHNwXJ9"
      },
      "execution_count": null,
      "outputs": []
    },
    {
      "cell_type": "code",
      "source": [
        "s_val"
      ],
      "metadata": {
        "id": "hgBrXIWhw9JF"
      },
      "execution_count": null,
      "outputs": []
    },
    {
      "cell_type": "code",
      "source": [
        "s_val[:]"
      ],
      "metadata": {
        "id": "RiNPCxsrxFf9"
      },
      "execution_count": null,
      "outputs": []
    },
    {
      "cell_type": "code",
      "source": [
        "s_val[-1]"
      ],
      "metadata": {
        "id": "UmYWRD8IxG12"
      },
      "execution_count": null,
      "outputs": []
    },
    {
      "cell_type": "markdown",
      "source": [
        "0인덱스 부터 2스텝"
      ],
      "metadata": {
        "id": "yqkXJcwHxVB8"
      }
    },
    {
      "cell_type": "code",
      "source": [
        "s_val[::2]"
      ],
      "metadata": {
        "colab": {
          "base_uri": "https://localhost:8080/",
          "height": 36
        },
        "id": "uAO-mnrrxP4l",
        "outputId": "b7ca9be5-eb47-4fb2-82f8-e3f69d8ffcc0"
      },
      "execution_count": null,
      "outputs": [
        {
          "output_type": "execute_result",
          "data": {
            "text/plain": [
              "'hlopto!'"
            ],
            "application/vnd.google.colaboratory.intrinsic+json": {
              "type": "string"
            }
          },
          "metadata": {},
          "execution_count": 193
        }
      ]
    },
    {
      "cell_type": "code",
      "source": [
        "s_val[::-2]"
      ],
      "metadata": {
        "id": "6P9kNAwwxarc"
      },
      "execution_count": null,
      "outputs": []
    },
    {
      "cell_type": "markdown",
      "source": [
        "역순"
      ],
      "metadata": {
        "id": "Yv-9JwwsxjO9"
      }
    },
    {
      "cell_type": "code",
      "source": [
        "s_val[::-1]"
      ],
      "metadata": {
        "id": "WgZz3IZZxdYU"
      },
      "execution_count": null,
      "outputs": []
    },
    {
      "cell_type": "markdown",
      "source": [
        "### 문자열 연결하기"
      ],
      "metadata": {
        "id": "O0b-Z6z0yE6d"
      }
    },
    {
      "cell_type": "code",
      "source": [
        "s_val2='hello' + ' ' + 'python!'\n",
        "s_val2"
      ],
      "metadata": {
        "id": "wrjpWdvYxwGc"
      },
      "execution_count": null,
      "outputs": []
    },
    {
      "cell_type": "code",
      "source": [
        "s_val3 = 'win' * 3\n",
        "s_val3"
      ],
      "metadata": {
        "id": "lMQtGzaNx9-E"
      },
      "execution_count": null,
      "outputs": []
    },
    {
      "cell_type": "markdown",
      "source": [
        "문자열 변경할 때 슬라이싱과 연결하기 사용"
      ],
      "metadata": {
        "id": "2F7J0TRkyqYm"
      }
    },
    {
      "cell_type": "code",
      "source": [
        "s_val3 = 'hello python!'\n",
        "s_val4 = 'H' + s_val3[1:]\n",
        "s_val4"
      ],
      "metadata": {
        "id": "OuST9Gd7ygTl"
      },
      "execution_count": null,
      "outputs": []
    },
    {
      "cell_type": "markdown",
      "source": [
        "문자열의 길이는 len()내장함수를 사용"
      ],
      "metadata": {
        "id": "t6tcdCnsy7K-"
      }
    },
    {
      "cell_type": "code",
      "source": [
        "len(s_val4)"
      ],
      "metadata": {
        "id": "ZWlQOxKFy3js"
      },
      "execution_count": null,
      "outputs": []
    },
    {
      "cell_type": "markdown",
      "source": [
        "'python'가 문자열 s_val4안에 있는가?"
      ],
      "metadata": {
        "id": "EVf2l5lb1FQM"
      }
    },
    {
      "cell_type": "code",
      "source": [
        "'python' in s_val4"
      ],
      "metadata": {
        "id": "kL7h2ov0zmu8"
      },
      "execution_count": null,
      "outputs": []
    },
    {
      "cell_type": "code",
      "source": [
        "'python' not in s_val4"
      ],
      "metadata": {
        "id": "P2Jhn9IRzvYc"
      },
      "execution_count": null,
      "outputs": []
    },
    {
      "cell_type": "markdown",
      "source": [
        "여러 줄 문자열은 작은 따옴표나 큰따옴표를 세 번 연속해서 입력"
      ],
      "metadata": {
        "id": "Y5cVViK00d3N"
      }
    },
    {
      "cell_type": "code",
      "source": [
        "s_val5 ='''돈이 다 무슨 소용인가? 사람이 아침에 일어나고 밤에 잠자리에\n",
        "들며 그 사이에 하고 싶은 일을 한다면 그 사람은 성공한 것이다.'''\n",
        "s_val5"
      ],
      "metadata": {
        "id": "D96-cowe0TSE"
      },
      "execution_count": null,
      "outputs": []
    },
    {
      "cell_type": "markdown",
      "source": [
        "키보드로 데이터 입력 받기"
      ],
      "metadata": {
        "id": "LEGrnJHU1M70"
      }
    },
    {
      "cell_type": "code",
      "source": [
        "input(\"3+2?\")"
      ],
      "metadata": {
        "id": "TnJZrrWy1CS8"
      },
      "execution_count": null,
      "outputs": []
    },
    {
      "cell_type": "markdown",
      "source": [
        "2"
      ],
      "metadata": {
        "id": "dOKwaF481WPc"
      }
    },
    {
      "cell_type": "code",
      "source": [
        "a=input(\"첫번째정수 입력:\")"
      ],
      "metadata": {
        "id": "8tSGTl161YBM"
      },
      "execution_count": null,
      "outputs": []
    },
    {
      "cell_type": "code",
      "source": [
        "b=input(\"두번째정수 입력:\")"
      ],
      "metadata": {
        "id": "sXZ-c6ZB1luk"
      },
      "execution_count": null,
      "outputs": []
    },
    {
      "cell_type": "code",
      "source": [
        "c = int(a) + int(b)\n",
        "print(c)"
      ],
      "metadata": {
        "id": "Lzs-u0Ra1pyk"
      },
      "execution_count": null,
      "outputs": []
    },
    {
      "cell_type": "code",
      "source": [
        "type(a)"
      ],
      "metadata": {
        "id": "iSvlTcZm1ue8"
      },
      "execution_count": null,
      "outputs": []
    },
    {
      "cell_type": "code",
      "source": [
        "int(a)"
      ],
      "metadata": {
        "id": "xV7oaUjh11lM"
      },
      "execution_count": null,
      "outputs": []
    },
    {
      "cell_type": "markdown",
      "source": [
        "### 문자열 서식지정  \n",
        "어떤 문서양식을 만들어 놓고 빈칸에 필요한 내용을 채워서 문서를 지정한다.\n"
      ],
      "metadata": {
        "id": "0Q7sJYDH16b7"
      }
    },
    {
      "cell_type": "code",
      "source": [
        "s_val6='python'\n",
        "s_val7=83.5\n",
        "print('%s의 점수는 %f입니다.' %(s_val6, s_val7)) #python 1, 2방식"
      ],
      "metadata": {
        "id": "-4XiQZhV2T9L"
      },
      "execution_count": null,
      "outputs": []
    },
    {
      "cell_type": "code",
      "source": [
        "'Hello, {0} {1} {2}'.format('Python','Script', 3.6)"
      ],
      "metadata": {
        "id": "bkvPxldE2o5M"
      },
      "execution_count": null,
      "outputs": []
    },
    {
      "cell_type": "markdown",
      "source": [
        "순서 바꾸기"
      ],
      "metadata": {
        "id": "uehgOe_93BIL"
      }
    },
    {
      "cell_type": "code",
      "source": [
        "'Hello, {0} {2} {1} '.format('Python','Script', 3.6)"
      ],
      "metadata": {
        "id": "Y4pRMP2M2yXz"
      },
      "execution_count": null,
      "outputs": []
    },
    {
      "cell_type": "markdown",
      "source": [
        "안 적으면 format 지정순으로"
      ],
      "metadata": {
        "id": "JoiDYYFL3Xil"
      }
    },
    {
      "cell_type": "code",
      "source": [
        "'Hello, {} {} {} '.format('Python','Script', 3.6)"
      ],
      "metadata": {
        "id": "TK5yM1Yt3K2P"
      },
      "execution_count": null,
      "outputs": []
    },
    {
      "cell_type": "markdown",
      "source": [
        "sep(seperator의 약자)  \n",
        "항목 사이에 삽입할 문자열을 지정"
      ],
      "metadata": {
        "id": "8k-lEfJLARCT"
      }
    },
    {
      "cell_type": "code",
      "source": [
        "hp1 = '010'\n",
        "hp2 = '2531'\n",
        "hp3 = '9234'\n",
        "print(hp1, hp2, hp3,sep = '-')"
      ],
      "metadata": {
        "id": "EY0RqLyn_4zJ"
      },
      "execution_count": null,
      "outputs": []
    },
    {
      "cell_type": "markdown",
      "source": [
        "()"
      ],
      "metadata": {
        "id": "YE7jHDL9DHY5"
      }
    },
    {
      "cell_type": "code",
      "source": [
        "print('korea'.lower())\n",
        "print('korea'.upper())\n",
        "print('korea'.swapcase())\n",
        "print('KOREA'.swapcase())\n",
        "print('we are the world'.title())\n",
        "print('we are the world'.capitalize())"
      ],
      "metadata": {
        "id": "1pITBJZYBmop"
      },
      "execution_count": null,
      "outputs": []
    },
    {
      "cell_type": "code",
      "source": [
        "print('KORea'.islower()) #모든 문자가 소문자인가?\n",
        "print('korea'.islower())"
      ],
      "metadata": {
        "id": "be7w9OXIDyJQ"
      },
      "execution_count": null,
      "outputs": []
    },
    {
      "cell_type": "code",
      "source": [
        "print('KORea'.isupper()) # 모든 문자가 대문자인가?\n",
        "print('KOREA'.isupper())"
      ],
      "metadata": {
        "id": "uejSSLviDT1J"
      },
      "execution_count": null,
      "outputs": []
    },
    {
      "cell_type": "code",
      "source": [
        "print('we are the world'.find('are'))\n",
        "print('we are the world'.find('WORLD'))\n",
        "print('we are the world'.index('are'))\n",
        "#print('we are the world'.index('WORLD'))\n"
      ],
      "metadata": {
        "id": "PibxEXOvEI0Y"
      },
      "execution_count": null,
      "outputs": []
    },
    {
      "cell_type": "code",
      "source": [
        "print('we are the world'.join('**'))"
      ],
      "metadata": {
        "id": "Fc1uQy87EXTw"
      },
      "execution_count": null,
      "outputs": []
    },
    {
      "cell_type": "code",
      "source": [
        "print('.').join(['ab','pq','rs']))"
      ],
      "metadata": {
        "id": "phgVYnLuE5JR"
      },
      "execution_count": null,
      "outputs": []
    },
    {
      "cell_type": "markdown",
      "source": [
        "### isalnum()\n",
        "문자열이 영어, 한글 혹은 숫자로 되어있으면 참 리턴, 아니면 거짓 리턴."
      ],
      "metadata": {
        "id": "P3Cb-7ETF3uw"
      }
    },
    {
      "cell_type": "markdown",
      "source": [
        "### isdecimal()\n",
        "\n",
        "주어진 문자열이 숫자로 되어있는지 검사하는 함수"
      ],
      "metadata": {
        "id": "_9nfleRwGlUX"
      }
    },
    {
      "cell_type": "code",
      "source": [
        "print('we are'.isalnum())\n",
        "print('weare'.isalnum())\n",
        "print('we123'.isalnum())\n",
        "print('we123'.isdecimal())\n",
        "print('123'.isdecimal())"
      ],
      "metadata": {
        "id": "p3LT24ZRFn0I"
      },
      "execution_count": null,
      "outputs": []
    },
    {
      "cell_type": "code",
      "source": [
        "print('we are the world'.split())"
      ],
      "metadata": {
        "id": "oDP10nSQF6fg"
      },
      "execution_count": null,
      "outputs": []
    },
    {
      "cell_type": "markdown",
      "source": [
        "### 리스트(List)"
      ],
      "metadata": {
        "id": "h5-0jiTdHFFA"
      }
    },
    {
      "cell_type": "code",
      "source": [
        "l_val=[10,20,30]\n",
        "l_val"
      ],
      "metadata": {
        "colab": {
          "base_uri": "https://localhost:8080/"
        },
        "id": "dDDkBmLtG-H4",
        "outputId": "3d8ef31a-d3b7-4d71-a3bd-73768de0246b"
      },
      "execution_count": null,
      "outputs": [
        {
          "output_type": "execute_result",
          "data": {
            "text/plain": [
              "[10, 20, 30]"
            ]
          },
          "metadata": {},
          "execution_count": 165
        }
      ]
    },
    {
      "cell_type": "code",
      "source": [
        "type(l_val)"
      ],
      "metadata": {
        "colab": {
          "base_uri": "https://localhost:8080/"
        },
        "id": "ENCBeDDnHCyh",
        "outputId": "8a8f61ce-8acd-4f24-dd3b-ce63bd95aa43"
      },
      "execution_count": null,
      "outputs": [
        {
          "output_type": "execute_result",
          "data": {
            "text/plain": [
              "list"
            ]
          },
          "metadata": {},
          "execution_count": 166
        }
      ]
    },
    {
      "cell_type": "markdown",
      "source": [
        "다양한 타입을 함께 포함할 수 있다."
      ],
      "metadata": {
        "id": "Z_2NnPJPHR7n"
      }
    },
    {
      "cell_type": "code",
      "source": [
        "l_val2=[10, 'python', 80.5, True] #타입이 다른 것들 리스트에 넣을 수 있음\n",
        "l_val2"
      ],
      "metadata": {
        "colab": {
          "base_uri": "https://localhost:8080/"
        },
        "id": "OjeSOdakHU5o",
        "outputId": "942587ae-8b2e-4c83-9f04-9321d2f37218"
      },
      "execution_count": null,
      "outputs": [
        {
          "output_type": "execute_result",
          "data": {
            "text/plain": [
              "[10, 'python', 80.5, True]"
            ]
          },
          "metadata": {},
          "execution_count": 167
        }
      ]
    },
    {
      "cell_type": "code",
      "source": [
        "l_val3=[5,10,15,20,25]\n",
        "l_val3[0]"
      ],
      "metadata": {
        "colab": {
          "base_uri": "https://localhost:8080/"
        },
        "id": "iut1g05LHbCg",
        "outputId": "7021b74f-f584-4176-fba0-d49d6f82690a"
      },
      "execution_count": null,
      "outputs": [
        {
          "output_type": "execute_result",
          "data": {
            "text/plain": [
              "5"
            ]
          },
          "metadata": {},
          "execution_count": 168
        }
      ]
    },
    {
      "cell_type": "code",
      "source": [
        "l_val3[-1]"
      ],
      "metadata": {
        "colab": {
          "base_uri": "https://localhost:8080/"
        },
        "id": "k90ESY-gHiNQ",
        "outputId": "11297f9a-dab1-4454-d5a5-88107da08b07"
      },
      "execution_count": null,
      "outputs": [
        {
          "output_type": "execute_result",
          "data": {
            "text/plain": [
              "25"
            ]
          },
          "metadata": {},
          "execution_count": 169
        }
      ]
    },
    {
      "cell_type": "code",
      "source": [
        "l_val3[0:2]"
      ],
      "metadata": {
        "colab": {
          "base_uri": "https://localhost:8080/"
        },
        "id": "oIQ52JtOHkGH",
        "outputId": "acc74ec5-0f67-4e22-be9e-fd8c80aae569"
      },
      "execution_count": null,
      "outputs": [
        {
          "output_type": "execute_result",
          "data": {
            "text/plain": [
              "[5, 10]"
            ]
          },
          "metadata": {},
          "execution_count": 170
        }
      ]
    },
    {
      "cell_type": "code",
      "source": [
        "l_val3[::2]"
      ],
      "metadata": {
        "colab": {
          "base_uri": "https://localhost:8080/"
        },
        "id": "eXGIlj2DH6Gf",
        "outputId": "2882e73f-17a2-47f5-c76f-5b622605f54d"
      },
      "execution_count": null,
      "outputs": [
        {
          "output_type": "execute_result",
          "data": {
            "text/plain": [
              "[5, 15, 25]"
            ]
          },
          "metadata": {},
          "execution_count": 171
        }
      ]
    },
    {
      "cell_type": "code",
      "source": [
        "l_val3 + l_val3 + l_val3"
      ],
      "metadata": {
        "colab": {
          "base_uri": "https://localhost:8080/"
        },
        "id": "61oHZZ55IF_3",
        "outputId": "28013b69-5031-4d54-bf61-81c677d8a8ee"
      },
      "execution_count": null,
      "outputs": [
        {
          "output_type": "execute_result",
          "data": {
            "text/plain": [
              "[5, 10, 15, 20, 25, 5, 10, 15, 20, 25, 5, 10, 15, 20, 25]"
            ]
          },
          "metadata": {},
          "execution_count": 172
        }
      ]
    },
    {
      "cell_type": "code",
      "source": [
        "l_val3 + [30, 35]"
      ],
      "metadata": {
        "colab": {
          "base_uri": "https://localhost:8080/"
        },
        "id": "h_mFSEtCIPBX",
        "outputId": "4b727ca2-8ad9-42f0-c537-30e443e7d38b"
      },
      "execution_count": null,
      "outputs": [
        {
          "output_type": "execute_result",
          "data": {
            "text/plain": [
              "[5, 10, 15, 20, 25, 30, 35]"
            ]
          },
          "metadata": {},
          "execution_count": 151
        }
      ]
    },
    {
      "cell_type": "code",
      "source": [
        "l_val3*3"
      ],
      "metadata": {
        "colab": {
          "base_uri": "https://localhost:8080/"
        },
        "id": "uyzm_BIvIWyH",
        "outputId": "001d75c6-385d-441e-e46e-d986f4ee1cb2"
      },
      "execution_count": null,
      "outputs": [
        {
          "output_type": "execute_result",
          "data": {
            "text/plain": [
              "[5, 10, 15, 20, 25, 5, 10, 15, 20, 25, 5, 10, 15, 20, 25]"
            ]
          },
          "metadata": {},
          "execution_count": 175
        }
      ]
    },
    {
      "cell_type": "code",
      "source": [
        "5 in l_val3 #멤버 검사"
      ],
      "metadata": {
        "colab": {
          "base_uri": "https://localhost:8080/"
        },
        "id": "RQ3CY0HoI9Ev",
        "outputId": "b0bf110c-7927-449f-e256-175490f14d9a"
      },
      "execution_count": null,
      "outputs": [
        {
          "output_type": "execute_result",
          "data": {
            "text/plain": [
              "True"
            ]
          },
          "metadata": {},
          "execution_count": 176
        }
      ]
    },
    {
      "cell_type": "code",
      "source": [
        "l_val4 = ['apple','banana',100,200]\n",
        "l_val4[2] = 300\n",
        "l_val4"
      ],
      "metadata": {
        "colab": {
          "base_uri": "https://localhost:8080/"
        },
        "id": "Ft8H3vFBIYx_",
        "outputId": "eea438a9-e0e9-4cf0-cc76-6aaf154373f7"
      },
      "execution_count": null,
      "outputs": [
        {
          "output_type": "execute_result",
          "data": {
            "text/plain": [
              "['apple', 'banana', 300, 200]"
            ]
          },
          "metadata": {},
          "execution_count": 183
        }
      ]
    },
    {
      "cell_type": "markdown",
      "source": [
        "---"
      ],
      "metadata": {
        "id": "-GmXjBQ1KDWe"
      }
    },
    {
      "cell_type": "code",
      "source": [
        "l_val5=['apple','banana',100,200]\n",
        "l_val5[0:2]=[1,2] #지정한 인덱스[0:2]범위의 요소를 [1,2]로 변경한다.\n",
        "l_val5"
      ],
      "metadata": {
        "colab": {
          "base_uri": "https://localhost:8080/"
        },
        "id": "9QRDTjpDI8D_",
        "outputId": "99525533-9b41-4d99-f3a5-f124e22eb030"
      },
      "execution_count": null,
      "outputs": [
        {
          "output_type": "execute_result",
          "data": {
            "text/plain": [
              "[1, 2, 100, 200]"
            ]
          },
          "metadata": {},
          "execution_count": 181
        }
      ]
    },
    {
      "cell_type": "code",
      "source": [
        "l_val5[0:2]=[100] #크기가 달라도 된다.\n",
        "l_val5"
      ],
      "metadata": {
        "colab": {
          "base_uri": "https://localhost:8080/"
        },
        "id": "ALfdvn2yJji3",
        "outputId": "ac3939de-faeb-45fc-c324-f671b0de4a4a"
      },
      "execution_count": null,
      "outputs": [
        {
          "output_type": "execute_result",
          "data": {
            "text/plain": [
              "[100, 100, 200]"
            ]
          },
          "metadata": {},
          "execution_count": 182
        }
      ]
    },
    {
      "cell_type": "markdown",
      "source": [
        "---"
      ],
      "metadata": {
        "id": "mMYAzv6DKYSe"
      }
    },
    {
      "cell_type": "code",
      "source": [
        "l_val6 = ['apple','banana',100,200]\n",
        "l_val6[0:2]=[] #요소 2개를 삭제한다.\n",
        "l_val6"
      ],
      "metadata": {
        "colab": {
          "base_uri": "https://localhost:8080/"
        },
        "id": "5GIua5r8Jp1f",
        "outputId": "244270f0-1140-4b06-bac5-74cbf43b3542"
      },
      "execution_count": null,
      "outputs": [
        {
          "output_type": "execute_result",
          "data": {
            "text/plain": [
              "[100, 200]"
            ]
          },
          "metadata": {},
          "execution_count": 184
        }
      ]
    },
    {
      "cell_type": "code",
      "source": [
        "l_val7 = [2,4,6,8]\n",
        "del l_val7[0] #0번째 인덱스를 삭제한다.\n",
        "l_val7"
      ],
      "metadata": {
        "colab": {
          "base_uri": "https://localhost:8080/"
        },
        "id": "UNHDwR-XKoLW",
        "outputId": "679fdf41-7a59-40af-e095-d54e8b24dcf2"
      },
      "execution_count": null,
      "outputs": [
        {
          "output_type": "execute_result",
          "data": {
            "text/plain": [
              "[4, 6, 8]"
            ]
          },
          "metadata": {},
          "execution_count": 186
        }
      ]
    },
    {
      "cell_type": "code",
      "source": [
        "l_val8=[3,6,9]\n",
        "l_val8[1:1]=['red','green']\n",
        "l_val8"
      ],
      "metadata": {
        "colab": {
          "base_uri": "https://localhost:8080/"
        },
        "id": "0OrLWx0QOBUW",
        "outputId": "ac0612e2-7354-43b6-b8c5-1f1433220ce4"
      },
      "execution_count": null,
      "outputs": [
        {
          "output_type": "execute_result",
          "data": {
            "text/plain": [
              "[3, 'red', 'green', 6, 9]"
            ]
          },
          "metadata": {},
          "execution_count": 189
        }
      ]
    },
    {
      "cell_type": "code",
      "source": [
        "l_val8=[3,6,9]\n",
        "l_val8[1]=['red','green']\n",
        "l_val8"
      ],
      "metadata": {
        "colab": {
          "base_uri": "https://localhost:8080/"
        },
        "id": "0h8cDupCOQ_1",
        "outputId": "19fd681c-b95d-4226-ea42-8d3ef311a1da"
      },
      "execution_count": null,
      "outputs": [
        {
          "output_type": "execute_result",
          "data": {
            "text/plain": [
              "[3, ['red', 'green'], 9]"
            ]
          },
          "metadata": {},
          "execution_count": 190
        }
      ]
    },
    {
      "cell_type": "code",
      "source": [
        "# 확장슬라이싱을 사용할 때는 왼쪽과 오른쪽 요소 개수가 같아야 한다.\n",
        "l_val9=[2,4,6,8]\n",
        "l_val9[::2]=[-1,-2,-3,-4] #ㅣ_val9[::2]결과는 [2,6]\n",
        "l_val9"
      ],
      "metadata": {
        "colab": {
          "base_uri": "https://localhost:8080/",
          "height": 232
        },
        "id": "s7-6B12sOq_-",
        "outputId": "523c0fc8-05cd-44d1-97f0-6310b29ba228"
      },
      "execution_count": null,
      "outputs": [
        {
          "output_type": "error",
          "ename": "ValueError",
          "evalue": "ignored",
          "traceback": [
            "\u001b[0;31m---------------------------------------------------------------------------\u001b[0m",
            "\u001b[0;31mValueError\u001b[0m                                Traceback (most recent call last)",
            "\u001b[0;32m<ipython-input-194-06e5113ac25c>\u001b[0m in \u001b[0;36m<module>\u001b[0;34m\u001b[0m\n\u001b[1;32m      1\u001b[0m \u001b[0;31m# 확장슬라이싱을 사용할 때는 왼쪽과 오른쪽 요소 개수가 같아야 한다.\u001b[0m\u001b[0;34m\u001b[0m\u001b[0;34m\u001b[0m\u001b[0;34m\u001b[0m\u001b[0m\n\u001b[1;32m      2\u001b[0m \u001b[0ml_val9\u001b[0m\u001b[0;34m=\u001b[0m\u001b[0;34m[\u001b[0m\u001b[0;36m2\u001b[0m\u001b[0;34m,\u001b[0m\u001b[0;36m4\u001b[0m\u001b[0;34m,\u001b[0m\u001b[0;36m6\u001b[0m\u001b[0;34m,\u001b[0m\u001b[0;36m8\u001b[0m\u001b[0;34m]\u001b[0m\u001b[0;34m\u001b[0m\u001b[0;34m\u001b[0m\u001b[0m\n\u001b[0;32m----> 3\u001b[0;31m \u001b[0ml_val9\u001b[0m\u001b[0;34m[\u001b[0m\u001b[0;34m:\u001b[0m\u001b[0;34m:\u001b[0m\u001b[0;36m2\u001b[0m\u001b[0;34m]\u001b[0m\u001b[0;34m=\u001b[0m\u001b[0;34m[\u001b[0m\u001b[0;34m-\u001b[0m\u001b[0;36m1\u001b[0m\u001b[0;34m,\u001b[0m\u001b[0;34m-\u001b[0m\u001b[0;36m2\u001b[0m\u001b[0;34m,\u001b[0m\u001b[0;34m-\u001b[0m\u001b[0;36m3\u001b[0m\u001b[0;34m,\u001b[0m\u001b[0;34m-\u001b[0m\u001b[0;36m4\u001b[0m\u001b[0;34m]\u001b[0m \u001b[0;31m#ㅣ_val9[::2]결과는 [2,6]\u001b[0m\u001b[0;34m\u001b[0m\u001b[0;34m\u001b[0m\u001b[0m\n\u001b[0m\u001b[1;32m      4\u001b[0m \u001b[0ml_val9\u001b[0m\u001b[0;34m\u001b[0m\u001b[0;34m\u001b[0m\u001b[0m\n",
            "\u001b[0;31mValueError\u001b[0m: attempt to assign sequence of size 4 to extended slice of size 2"
          ]
        }
      ]
    },
    {
      "cell_type": "code",
      "source": [
        "l_val10=[10,20,30]\n",
        "l_val10=['start',l_val10,'end']\n",
        "l_val10"
      ],
      "metadata": {
        "colab": {
          "base_uri": "https://localhost:8080/"
        },
        "id": "TjmTa6pCP2LV",
        "outputId": "b027218f-6470-4105-d7b5-ad15e7ca7085"
      },
      "execution_count": null,
      "outputs": [
        {
          "output_type": "execute_result",
          "data": {
            "text/plain": [
              "['start', [10, 20, 30], 'end']"
            ]
          },
          "metadata": {},
          "execution_count": 195
        }
      ]
    },
    {
      "cell_type": "code",
      "source": [
        "# 한 변수에서 데이터를 각각 꺼내 오는 것을 언패킹(unpacking)이라 한다.\n",
        "a=['foo','bar',4,5]\n",
        "x,y,z,w=a\n",
        "print(x,y,z,w)"
      ],
      "metadata": {
        "colab": {
          "base_uri": "https://localhost:8080/"
        },
        "id": "MnG9cJIoP_-V",
        "outputId": "622234c9-11ee-4acd-bcb7-64ef4ea3430d"
      },
      "execution_count": null,
      "outputs": [
        {
          "output_type": "stream",
          "name": "stdout",
          "text": [
            "foo bar 4 5\n"
          ]
        }
      ]
    },
    {
      "cell_type": "markdown",
      "source": [
        "리스트 메소드"
      ],
      "metadata": {
        "id": "bvmFvD4YQW1e"
      }
    },
    {
      "cell_type": "code",
      "source": [
        "dir(list)"
      ],
      "metadata": {
        "colab": {
          "base_uri": "https://localhost:8080/"
        },
        "id": "tUvvwCpgQ65-",
        "outputId": "f4d5dc22-45df-4ac1-8917-f6a423c58fc0"
      },
      "execution_count": null,
      "outputs": [
        {
          "output_type": "execute_result",
          "data": {
            "text/plain": [
              "['__add__',\n",
              " '__class__',\n",
              " '__contains__',\n",
              " '__delattr__',\n",
              " '__delitem__',\n",
              " '__dir__',\n",
              " '__doc__',\n",
              " '__eq__',\n",
              " '__format__',\n",
              " '__ge__',\n",
              " '__getattribute__',\n",
              " '__getitem__',\n",
              " '__gt__',\n",
              " '__hash__',\n",
              " '__iadd__',\n",
              " '__imul__',\n",
              " '__init__',\n",
              " '__init_subclass__',\n",
              " '__iter__',\n",
              " '__le__',\n",
              " '__len__',\n",
              " '__lt__',\n",
              " '__mul__',\n",
              " '__ne__',\n",
              " '__new__',\n",
              " '__reduce__',\n",
              " '__reduce_ex__',\n",
              " '__repr__',\n",
              " '__reversed__',\n",
              " '__rmul__',\n",
              " '__setattr__',\n",
              " '__setitem__',\n",
              " '__sizeof__',\n",
              " '__str__',\n",
              " '__subclasshook__',\n",
              " 'append',\n",
              " 'clear',\n",
              " 'copy',\n",
              " 'count',\n",
              " 'extend',\n",
              " 'index',\n",
              " 'insert',\n",
              " 'pop',\n",
              " 'remove',\n",
              " 'reverse',\n",
              " 'sort']"
            ]
          },
          "metadata": {},
          "execution_count": 197
        }
      ]
    },
    {
      "cell_type": "code",
      "source": [
        "#insert() 리스트의 특정 위치에 요소 삽입\n",
        "test1=[1,2,3]\n",
        "test1.insert(1,10) #두번째 위치에 10 삽입\n",
        "test1"
      ],
      "metadata": {
        "colab": {
          "base_uri": "https://localhost:8080/"
        },
        "id": "M9AI93zBYPB0",
        "outputId": "517b8e7c-a034-4cac-d612-d4c23e5fc4f4"
      },
      "execution_count": null,
      "outputs": [
        {
          "output_type": "execute_result",
          "data": {
            "text/plain": [
              "[1, 10, 2, 3]"
            ]
          },
          "metadata": {},
          "execution_count": 245
        }
      ]
    },
    {
      "cell_type": "code",
      "source": [
        "#append() 리스트 끝에 요소 삽입\n",
        "test1=[1,2,3]\n",
        "test1.append(5)\n",
        "test1"
      ],
      "metadata": {
        "colab": {
          "base_uri": "https://localhost:8080/"
        },
        "id": "3AeaZ8kQQ-ju",
        "outputId": "b3e94fd5-49a7-4454-f708-b3521183f30d"
      },
      "execution_count": null,
      "outputs": [
        {
          "output_type": "execute_result",
          "data": {
            "text/plain": [
              "[1, 2, 3, 5]"
            ]
          },
          "metadata": {},
          "execution_count": 244
        }
      ]
    },
    {
      "cell_type": "code",
      "source": [
        "#clear() 리스트 내용 모두 삭제\n",
        "test1=[1,2,3]\n",
        "test1.clear()\n",
        "test1"
      ],
      "metadata": {
        "colab": {
          "base_uri": "https://localhost:8080/"
        },
        "id": "lJV_eOOIR9Z-",
        "outputId": "b3381892-2513-472e-f1fa-8b79c693a9d5"
      },
      "execution_count": null,
      "outputs": [
        {
          "output_type": "execute_result",
          "data": {
            "text/plain": [
              "[]"
            ]
          },
          "metadata": {},
          "execution_count": 201
        }
      ]
    },
    {
      "cell_type": "code",
      "source": [
        "#del() 리스트의 특정 위치 요소 삭제\n",
        "test1=[1,2,3]\n",
        "del(test1[1])\n",
        "test1"
      ],
      "metadata": {
        "colab": {
          "base_uri": "https://localhost:8080/"
        },
        "id": "UOIhl2LwShKt",
        "outputId": "d3871194-e9db-46af-e344-cfb457ed44db"
      },
      "execution_count": null,
      "outputs": [
        {
          "output_type": "execute_result",
          "data": {
            "text/plain": [
              "[1, 3]"
            ]
          },
          "metadata": {},
          "execution_count": 202
        }
      ]
    },
    {
      "cell_type": "code",
      "source": [
        "#pop() 리스트의 마지막 요소 출력 후 삭제\n",
        "test1=[1,2,3]\n",
        "test1.pop()\n",
        "test1"
      ],
      "metadata": {
        "colab": {
          "base_uri": "https://localhost:8080/"
        },
        "id": "yCWQL3UpSpV9",
        "outputId": "8523622f-d616-4d1f-aa63-e461388f703c"
      },
      "execution_count": null,
      "outputs": [
        {
          "output_type": "execute_result",
          "data": {
            "text/plain": [
              "[1, 2]"
            ]
          },
          "metadata": {},
          "execution_count": 203
        }
      ]
    },
    {
      "cell_type": "code",
      "source": [
        "#pop(i) i번째 요소를 삭제하고 반환한다.\n",
        "test1=[1,2,3]\n",
        "test1.pop(1)\n",
        "test1"
      ],
      "metadata": {
        "colab": {
          "base_uri": "https://localhost:8080/"
        },
        "id": "mdqpxaVpSzFM",
        "outputId": "46aa07a8-82f3-4c55-ea1e-93300300e31c"
      },
      "execution_count": null,
      "outputs": [
        {
          "output_type": "execute_result",
          "data": {
            "text/plain": [
              "[1, 3]"
            ]
          },
          "metadata": {},
          "execution_count": 204
        }
      ]
    },
    {
      "cell_type": "code",
      "source": [
        "#count() 리스트 내 특정 요소의 개수\n",
        "test1 = [1,2,3,1,2,]\n",
        "test1.count(1)"
      ],
      "metadata": {
        "colab": {
          "base_uri": "https://localhost:8080/"
        },
        "id": "baIIg8cvS8I8",
        "outputId": "c7ae453a-75d9-4bc6-ced6-1673a09bf62f"
      },
      "execution_count": null,
      "outputs": [
        {
          "output_type": "execute_result",
          "data": {
            "text/plain": [
              "2"
            ]
          },
          "metadata": {},
          "execution_count": 205
        }
      ]
    },
    {
      "cell_type": "code",
      "source": [
        "test1.count(3)"
      ],
      "metadata": {
        "colab": {
          "base_uri": "https://localhost:8080/"
        },
        "id": "IPT7vCSGTMCt",
        "outputId": "52ed6df1-6f41-473d-c88a-8d540054a435"
      },
      "execution_count": null,
      "outputs": [
        {
          "output_type": "execute_result",
          "data": {
            "text/plain": [
              "1"
            ]
          },
          "metadata": {},
          "execution_count": 206
        }
      ]
    },
    {
      "cell_type": "code",
      "source": [
        "#copy() 리스트 복사\n",
        "test1=[1,2,3]\n",
        "test2=test1.copy()\n",
        "test2"
      ],
      "metadata": {
        "colab": {
          "base_uri": "https://localhost:8080/"
        },
        "id": "uXCtxSMSTNx1",
        "outputId": "80247613-bcdc-44ba-b532-d52dfed4a72d"
      },
      "execution_count": null,
      "outputs": [
        {
          "output_type": "execute_result",
          "data": {
            "text/plain": [
              "[1, 2, 3]"
            ]
          },
          "metadata": {},
          "execution_count": 207
        }
      ]
    },
    {
      "cell_type": "code",
      "source": [
        "#extend()  리스트 병합\n",
        "test1=[1,2,3]\n",
        "test2=[7,8,9]\n",
        "test1.extend(test2)\n",
        "test1"
      ],
      "metadata": {
        "colab": {
          "base_uri": "https://localhost:8080/"
        },
        "id": "teTkFXSmTYQU",
        "outputId": "72a55649-5fbc-492a-d9af-08624dceb1f0"
      },
      "execution_count": null,
      "outputs": [
        {
          "output_type": "execute_result",
          "data": {
            "text/plain": [
              "[1, 2, 3, 7, 8, 9]"
            ]
          },
          "metadata": {},
          "execution_count": 208
        }
      ]
    },
    {
      "cell_type": "code",
      "source": [
        "#index() 리스트의 특정 요소 검색\n",
        "test1=[1,2,3]\n",
        "test1.index(3) #요소의 위치 리턴"
      ],
      "metadata": {
        "colab": {
          "base_uri": "https://localhost:8080/"
        },
        "id": "XEuFEQ0OTi7c",
        "outputId": "6b281403-4123-4b07-fe88-0b34fe84bb8a"
      },
      "execution_count": null,
      "outputs": [
        {
          "output_type": "execute_result",
          "data": {
            "text/plain": [
              "2"
            ]
          },
          "metadata": {},
          "execution_count": 209
        }
      ]
    },
    {
      "cell_type": "code",
      "source": [
        "test1.index(4) # 일치하는 요소가 없으면 에러를 리턴해서 잘 사용되지 않음"
      ],
      "metadata": {
        "colab": {
          "base_uri": "https://localhost:8080/",
          "height": 176
        },
        "id": "ZMn7ftQsTqRl",
        "outputId": "14e24295-c4e6-4240-d551-9f0ce3edcc3a"
      },
      "execution_count": null,
      "outputs": [
        {
          "output_type": "error",
          "ename": "ValueError",
          "evalue": "ignored",
          "traceback": [
            "\u001b[0;31m---------------------------------------------------------------------------\u001b[0m",
            "\u001b[0;31mValueError\u001b[0m                                Traceback (most recent call last)",
            "\u001b[0;32m<ipython-input-210-2d54707fa7d7>\u001b[0m in \u001b[0;36m<module>\u001b[0;34m\u001b[0m\n\u001b[0;32m----> 1\u001b[0;31m \u001b[0mtest1\u001b[0m\u001b[0;34m.\u001b[0m\u001b[0mindex\u001b[0m\u001b[0;34m(\u001b[0m\u001b[0;36m4\u001b[0m\u001b[0;34m)\u001b[0m\u001b[0;34m\u001b[0m\u001b[0;34m\u001b[0m\u001b[0m\n\u001b[0m",
            "\u001b[0;31mValueError\u001b[0m: 4 is not in list"
          ]
        }
      ]
    },
    {
      "cell_type": "code",
      "source": [
        "#sort() 정렬\n",
        "test1=[8,1,7,2,6,3,10,4,9,5]\n",
        "test1.sort() #default 오름차순 정렬\n",
        "test1"
      ],
      "metadata": {
        "colab": {
          "base_uri": "https://localhost:8080/"
        },
        "id": "5H7YNUSwTukf",
        "outputId": "6bff8f86-c438-4913-e5b0-93a2012c203e"
      },
      "execution_count": null,
      "outputs": [
        {
          "output_type": "execute_result",
          "data": {
            "text/plain": [
              "[1, 2, 3, 4, 5, 6, 7, 8, 9, 10]"
            ]
          },
          "metadata": {},
          "execution_count": 234
        }
      ]
    },
    {
      "cell_type": "code",
      "source": [
        "#reverse() 리스트 역순 출력\n",
        "test1=[8,1,7,2,6,3,10,4,9,5]"
      ],
      "metadata": {
        "id": "J1NtxZBvW7cs"
      },
      "execution_count": null,
      "outputs": []
    },
    {
      "cell_type": "code",
      "source": [
        "l_val9=['red','green','blue','white','black']\n",
        "print(l_val9.append(\"orange\"))\n",
        "print(l_val9)\n",
        "print(l_val9.extend(['yello','aqua']))\n",
        "print(l_val9)\n",
        "l_val9.extend('purple')\n",
        "print(l_val9)\n",
        "l_val9.insert(0,\"gray\")\n",
        "print(l_val9)\n",
        "l_val9.remove(\"p\")\n",
        "print(l_val9)\n",
        "l_val9.pop()\n",
        "print(l_val9)\n",
        "l_val9.pop(0)\n",
        "print(l_val9)\n",
        "print(l_val9.index(\"blue\"))\n",
        "print(l_val9.count(\"white\"))\n",
        "print(l_val9.sort())\n",
        "print(l_val9)\n",
        "print(l_val9.reverse())\n",
        "print(l_val9)\n",
        "l_val10=l_val9.copy()\n",
        "print(l_val9)\n",
        "print(l_val10)\n",
        "l_val10[0]='gray';\n",
        "print(l_val9)\n",
        "print(l_val10)\n",
        "l_val10.clear()\n",
        "print('clear',l_val10)"
      ],
      "metadata": {
        "colab": {
          "base_uri": "https://localhost:8080/"
        },
        "id": "LibxeovBUQMs",
        "outputId": "c2aba2bd-9450-4847-c054-35c2823011ef"
      },
      "execution_count": null,
      "outputs": [
        {
          "output_type": "stream",
          "name": "stdout",
          "text": [
            "None\n",
            "['red', 'green', 'blue', 'white', 'black', 'orange']\n",
            "None\n",
            "['red', 'green', 'blue', 'white', 'black', 'orange', 'yello', 'aqua']\n",
            "['red', 'green', 'blue', 'white', 'black', 'orange', 'yello', 'aqua', 'p', 'u', 'r', 'p', 'l', 'e']\n",
            "['gray', 'red', 'green', 'blue', 'white', 'black', 'orange', 'yello', 'aqua', 'p', 'u', 'r', 'p', 'l', 'e']\n",
            "['gray', 'red', 'green', 'blue', 'white', 'black', 'orange', 'yello', 'aqua', 'u', 'r', 'p', 'l', 'e']\n",
            "['gray', 'red', 'green', 'blue', 'white', 'black', 'orange', 'yello', 'aqua', 'u', 'r', 'p', 'l']\n",
            "['red', 'green', 'blue', 'white', 'black', 'orange', 'yello', 'aqua', 'u', 'r', 'p', 'l']\n",
            "2\n",
            "1\n",
            "None\n",
            "['aqua', 'black', 'blue', 'green', 'l', 'orange', 'p', 'r', 'red', 'u', 'white', 'yello']\n",
            "None\n",
            "['yello', 'white', 'u', 'red', 'r', 'p', 'orange', 'l', 'green', 'blue', 'black', 'aqua']\n",
            "['yello', 'white', 'u', 'red', 'r', 'p', 'orange', 'l', 'green', 'blue', 'black', 'aqua']\n",
            "['yello', 'white', 'u', 'red', 'r', 'p', 'orange', 'l', 'green', 'blue', 'black', 'aqua']\n",
            "['yello', 'white', 'u', 'red', 'r', 'p', 'orange', 'l', 'green', 'blue', 'black', 'aqua']\n",
            "['gray', 'white', 'u', 'red', 'r', 'p', 'orange', 'l', 'green', 'blue', 'black', 'aqua']\n",
            "clear []\n"
          ]
        }
      ]
    },
    {
      "cell_type": "code",
      "source": [
        "a = ['red','blue']\n",
        "b = a\n",
        "print(a,b)\n",
        "b[0]='white'\n",
        "print(a,b)"
      ],
      "metadata": {
        "colab": {
          "base_uri": "https://localhost:8080/"
        },
        "id": "3XDE65CgU8j8",
        "outputId": "4a21bcaf-7025-4784-acf5-1096687d135b"
      },
      "execution_count": null,
      "outputs": [
        {
          "output_type": "stream",
          "name": "stdout",
          "text": [
            "['red', 'blue'] ['red', 'blue']\n",
            "['white', 'blue'] ['white', 'blue']\n"
          ]
        }
      ]
    },
    {
      "cell_type": "code",
      "source": [
        "a = ['red','green']\n",
        "b = []\n",
        "print(a,b)\n",
        "\n",
        "b.extend(a)\n",
        "print(a,b)\n",
        "\n",
        "b[0]='black'\n",
        "print(a,b)"
      ],
      "metadata": {
        "colab": {
          "base_uri": "https://localhost:8080/"
        },
        "id": "cbAFexgZXD0s",
        "outputId": "6ead1027-9314-43de-a071-48f69caa3a09"
      },
      "execution_count": null,
      "outputs": [
        {
          "output_type": "stream",
          "name": "stdout",
          "text": [
            "['red', 'green'] []\n",
            "['red', 'green'] ['red', 'green']\n",
            "['red', 'green'] ['black', 'green']\n"
          ]
        }
      ]
    },
    {
      "cell_type": "code",
      "source": [
        "a=['red', 'green']\n",
        "b=a.copy();\n",
        "print(a,b)\n",
        "b[0]='black'\n",
        "print(a,b)"
      ],
      "metadata": {
        "colab": {
          "base_uri": "https://localhost:8080/"
        },
        "id": "QdvBATYNXfkj",
        "outputId": "097bd054-8fa5-4e92-cac0-83dd1737aef7"
      },
      "execution_count": null,
      "outputs": [
        {
          "output_type": "stream",
          "name": "stdout",
          "text": [
            "['red', 'green'] ['red', 'green']\n",
            "['red', 'green'] ['black', 'green']\n"
          ]
        }
      ]
    },
    {
      "cell_type": "code",
      "source": [
        "a=[['red', 'green']]\n",
        "b=a.copy();\n",
        "print(a,b)\n",
        "b[0][0]='black'\n",
        "print(a,b)"
      ],
      "metadata": {
        "colab": {
          "base_uri": "https://localhost:8080/"
        },
        "id": "2Yy71rWEX8kT",
        "outputId": "722e7455-7c10-476c-fd0a-ecd3b458f1ba"
      },
      "execution_count": null,
      "outputs": [
        {
          "output_type": "stream",
          "name": "stdout",
          "text": [
            "[['red', 'green']] [['red', 'green']]\n",
            "[['black', 'green']] [['black', 'green']]\n"
          ]
        }
      ]
    },
    {
      "cell_type": "code",
      "source": [
        "import copy\n",
        "\n",
        "a=[['red', 'green']]\n",
        "b=copy.deepcopy(a);\n",
        "print(a,b)\n",
        "b[0][0]='black'\n",
        "print(a,b)"
      ],
      "metadata": {
        "colab": {
          "base_uri": "https://localhost:8080/"
        },
        "id": "kq4HJeWUaksb",
        "outputId": "25394273-2a44-4e77-fbf5-dcced69dcb47"
      },
      "execution_count": null,
      "outputs": [
        {
          "output_type": "stream",
          "name": "stdout",
          "text": [
            "[['red', 'green']] [['red', 'green']]\n",
            "[['red', 'green']] [['black', 'green']]\n"
          ]
        }
      ]
    },
    {
      "cell_type": "code",
      "source": [
        "dir(list)"
      ],
      "metadata": {
        "colab": {
          "base_uri": "https://localhost:8080/"
        },
        "id": "jKh4fJ-BbGUy",
        "outputId": "db67a326-4f19-4b2e-fc3c-d0fde332515b"
      },
      "execution_count": null,
      "outputs": [
        {
          "output_type": "execute_result",
          "data": {
            "text/plain": [
              "['__add__',\n",
              " '__class__',\n",
              " '__contains__',\n",
              " '__delattr__',\n",
              " '__delitem__',\n",
              " '__dir__',\n",
              " '__doc__',\n",
              " '__eq__',\n",
              " '__format__',\n",
              " '__ge__',\n",
              " '__getattribute__',\n",
              " '__getitem__',\n",
              " '__gt__',\n",
              " '__hash__',\n",
              " '__iadd__',\n",
              " '__imul__',\n",
              " '__init__',\n",
              " '__init_subclass__',\n",
              " '__iter__',\n",
              " '__le__',\n",
              " '__len__',\n",
              " '__lt__',\n",
              " '__mul__',\n",
              " '__ne__',\n",
              " '__new__',\n",
              " '__reduce__',\n",
              " '__reduce_ex__',\n",
              " '__repr__',\n",
              " '__reversed__',\n",
              " '__rmul__',\n",
              " '__setattr__',\n",
              " '__setitem__',\n",
              " '__sizeof__',\n",
              " '__str__',\n",
              " '__subclasshook__',\n",
              " 'append',\n",
              " 'clear',\n",
              " 'copy',\n",
              " 'count',\n",
              " 'extend',\n",
              " 'index',\n",
              " 'insert',\n",
              " 'pop',\n",
              " 'remove',\n",
              " 'reverse',\n",
              " 'sort']"
            ]
          },
          "metadata": {},
          "execution_count": 250
        }
      ]
    },
    {
      "cell_type": "markdown",
      "source": [],
      "metadata": {
        "id": "gTHcDnX3br57"
      }
    },
    {
      "cell_type": "markdown",
      "source": [
        "###튜플(tuple)\n",
        "변경이 불가능한 순서(sequence)가 있는 자료형이다.\n",
        "튜플은 소괄호로 표현한다.()"
      ],
      "metadata": {
        "id": "IIjlTlMXb7do"
      }
    },
    {
      "cell_type": "code",
      "source": [
        "dir(tuple)"
      ],
      "metadata": {
        "colab": {
          "base_uri": "https://localhost:8080/"
        },
        "id": "lFDhndAkfYCy",
        "outputId": "1693ba30-cfbd-493e-e4ac-23548272b143"
      },
      "execution_count": null,
      "outputs": [
        {
          "output_type": "execute_result",
          "data": {
            "text/plain": [
              "['__add__',\n",
              " '__class__',\n",
              " '__contains__',\n",
              " '__delattr__',\n",
              " '__dir__',\n",
              " '__doc__',\n",
              " '__eq__',\n",
              " '__format__',\n",
              " '__ge__',\n",
              " '__getattribute__',\n",
              " '__getitem__',\n",
              " '__getnewargs__',\n",
              " '__gt__',\n",
              " '__hash__',\n",
              " '__init__',\n",
              " '__init_subclass__',\n",
              " '__iter__',\n",
              " '__le__',\n",
              " '__len__',\n",
              " '__lt__',\n",
              " '__mul__',\n",
              " '__ne__',\n",
              " '__new__',\n",
              " '__reduce__',\n",
              " '__reduce_ex__',\n",
              " '__repr__',\n",
              " '__rmul__',\n",
              " '__setattr__',\n",
              " '__sizeof__',\n",
              " '__str__',\n",
              " '__subclasshook__',\n",
              " 'count',\n",
              " 'index']"
            ]
          },
          "metadata": {},
          "execution_count": 271
        }
      ]
    },
    {
      "cell_type": "code",
      "source": [
        "def test():\n",
        "  return 2,3 # 넘겨주는 값은 하나임\n",
        "print(test())"
      ],
      "metadata": {
        "colab": {
          "base_uri": "https://localhost:8080/"
        },
        "id": "ow4Ud08HcDri",
        "outputId": "e3dd5d41-75f9-4889-e1b4-f5cf7d1ac360"
      },
      "execution_count": null,
      "outputs": [
        {
          "output_type": "stream",
          "name": "stdout",
          "text": [
            "(2, 3)\n"
          ]
        }
      ]
    },
    {
      "cell_type": "code",
      "source": [
        "# 값 사이에 콤마(,)를 구분하여 사용한다.\n",
        "t_val=(10,20,30) # 생략이 가능하긴 하지만 튜플 사용할 땐 생략하지 말기\n",
        "t_val"
      ],
      "metadata": {
        "colab": {
          "base_uri": "https://localhost:8080/"
        },
        "id": "0j5nd47jcFVy",
        "outputId": "478e99fc-eb54-4424-8b90-13a673432332"
      },
      "execution_count": null,
      "outputs": [
        {
          "output_type": "execute_result",
          "data": {
            "text/plain": [
              "(10, 20, 30)"
            ]
          },
          "metadata": {},
          "execution_count": 253
        }
      ]
    },
    {
      "cell_type": "code",
      "source": [
        "type(t_val)"
      ],
      "metadata": {
        "colab": {
          "base_uri": "https://localhost:8080/"
        },
        "id": "FJZwhm1kcp8b",
        "outputId": "7a405860-c121-49c8-c953-b12ae4bd47e2"
      },
      "execution_count": null,
      "outputs": [
        {
          "output_type": "execute_result",
          "data": {
            "text/plain": [
              "tuple"
            ]
          },
          "metadata": {},
          "execution_count": 254
        }
      ]
    },
    {
      "cell_type": "code",
      "source": [
        "#괄호()는 수식에서의 ()와 혼동될 가능성이 있기 때문에 주의해야 한다.\n",
        "#예를 들어, t_val2=(1)은 t_val=1로 해석된다.\n",
        "t_val2=(1)\n",
        "type(t_val2)"
      ],
      "metadata": {
        "colab": {
          "base_uri": "https://localhost:8080/"
        },
        "id": "zc0ovfVhc1bb",
        "outputId": "61a78b90-189c-49be-fa0f-44c3019e76e6"
      },
      "execution_count": null,
      "outputs": [
        {
          "output_type": "execute_result",
          "data": {
            "text/plain": [
              "int"
            ]
          },
          "metadata": {},
          "execution_count": 255
        }
      ]
    },
    {
      "cell_type": "code",
      "source": [
        "t_val2=(1,) #데이터가 한개일때는 반드시 쉼표가 있어야 한다.\n",
        "t_val2=1, #괄호는 없어도 쉼표는 있어야 한다.\n",
        "type(t_val2) "
      ],
      "metadata": {
        "colab": {
          "base_uri": "https://localhost:8080/"
        },
        "id": "24ieYUC9csBT",
        "outputId": "b9f623c7-2666-4f1a-a742-33c27a78aa04"
      },
      "execution_count": null,
      "outputs": [
        {
          "output_type": "execute_result",
          "data": {
            "text/plain": [
              "tuple"
            ]
          },
          "metadata": {},
          "execution_count": 256
        }
      ]
    },
    {
      "cell_type": "code",
      "source": [
        "#List와 비슷하지만, 한 번 생성되면 Tuple은 변경할 수 없다.\n",
        "t_val3=(1,2,3)\n",
        "t_val3[0]=100"
      ],
      "metadata": {
        "colab": {
          "base_uri": "https://localhost:8080/",
          "height": 213
        },
        "id": "BcmnBjdTdLzC",
        "outputId": "487c2d6b-fda1-497d-bd15-80eb2c769a76"
      },
      "execution_count": null,
      "outputs": [
        {
          "output_type": "error",
          "ename": "TypeError",
          "evalue": "ignored",
          "traceback": [
            "\u001b[0;31m---------------------------------------------------------------------------\u001b[0m",
            "\u001b[0;31mTypeError\u001b[0m                                 Traceback (most recent call last)",
            "\u001b[0;32m<ipython-input-257-33bb7fb6d0fb>\u001b[0m in \u001b[0;36m<module>\u001b[0;34m\u001b[0m\n\u001b[1;32m      1\u001b[0m \u001b[0;31m#List와 비슷하지만 한 번 생성되면 Tuple은 변경할 수 없다.\u001b[0m\u001b[0;34m\u001b[0m\u001b[0;34m\u001b[0m\u001b[0;34m\u001b[0m\u001b[0m\n\u001b[1;32m      2\u001b[0m \u001b[0mt_val3\u001b[0m\u001b[0;34m=\u001b[0m\u001b[0;34m(\u001b[0m\u001b[0;36m1\u001b[0m\u001b[0;34m,\u001b[0m\u001b[0;36m2\u001b[0m\u001b[0;34m,\u001b[0m\u001b[0;36m3\u001b[0m\u001b[0;34m)\u001b[0m\u001b[0;34m\u001b[0m\u001b[0;34m\u001b[0m\u001b[0m\n\u001b[0;32m----> 3\u001b[0;31m \u001b[0mt_val3\u001b[0m\u001b[0;34m[\u001b[0m\u001b[0;36m0\u001b[0m\u001b[0;34m]\u001b[0m\u001b[0;34m=\u001b[0m\u001b[0;36m100\u001b[0m\u001b[0;34m\u001b[0m\u001b[0;34m\u001b[0m\u001b[0m\n\u001b[0m",
            "\u001b[0;31mTypeError\u001b[0m: 'tuple' object does not support item assignment"
          ]
        }
      ]
    },
    {
      "cell_type": "code",
      "source": [
        "# 다양한 타입을 함께 포함할 수 있다.\n",
        "t_val4=(10,'python',80.5,True)\n",
        "t_val4"
      ],
      "metadata": {
        "colab": {
          "base_uri": "https://localhost:8080/"
        },
        "id": "kCtUb8Osd4UK",
        "outputId": "cfa39eec-e607-43ee-d271-842e24df38df"
      },
      "execution_count": null,
      "outputs": [
        {
          "output_type": "execute_result",
          "data": {
            "text/plain": [
              "(10, 'python', 80.5, True)"
            ]
          },
          "metadata": {},
          "execution_count": 258
        }
      ]
    },
    {
      "cell_type": "code",
      "source": [
        "# 인덱스를 이용해서 튜플의 각 원소에 접근할 수 있다. (1)\n",
        "t_val5=(5,10,15,20,25)\n",
        "len(t_val5) #데이터의 개수를 리턴"
      ],
      "metadata": {
        "colab": {
          "base_uri": "https://localhost:8080/"
        },
        "id": "YsCp-AW_eJEK",
        "outputId": "e800eb23-0b9a-4683-da15-a13b182ccb48"
      },
      "execution_count": null,
      "outputs": [
        {
          "output_type": "execute_result",
          "data": {
            "text/plain": [
              "5"
            ]
          },
          "metadata": {},
          "execution_count": 259
        }
      ]
    },
    {
      "cell_type": "code",
      "source": [
        "t_val5[0] #0인덱스 요소를 리턴"
      ],
      "metadata": {
        "colab": {
          "base_uri": "https://localhost:8080/"
        },
        "id": "Su5LYwQQeXRi",
        "outputId": "8abe6ae4-2ca8-4c82-8c8f-885e985c735b"
      },
      "execution_count": null,
      "outputs": [
        {
          "output_type": "execute_result",
          "data": {
            "text/plain": [
              "5"
            ]
          },
          "metadata": {},
          "execution_count": 260
        }
      ]
    },
    {
      "cell_type": "code",
      "source": [
        "# 인덱스를 이용해서 튜플의 각 원소에 접근할 수 있다. (2)\n",
        "t_val5[-1] #음수를 사용하면 요소 마지막부터 찾음"
      ],
      "metadata": {
        "colab": {
          "base_uri": "https://localhost:8080/"
        },
        "id": "qvFOMLtSeYaq",
        "outputId": "9f88d3a0-4e69-45b4-83f9-0f7660b4694e"
      },
      "execution_count": null,
      "outputs": [
        {
          "output_type": "execute_result",
          "data": {
            "text/plain": [
              "25"
            ]
          },
          "metadata": {},
          "execution_count": 261
        }
      ]
    },
    {
      "cell_type": "code",
      "source": [
        "t_val5[0:2] #슬라이싱"
      ],
      "metadata": {
        "colab": {
          "base_uri": "https://localhost:8080/"
        },
        "id": "UIoWXOC3etXa",
        "outputId": "4b65659e-1300-47b9-8a97-3aa409b528aa"
      },
      "execution_count": null,
      "outputs": [
        {
          "output_type": "execute_result",
          "data": {
            "text/plain": [
              "(5, 10)"
            ]
          },
          "metadata": {},
          "execution_count": 263
        }
      ]
    },
    {
      "cell_type": "code",
      "source": [
        "t_val5[::2] #확장 슬라이싱, 파이썬 2.3이상"
      ],
      "metadata": {
        "colab": {
          "base_uri": "https://localhost:8080/"
        },
        "id": "F8Qyot5devyH",
        "outputId": "1cb090ab-9a3c-4acb-85eb-55e3dbb15bf9"
      },
      "execution_count": null,
      "outputs": [
        {
          "output_type": "execute_result",
          "data": {
            "text/plain": [
              "(5, 15, 25)"
            ]
          },
          "metadata": {},
          "execution_count": 265
        }
      ]
    },
    {
      "cell_type": "code",
      "source": [
        "#+,*연산자를 사용하여 이어 붙일 수도 반복할 수도 있다.\n",
        "t_val5 + t_val5 + t_val5"
      ],
      "metadata": {
        "colab": {
          "base_uri": "https://localhost:8080/"
        },
        "id": "wjk25ZhHe2Gy",
        "outputId": "bb06463d-0ea2-4593-fb0f-f235e95b5981"
      },
      "execution_count": null,
      "outputs": [
        {
          "output_type": "execute_result",
          "data": {
            "text/plain": [
              "(5, 10, 15, 20, 25, 5, 10, 15, 20, 25, 5, 10, 15, 20, 25)"
            ]
          },
          "metadata": {},
          "execution_count": 266
        }
      ]
    },
    {
      "cell_type": "code",
      "source": [
        "t_val5+(30,35)"
      ],
      "metadata": {
        "colab": {
          "base_uri": "https://localhost:8080/"
        },
        "id": "ERm0ZURMfEfJ",
        "outputId": "41cd7293-b77a-45cc-d49f-1a8250edf961"
      },
      "execution_count": null,
      "outputs": [
        {
          "output_type": "execute_result",
          "data": {
            "text/plain": [
              "(5, 10, 15, 20, 25, 30, 35)"
            ]
          },
          "metadata": {},
          "execution_count": 267
        }
      ]
    },
    {
      "cell_type": "code",
      "source": [
        "t_val5*3"
      ],
      "metadata": {
        "colab": {
          "base_uri": "https://localhost:8080/"
        },
        "id": "MyWf3Cl9fHUJ",
        "outputId": "d6e82d6d-8043-4ecd-b25b-87460c5f34e7"
      },
      "execution_count": null,
      "outputs": [
        {
          "output_type": "execute_result",
          "data": {
            "text/plain": [
              "(5, 10, 15, 20, 25, 5, 10, 15, 20, 25, 5, 10, 15, 20, 25)"
            ]
          },
          "metadata": {},
          "execution_count": 268
        }
      ]
    },
    {
      "cell_type": "code",
      "source": [
        "# 튜플에 특정값이 있는지 검사할 수 있다.\n",
        "5 in t_val5 #멤버 검사"
      ],
      "metadata": {
        "colab": {
          "base_uri": "https://localhost:8080/"
        },
        "id": "99g1dk_SfJbJ",
        "outputId": "5a7f937a-8589-4c48-9f31-611b02e15b42"
      },
      "execution_count": null,
      "outputs": [
        {
          "output_type": "execute_result",
          "data": {
            "text/plain": [
              "True"
            ]
          },
          "metadata": {},
          "execution_count": 269
        }
      ]
    },
    {
      "cell_type": "code",
      "source": [
        "#튜플은 검색에 관련된 메서드 2개(count,index)를 갖는다.\n",
        "t_val6=(1,2,3,2,2,3)\n",
        "t_val6.count(2) #2가 몇 개 있는가?"
      ],
      "metadata": {
        "colab": {
          "base_uri": "https://localhost:8080/"
        },
        "id": "_-nCEg6Lfu-i",
        "outputId": "38963817-af47-4e2a-c060-59f3e624dd6b"
      },
      "execution_count": null,
      "outputs": [
        {
          "output_type": "execute_result",
          "data": {
            "text/plain": [
              "3"
            ]
          },
          "metadata": {},
          "execution_count": 274
        }
      ]
    },
    {
      "cell_type": "code",
      "source": [
        "t_val6.index(2) #첫번째 2의 인덱스는?"
      ],
      "metadata": {
        "colab": {
          "base_uri": "https://localhost:8080/"
        },
        "id": "cPLF4VQKf_0y",
        "outputId": "28aaa493-34fe-48e8-e34e-a1adf0051595"
      },
      "execution_count": null,
      "outputs": [
        {
          "output_type": "execute_result",
          "data": {
            "text/plain": [
              "1"
            ]
          },
          "metadata": {},
          "execution_count": 275
        }
      ]
    },
    {
      "cell_type": "code",
      "source": [
        "t_val6.index(2,2) #첫번째 2의 인덱스를 2 위치부터 검색해 나간다."
      ],
      "metadata": {
        "colab": {
          "base_uri": "https://localhost:8080/"
        },
        "id": "jER5zgI0gKTi",
        "outputId": "4a8bd8ab-1656-460e-9e1e-6475e8be2231"
      },
      "execution_count": null,
      "outputs": [
        {
          "output_type": "execute_result",
          "data": {
            "text/plain": [
              "3"
            ]
          },
          "metadata": {},
          "execution_count": 276
        }
      ]
    },
    {
      "cell_type": "code",
      "source": [
        "#튜플을 중첩해서 사용할 수 있다.\n",
        "t_val7=('python','hello!!')\n",
        "t_val8=(t_val7, (1,2,3))\n",
        "t_val8"
      ],
      "metadata": {
        "colab": {
          "base_uri": "https://localhost:8080/"
        },
        "id": "6Sz-KvZDgME6",
        "outputId": "9e8e0de0-f89f-4e4d-9956-31efa3329056"
      },
      "execution_count": null,
      "outputs": [
        {
          "output_type": "execute_result",
          "data": {
            "text/plain": [
              "(('python', 'hello!!'), (1, 2, 3))"
            ]
          },
          "metadata": {},
          "execution_count": 280
        }
      ]
    },
    {
      "cell_type": "code",
      "source": [
        "#한 변수에 데이터를 각각 꺼내 오는 것을 언패킹(unpacking) 지원(1)\n",
        "t_val9=(10,20,30)\n",
        "l,m,n=t_val9 #t_val9의 각 원소들이 l,m,n에 저장된다.\n",
        "print(l,m,n)"
      ],
      "metadata": {
        "colab": {
          "base_uri": "https://localhost:8080/"
        },
        "id": "CCX-w8a4gocK",
        "outputId": "d32cc299-c8ae-4f2f-beb6-ba41f39ec0e3"
      },
      "execution_count": null,
      "outputs": [
        {
          "output_type": "stream",
          "name": "stdout",
          "text": [
            "10 20 30\n"
          ]
        }
      ]
    },
    {
      "cell_type": "code",
      "source": [
        "#한 변수에 데이터를 각각 꺼내 오는 것을 언패킹(unpacking) 지원(2)\n",
        "t_val10=((1,2),(3,4))\n",
        "(x1,y1),(x2,y2)=t_val10\n",
        "(x1,y1)\n"
      ],
      "metadata": {
        "colab": {
          "base_uri": "https://localhost:8080/"
        },
        "id": "PZkaOFnahFgp",
        "outputId": "1552fa19-ef1d-4835-8350-8d00de354ed3"
      },
      "execution_count": null,
      "outputs": [
        {
          "output_type": "execute_result",
          "data": {
            "text/plain": [
              "(1, 2)"
            ]
          },
          "metadata": {},
          "execution_count": 282
        }
      ]
    },
    {
      "cell_type": "code",
      "source": [
        "(x2,y2)"
      ],
      "metadata": {
        "colab": {
          "base_uri": "https://localhost:8080/"
        },
        "id": "DxLgBvcohlUp",
        "outputId": "7e3ee1c0-0df8-4874-bed8-f1faf267c3d9"
      },
      "execution_count": null,
      "outputs": [
        {
          "output_type": "execute_result",
          "data": {
            "text/plain": [
              "(3, 4)"
            ]
          },
          "metadata": {},
          "execution_count": 283
        }
      ]
    },
    {
      "cell_type": "code",
      "source": [
        "#확장된 언패킹을 이용한 자유로운 형태 이용(1)\n",
        "t_val12=(1,2,3,4,5)\n",
        "a,*b=t_val12\n",
        "print(a,b)"
      ],
      "metadata": {
        "colab": {
          "base_uri": "https://localhost:8080/"
        },
        "id": "OSZS7zXyhnF5",
        "outputId": "de20c152-0f96-4f88-e369-6f620d2b6417"
      },
      "execution_count": null,
      "outputs": [
        {
          "output_type": "stream",
          "name": "stdout",
          "text": [
            "1 [2, 3, 4, 5]\n"
          ]
        }
      ]
    },
    {
      "cell_type": "code",
      "source": [
        "print(type(a),type(b))"
      ],
      "metadata": {
        "colab": {
          "base_uri": "https://localhost:8080/"
        },
        "id": "W2bcMV_uh92Z",
        "outputId": "56486f16-22a2-4401-d505-cca1429ff586"
      },
      "execution_count": null,
      "outputs": [
        {
          "output_type": "stream",
          "name": "stdout",
          "text": [
            "<class 'int'> <class 'list'>\n"
          ]
        }
      ]
    },
    {
      "cell_type": "code",
      "source": [
        "#확장된 언패킹을 이용한 자유로운 형태 이용(2)\n",
        "*a, b=t_val12 # *모든?\n",
        "print(a,b)"
      ],
      "metadata": {
        "colab": {
          "base_uri": "https://localhost:8080/"
        },
        "id": "WbSmZAqciClZ",
        "outputId": "a9ac1508-19b9-4a6a-de23-a16126de6b61"
      },
      "execution_count": null,
      "outputs": [
        {
          "output_type": "stream",
          "name": "stdout",
          "text": [
            "[1, 2, 3, 4] 5\n"
          ]
        }
      ]
    },
    {
      "cell_type": "code",
      "source": [
        "a,b,*c=t_val12\n",
        "print(a,b,c)"
      ],
      "metadata": {
        "colab": {
          "base_uri": "https://localhost:8080/"
        },
        "id": "rRCbn6xZiT7B",
        "outputId": "bf7e091e-3241-43bf-c480-50f80f769eb5"
      },
      "execution_count": null,
      "outputs": [
        {
          "output_type": "stream",
          "name": "stdout",
          "text": [
            "1 2 [3, 4, 5]\n"
          ]
        }
      ]
    },
    {
      "cell_type": "code",
      "source": [
        "#확장된 언패킹을 이용한 자유로운 형태 이용(3)\n",
        "a,*b,*c=val12 #*a와 같은 식의 표현은 나머지 전부를 의미한다. 그래서 * 기호는 한 번만 사용해야 한다."
      ],
      "metadata": {
        "colab": {
          "base_uri": "https://localhost:8080/",
          "height": 101
        },
        "id": "ojWTs8gCiash",
        "outputId": "0ace02d9-094b-4b09-f082-f289d6b4dc89"
      },
      "execution_count": null,
      "outputs": [
        {
          "output_type": "error",
          "ename": "SyntaxError",
          "evalue": "ignored",
          "traceback": [
            "\u001b[0;36m  File \u001b[0;32m\"<ipython-input-289-9eaab78a4dd7>\"\u001b[0;36m, line \u001b[0;32m5\u001b[0m\n\u001b[0;31mSyntaxError\u001b[0m\u001b[0;31m:\u001b[0m two starred expressions in assignment\n"
          ]
        }
      ]
    },
    {
      "cell_type": "markdown",
      "source": [
        "###튜플과 리스트의 공통점\n",
        "임의의 객체를 저장할 수 있다는 것과 순서(sequence) 자료형이라는 것이다.\n",
        "\n",
        "###튜플과 리스트의 차이점\n",
        "튜플은 변경 불가능한 순서(sequence) 자료형이다.\n",
        "튜플은 함수의 가변 인수를 지원한다."
      ],
      "metadata": {
        "id": "cgtXHBljioDh"
      }
    },
    {
      "cell_type": "code",
      "source": [
        "#리스트와 튜플은 list()와 tuple()내장함수를 사용하여 상호변환 가능(1)\n",
        "t_val13=(1,2,3,4,5)\n",
        "l_val=list(t_val13)\n",
        "l_val[0]=100\n",
        "l_val"
      ],
      "metadata": {
        "colab": {
          "base_uri": "https://localhost:8080/"
        },
        "id": "iQ4e4aPxjWax",
        "outputId": "fcc81d62-4447-48d2-fc14-14ab7f795905"
      },
      "execution_count": null,
      "outputs": [
        {
          "output_type": "execute_result",
          "data": {
            "text/plain": [
              "[100, 2, 3, 4, 5]"
            ]
          },
          "metadata": {},
          "execution_count": 290
        }
      ]
    },
    {
      "cell_type": "code",
      "source": [
        "type(l_val)"
      ],
      "metadata": {
        "colab": {
          "base_uri": "https://localhost:8080/"
        },
        "id": "msWoBGjcjiJp",
        "outputId": "2922a5a9-8763-4a46-d3e3-c9ecbbcb587b"
      },
      "execution_count": null,
      "outputs": [
        {
          "output_type": "execute_result",
          "data": {
            "text/plain": [
              "list"
            ]
          },
          "metadata": {},
          "execution_count": 291
        }
      ]
    },
    {
      "cell_type": "code",
      "source": [
        "#리스트와 튜플은 list()와 tuple()내장함수를 사용하여 상호변환 가능(2)"
      ],
      "metadata": {
        "id": "dVPROy7qjkKR"
      },
      "execution_count": null,
      "outputs": []
    },
    {
      "cell_type": "code",
      "source": [
        "t_val14=tuple(l_val)\n",
        "t_val14"
      ],
      "metadata": {
        "colab": {
          "base_uri": "https://localhost:8080/"
        },
        "id": "vxGO07W4jmDB",
        "outputId": "0a343b69-34ce-48e7-a4f4-a54532f8d808"
      },
      "execution_count": null,
      "outputs": [
        {
          "output_type": "execute_result",
          "data": {
            "text/plain": [
              "(100, 2, 3, 4, 5)"
            ]
          },
          "metadata": {},
          "execution_count": 293
        }
      ]
    },
    {
      "cell_type": "code",
      "source": [
        "type(t_val14)"
      ],
      "metadata": {
        "colab": {
          "base_uri": "https://localhost:8080/"
        },
        "id": "KYU_LNuGj5OI",
        "outputId": "25f6ba7b-6984-44fe-aafe-f4de29f88465"
      },
      "execution_count": null,
      "outputs": [
        {
          "output_type": "execute_result",
          "data": {
            "text/plain": [
              "tuple"
            ]
          },
          "metadata": {},
          "execution_count": 294
        }
      ]
    },
    {
      "cell_type": "markdown",
      "source": [
        "반드시 튜플을 사용하는 3가지 경우"
      ],
      "metadata": {
        "id": "xssjtq6FkYEZ"
      }
    },
    {
      "cell_type": "code",
      "source": [
        "#1.함수에 있어서 하나 이상의 값을 반환할 때\n",
        "def calc(a,b):\n",
        "  return a+b, a*b #튜플을 반환한다. 괄호 생략\n",
        "  \n",
        "x,y=calc(5,4)\n",
        "print(x,y)"
      ],
      "metadata": {
        "colab": {
          "base_uri": "https://localhost:8080/"
        },
        "id": "TMslbpiIj6ig",
        "outputId": "665f082d-fc00-4dbb-88b9-b598c6664199"
      },
      "execution_count": null,
      "outputs": [
        {
          "output_type": "stream",
          "name": "stdout",
          "text": [
            "9 20\n"
          ]
        }
      ]
    },
    {
      "cell_type": "code",
      "source": [
        "#2.튜플에 있는 값들을 함수의 인수로 사용할 때\n",
        "\n",
        "def calc(*args):\n",
        "    print(args)\n",
        "\n",
        "args = (4,5)\n",
        "\n",
        "calc(*args)"
      ],
      "metadata": {
        "colab": {
          "base_uri": "https://localhost:8080/"
        },
        "id": "3k1-QINCeCvD",
        "outputId": "9c1d4ef8-488c-48ec-fe51-f8293ee36491"
      },
      "execution_count": null,
      "outputs": [
        {
          "output_type": "stream",
          "name": "stdout",
          "text": [
            "(4, 5)\n"
          ]
        }
      ]
    },
    {
      "cell_type": "code",
      "source": [
        "def calc(a,b):\n",
        "    print(a,b)\n",
        "\n",
        "args = (4,5)\n",
        "\n",
        "calc(*args)"
      ],
      "metadata": {
        "colab": {
          "base_uri": "https://localhost:8080/"
        },
        "id": "O-rx0u1qfHzL",
        "outputId": "19ad8080-d5de-435f-bb9f-23058dcec747"
      },
      "execution_count": null,
      "outputs": [
        {
          "output_type": "stream",
          "name": "stdout",
          "text": [
            "4 5\n"
          ]
        }
      ]
    },
    {
      "cell_type": "code",
      "source": [
        "#3. python 2형식의 서식 문자열에 데이터를 공급할 때\n",
        "\"%d %f %s\" % (12,3.4, 'helo')"
      ],
      "metadata": {
        "colab": {
          "base_uri": "https://localhost:8080/",
          "height": 35
        },
        "id": "D2pk_azQddFb",
        "outputId": "04ac174c-6abd-4659-a5da-a109dcd393e2"
      },
      "execution_count": null,
      "outputs": [
        {
          "output_type": "execute_result",
          "data": {
            "text/plain": [
              "'12 3.400000 helo'"
            ],
            "application/vnd.google.colaboratory.intrinsic+json": {
              "type": "string"
            }
          },
          "metadata": {},
          "execution_count": 23
        }
      ]
    },
    {
      "cell_type": "markdown",
      "source": [
        "### 집합(sets)\n",
        "1. 집합은 여러 값을 순서 없이 그리고 중복 없이 모아 놓은 자료형이다.  \n",
        "2. python에서는 set과 frozenset 두 가지 집합 자료형을 제공한다.  \n",
        "3. set은 변경 가능한 집합이고, frozenset은 변경 불가능한 집합이다.  \n",
        "4. set은 {}중괄호나 set()으로 표현한다.\n",
        "\n",
        "- 멤버십(원소와 집합 사이의 귀속관계)검사, 시퀀스에서의 중복제거와 교집합, 합집합, 차집합같은 수학연산 수행에 사용된다.  \n",
        "- 다른 시퀀스와 마찬가지로, x in set, len(set), 컴프리헨션과 같은 기능을 제공하지만, 삽입순서를 기록하지는 않는다. 따라서 인덱싱이나 슬라이싱은 사용이 불가능하다.  \n",
        "- 반복가능(Iterable)한 객체로 부터 집합을 만들 수 있지만 모든 데이터가 원소로 사용할 수 있는 것은 아니다. 해시가능(Hashable)이면서 변경불가능한 자료형만이 집합의 원소로 사용 가능하다."
      ],
      "metadata": {
        "id": "LBpD1dgNfe3S"
      }
    },
    {
      "cell_type": "code",
      "source": [
        "# set() 메소드\n",
        "dir(set)"
      ],
      "metadata": {
        "colab": {
          "base_uri": "https://localhost:8080/"
        },
        "id": "nV06NA-5jESa",
        "outputId": "1027e15b-ad02-4707-fd7e-74c420538a63"
      },
      "execution_count": null,
      "outputs": [
        {
          "output_type": "execute_result",
          "data": {
            "text/plain": [
              "['__and__',\n",
              " '__class__',\n",
              " '__contains__',\n",
              " '__delattr__',\n",
              " '__dir__',\n",
              " '__doc__',\n",
              " '__eq__',\n",
              " '__format__',\n",
              " '__ge__',\n",
              " '__getattribute__',\n",
              " '__gt__',\n",
              " '__hash__',\n",
              " '__iand__',\n",
              " '__init__',\n",
              " '__init_subclass__',\n",
              " '__ior__',\n",
              " '__isub__',\n",
              " '__iter__',\n",
              " '__ixor__',\n",
              " '__le__',\n",
              " '__len__',\n",
              " '__lt__',\n",
              " '__ne__',\n",
              " '__new__',\n",
              " '__or__',\n",
              " '__rand__',\n",
              " '__reduce__',\n",
              " '__reduce_ex__',\n",
              " '__repr__',\n",
              " '__ror__',\n",
              " '__rsub__',\n",
              " '__rxor__',\n",
              " '__setattr__',\n",
              " '__sizeof__',\n",
              " '__str__',\n",
              " '__sub__',\n",
              " '__subclasshook__',\n",
              " '__xor__',\n",
              " 'add',\n",
              " 'clear',\n",
              " 'copy',\n",
              " 'difference',\n",
              " 'difference_update',\n",
              " 'discard',\n",
              " 'intersection',\n",
              " 'intersection_update',\n",
              " 'isdisjoint',\n",
              " 'issubset',\n",
              " 'issuperset',\n",
              " 'pop',\n",
              " 'remove',\n",
              " 'symmetric_difference',\n",
              " 'symmetric_difference_update',\n",
              " 'union',\n",
              " 'update']"
            ]
          },
          "metadata": {},
          "execution_count": 52
        }
      ]
    },
    {
      "cell_type": "code",
      "source": [
        "s={} #dictionary\n",
        "s"
      ],
      "metadata": {
        "colab": {
          "base_uri": "https://localhost:8080/"
        },
        "id": "mmxUtoB2fY4z",
        "outputId": "567a98ab-0561-434f-ff96-baabb7b3bddb"
      },
      "execution_count": null,
      "outputs": [
        {
          "output_type": "execute_result",
          "data": {
            "text/plain": [
              "{}"
            ]
          },
          "metadata": {},
          "execution_count": 30
        }
      ]
    },
    {
      "cell_type": "code",
      "source": [
        "s=set()\n",
        "s"
      ],
      "metadata": {
        "colab": {
          "base_uri": "https://localhost:8080/"
        },
        "id": "hsXCNnUNfvMU",
        "outputId": "f3ab2a3d-d2bb-4576-d863-9bdc6ac8f318"
      },
      "execution_count": null,
      "outputs": [
        {
          "output_type": "execute_result",
          "data": {
            "text/plain": [
              "set()"
            ]
          },
          "metadata": {},
          "execution_count": 28
        }
      ]
    },
    {
      "cell_type": "code",
      "source": [
        "type(s)"
      ],
      "metadata": {
        "colab": {
          "base_uri": "https://localhost:8080/"
        },
        "id": "PlSrw7TMfxh6",
        "outputId": "578babc1-d268-450b-b0ce-f99539fb2d7f"
      },
      "execution_count": null,
      "outputs": [
        {
          "output_type": "execute_result",
          "data": {
            "text/plain": [
              "set"
            ]
          },
          "metadata": {},
          "execution_count": 29
        }
      ]
    },
    {
      "cell_type": "code",
      "source": [
        "s={}\n",
        "print(s)\n",
        "print(type(s))"
      ],
      "metadata": {
        "colab": {
          "base_uri": "https://localhost:8080/"
        },
        "id": "74KPxyXgf-mK",
        "outputId": "18b1da92-1a75-42b4-9f32-e78461a246e6"
      },
      "execution_count": null,
      "outputs": [
        {
          "output_type": "stream",
          "name": "stdout",
          "text": [
            "{}\n",
            "<class 'dict'>\n"
          ]
        }
      ]
    },
    {
      "cell_type": "code",
      "source": [
        "s=set()\n",
        "print(s)\n",
        "print(type(s))"
      ],
      "metadata": {
        "colab": {
          "base_uri": "https://localhost:8080/"
        },
        "id": "45gXSpK8gGeR",
        "outputId": "538c1231-77c4-4515-cbbd-97adbf7b5c74"
      },
      "execution_count": null,
      "outputs": [
        {
          "output_type": "stream",
          "name": "stdout",
          "text": [
            "set()\n",
            "<class 'set'>\n"
          ]
        }
      ]
    },
    {
      "cell_type": "code",
      "source": [
        "set((3,1,2)) #튜플로부터 집합을 만든다. 오름차순으로 생성된다."
      ],
      "metadata": {
        "colab": {
          "base_uri": "https://localhost:8080/"
        },
        "id": "Y_nqdXQtg4Pj",
        "outputId": "0bba513e-2110-41e7-89f5-e5e2e641e6a4"
      },
      "execution_count": null,
      "outputs": [
        {
          "output_type": "execute_result",
          "data": {
            "text/plain": [
              "{1, 2, 3}"
            ]
          },
          "metadata": {},
          "execution_count": 36
        }
      ]
    },
    {
      "cell_type": "code",
      "source": [
        "set([3,1,2]) #리스트(변경못함)로부터 집합을 만든다. 오름차순으로 생성된다. "
      ],
      "metadata": {
        "colab": {
          "base_uri": "https://localhost:8080/"
        },
        "id": "WkuR0S54g-gZ",
        "outputId": "7b4fbe5a-df58-4a1a-cf48-1cdb8dc00e96"
      },
      "execution_count": null,
      "outputs": [
        {
          "output_type": "execute_result",
          "data": {
            "text/plain": [
              "{1, 2, 3}"
            ]
          },
          "metadata": {},
          "execution_count": 37
        }
      ]
    },
    {
      "cell_type": "code",
      "source": [
        "set('python') #문자열로부터 집합을 만든다. 오름차순으로 생성된다."
      ],
      "metadata": {
        "colab": {
          "base_uri": "https://localhost:8080/"
        },
        "id": "G5bGNHRihDmx",
        "outputId": "af433fd9-70c0-45f9-8373-6405c1bd5bf1"
      },
      "execution_count": null,
      "outputs": [
        {
          "output_type": "execute_result",
          "data": {
            "text/plain": [
              "{'h', 'n', 'o', 'p', 't', 'y'}"
            ]
          },
          "metadata": {},
          "execution_count": 39
        }
      ]
    },
    {
      "cell_type": "code",
      "source": [
        "set((3,1,2,3,1,2,3,1,2)) #중복된 원소는 한 번만 표현한다."
      ],
      "metadata": {
        "colab": {
          "base_uri": "https://localhost:8080/"
        },
        "id": "89-d-txqhJIZ",
        "outputId": "11efa96a-3267-4a76-91b0-80704b362401"
      },
      "execution_count": null,
      "outputs": [
        {
          "output_type": "execute_result",
          "data": {
            "text/plain": [
              "{1, 2, 3}"
            ]
          },
          "metadata": {},
          "execution_count": 40
        }
      ]
    },
    {
      "cell_type": "code",
      "source": [
        "set({'one':1, 'two':2}) #사전의 반복자는 키 값을 반환한다."
      ],
      "metadata": {
        "colab": {
          "base_uri": "https://localhost:8080/"
        },
        "id": "Q3CkiwWxcx-z",
        "outputId": "c566d584-67d3-4b0d-8177-2607478ad8d7"
      },
      "execution_count": null,
      "outputs": [
        {
          "output_type": "execute_result",
          "data": {
            "text/plain": [
              "{'one', 'two'}"
            ]
          },
          "metadata": {},
          "execution_count": 41
        }
      ]
    },
    {
      "cell_type": "code",
      "source": [
        "a=[1,2,3]\n",
        "b=[4,5,6]\n",
        "{a,b} #리스트는 변경이 가능하므로 집합을 생성할 때 Error가 발생함"
      ],
      "metadata": {
        "colab": {
          "base_uri": "https://localhost:8080/",
          "height": 210
        },
        "id": "ZJdSPO0wiP-R",
        "outputId": "3493993f-d877-458b-8c21-ab5de290ea96"
      },
      "execution_count": null,
      "outputs": [
        {
          "output_type": "error",
          "ename": "TypeError",
          "evalue": "ignored",
          "traceback": [
            "\u001b[0;31m---------------------------------------------------------------------------\u001b[0m",
            "\u001b[0;31mTypeError\u001b[0m                                 Traceback (most recent call last)",
            "\u001b[0;32m<ipython-input-42-31228a79afa0>\u001b[0m in \u001b[0;36m<module>\u001b[0;34m\u001b[0m\n\u001b[1;32m      1\u001b[0m \u001b[0ma\u001b[0m\u001b[0;34m=\u001b[0m\u001b[0;34m[\u001b[0m\u001b[0;36m1\u001b[0m\u001b[0;34m,\u001b[0m\u001b[0;36m2\u001b[0m\u001b[0;34m,\u001b[0m\u001b[0;36m3\u001b[0m\u001b[0;34m]\u001b[0m\u001b[0;34m\u001b[0m\u001b[0;34m\u001b[0m\u001b[0m\n\u001b[1;32m      2\u001b[0m \u001b[0mb\u001b[0m\u001b[0;34m=\u001b[0m\u001b[0;34m[\u001b[0m\u001b[0;36m4\u001b[0m\u001b[0;34m,\u001b[0m\u001b[0;36m5\u001b[0m\u001b[0;34m,\u001b[0m\u001b[0;36m6\u001b[0m\u001b[0;34m]\u001b[0m\u001b[0;34m\u001b[0m\u001b[0;34m\u001b[0m\u001b[0m\n\u001b[0;32m----> 3\u001b[0;31m \u001b[0;34m{\u001b[0m\u001b[0ma\u001b[0m\u001b[0;34m,\u001b[0m\u001b[0mb\u001b[0m\u001b[0;34m}\u001b[0m\u001b[0;34m\u001b[0m\u001b[0;34m\u001b[0m\u001b[0m\n\u001b[0m",
            "\u001b[0;31mTypeError\u001b[0m: unhashable type: 'list'"
          ]
        }
      ]
    },
    {
      "cell_type": "code",
      "source": [
        "a=(1,2,3) #튜플\n",
        "b=(4,5,6)\n",
        "c={a,b}\n",
        "print(c)\n",
        "print(type(c)) #값이 없을 땐 set()으로 사용"
      ],
      "metadata": {
        "colab": {
          "base_uri": "https://localhost:8080/"
        },
        "id": "ddI5-TBpiVgy",
        "outputId": "47ae60ff-9b81-4e32-871a-52027d0c95cc"
      },
      "execution_count": null,
      "outputs": [
        {
          "output_type": "stream",
          "name": "stdout",
          "text": [
            "{(1, 2, 3), (4, 5, 6)}\n",
            "<class 'set'>\n"
          ]
        }
      ]
    },
    {
      "cell_type": "markdown",
      "source": [
        "frozenset\n",
        "1. 값을 변경하지 않는 범위에서 set객체와 동일하게 동작한다.  \n",
        "2. frozenset객체의 생성은 집합을 포함한 반복 가능한 자료형으로부터 가능하다.\n",
        "3. frozen()은 frozenset()으로 생성한다."
      ],
      "metadata": {
        "id": "eD5dGs9Uj1uJ"
      }
    },
    {
      "cell_type": "code",
      "source": [
        "#frozen 메소드\n",
        "dir(frozenset)"
      ],
      "metadata": {
        "colab": {
          "base_uri": "https://localhost:8080/"
        },
        "id": "mQzTPuaokVYJ",
        "outputId": "222f16bf-86e7-4318-d5d6-92d9431984ba"
      },
      "execution_count": null,
      "outputs": [
        {
          "output_type": "execute_result",
          "data": {
            "text/plain": [
              "['__and__',\n",
              " '__class__',\n",
              " '__contains__',\n",
              " '__delattr__',\n",
              " '__dir__',\n",
              " '__doc__',\n",
              " '__eq__',\n",
              " '__format__',\n",
              " '__ge__',\n",
              " '__getattribute__',\n",
              " '__gt__',\n",
              " '__hash__',\n",
              " '__init__',\n",
              " '__init_subclass__',\n",
              " '__iter__',\n",
              " '__le__',\n",
              " '__len__',\n",
              " '__lt__',\n",
              " '__ne__',\n",
              " '__new__',\n",
              " '__or__',\n",
              " '__rand__',\n",
              " '__reduce__',\n",
              " '__reduce_ex__',\n",
              " '__repr__',\n",
              " '__ror__',\n",
              " '__rsub__',\n",
              " '__rxor__',\n",
              " '__setattr__',\n",
              " '__sizeof__',\n",
              " '__str__',\n",
              " '__sub__',\n",
              " '__subclasshook__',\n",
              " '__xor__',\n",
              " 'copy',\n",
              " 'difference',\n",
              " 'intersection',\n",
              " 'isdisjoint',\n",
              " 'issubset',\n",
              " 'issuperset',\n",
              " 'symmetric_difference',\n",
              " 'union']"
            ]
          },
          "metadata": {},
          "execution_count": 51
        }
      ]
    },
    {
      "cell_type": "code",
      "source": [
        "f=frozenset();\n",
        "f"
      ],
      "metadata": {
        "colab": {
          "base_uri": "https://localhost:8080/"
        },
        "id": "8qSxASbjkPUL",
        "outputId": "f815c00c-fdeb-4907-e418-0b320dc41ee2"
      },
      "execution_count": null,
      "outputs": [
        {
          "output_type": "execute_result",
          "data": {
            "text/plain": [
              "frozenset()"
            ]
          },
          "metadata": {},
          "execution_count": 48
        }
      ]
    },
    {
      "cell_type": "code",
      "source": [
        "f_val=frozenset([1,2,3,4,5])\n",
        "f_val"
      ],
      "metadata": {
        "colab": {
          "base_uri": "https://localhost:8080/"
        },
        "id": "4Hi1rUIckRVp",
        "outputId": "8d409440-07ad-4619-eeb4-60533d2c36e3"
      },
      "execution_count": null,
      "outputs": [
        {
          "output_type": "execute_result",
          "data": {
            "text/plain": [
              "frozenset({1, 2, 3, 4, 5})"
            ]
          },
          "metadata": {},
          "execution_count": 49
        }
      ]
    },
    {
      "cell_type": "markdown",
      "source": [
        "### 사전(dict)\n",
        "1. 특정 키를 주면 이와 관련된 값을 돌려주는 내용 기반으로 검색하는 자료형이다.  \n",
        "2. 데이터의 저장순서가 없다.  \n",
        "3. 내부적으로 해시 기법을 사용하기 때문에 검색 속도가 빠르다.  \n",
        "4. key-value형식으로 저장을 하기 때문에 key를 이용해서 value에 접근한다.  \n",
        "5. key값은 중복을 허용하지 않는다."
      ],
      "metadata": {
        "id": "jEEJQ4Yhk1lh"
      }
    },
    {
      "cell_type": "code",
      "source": [
        "#dict 메소드\n",
        "dir(dict)"
      ],
      "metadata": {
        "colab": {
          "base_uri": "https://localhost:8080/"
        },
        "id": "w4os6xrSpimJ",
        "outputId": "c56ee191-3f89-43c4-916f-c0ac49c3d783"
      },
      "execution_count": null,
      "outputs": [
        {
          "output_type": "execute_result",
          "data": {
            "text/plain": [
              "['__class__',\n",
              " '__contains__',\n",
              " '__delattr__',\n",
              " '__delitem__',\n",
              " '__dir__',\n",
              " '__doc__',\n",
              " '__eq__',\n",
              " '__format__',\n",
              " '__ge__',\n",
              " '__getattribute__',\n",
              " '__getitem__',\n",
              " '__gt__',\n",
              " '__hash__',\n",
              " '__init__',\n",
              " '__init_subclass__',\n",
              " '__iter__',\n",
              " '__le__',\n",
              " '__len__',\n",
              " '__lt__',\n",
              " '__ne__',\n",
              " '__new__',\n",
              " '__reduce__',\n",
              " '__reduce_ex__',\n",
              " '__repr__',\n",
              " '__reversed__',\n",
              " '__setattr__',\n",
              " '__setitem__',\n",
              " '__sizeof__',\n",
              " '__str__',\n",
              " '__subclasshook__',\n",
              " 'clear',\n",
              " 'copy',\n",
              " 'fromkeys',\n",
              " 'get',\n",
              " 'items',\n",
              " 'keys',\n",
              " 'pop',\n",
              " 'popitem',\n",
              " 'setdefault',\n",
              " 'update',\n",
              " 'values']"
            ]
          },
          "metadata": {},
          "execution_count": 57
        }
      ]
    },
    {
      "cell_type": "code",
      "source": [
        "#사전(dic)생성은 {}나 dict()함수를 사용해서 생성할 수 있다.\n",
        "d={'one':1, 'two':2} #{}\n",
        "d"
      ],
      "metadata": {
        "colab": {
          "base_uri": "https://localhost:8080/"
        },
        "id": "_05G7_0jlRby",
        "outputId": "24028acf-7229-4d33-feda-32416b2eb168"
      },
      "execution_count": null,
      "outputs": [
        {
          "output_type": "execute_result",
          "data": {
            "text/plain": [
              "{'one': 1, 'two': 2}"
            ]
          },
          "metadata": {},
          "execution_count": 53
        }
      ]
    },
    {
      "cell_type": "code",
      "source": [
        "type(d)"
      ],
      "metadata": {
        "colab": {
          "base_uri": "https://localhost:8080/"
        },
        "id": "PonUq6tRlpaR",
        "outputId": "ece6e2dc-7533-473c-d9e6-d9a890b5e29c"
      },
      "execution_count": null,
      "outputs": [
        {
          "output_type": "execute_result",
          "data": {
            "text/plain": [
              "dict"
            ]
          },
          "metadata": {},
          "execution_count": 54
        }
      ]
    },
    {
      "cell_type": "code",
      "source": [
        "d=dict(one=1, two=2) #dic()\n",
        "d"
      ],
      "metadata": {
        "colab": {
          "base_uri": "https://localhost:8080/"
        },
        "id": "G03ICQV-lraR",
        "outputId": "b2b65522-0f02-4f92-d37a-89645b15245f"
      },
      "execution_count": null,
      "outputs": [
        {
          "output_type": "execute_result",
          "data": {
            "text/plain": [
              "{'one': 1, 'two': 2}"
            ]
          },
          "metadata": {},
          "execution_count": 55
        }
      ]
    },
    {
      "cell_type": "code",
      "source": [
        "#zip함수를 이용해서 사전(dict)을 생성할 수 있다.\n",
        "keys=['one','two','three'] #시퀀스 자료형이면 된다.\n",
        "values=[1,2,3]\n",
        "dict(zip(keys,values))"
      ],
      "metadata": {
        "colab": {
          "base_uri": "https://localhost:8080/"
        },
        "id": "OreWC-5plvFp",
        "outputId": "c52a3fa3-7a7a-4fe6-9a88-00cac95ad706"
      },
      "execution_count": null,
      "outputs": [
        {
          "output_type": "execute_result",
          "data": {
            "text/plain": [
              "{'one': 1, 'two': 2, 'three': 3}"
            ]
          },
          "metadata": {},
          "execution_count": 56
        }
      ]
    },
    {
      "cell_type": "code",
      "source": [],
      "metadata": {
        "id": "VaVS4dXErYX5"
      },
      "execution_count": null,
      "outputs": []
    }
  ]
}